{
 "cells": [
  {
   "cell_type": "markdown",
   "id": "06b47845-b448-4f3b-a197-ccd9f0de68ee",
   "metadata": {},
   "source": [
    "# Initial Setup\n",
    "\n",
    "Welcome to the Descartes Labs Workbench!\n",
    "\n",
    "This notebook will walk you through a one-time initialization step: we need to add your credentials to this jupyterlab environment so that you can access the Descartes Labs APIs. Run the following cells using `Shift-Enter`. This only needs to be done once. Next time you log in, you will not need to repeat these steps."
   ]
  },
  {
   "cell_type": "markdown",
   "id": "1be4e68f-6aed-470a-a973-da7ade17bf20",
   "metadata": {},
   "source": [
    "### 1) Log in to [IAM](https://iam.descarteslabs.com/auth/login?refresh_token=true&destination=/auth/refresh_token) with your social/Google login or username/password."
   ]
  },
  {
   "cell_type": "markdown",
   "id": "b3f4614a-d63b-477b-be47-c941a4ff2cff",
   "metadata": {},
   "source": [
    "### 2) Copy the token from this IAM link.  Make sure to include all characters including any trailing \"=\"."
   ]
  },
  {
   "cell_type": "markdown",
   "id": "c5d9617a-cff9-4155-b679-6cbc442a8726",
   "metadata": {},
   "source": [
    "### 3) Run the next cell with `Shift-Enter`, paste the token into the box that appears, and press `Enter`."
   ]
  },
  {
   "cell_type": "code",
   "execution_count": null,
   "id": "2f72b40d-f07f-4338-8509-72bd23b06d1f",
   "metadata": {},
   "outputs": [],
   "source": [
    "import warnings\n",
    "\n",
    "with warnings.catch_warnings():\n",
    "    warnings.simplefilter(\"ignore\")\n",
    "\n",
    "    import descarteslabs\n",
    "    import descarteslabs.core.client.auth.cli as cli\n",
    "\n",
    "    o = descarteslabs.core.common.dotdict.DotDict()\n",
    "    o.command = \"login\"\n",
    "    cli.LOGIN_URL = \"https://iam.descarteslabs.com/auth/refresh_token\"\n",
    "    cli.auth_handler(o)"
   ]
  },
  {
   "cell_type": "markdown",
   "id": "8e2935d5-05fa-47b0-b646-8cb8c35b9e22",
   "metadata": {},
   "source": [
    "### 4) Confirmation\n",
    "If this was successful, you should see \"Welcome, [Your Name]\" after running the commands above.  You will not need to repeat these steps the next time you log in.  If you are having any issues logging in, support is available at support@descarteslabs.com."
   ]
  },
  {
   "cell_type": "code",
   "execution_count": null,
   "id": "33bfb8e9-28c7-4aa0-a48f-954242f568d2",
   "metadata": {},
   "outputs": [],
   "source": []
  }
 ],
 "metadata": {
  "kernelspec": {
   "display_name": "Python 3 (ipykernel)",
   "language": "python",
   "name": "python3"
  },
  "language_info": {
   "codemirror_mode": {
    "name": "ipython",
    "version": 3
   },
   "file_extension": ".py",
   "mimetype": "text/x-python",
   "name": "python",
   "nbconvert_exporter": "python",
   "pygments_lexer": "ipython3",
   "version": "3.8.16"
  }
 },
 "nbformat": 4,
 "nbformat_minor": 5
}

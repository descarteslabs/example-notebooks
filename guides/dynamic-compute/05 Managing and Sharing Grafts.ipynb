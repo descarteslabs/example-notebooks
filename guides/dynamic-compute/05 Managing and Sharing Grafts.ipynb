{
 "cells": [
  {
   "cell_type": "markdown",
   "id": "1393f6bf-f4c2-4af5-bb9e-b521437eb91b",
   "metadata": {},
   "source": [
    "## Managing and Sharing Dynamic Compute Grafts\n",
    "In this notebook we will provide an overview of the methods available to save, manage, and share your `Dynamic Compute` objects"
   ]
  },
  {
   "cell_type": "code",
   "execution_count": null,
   "id": "3fb4a3c8-e354-493d-b478-65e2712645c0",
   "metadata": {
    "tags": []
   },
   "outputs": [],
   "source": [
    "import descarteslabs.dynamic_compute as dc"
   ]
  },
  {
   "cell_type": "markdown",
   "id": "895eda6b-454d-4cb0-853d-88371995e7d3",
   "metadata": {},
   "source": [
    "First lets create both an `ImageStack` and a `Mosaic`:"
   ]
  },
  {
   "cell_type": "code",
   "execution_count": null,
   "id": "96701009-ee45-4059-b5bd-0889b49b662f",
   "metadata": {
    "tags": []
   },
   "outputs": [],
   "source": [
    "image_stack = dc.ImageStack.from_product_bands(\n",
    "    \"airbus:oneatlas:spot:v1\",\n",
    "    \"red green blue\",\n",
    "    start_datetime=\"2021-01-01\",\n",
    "    end_datetime=\"2023-01-01\",\n",
    ")\n",
    "\n",
    "mosaic = dc.Mosaic.from_product_bands(\n",
    "    \"airbus:oneatlas:spot:v1\",\n",
    "    \"red green blue\",\n",
    "    start_datetime=\"2021-01-01\",\n",
    "    end_datetime=\"2023-01-01\",\n",
    ")"
   ]
  },
  {
   "cell_type": "markdown",
   "id": "22f71e5f-094d-41ac-924d-cb990c7d8c3a",
   "metadata": {},
   "source": [
    "### Saving Objects to Blobs\n",
    "We can save `Dynamic Compute` objects using the `save_to_blob` function in the `catalog` module of `Dynamic Compute`. The ID of the `Blob` that is created is returned by the `save_to_blob` call:"
   ]
  },
  {
   "cell_type": "code",
   "execution_count": null,
   "id": "99e81e5a-993c-4f97-9d52-fa3aec827982",
   "metadata": {
    "tags": []
   },
   "outputs": [],
   "source": [
    "stack_blob_id = dc.catalog.save_to_blob(\n",
    "    image_stack,\n",
    "    name=\"ExampleImageStack\",\n",
    "    description=\"A short description of this stack\",\n",
    "    extra_properties={\"threshold\": 0.1},\n",
    ")"
   ]
  },
  {
   "cell_type": "code",
   "execution_count": null,
   "id": "7f2453f0-c91e-4822-97df-7eb159c507d1",
   "metadata": {
    "tags": []
   },
   "outputs": [],
   "source": [
    "mosaic_blob_id = dc.catalog.save_to_blob(\n",
    "    mosaic,\n",
    "    name=\"ExampleMosaic\",\n",
    "    description=\"A short description of this mosaic\",\n",
    "    extra_properties={\"threshold\": 0.1},\n",
    ")"
   ]
  },
  {
   "cell_type": "markdown",
   "id": "323c7548-b59e-4fb8-8bac-60e999c70368",
   "metadata": {},
   "source": [
    "Now that we have saved each of them, we can used the `load_from_blob` function to retrieve the same state:"
   ]
  },
  {
   "cell_type": "code",
   "execution_count": null,
   "id": "fc13cd56-13a4-484f-a75b-96f4fb9e02a5",
   "metadata": {
    "tags": []
   },
   "outputs": [],
   "source": [
    "loaded_stack = dc.catalog.load_from_blob(stack_blob_id)\n",
    "all(loaded_stack == image_stack)"
   ]
  },
  {
   "cell_type": "markdown",
   "id": "c47c74ef-3298-4bbe-8f49-2dbb3771f43d",
   "metadata": {},
   "source": [
    "If you don't recall what saved `Blob`s you have, you can always print them via `print_blobs`:"
   ]
  },
  {
   "cell_type": "code",
   "execution_count": null,
   "id": "108878e8-cde0-48d1-87d9-f61b66452bd8",
   "metadata": {
    "tags": []
   },
   "outputs": [],
   "source": [
    "dc.catalog.print_blobs()"
   ]
  },
  {
   "cell_type": "markdown",
   "id": "76081439-9df0-4db1-ab76-1d16d6f4b170",
   "metadata": {
    "tags": []
   },
   "source": [
    "### Sharing Blobs\n",
    "You can share `Blob`s with groups, users, emails, and organizations:"
   ]
  },
  {
   "cell_type": "code",
   "execution_count": null,
   "id": "d4104c45-1905-499b-b7d1-0ae30735192e",
   "metadata": {
    "tags": []
   },
   "outputs": [],
   "source": [
    "dc.catalog.share_blob(\n",
    "    mosaic_blob_id,\n",
    "    emails=[\"email:john.daly@descarteslabs.com\"],\n",
    "    orgs=[\"org:pga-tour\"],\n",
    "    as_writers=True,\n",
    ")"
   ]
  },
  {
   "cell_type": "code",
   "execution_count": null,
   "id": "2a3091c7-2cf6-4038-8929-33fe8a3dcd87",
   "metadata": {
    "tags": []
   },
   "outputs": [],
   "source": [
    "blobs = list(dc.catalog.find_blobs())"
   ]
  },
  {
   "cell_type": "code",
   "execution_count": null,
   "id": "e5a2d619-f5fa-46b0-bb85-73226efc135b",
   "metadata": {
    "tags": []
   },
   "outputs": [],
   "source": [
    "for blob in blobs:\n",
    "    print(blob.name, blob.readers, blob.writers)"
   ]
  },
  {
   "cell_type": "markdown",
   "id": "0fa7282f-8700-481f-a769-6ec96d6dd589",
   "metadata": {
    "tags": []
   },
   "source": [
    "### Deleting Blobs\n",
    "Lastly you can delete a dynamic compute blob:"
   ]
  },
  {
   "cell_type": "code",
   "execution_count": null,
   "id": "59b30766-0fef-43fd-b5be-840a61e6e239",
   "metadata": {
    "tags": []
   },
   "outputs": [],
   "source": [
    "dc.catalog.delete_blob(mosaic_blob_id)\n",
    "dc.catalog.delete_blob(stack_blob_id)"
   ]
  },
  {
   "cell_type": "code",
   "execution_count": null,
   "id": "5e5572e5-0c94-4c69-982a-c8b3d3b2c71e",
   "metadata": {
    "tags": []
   },
   "outputs": [],
   "source": [
    "dc.catalog.print_blobs()"
   ]
  },
  {
   "cell_type": "code",
   "execution_count": null,
   "id": "919ab8de-a037-466b-82d7-9b75dc65b40a",
   "metadata": {},
   "outputs": [],
   "source": []
  }
 ],
 "metadata": {
  "kernelspec": {
   "display_name": "Python 3 (ipykernel)",
   "language": "python",
   "name": "python3"
  },
  "language_info": {
   "codemirror_mode": {
    "name": "ipython",
    "version": 3
   },
   "file_extension": ".py",
   "mimetype": "text/x-python",
   "name": "python",
   "nbconvert_exporter": "python",
   "pygments_lexer": "ipython3",
   "version": "3.8.16"
  }
 },
 "nbformat": 4,
 "nbformat_minor": 5
}

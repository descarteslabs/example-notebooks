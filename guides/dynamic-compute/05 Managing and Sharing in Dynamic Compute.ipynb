{
 "cells": [
  {
   "cell_type": "markdown",
   "id": "1393f6bf-f4c2-4af5-bb9e-b521437eb91b",
   "metadata": {},
   "source": [
    "## Managing and Sharing Dynamic Compute Grafts\n",
    "__________________\n",
    "In this notebook we will provide an overview of the methods available to save, manage, and share your Dynamic Compute objects"
   ]
  },
  {
   "cell_type": "code",
   "execution_count": null,
   "id": "3fb4a3c8-e354-493d-b478-65e2712645c0",
   "metadata": {
    "tags": []
   },
   "outputs": [],
   "source": [
    "import descarteslabs.dynamic_compute as dc\n",
    "from descarteslabs.dynamic_compute import ImageStack, Mosaic"
   ]
  },
  {
   "cell_type": "code",
   "execution_count": null,
   "id": "554c15fa-f408-4512-8d67-a7d265065089",
   "metadata": {
    "tags": []
   },
   "outputs": [],
   "source": [
    "from uuid import uuid4"
   ]
  },
  {
   "cell_type": "markdown",
   "id": "895eda6b-454d-4cb0-853d-88371995e7d3",
   "metadata": {},
   "source": [
    "First lets create both an ImageStack and a Mosaic:"
   ]
  },
  {
   "cell_type": "code",
   "execution_count": null,
   "id": "96701009-ee45-4059-b5bd-0889b49b662f",
   "metadata": {
    "tags": []
   },
   "outputs": [],
   "source": [
    "image_stack = ImageStack.from_product_bands(\n",
    "    \"airbus:oneatlas:spot:v1\",\n",
    "    \"red green blue\",\n",
    "    start_datetime=\"2021-01-01\",\n",
    "    end_datetime=\"2023-01-01\",\n",
    ")\n",
    "\n",
    "mosaic = Mosaic.from_product_bands(\n",
    "    \"airbus:oneatlas:spot:v1\",\n",
    "    \"red green blue\",\n",
    "    start_datetime=\"2021-01-01\",\n",
    "    end_datetime=\"2023-01-01\",\n",
    ")"
   ]
  },
  {
   "cell_type": "markdown",
   "id": "7304342f-9c0e-4844-b210-25501db70f05",
   "metadata": {},
   "source": [
    "## Saving Objects to Blobs\n",
    "We can save Dynamic Compute objects using the `save_to_blob` function in the `Catalog` module of `Dynamic Compute`. The ID of the blob that is created is returned by the `save_to_blob` call. \n",
    "\n",
    "Note that the resulting storage type is __dyncomp/__."
   ]
  },
  {
   "cell_type": "code",
   "execution_count": null,
   "id": "2afe73d1-aa62-40b0-bbe9-05e4a86ce38c",
   "metadata": {
    "tags": []
   },
   "outputs": [],
   "source": [
    "##Save a Mosaic with extra properties\n",
    "mosaic_blob_id = dc.catalog.save_to_blob(\n",
    "    mosaic,\n",
    "    name=f\"ExampleMosaic-{uuid4()}\",\n",
    "    description=\"A short description of this mosaic\",\n",
    "    extra_properties={\"threshold\": 0.1},\n",
    ")"
   ]
  },
  {
   "cell_type": "code",
   "execution_count": null,
   "id": "2ab6eb78-e6eb-499c-874c-85ec1a3c5404",
   "metadata": {
    "tags": []
   },
   "outputs": [],
   "source": [
    "##Save an ImageStack\n",
    "stack_blob_id = dc.catalog.save_to_blob(\n",
    "    image_stack,\n",
    "    name=f\"ExampleImageStack-{uuid4()}\",\n",
    "    description=\"A short description of this stack\",\n",
    "    extra_properties={\"threshold\": 0.1},\n",
    ")"
   ]
  },
  {
   "cell_type": "code",
   "execution_count": null,
   "id": "52917103-f19a-44a7-b127-fb0ac97e3fe5",
   "metadata": {
    "tags": []
   },
   "outputs": [],
   "source": [
    "##Saving a Band Ratio\n",
    "red, green = mosaic.unpack_bands(\"red green\")\n",
    "ratio = (red - green) / (red + green)\n",
    "ratio_blob_id = dc.catalog.save_to_blob(\n",
    "    ratio, name=f\"MySimpleRatio-{uuid4()}\", description=\"simple ratio\"\n",
    ")\n",
    "ratio_blob_id"
   ]
  },
  {
   "cell_type": "markdown",
   "id": "323c7548-b59e-4fb8-8bac-60e999c70368",
   "metadata": {},
   "source": [
    "## Loading Saved Objects\n",
    "Now that we have saved each of them, we can used the `load_from_blob` function to retrieve the same state:\n",
    "\n",
    "<b>*Important Notes*</b>\n",
    "* Only load objects from sources you trust!\n",
    "* Saved objects can only be loaded into an environment with the same Python version."
   ]
  },
  {
   "cell_type": "code",
   "execution_count": null,
   "id": "fc13cd56-13a4-484f-a75b-96f4fb9e02a5",
   "metadata": {
    "tags": []
   },
   "outputs": [],
   "source": [
    "loaded_stack = dc.catalog.load_from_blob(stack_blob_id)\n",
    "all(loaded_stack == image_stack)"
   ]
  },
  {
   "cell_type": "markdown",
   "id": "76081439-9df0-4db1-ab76-1d16d6f4b170",
   "metadata": {
    "tags": []
   },
   "source": [
    "## Sharing Blobs\n",
    "You can also share blobs with groups, users, emails, and organizations:"
   ]
  },
  {
   "cell_type": "code",
   "execution_count": null,
   "id": "d4104c45-1905-499b-b7d1-0ae30735192e",
   "metadata": {
    "tags": []
   },
   "outputs": [],
   "source": [
    "dc.catalog.share_blob(\n",
    "    mosaic_blob_id,\n",
    "    emails=[\"email:john.daly@descarteslabs.com\"],\n",
    "    orgs=[\"org:pga-tour\"],\n",
    "    as_writers=True,\n",
    ")"
   ]
  },
  {
   "cell_type": "markdown",
   "id": "186db416-8e68-4973-a43d-15711a38b036",
   "metadata": {
    "tags": []
   },
   "source": [
    "## Listing Dynamic Compute Blobs\n",
    "\n",
    "If you forgot your ID can print blobs that you have access to:"
   ]
  },
  {
   "cell_type": "code",
   "execution_count": null,
   "id": "e57071c7-5e3e-46ad-8ad6-9dd49a4f8e4c",
   "metadata": {
    "tags": []
   },
   "outputs": [],
   "source": [
    "dc.catalog.print_blobs()"
   ]
  },
  {
   "cell_type": "markdown",
   "id": "38208c98-0fcd-41a1-951e-d07d11631900",
   "metadata": {},
   "source": [
    "Or retrieve a list to iterate over:"
   ]
  },
  {
   "cell_type": "code",
   "execution_count": null,
   "id": "2a3091c7-2cf6-4038-8929-33fe8a3dcd87",
   "metadata": {
    "tags": []
   },
   "outputs": [],
   "source": [
    "blobs = list(dc.catalog.find_blobs())\n",
    "for blob in blobs:\n",
    "    print(blob.name, blob.readers, blob.writers)"
   ]
  },
  {
   "cell_type": "markdown",
   "id": "0fa7282f-8700-481f-a769-6ec96d6dd589",
   "metadata": {
    "tags": []
   },
   "source": [
    "## Deleting Blobs\n",
    "Lastly you can delete a Dynamic Compute blob:"
   ]
  },
  {
   "cell_type": "code",
   "execution_count": null,
   "id": "59b30766-0fef-43fd-b5be-840a61e6e239",
   "metadata": {
    "tags": []
   },
   "outputs": [],
   "source": [
    "dc.catalog.delete_blob(mosaic_blob_id)\n",
    "dc.catalog.delete_blob(stack_blob_id)"
   ]
  },
  {
   "cell_type": "code",
   "execution_count": null,
   "id": "5e5572e5-0c94-4c69-982a-c8b3d3b2c71e",
   "metadata": {
    "tags": []
   },
   "outputs": [],
   "source": [
    "dc.catalog.print_blobs()"
   ]
  },
  {
   "cell_type": "code",
   "execution_count": null,
   "id": "919ab8de-a037-466b-82d7-9b75dc65b40a",
   "metadata": {},
   "outputs": [],
   "source": []
  }
 ],
 "metadata": {
  "kernelspec": {
   "display_name": "Python 3 (ipykernel)",
   "language": "python",
   "name": "python3"
  },
  "language_info": {
   "codemirror_mode": {
    "name": "ipython",
    "version": 3
   },
   "file_extension": ".py",
   "mimetype": "text/x-python",
   "name": "python",
   "nbconvert_exporter": "python",
   "pygments_lexer": "ipython3",
   "version": "3.9.18"
  }
 },
 "nbformat": 4,
 "nbformat_minor": 5
}

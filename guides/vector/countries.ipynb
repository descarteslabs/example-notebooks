{
 "cells": [
  {
   "cell_type": "markdown",
   "id": "4e82a219-94eb-4d3d-9be7-8308fac978dd",
   "metadata": {},
   "source": [
    "# Ingesting, querying, and visualizing countries of the world"
   ]
  },
  {
   "cell_type": "code",
   "execution_count": null,
   "id": "23caaadf-8dbb-40f6-a218-ff0453277394",
   "metadata": {
    "tags": []
   },
   "outputs": [],
   "source": [
    "import os\n",
    "\n",
    "os.environ[\"VECTOR_API_HOST\"] = \"http://127.0.0.1:8000\""
   ]
  },
  {
   "cell_type": "code",
   "execution_count": null,
   "id": "61980e89-41f2-43df-b4e1-0d42dc5c263c",
   "metadata": {
    "tags": []
   },
   "outputs": [],
   "source": [
    "import descarteslabs as dl\n",
    "import geopandas as gpd\n",
    "import ipyleaflet\n",
    "import requests\n",
    "import json\n",
    "from pydantic import Field\n",
    "\n",
    "from descarteslabs.vector import Table, TableOptions, models, Feature, properties as p"
   ]
  },
  {
   "cell_type": "markdown",
   "id": "3678f9b6-3e80-48fd-bc8c-86dd786e663d",
   "metadata": {},
   "source": [
    "## Downloading country boundaries"
   ]
  },
  {
   "cell_type": "markdown",
   "id": "3c611356-f0c7-4af3-841c-c403f689a0db",
   "metadata": {},
   "source": [
    "Download country boundarys as a GeoJSON FeatureCollection and convert the FeatureCollection to a GeoPandas dataframe."
   ]
  },
  {
   "cell_type": "code",
   "execution_count": null,
   "id": "c273de29-3aea-4c32-b0c9-dd5c6211dc7e",
   "metadata": {
    "tags": []
   },
   "outputs": [],
   "source": [
    "url = \"https://raw.githubusercontent.com/martynafford/natural-earth-geojson/master/110m/cultural/ne_110m_admin_0_countries.json\"\n",
    "response = requests.get(url)\n",
    "feature_collection = response.json()"
   ]
  },
  {
   "cell_type": "code",
   "execution_count": null,
   "id": "543742a8-015a-4ceb-8d12-778026b19af2",
   "metadata": {},
   "outputs": [],
   "source": [
    "gdf = gpd.GeoDataFrame.from_features(feature_collection[\"features\"], crs=\"EPSG:4326\")\n",
    "gdf.head()"
   ]
  },
  {
   "cell_type": "markdown",
   "id": "8a56d5bc-8a69-41a9-8285-3048ba91be87",
   "metadata": {},
   "source": [
    "Although the GeoJSON FeatureCollection intially had 72 properties/columns, we will only use a subset of columns for this demonstration."
   ]
  },
  {
   "cell_type": "code",
   "execution_count": null,
   "id": "d97d9605-e82f-436d-ab61-0f7cd910f206",
   "metadata": {},
   "outputs": [],
   "source": [
    "gdf = gdf.drop(\n",
    "    gdf.columns.difference(\n",
    "        [\"geometry\", \"NAME\", \"REGION_UN\", \"CONTINENT\", \"POP_EST\", \"LASTCENSUS\"]\n",
    "    ),\n",
    "    axis=1,\n",
    ")"
   ]
  },
  {
   "cell_type": "markdown",
   "id": "3a5adeb8-e868-4a09-94e3-8250091f8781",
   "metadata": {},
   "source": [
    "## Create a Vector product"
   ]
  },
  {
   "cell_type": "markdown",
   "id": "9f4ec2f0-0e8d-4db3-a568-4d29d28628b4",
   "metadata": {},
   "source": [
    "Before creating the Vector product, ensure it does not already exist."
   ]
  },
  {
   "cell_type": "code",
   "execution_count": null,
   "id": "518bf33e-c9b7-4845-aa07-dc157b0f824d",
   "metadata": {
    "tags": []
   },
   "outputs": [],
   "source": [
    "# ensure table doesn't already exist\n",
    "orgname = dl.auth.Auth().payload[\"org\"]\n",
    "for table in Table.list():\n",
    "    if table.id == f\"{orgname}:the-world\":\n",
    "        print(f\"Deleting {table}\")\n",
    "        table.delete()"
   ]
  },
  {
   "cell_type": "markdown",
   "id": "a420cee6-50a5-48db-9022-58845abb972d",
   "metadata": {},
   "source": [
    "Vector allows for creation of custom schemas for each Vector product. The geometry and UUID columns are inherited from the parent model, `models.MultiPolygonBaseModel`, and additional indices can be specified using pydantic Fields."
   ]
  },
  {
   "cell_type": "code",
   "execution_count": null,
   "id": "ce44a99e-d9c5-4c8e-b3b3-50ab9173068c",
   "metadata": {},
   "outputs": [],
   "source": [
    "class CountryModel(models.MultiPolygonBaseModel):\n",
    "    NAME: str = Field(json_schema_extra={\"index\": True})\n",
    "    REGION_UN: str\n",
    "    CONTINENT: str\n",
    "    POP_EST: float\n",
    "    LASTCENSUS: float"
   ]
  },
  {
   "cell_type": "markdown",
   "id": "bec98085-93dd-48ed-b5b7-92d389cf7cd4",
   "metadata": {},
   "source": [
    "Creating the product will return a `Table` object."
   ]
  },
  {
   "cell_type": "code",
   "execution_count": null,
   "id": "df7ee6e3-9196-4abe-b14d-1d28160c480d",
   "metadata": {
    "tags": []
   },
   "outputs": [],
   "source": [
    "# create the table with the custom schema/model\n",
    "the_world = Table.create(\n",
    "    \"the-world\", name=\"The World\", owners=[\"org:descarteslabs\"], model=CountryModel\n",
    ")"
   ]
  },
  {
   "cell_type": "markdown",
   "id": "22f126ab-b342-4400-b7ee-70dd304248ee",
   "metadata": {},
   "source": [
    "## Ingest the country boundary data into the product"
   ]
  },
  {
   "cell_type": "markdown",
   "id": "842039f7-29b3-4136-b4bb-3ae438b868fc",
   "metadata": {},
   "source": [
    "Features can be uploaded/ingested to the Vector product by invoking the method `Table.add()`. Adding features will return a `GeoPandas.GeoDataFrame` with UUID attribution."
   ]
  },
  {
   "cell_type": "code",
   "execution_count": null,
   "id": "c8ba3740-d02e-4202-ac74-6c4aa6de7b7b",
   "metadata": {
    "tags": []
   },
   "outputs": [],
   "source": [
    "borders = the_world.add(gdf)\n",
    "\n",
    "borders.head()"
   ]
  },
  {
   "cell_type": "markdown",
   "id": "10014980-5ede-4253-b233-b4d1915faa2e",
   "metadata": {},
   "source": [
    "## Modify a Vector product"
   ]
  },
  {
   "cell_type": "markdown",
   "id": "aeb75ba2-04d5-4963-a13b-9657d8b7d3cc",
   "metadata": {},
   "source": [
    "After a Vector product has been created the product can be modified by setting the property of interest and calling the `Table.save()` method. This process can also be used for granting and/or denying access to a Vector product by modifying the `readers`, `writers`, and `owners` accordingly."
   ]
  },
  {
   "cell_type": "code",
   "execution_count": null,
   "id": "1c81e41f-70ef-49db-8f73-2a2523cb0ef1",
   "metadata": {},
   "outputs": [],
   "source": [
    "# modify the description\n",
    "print(the_world.description)\n",
    "the_world.description = \"Country boundaries for the world.\"\n",
    "the_world.save()\n",
    "print(the_world.description)"
   ]
  },
  {
   "cell_type": "code",
   "execution_count": null,
   "id": "7c19e9e3-0b88-4744-ac58-1fda70ed8f68",
   "metadata": {},
   "outputs": [],
   "source": [
    "# add readers to the product\n",
    "print(the_world.readers)\n",
    "the_world.readers.append(\"user:2078ccb68b0b1433ee76373740a2918bf06dbfa5\")\n",
    "the_world.save()\n",
    "print(the_world.readers)"
   ]
  },
  {
   "cell_type": "markdown",
   "id": "f6189fd5-1392-46ca-9080-92642f9f2c66",
   "metadata": {},
   "source": [
    "## Retrieve a single feature from the country boundaries product"
   ]
  },
  {
   "cell_type": "markdown",
   "id": "c8bfd312-66d7-4580-9156-0214e1539a26",
   "metadata": {},
   "source": [
    "Individual features can be retrieved from the product by invoking the `Feature.get()` or `Table.get_feature()` methods which will return a `Feature` object."
   ]
  },
  {
   "cell_type": "code",
   "execution_count": null,
   "id": "db2e1eda-4ba4-44ad-8fbc-ed1c18bd1922",
   "metadata": {},
   "outputs": [],
   "source": [
    "# these are equivalent access patterns\n",
    "feat1 = Feature.get(f\"{the_world.id}:{borders.iloc[0].uuid}\")\n",
    "feat2 = the_world.get_feature(borders.iloc[0].uuid)"
   ]
  },
  {
   "cell_type": "code",
   "execution_count": null,
   "id": "a45c7f84-fb4b-4df7-a224-5a48865818f4",
   "metadata": {},
   "outputs": [],
   "source": [
    "assert feat1.values == feat2.values"
   ]
  },
  {
   "cell_type": "code",
   "execution_count": null,
   "id": "ced13b89-9ba9-47a6-ab21-d94f4c99bf22",
   "metadata": {},
   "outputs": [],
   "source": [
    "feat1.values"
   ]
  },
  {
   "cell_type": "markdown",
   "id": "53e7f8c9-bd16-425f-bf7a-e9affe4d4df0",
   "metadata": {
    "tags": []
   },
   "source": [
    "## Modify a single feature from the country boundaries product"
   ]
  },
  {
   "cell_type": "markdown",
   "id": "fc3ab58e-c226-4532-afdc-47216aebdc00",
   "metadata": {},
   "source": [
    "Individual features can be modified by updating the information stored in `Feature.values`. `Feature.values` is a dictionary of column names/values. Once the values have been updated accordingly, invoking the `Feature.save()` method will persist the changes."
   ]
  },
  {
   "cell_type": "code",
   "execution_count": null,
   "id": "0fbfd46a-26cf-4609-b4e8-9d6500d79451",
   "metadata": {},
   "outputs": [],
   "source": [
    "# modify the geometry\n",
    "feat1.values[\"geometry\"] = feat1.values[\"geometry\"].convex_hull"
   ]
  },
  {
   "cell_type": "code",
   "execution_count": null,
   "id": "a745ed2b-c045-4579-bcb7-0597d0088d2c",
   "metadata": {},
   "outputs": [],
   "source": [
    "# modify the population column\n",
    "feat1.values[\"POP_EST\"] += 10000"
   ]
  },
  {
   "cell_type": "code",
   "execution_count": null,
   "id": "2fcaf5d0-ff3d-442b-90e7-edd2b18551bb",
   "metadata": {},
   "outputs": [],
   "source": [
    "# save the feature\n",
    "feat1.save()"
   ]
  },
  {
   "cell_type": "code",
   "execution_count": null,
   "id": "89d32c4e-a28a-48d3-abe3-4d7f6bb38d5f",
   "metadata": {},
   "outputs": [],
   "source": [
    "# retrieve the Feature once again to verify the modifications\n",
    "feat1 = Feature.get(f\"{the_world.id}:{borders.iloc[0].uuid}\")\n",
    "feat1.values"
   ]
  },
  {
   "cell_type": "markdown",
   "id": "a5165930-494d-45c6-ada6-145d43adbbba",
   "metadata": {
    "tags": []
   },
   "source": [
    "## Querying a Vector product"
   ]
  },
  {
   "cell_type": "markdown",
   "id": "d8808451-3f9e-4086-819b-0f51470a9d9d",
   "metadata": {},
   "source": [
    "### TableOptions"
   ]
  },
  {
   "cell_type": "markdown",
   "id": "377f4da5-3d10-46d4-828c-52102f12a824",
   "metadata": {},
   "source": [
    "Vector products can be filtered/queried by specifying a `property_filter`, `columns`, and `aoi`. In the case of Vector, `property_filter`, `columns`, and `aoi` are collectively referred to as `TableOptions`. Subsequent method calls on the `Table` object will honor these options.\n",
    "* `property_filter`: Property or column filter for the query. Default is no filter.\n",
    "* `columns`: A subset of columns to return with each query. Default is all columns will be returned.\n",
    "* `aoi`: Spatial filter for the query. Default is no spatial filter.\n",
    "\n",
    "\n",
    "Setting the `TableOptions` can be done during initialization of a `Table` object:"
   ]
  },
  {
   "cell_type": "code",
   "execution_count": null,
   "id": "8da2a308-3e13-4b39-8f58-387fb62d423d",
   "metadata": {},
   "outputs": [],
   "source": [
    "# setting options on initialization\n",
    "table1 = Table.get(\n",
    "    f\"{orgname}:the-world\",\n",
    "    property_filter=p.NAME == \"Spain\",\n",
    "    columns=[\"geometry\", \"NAME\", \"POP_EST\"],\n",
    ")\n",
    "\n",
    "df1 = table1.collect()"
   ]
  },
  {
   "cell_type": "markdown",
   "id": "e8561f89-d487-45eb-b398-891af993deff",
   "metadata": {},
   "source": [
    "updated after initialization:"
   ]
  },
  {
   "cell_type": "code",
   "execution_count": null,
   "id": "139f7dc3-ac35-48c7-ae16-c5f25096a144",
   "metadata": {},
   "outputs": [],
   "source": [
    "# updating options after initialization\n",
    "table2 = Table.get(f\"{orgname}:the-world\")\n",
    "table2.options.property_filter = p.NAME == \"Spain\"\n",
    "table2.options.columns = [\"geometry\", \"NAME\", \"POP_EST\"]\n",
    "\n",
    "df2 = table2.collect()\n",
    "\n",
    "df1 == df2"
   ]
  },
  {
   "cell_type": "markdown",
   "id": "21cca242-6ce4-4734-ac51-780113accc21",
   "metadata": {},
   "source": [
    "or overwritten entirely:"
   ]
  },
  {
   "cell_type": "code",
   "execution_count": null,
   "id": "8911d209-4b73-4d4e-9cfd-cc03095241eb",
   "metadata": {},
   "outputs": [],
   "source": [
    "# overwriting the options by explicitly setting the TableOptions options in the collect method\n",
    "options = TableOptions(\n",
    "    f\"{orgname}:the-world\",\n",
    "    property_filter=p.NAME == \"Spain\",\n",
    "    columns=[\"geometry\", \"NAME\", \"POP_EST\"],\n",
    ")\n",
    "df3 = table1.collect(override_options=options)\n",
    "\n",
    "df1 == df3"
   ]
  },
  {
   "cell_type": "markdown",
   "id": "d95cd60a-db42-4504-9895-a5d4f001e493",
   "metadata": {},
   "source": [
    "The table options can be reset to default at any point using the `Table.reset_options()` method."
   ]
  },
  {
   "cell_type": "code",
   "execution_count": null,
   "id": "34384b2d-d88b-43a3-8621-3369d96cf32d",
   "metadata": {},
   "outputs": [],
   "source": [
    "print(table2.options.columns)\n",
    "table2.reset_options()\n",
    "print(table2.options.columns)"
   ]
  },
  {
   "cell_type": "markdown",
   "id": "c097498d-07d5-4db1-9ba6-2249d34800b5",
   "metadata": {},
   "source": [
    "### Querying"
   ]
  },
  {
   "cell_type": "markdown",
   "id": "c76de16d-98ea-4375-8a74-606494ff3aea",
   "metadata": {},
   "source": [
    "As seen from the previous examples, calling the `Table.collect()` method will execute a query based on specified `TableOptions`. Upon successful completion, a `GeoPandas.GeoDataFrame` or `Pandas.DataFrame` will be returned. If the `Table` was spatial (i.e. has a geometry column) and the columns option was not set or the geometry column was included in the columns option, a `GeoPandas.GeoDataFrame` will be returned; otherwise, a `Pandas.DataFrame` will be returned. The `DataFrame` will only contain data for the columns specified in the options. More complex queries can be constructed such as the one below which queries for country boundaries that are in Africa, have a population greater than 10 million, and have had a census more recently than 2007. Since we have specified a subset of columns, only data for those columns will be returned."
   ]
  },
  {
   "cell_type": "code",
   "execution_count": null,
   "id": "6dd45ecd-60ba-4c28-8777-403265afa960",
   "metadata": {
    "tags": []
   },
   "outputs": [],
   "source": [
    "# setting options on initialization\n",
    "table = Table.get(\n",
    "    f\"{orgname}:the-world\",\n",
    "    property_filter=(\n",
    "        (p.CONTINENT == \"Africa\") & (p.POP_EST > 10000000) & (p.LASTCENSUS > 2007)\n",
    "    ),\n",
    "    columns=[\"geometry\", \"NAME\", \"POP_EST\", \"LASTCENSUS\", \"CONTINENT\"],\n",
    ")\n",
    "\n",
    "df = table.collect()\n",
    "\n",
    "df"
   ]
  },
  {
   "cell_type": "markdown",
   "id": "25162c34-3503-40ac-bf7e-b10e022120a5",
   "metadata": {},
   "source": [
    "## Aggregate methods"
   ]
  },
  {
   "cell_type": "markdown",
   "id": "dfa7053f-024f-43cb-9050-f40d78a60ad3",
   "metadata": {},
   "source": [
    "Vector products also support the use of aggregate methods such as `COUNT`, `MIN`, `MAX`, `SUM`, `MEAN` which can be invoked with `Table.count()`, `Table.min()`, `Table.max()`, `Table.sum()`, and `Table.mean()` respectively. Just like the `Table.collect()` method, aggregate methods support the use of `TableOptions` and will honor these options during execution. When calling the `Table.count()` method, column options do not matter and a single row count will be returned. "
   ]
  },
  {
   "cell_type": "code",
   "execution_count": null,
   "id": "ec7fde5f-d1d5-4d68-9030-167f4458aaee",
   "metadata": {},
   "outputs": [],
   "source": [
    "# setting options on initialization\n",
    "table = Table.get(\n",
    "    f\"{orgname}:the-world\",\n",
    "    property_filter=(\n",
    "        (p.CONTINENT == \"Africa\") & (p.POP_EST > 10000000) & (p.LASTCENSUS > 2007)\n",
    "    ),\n",
    "    columns=[\"geometry\", \"NAME\", \"POP_EST\", \"LASTCENSUS\", \"CONTINENT\"],\n",
    ")\n",
    "\n",
    "# print number of records matching the options\n",
    "table.count()"
   ]
  },
  {
   "cell_type": "markdown",
   "id": "1631d857-7835-4325-bba6-b91d3841fe90",
   "metadata": {},
   "source": [
    "For all other aggregate methods (`MIN`, `MAX`, `SUM`, `MEAN`), the column options do matter. The data type of the column must support the aggregate method. For instance, calling `Table.max()` on a column with a string data type will result in an error. In the example below, we have restricted the columns to only be `POP_EST` which is of type `float`. The returned value will be a dictionary of key/value pairs where the key is denoted as `COLUMN.STATISTIC` and the value is the result of the aggregate statistic. "
   ]
  },
  {
   "cell_type": "code",
   "execution_count": null,
   "id": "59fb6b38-aa3b-4965-9e1a-7659f14276c3",
   "metadata": {},
   "outputs": [],
   "source": [
    "# setting options on initialization\n",
    "table = Table.get(\n",
    "    f\"{orgname}:the-world\",\n",
    "    property_filter=(p.CONTINENT == \"Africa\"),\n",
    "    columns=[\"POP_EST\"],\n",
    ")\n",
    "\n",
    "print(f\"Maximum country population in Africa: {table.max()}\")\n",
    "print(f\"Minimum country population in Africa: {table.min()}\")\n",
    "print(f\"Average country population in Africa: {table.mean()}\")\n",
    "print(f\"Total population of Africa: {table.sum()}\")"
   ]
  },
  {
   "cell_type": "markdown",
   "id": "0d6540f2-b818-4cca-b98b-a826a7abfef3",
   "metadata": {},
   "source": [
    "However, as long as the column types support the aggregate method, multiple columns can be specified as below:"
   ]
  },
  {
   "cell_type": "code",
   "execution_count": null,
   "id": "954aeca9-72de-452d-ac09-7af44fbfbe39",
   "metadata": {},
   "outputs": [],
   "source": [
    "# setting options on initialization\n",
    "table = Table.get(\n",
    "    f\"{orgname}:the-world\",\n",
    "    property_filter=(p.CONTINENT == \"Africa\"),\n",
    "    columns=[\"POP_EST\", \"LASTCENSUS\"],\n",
    ")\n",
    "\n",
    "table.max()"
   ]
  },
  {
   "cell_type": "markdown",
   "id": "61d521f3-a06e-4ad6-bd97-144fdf655085",
   "metadata": {
    "tags": []
   },
   "source": [
    "## Visualizing Vector products with vector tiles"
   ]
  },
  {
   "cell_type": "markdown",
   "id": "062ab165-5bdb-4e59-83cb-ee9e8bfe597f",
   "metadata": {},
   "source": [
    "Vector products can be visualized by calling the `Table.visualize()` method which will return a vector tile layer compatible with ipyleaflet. Vector visualization also supports the use of `TableOptions`; however, only the property filter and columns will be honored."
   ]
  },
  {
   "cell_type": "code",
   "execution_count": null,
   "id": "df162332-3c95-4b4b-b058-feba4a67e3df",
   "metadata": {
    "tags": []
   },
   "outputs": [],
   "source": [
    "m = ipyleaflet.Map(\n",
    "    scroll_wheel_zoom=True,\n",
    "    center=(38.648403, -98.550791),\n",
    "    zoom=3,\n",
    ")\n",
    "\n",
    "m"
   ]
  },
  {
   "cell_type": "code",
   "execution_count": null,
   "id": "52e56b0f-32ae-4bc9-bb23-3aadf38c96fb",
   "metadata": {
    "tags": []
   },
   "outputs": [],
   "source": [
    "# visualize all country boundaries (blue outline)\n",
    "the_world = Table.get(f\"{orgname}:the-world\")\n",
    "lyr = the_world.visualize(\"The World\", m)"
   ]
  },
  {
   "cell_type": "code",
   "execution_count": null,
   "id": "87c42b38-758e-4ba0-b09a-d4bbc4eb93a8",
   "metadata": {
    "tags": []
   },
   "outputs": [],
   "source": [
    "# visualize country boundaries in Africa (black outline with green fill)\n",
    "the_world.options.property_filter = p.REGION_UN == \"Africa\"\n",
    "\n",
    "# add a layer style\n",
    "vector_tile_layer_styles = {\n",
    "    \"fill\": \"true\",\n",
    "    \"fillColor\": \"#00ff00\",\n",
    "    \"color\": \"#000000\",\n",
    "    \"fillOpacity\": 0.5,\n",
    "}\n",
    "\n",
    "lyr = the_world.visualize(\n",
    "    name=\"Africa\",\n",
    "    map=m,\n",
    "    vector_tile_layer_styles=vector_tile_layer_styles,\n",
    ")"
   ]
  },
  {
   "cell_type": "markdown",
   "id": "bd39b287-1949-4b6c-9ac6-260a757a5a83",
   "metadata": {
    "tags": []
   },
   "source": [
    "## Deleting a Vector product"
   ]
  },
  {
   "cell_type": "markdown",
   "id": "7d902cf0-d211-4d97-8056-d96378db24b0",
   "metadata": {},
   "source": [
    "To delete a Vector product, simply invoke the `Table.delete()` method."
   ]
  },
  {
   "cell_type": "code",
   "execution_count": null,
   "id": "e2abb6de-7e8f-43a0-a07d-f1a3be85c828",
   "metadata": {},
   "outputs": [],
   "source": [
    "table = Table.get(f\"{orgname}:the-world\")\n",
    "table.delete()"
   ]
  }
 ],
 "metadata": {
  "kernelspec": {
   "display_name": "Python 3 (ipykernel)",
   "language": "python",
   "name": "python3"
  },
  "language_info": {
   "codemirror_mode": {
    "name": "ipython",
    "version": 3
   },
   "file_extension": ".py",
   "mimetype": "text/x-python",
   "name": "python",
   "nbconvert_exporter": "python",
   "pygments_lexer": "ipython3",
   "version": "3.8.10"
  }
 },
 "nbformat": 4,
 "nbformat_minor": 5
}

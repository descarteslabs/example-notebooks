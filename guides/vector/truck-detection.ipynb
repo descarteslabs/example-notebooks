{
 "cells": [
  {
   "cell_type": "markdown",
   "id": "1ae0f7cf-8d0e-45c0-9e11-5bf2206c7372",
   "metadata": {},
   "source": [
    "# Detecting truck traffic in Sentinel-2 imagery"
   ]
  },
  {
   "cell_type": "code",
   "execution_count": null,
   "id": "8e9cd49b-0162-490f-91f1-4f0816070982",
   "metadata": {
    "tags": []
   },
   "outputs": [],
   "source": [
    "import os\n",
    "\n",
    "os.environ[\"VECTOR_API_HOST\"] = \"http://127.0.0.1:8000\""
   ]
  },
  {
   "cell_type": "code",
   "execution_count": null,
   "id": "d16b0a05-0584-4956-9506-03b288986b78",
   "metadata": {
    "tags": []
   },
   "outputs": [],
   "source": [
    "from affine import Affine\n",
    "import descarteslabs as dl\n",
    "import geopandas as gpd\n",
    "import ipyleaflet\n",
    "import matplotlib.pyplot as plt\n",
    "import numpy as np\n",
    "import pyproj\n",
    "from rasterio.features import shapes\n",
    "import shapely.geometry\n",
    "import shapely.ops\n",
    "\n",
    "from descarteslabs.vector import Table, models"
   ]
  },
  {
   "cell_type": "markdown",
   "id": "4844d79f-e2dd-41a2-9553-328f68762607",
   "metadata": {},
   "source": [
    "## Mosaic some Sentinel-2 imagery"
   ]
  },
  {
   "cell_type": "markdown",
   "id": "a9abbde6-3ace-4637-b4cc-4125d6d4d21e",
   "metadata": {},
   "source": [
    "Collect Sentinel-2 L2A imagery from which trucks will be extracted."
   ]
  },
  {
   "cell_type": "code",
   "execution_count": null,
   "id": "a37e5924-6960-4f4a-a720-13e214645fe7",
   "metadata": {
    "tags": []
   },
   "outputs": [],
   "source": [
    "lat, lon = 51.893789, 4.428885\n",
    "dltile = dl.scenes.DLTile.from_latlon(lat, lon, 10, 4096, 0)"
   ]
  },
  {
   "cell_type": "code",
   "execution_count": null,
   "id": "e0a6dca7-a638-4613-a5fb-7fa96d1437ea",
   "metadata": {
    "tags": []
   },
   "outputs": [],
   "source": [
    "scenes, ctx = dl.scenes.search(\n",
    "    dltile,\n",
    "    \"esa:sentinel-2:l2a:v1\",\n",
    "    start_datetime=\"2020-04-19\",\n",
    "    end_datetime=\"2020-04-21\",\n",
    ")"
   ]
  },
  {
   "cell_type": "code",
   "execution_count": null,
   "id": "bf461acb-3a93-4869-accf-8cc267081e09",
   "metadata": {
    "tags": []
   },
   "outputs": [],
   "source": [
    "arr, raster_info = scenes.mosaic(\n",
    "    [\"blue\", \"green\", \"red\", \"nir\", \"swir1\"], ctx, raster_info=True\n",
    ")\n",
    "B02, B03, B04, B08, B11 = arr"
   ]
  },
  {
   "cell_type": "code",
   "execution_count": null,
   "id": "97fb320a-fbc2-498e-959c-7d87dde8fdd7",
   "metadata": {
    "tags": []
   },
   "outputs": [],
   "source": [
    "plt.figure(figsize=(20, 20))\n",
    "plt.imshow(B03, vmin=0, vmax=0.4, cmap=\"gray\")"
   ]
  },
  {
   "cell_type": "markdown",
   "id": "676fe65f-364d-4d0d-b3fa-245560771024",
   "metadata": {},
   "source": [
    "## Detect vehicles in the imagery"
   ]
  },
  {
   "cell_type": "markdown",
   "id": "ecf95c0f-fc28-459e-b3f9-3c316920d5d3",
   "metadata": {},
   "source": [
    "Extract trucks from Sentinel-2 L2A imagery using band ratios and thresholds."
   ]
  },
  {
   "cell_type": "code",
   "execution_count": null,
   "id": "8a8e97d2-a479-4dae-bbfe-a4a21b147e69",
   "metadata": {
    "tags": []
   },
   "outputs": [],
   "source": [
    "min_rgb = 0.04\n",
    "max_red = 0.15\n",
    "max_green = 0.15\n",
    "max_blue = 0.4\n",
    "max_ndvi = 0.7  # quite high to account for mixed pixels\n",
    "max_ndwi = 0.001\n",
    "max_ndsi = 0.0001\n",
    "min_b11 = 0.05\n",
    "max_b11 = 0.55\n",
    "min_green_ratio = 0.05\n",
    "min_red_ratio = 0.1"
   ]
  },
  {
   "cell_type": "code",
   "execution_count": null,
   "id": "54640f79-528c-4b66-8fd0-7ba8aedc8f11",
   "metadata": {
    "tags": []
   },
   "outputs": [],
   "source": [
    "# Compute a roads mask using band ratios and thresholds\n",
    "ndvi_mask = ((B08 - B04) / (B08 + B04)) < max_ndvi\n",
    "ndwi_mask = ((B02 - B11) / (B02 + B11)) < max_ndwi\n",
    "ndsi_mask = ((B03 - B11) / (B03 + B11)) < max_ndsi\n",
    "low_rgb_mask = (B02 > min_rgb) * (B03 > min_rgb) * (B04 > min_rgb)\n",
    "high_rgb_mask = (B02 < max_blue) * (B03 < max_green) * (B04 < max_red)\n",
    "b11_mask = ((B11 - B03) / (B11 + B03)) < max_b11\n",
    "b11_mask_abs = (B11 > min_b11) * (B11 < max_b11)\n",
    "roads_mask = (\n",
    "    ndvi_mask\n",
    "    * ndwi_mask\n",
    "    * ndsi_mask\n",
    "    * low_rgb_mask\n",
    "    * high_rgb_mask\n",
    "    * b11_mask\n",
    "    * b11_mask_abs\n",
    ")"
   ]
  },
  {
   "cell_type": "code",
   "execution_count": null,
   "id": "a8685da3-42f1-458e-8452-ec9a4baddf83",
   "metadata": {
    "tags": []
   },
   "outputs": [],
   "source": [
    "bg_ratio = (B02 - B03) / (B02 + B03)\n",
    "br_ratio = (B02 - B04) / (B02 + B04)\n",
    "\n",
    "bg_low = (bg_ratio * roads_mask) > min_green_ratio\n",
    "br_low = (br_ratio * roads_mask) > min_red_ratio\n",
    "vehicles = bg_low * br_low"
   ]
  },
  {
   "cell_type": "markdown",
   "id": "2f1e4063-0bba-44c2-89ce-312efdb7d66d",
   "metadata": {},
   "source": [
    "## Vectorize the detections"
   ]
  },
  {
   "cell_type": "markdown",
   "id": "b7685ab5-5773-4f28-b850-ea669f56b798",
   "metadata": {},
   "source": [
    " Convert the detected trucks to vector format."
   ]
  },
  {
   "cell_type": "code",
   "execution_count": null,
   "id": "549a0536-784f-4336-8406-8a7a3300736f",
   "metadata": {
    "tags": []
   },
   "outputs": [],
   "source": [
    "transform = Affine.from_gdal(*raster_info[\"geoTransform\"])"
   ]
  },
  {
   "cell_type": "code",
   "execution_count": null,
   "id": "2bd1a98a-57e0-4ba6-a5d0-3dcdbfad6316",
   "metadata": {
    "tags": []
   },
   "outputs": [],
   "source": [
    "vehicles_vector = list(shapes(vehicles.data.astype(np.uint8), transform=transform))"
   ]
  },
  {
   "cell_type": "code",
   "execution_count": null,
   "id": "fefb63f1-4f27-404d-871a-cf2513ae727e",
   "metadata": {
    "tags": []
   },
   "outputs": [],
   "source": [
    "utm_points = [\n",
    "    shapely.geometry.shape(vehicle[0]).centroid for vehicle in vehicles_vector\n",
    "]"
   ]
  },
  {
   "cell_type": "code",
   "execution_count": null,
   "id": "927ae25b-ddfb-438e-b23e-f61b6db2037b",
   "metadata": {
    "tags": []
   },
   "outputs": [],
   "source": [
    "epsg_code = raster_info[\"coordinateSystem\"][\"epsg\"]\n",
    "\n",
    "wgs84 = pyproj.CRS(\"EPSG:4326\")\n",
    "utm = pyproj.CRS(f\"EPSG:{epsg_code}\")\n",
    "\n",
    "transform = pyproj.Transformer.from_crs(utm, wgs84, always_xy=True).transform\n",
    "wgs84_points = [shapely.ops.transform(transform, point) for point in utm_points]"
   ]
  },
  {
   "cell_type": "code",
   "execution_count": null,
   "id": "26c8a955-6dd0-496c-a92c-524548c9570d",
   "metadata": {},
   "outputs": [],
   "source": [
    "vehicles = gpd.GeoDataFrame(data={\"geometry\": wgs84_points}, crs=\"EPSG:4326\")\n",
    "vehicles.head()"
   ]
  },
  {
   "cell_type": "markdown",
   "id": "f40f91e9-436f-490c-941b-292ec217e5a8",
   "metadata": {
    "tags": []
   },
   "source": [
    "## Ingest the detections into a Vector product"
   ]
  },
  {
   "cell_type": "markdown",
   "id": "1b3a01a9-9abd-42ae-ab63-db22168184e8",
   "metadata": {},
   "source": [
    "Before creating the Vector product, ensure it does not already exist."
   ]
  },
  {
   "cell_type": "code",
   "execution_count": null,
   "id": "291cd467-1177-40f5-bbb0-3547d066119f",
   "metadata": {
    "tags": []
   },
   "outputs": [],
   "source": [
    "orgname = dl.auth.Auth().payload[\"org\"]\n",
    "\n",
    "for table in Table.list():\n",
    "    if table.id == f\"{orgname}:trucks\":\n",
    "        print(f'Deleting \"{table}\"')\n",
    "        table.delete()"
   ]
  },
  {
   "cell_type": "markdown",
   "id": "70cc0cfa-b966-4158-ac41-52345cb59680",
   "metadata": {},
   "source": [
    "Vector allows for creation of custom schemas for each Vector product. The geometry and UUID columns are inherited from the parent model, `models.PointBaseModel`, and additional indices can be specified using pydantic Fields. In this example, the detections only have a geometry attribute, thus the model `models.PointBaseModel` is being used without alteration. Creating the product will return a `Table` object."
   ]
  },
  {
   "cell_type": "code",
   "execution_count": null,
   "id": "2889c035-0610-4e31-9624-a1f9bd5e8068",
   "metadata": {
    "tags": []
   },
   "outputs": [],
   "source": [
    "truck_table = Table.create(\n",
    "    \"trucks\", \"Trucks\", owners=[\"org:descarteslabs\"], model=models.PointBaseModel\n",
    ")"
   ]
  },
  {
   "cell_type": "markdown",
   "id": "4b1433a4-c741-419e-9a89-5088a7491d2a",
   "metadata": {},
   "source": [
    "Features can be uploaded/ingested to the Vector product by invoking the method `Table.add()`. Adding features will return a `GeoPandas.GeoDataFrame` with UUID attribution."
   ]
  },
  {
   "cell_type": "code",
   "execution_count": null,
   "id": "183cc0da-fc8d-4486-8a40-5a3f21ed2a00",
   "metadata": {
    "tags": []
   },
   "outputs": [],
   "source": [
    "gdf = truck_table.add(vehicles)"
   ]
  },
  {
   "cell_type": "code",
   "execution_count": null,
   "id": "a6583707-5ab3-4538-88ce-771359ebf4c2",
   "metadata": {},
   "outputs": [],
   "source": [
    "gdf.head()"
   ]
  },
  {
   "cell_type": "markdown",
   "id": "5e901d8e-a353-4fde-bedf-9d418b8e076e",
   "metadata": {},
   "source": [
    "## Visualize the detections"
   ]
  },
  {
   "cell_type": "markdown",
   "id": "ad41dfd7-dd66-4a64-a854-13af1b353308",
   "metadata": {},
   "source": [
    "Vector products can be visualized by calling the `Table.visualize()` method which will return a vector tile layer compatible with ipyleaflet. Vector visualization also supports the use of `TableOptions`; however, only the property filter and columns will be honored."
   ]
  },
  {
   "cell_type": "code",
   "execution_count": null,
   "id": "05a402ea-d4d8-4886-bb5f-2cd683cca09b",
   "metadata": {
    "tags": []
   },
   "outputs": [],
   "source": [
    "m = ipyleaflet.Map(\n",
    "    center=(lat, lon),\n",
    "    zoom=10,\n",
    "    scroll_wheel_zoom=True,\n",
    ")\n",
    "m"
   ]
  },
  {
   "cell_type": "code",
   "execution_count": null,
   "id": "3848ea4d-d7f0-4fe4-8044-ed725ebd75db",
   "metadata": {
    "tags": []
   },
   "outputs": [],
   "source": [
    "# add a layer style\n",
    "vector_tile_layer_styles = {\n",
    "    \"fill\": \"true\",\n",
    "    \"fillColor\": \"#ff0000\",\n",
    "    \"color\": \"#000000\",\n",
    "    \"weight\": 1,\n",
    "    \"fillOpacity\": 1,\n",
    "    \"radius\": 3,\n",
    "}\n",
    "\n",
    "lyr = truck_table.visualize(\n",
    "    name=\"trucks\", map=m, vector_tile_layer_styles=vector_tile_layer_styles\n",
    ")"
   ]
  },
  {
   "cell_type": "markdown",
   "id": "a1c2188e-fa90-485b-bb36-82b3c33471fd",
   "metadata": {},
   "source": [
    "## Deleting a Vector product"
   ]
  },
  {
   "cell_type": "markdown",
   "id": "5b7f8c36-3fb3-4769-b7a1-944eb06cd3df",
   "metadata": {},
   "source": [
    "To delete a Vector product, simply invoke the `Table.delete()` method."
   ]
  },
  {
   "cell_type": "code",
   "execution_count": null,
   "id": "e31cfd57-2e41-4c2c-b967-ede636173a21",
   "metadata": {},
   "outputs": [],
   "source": [
    "truck_table.delete()"
   ]
  }
 ],
 "metadata": {
  "kernelspec": {
   "display_name": "Python 3 (ipykernel)",
   "language": "python",
   "name": "python3"
  },
  "language_info": {
   "codemirror_mode": {
    "name": "ipython",
    "version": 3
   },
   "file_extension": ".py",
   "mimetype": "text/x-python",
   "name": "python",
   "nbconvert_exporter": "python",
   "pygments_lexer": "ipython3",
   "version": "3.8.10"
  }
 },
 "nbformat": 4,
 "nbformat_minor": 5
}

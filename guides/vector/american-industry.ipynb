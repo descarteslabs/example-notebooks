{
 "cells": [
  {
   "cell_type": "markdown",
   "id": "bd6e98ad-57b2-485b-8a15-e5fdd426790b",
   "metadata": {
    "tags": []
   },
   "source": [
    "# Ingesting NASA FIRMS data, and exploring American heavy industry"
   ]
  },
  {
   "cell_type": "code",
   "execution_count": null,
   "id": "a228827a-860e-48f4-90fa-603a8ee71c47",
   "metadata": {
    "tags": []
   },
   "outputs": [],
   "source": [
    "import os\n",
    "\n",
    "os.environ[\"VECTOR_API_HOST\"] = \"http://127.0.0.1:8000\""
   ]
  },
  {
   "cell_type": "code",
   "execution_count": null,
   "id": "73a0e240-11ff-4184-9cf6-c324405442bf",
   "metadata": {
    "tags": []
   },
   "outputs": [],
   "source": [
    "import descarteslabs as dl\n",
    "import geopandas\n",
    "import io\n",
    "import ipyleaflet\n",
    "import pandas\n",
    "import requests\n",
    "from datetime import datetime\n",
    "from descarteslabs.vector import Table, TableOptions, Feature, models, properties as p\n",
    "from descarteslabs.vector import models\n",
    "from pydantic import Field"
   ]
  },
  {
   "cell_type": "markdown",
   "id": "1bb2e7e5-6410-4041-bc93-2ebfe4f04a0f",
   "metadata": {},
   "source": [
    "## Downloading all 2021 FIRMS data for the United States"
   ]
  },
  {
   "cell_type": "markdown",
   "id": "a380bfd8-b040-4966-b8b4-34f5d51dd5f4",
   "metadata": {},
   "source": [
    "Download FIRMS data."
   ]
  },
  {
   "cell_type": "code",
   "execution_count": null,
   "id": "e4484439-1afc-4733-baca-62e0e2708685",
   "metadata": {
    "tags": []
   },
   "outputs": [],
   "source": [
    "url = \"https://firms.modaps.eosdis.nasa.gov/data/country/viirs-snpp/2021/viirs-snpp_2021_United_States.csv\"\n",
    "response = requests.get(url)\n",
    "\n",
    "csv = io.BytesIO()\n",
    "csv.write(response.content)\n",
    "csv.seek(0)"
   ]
  },
  {
   "cell_type": "markdown",
   "id": "1c562530-ac9e-464a-ace6-68883ea3ea72",
   "metadata": {},
   "source": [
    "Preform light preprocessing of the FIRMS data."
   ]
  },
  {
   "cell_type": "code",
   "execution_count": null,
   "id": "3f3f62d5-0c61-4b69-afda-86a65246f25b",
   "metadata": {
    "tags": []
   },
   "outputs": [],
   "source": [
    "# read csv to Pandas dataframe\n",
    "fires = pandas.read_csv(csv)\n",
    "fires[\"acq_datetime\"] = fires.apply(\n",
    "    lambda row: pandas.to_datetime(\n",
    "        str(row[\"acq_date\"]) + f\" {row['acq_time']:04d}\",\n",
    "        format=\"%Y-%m-%d %H%M\",\n",
    "        utc=True,\n",
    "    ),\n",
    "    axis=1,\n",
    ")\n",
    "\n",
    "# convert Pandas dataframe to GeoPandas dataframe\n",
    "fires = geopandas.GeoDataFrame(\n",
    "    fires,\n",
    "    geometry=geopandas.points_from_xy(fires.longitude, fires.latitude),\n",
    "    crs=\"EPSG:4326\",\n",
    ")\n",
    "\n",
    "# drop columns\n",
    "fires = fires.drop(columns=[\"latitude\", \"longitude\", \"acq_date\", \"acq_time\"])\n",
    "\n",
    "fires.head()"
   ]
  },
  {
   "cell_type": "markdown",
   "id": "a25d9c2a-4dc7-4488-bb6f-848dac117105",
   "metadata": {},
   "source": [
    "## Create a Vector product"
   ]
  },
  {
   "cell_type": "markdown",
   "id": "0fc4b7f3-8e42-41ea-b1dd-e9e9239a62b4",
   "metadata": {},
   "source": [
    "Before creating the Vector product, ensure it does not already exist."
   ]
  },
  {
   "cell_type": "code",
   "execution_count": null,
   "id": "cef096dd-98e9-498e-8f6b-5a62cf2749fd",
   "metadata": {
    "tags": []
   },
   "outputs": [],
   "source": [
    "orgname = dl.auth.Auth().payload[\"org\"]\n",
    "\n",
    "for table in Table.list():\n",
    "    if table.id == f\"{orgname}:firms\":\n",
    "        print(f'Deleting \"{table.id}\"')\n",
    "        table.delete()"
   ]
  },
  {
   "cell_type": "markdown",
   "id": "9c1ff1a3-7caf-4bd3-9141-bfe955439df1",
   "metadata": {},
   "source": [
    "Vector allows for creation of custom schemas for each Vector product. The geometry and UUID columns are inherited from the parent model, `models.PointBaseModel`, and additional indices can be specified using pydantic Fields."
   ]
  },
  {
   "cell_type": "code",
   "execution_count": null,
   "id": "af290856-ff16-46f8-bd28-c89fde437778",
   "metadata": {},
   "outputs": [],
   "source": [
    "class FirmsModel(models.PointBaseModel):\n",
    "    bright_ti4: float\n",
    "    scan: float\n",
    "    track: float\n",
    "    acq_datetime: datetime = Field(json_schema_extra={\"index\": True})\n",
    "    satellite: str\n",
    "    instrument: str\n",
    "    confidence: str\n",
    "    version: int\n",
    "    bright_ti5: float\n",
    "    frp: float\n",
    "    daynight: str = Field(json_schema_extra={\"index\": True})\n",
    "    type: int"
   ]
  },
  {
   "cell_type": "markdown",
   "id": "0c35c106-1769-427b-a27e-7e4fb94c420c",
   "metadata": {},
   "source": [
    "Creating the product will return a `Table` object."
   ]
  },
  {
   "cell_type": "code",
   "execution_count": null,
   "id": "f8553b09-b601-4cd8-9586-28c5ad0bf913",
   "metadata": {
    "tags": []
   },
   "outputs": [],
   "source": [
    "nasa_firms = Table.create(\n",
    "    \"firms\", \"NASA FIRMS\", owners=[\"org:descarteslabs\"], model=FirmsModel\n",
    ")"
   ]
  },
  {
   "cell_type": "markdown",
   "id": "88ef8922-841a-47d3-af56-68f535423445",
   "metadata": {
    "tags": []
   },
   "source": [
    "## Ingest the FIRMS data into the product"
   ]
  },
  {
   "cell_type": "markdown",
   "id": "03df846f-8a44-478d-b251-283ae717b653",
   "metadata": {},
   "source": [
    "Features can be uploaded/ingested to the Vector product by invoking the method `Table.add()`. Adding features will return a `GeoPandas.GeoDataFrame` with UUID attribution."
   ]
  },
  {
   "cell_type": "code",
   "execution_count": null,
   "id": "5ff0d027-8138-4270-8dc6-332df01e1210",
   "metadata": {
    "tags": []
   },
   "outputs": [],
   "source": [
    "fires = nasa_firms.add(fires)\n",
    "\n",
    "fires.head()"
   ]
  },
  {
   "cell_type": "markdown",
   "id": "4d6580f0-f826-4212-a48b-794064dbd13f",
   "metadata": {},
   "source": [
    "## Modify the Vector product"
   ]
  },
  {
   "cell_type": "markdown",
   "id": "d595d0c2-37c0-4f1f-8dbf-257951ab0872",
   "metadata": {},
   "source": [
    "After a Vector product has been created the product can be modified by setting the property of interest and calling the `Table.save()` method. This process can also be used for granting and/or denying access to a Vector product by modifying the `readers`, `writers`, and `owners` accordingly."
   ]
  },
  {
   "cell_type": "code",
   "execution_count": null,
   "id": "b366ef50-72f0-414a-9c6c-deac87a417f9",
   "metadata": {},
   "outputs": [],
   "source": [
    "# modify the product tags\n",
    "print(nasa_firms.tags)\n",
    "nasa_firms.tags = [\"Fire\"]\n",
    "nasa_firms.save()\n",
    "print(nasa_firms.tags)"
   ]
  },
  {
   "cell_type": "code",
   "execution_count": null,
   "id": "9801e8fa-3609-4178-9a95-0eef09122fb1",
   "metadata": {},
   "outputs": [],
   "source": [
    "# modify the product description\n",
    "print(nasa_firms.description)\n",
    "nasa_firms.description = \"Super cool fire product provided by NASA\"\n",
    "nasa_firms.save()\n",
    "print(nasa_firms.description)"
   ]
  },
  {
   "cell_type": "code",
   "execution_count": null,
   "id": "85176175-7b8d-4f47-af00-f13b8335bf00",
   "metadata": {},
   "outputs": [],
   "source": [
    "# add readers to the product\n",
    "print(nasa_firms.readers)\n",
    "nasa_firms.readers.append(\"user:2078ccb68b0b1433ee76373740a2918bf06dbfa5\")\n",
    "nasa_firms.save()\n",
    "print(nasa_firms.readers)"
   ]
  },
  {
   "cell_type": "markdown",
   "id": "7d6af8c8-e2ae-42bf-bcbc-a94250acf1e2",
   "metadata": {},
   "source": [
    "## Retrieve a single feature from the FIRMS product"
   ]
  },
  {
   "cell_type": "markdown",
   "id": "3b5e9693-d8bd-4fac-9b4a-f89edd6880dc",
   "metadata": {},
   "source": [
    "Individual features can be retrieved from the product by invoking the `Feature.get()` or `Table.get_feature()` methods which will return a `Feature` object."
   ]
  },
  {
   "cell_type": "code",
   "execution_count": null,
   "id": "a6932fbc-41d3-463f-8d88-51264909830f",
   "metadata": {},
   "outputs": [],
   "source": [
    "# these are equivalent access patterns\n",
    "feat1 = Feature.get(f\"{nasa_firms.id}:{fires.iloc[0].uuid}\")\n",
    "feat2 = nasa_firms.get_feature(fires.iloc[0].uuid)"
   ]
  },
  {
   "cell_type": "code",
   "execution_count": null,
   "id": "59d6a0ce-e534-41da-8ec9-4f69b4028b34",
   "metadata": {
    "tags": []
   },
   "outputs": [],
   "source": [
    "assert feat1.values == feat2.values"
   ]
  },
  {
   "cell_type": "code",
   "execution_count": null,
   "id": "32f39264-ecc7-45fc-9dcd-a3c90179ac91",
   "metadata": {},
   "outputs": [],
   "source": [
    "feat1.values"
   ]
  },
  {
   "cell_type": "markdown",
   "id": "83c8f85c-1ee3-4d8c-9fe2-dd85e5693ffd",
   "metadata": {
    "tags": []
   },
   "source": [
    "## Modify a single feature from the FIRMS product"
   ]
  },
  {
   "cell_type": "markdown",
   "id": "9844c04f-5dc4-4836-91d7-47476a4e036a",
   "metadata": {},
   "source": [
    "Individual features can be modified by updating the information stored in `Feature.values`. `Feature.values` is a dictionary of column name/value pairs. Once the values have been updated accordingly, invoking the `Feature.save()` method will persist the changes."
   ]
  },
  {
   "cell_type": "code",
   "execution_count": null,
   "id": "129e6830-fa0e-4482-9c1b-be54a8e6a48c",
   "metadata": {},
   "outputs": [],
   "source": [
    "# update individual columns\n",
    "feat1.values[\"version\"] = 2\n",
    "feat1.values[\"daynight\"] = \"D\"\n",
    "feat1.values[\"bright_ti5\"] = 271.11\n",
    "\n",
    "# save the Feature\n",
    "feat1.save()"
   ]
  },
  {
   "cell_type": "code",
   "execution_count": null,
   "id": "06620138-8658-4cfc-8ad1-66706f38dd99",
   "metadata": {},
   "outputs": [],
   "source": [
    "# retrieve the Feature once again to verify the modifications\n",
    "feat1 = Feature.get(f\"{nasa_firms.id}:{fires.iloc[0].uuid}\")\n",
    "feat1.values"
   ]
  },
  {
   "cell_type": "markdown",
   "id": "99a422f6-5f83-4d69-8292-6338cafcf87b",
   "metadata": {
    "tags": []
   },
   "source": [
    "## Querying a vector product"
   ]
  },
  {
   "cell_type": "markdown",
   "id": "93e1a6f7-3223-434d-be93-5c82201c7b09",
   "metadata": {},
   "source": [
    "### TableOptions"
   ]
  },
  {
   "cell_type": "markdown",
   "id": "98e4e051-cf96-44ac-80ac-93c65852460a",
   "metadata": {},
   "source": [
    "Vector products can be filtered/queried by specifying a `property_filter`, `columns`, and `aoi`. In the case of Vector, `property_filter`, `columns`, and `aoi` are collectively referred to as `TableOptions`. Subsequent method calls on the `Table` object will honor these options.\n",
    "* `property_filter`: Property or column filter for the query. Default is no filter.\n",
    "* `columns`: A subset of columns to return with each query. Default is all columns will be returned.\n",
    "* `aoi`: Spatial filter for the query. Default is no spatial filter.\n",
    "\n",
    "\n",
    "Setting the `TableOptions` can be done during initialization of a `Table` object:"
   ]
  },
  {
   "cell_type": "code",
   "execution_count": null,
   "id": "385bfada-cac1-4a85-95b0-8936e030507b",
   "metadata": {},
   "outputs": [],
   "source": [
    "# setting options on initialization\n",
    "table1 = Table.get(\n",
    "    f\"{orgname}:firms\",\n",
    "    property_filter=p.acq_datetime <= \"2021-01-02\",\n",
    "    columns=[\"instrument\"],\n",
    ")\n",
    "\n",
    "df1 = table1.collect()"
   ]
  },
  {
   "cell_type": "markdown",
   "id": "22be3c7f-47a5-40de-a099-f0273d0d4855",
   "metadata": {},
   "source": [
    "updated after initialization:"
   ]
  },
  {
   "cell_type": "code",
   "execution_count": null,
   "id": "84d10a68-6ef2-4621-ba72-6c46f0acb143",
   "metadata": {},
   "outputs": [],
   "source": [
    "# updating options after initialization\n",
    "table2 = Table.get(f\"{orgname}:firms\")\n",
    "table2.options.property_filter = p.acq_datetime <= \"2021-01-02\"\n",
    "table2.options.columns = [\"instrument\"]\n",
    "\n",
    "df2 = table2.collect()\n",
    "\n",
    "df1 == df2"
   ]
  },
  {
   "cell_type": "markdown",
   "id": "81af7866-d5ff-4950-af4a-9f954bdd208f",
   "metadata": {},
   "source": [
    "or overwritten entirely:"
   ]
  },
  {
   "cell_type": "code",
   "execution_count": null,
   "id": "2a494d76-5f5b-4d3b-81cb-4bef3929c975",
   "metadata": {},
   "outputs": [],
   "source": [
    "# overwriting the options by explicitly setting the TableOptions options in the collectt method\n",
    "options = TableOptions(\n",
    "    f\"{orgname}:firms\",\n",
    "    property_filter=p.acq_datetime <= \"2021-01-02\",\n",
    "    columns=[\"instrument\"],\n",
    ")\n",
    "df3 = table1.collect(override_options=options)\n",
    "\n",
    "df1 == df3"
   ]
  },
  {
   "cell_type": "markdown",
   "id": "c77f46c4-06a8-4f6f-984d-c44ac5bb7df7",
   "metadata": {},
   "source": [
    "The table options can be reset to default at any point using the `Table.reset_options()` method."
   ]
  },
  {
   "cell_type": "code",
   "execution_count": null,
   "id": "d0334ac9-b625-4b36-8494-7eec625d4eef",
   "metadata": {},
   "outputs": [],
   "source": [
    "print(table2.options.columns)\n",
    "table2.reset_options()\n",
    "print(table2.options.columns)"
   ]
  },
  {
   "cell_type": "markdown",
   "id": "75d48c69-5616-4aab-b45b-68c091aec3c5",
   "metadata": {},
   "source": [
    "### Querying"
   ]
  },
  {
   "cell_type": "markdown",
   "id": "a2fe04dc-f051-44de-b72d-1af60515c3c2",
   "metadata": {},
   "source": [
    "As seen from the previous examples, calling the `Table.collect()` method will execute a query based on specified `TableOptions`. Upon successful completion, a `GeoPandas.GeoDataFrame` or `Pandas.DataFrame` will be returned. If the `Table` was spatial (i.e. has a geometry column) and the columns option was not set or the geometry column was included in the columns option, a `GeoPandas.GeoDataFrame` will be returned; otherwise, a `Pandas.DataFrame` will be returned. The `DataFrame` will only contain data for the columns specified in the options. More complex queries can be constructed such as the one below which queries for FIRMS data acquired at night, between 2021-08-02 and 2021-09-02, and is located within our `aoi` which is centered over Albuquerque, New Mexico. Since we did not set the columns option, all columns will be returned."
   ]
  },
  {
   "cell_type": "code",
   "execution_count": null,
   "id": "b290c596-7ae9-40df-81c2-b71b3f923e9b",
   "metadata": {},
   "outputs": [],
   "source": [
    "aoi = {\n",
    "    \"type\": \"Polygon\",\n",
    "    \"coordinates\": [\n",
    "        [\n",
    "            [-107.25594525004537, 35.610087771739344],\n",
    "            [-107.25594525004537, 34.63254123392825],\n",
    "            [-105.96538958731692, 34.63254123392825],\n",
    "            [-105.96538958731692, 35.610087771739344],\n",
    "            [-107.25594525004537, 35.610087771739344],\n",
    "        ]\n",
    "    ],\n",
    "}"
   ]
  },
  {
   "cell_type": "code",
   "execution_count": null,
   "id": "4bdc7240-8267-4861-af84-c4077c0d9a53",
   "metadata": {},
   "outputs": [],
   "source": [
    "# setting options on initialization\n",
    "table = Table.get(\n",
    "    f\"{orgname}:firms\",\n",
    "    property_filter=(\n",
    "        (p.acq_datetime > \"2021-08-02\")\n",
    "        & (p.acq_datetime <= \"2021-09-02\")\n",
    "        & (p.daynight == \"N\")\n",
    "    ),\n",
    "    aoi=aoi,\n",
    ")\n",
    "\n",
    "df = table.collect()\n",
    "\n",
    "df"
   ]
  },
  {
   "cell_type": "markdown",
   "id": "2129da9d-901f-42d2-af7a-635be55173bd",
   "metadata": {},
   "source": [
    "## Aggregate methods"
   ]
  },
  {
   "cell_type": "markdown",
   "id": "2221b6ef-f2e2-41ae-a136-636d0e43a0e1",
   "metadata": {},
   "source": [
    "Vector products also support the use of aggregate methods such as `COUNT`, `MIN`, `MAX`, `SUM`, `MEAN` which can be invoked with `Table.count()`, `Table.min()`, `Table.max()`, `Table.sum()`, and `Table.mean()` respectively. Just like the `Table.collect()` method, aggregate methods support the use of `TableOptions` and will honor these options during execution. When calling the `Table.count()` method, column options do not matter and a single row count will be returned. "
   ]
  },
  {
   "cell_type": "code",
   "execution_count": null,
   "id": "9576afe7-0419-4880-a040-35ab63de1717",
   "metadata": {},
   "outputs": [],
   "source": [
    "# setting options on initialization\n",
    "table = Table.get(\n",
    "    f\"{orgname}:firms\",\n",
    "    property_filter=(\n",
    "        (p.acq_datetime > \"2021-08-02\")\n",
    "        & (p.acq_datetime <= \"2021-09-02\")\n",
    "        & (p.daynight == \"N\")\n",
    "    ),\n",
    "    aoi=aoi,\n",
    ")\n",
    "\n",
    "# print number of records matching the options\n",
    "table.count()"
   ]
  },
  {
   "cell_type": "markdown",
   "id": "c3e0f571-ca40-4f8f-8795-9a44635b5ae5",
   "metadata": {},
   "source": [
    "For all other aggregate methods (`MIN`, `MAX`, `SUM`, `MEAN`), the column options do matter. The data type of the column must support the aggregate method. For instance, calling `Table.max()` on a column with a string data type will result in an error. In the example below, we have restricted the columns to only be `frp` (fire radiative power) which is of type `float`. The returned value will be a dictionary of key/value pairs where the key is denoted as `COLUMN.STATISTIC` and the value is the result of the aggregate statistic. "
   ]
  },
  {
   "cell_type": "code",
   "execution_count": null,
   "id": "de936a63-b5d7-4148-adff-39be3e4de799",
   "metadata": {},
   "outputs": [],
   "source": [
    "# setting options on initialization\n",
    "table = Table.get(\n",
    "    f\"{orgname}:firms\",\n",
    "    property_filter=(\n",
    "        (p.acq_datetime > \"2021-08-02\")\n",
    "        & (p.acq_datetime <= \"2021-09-02\")\n",
    "        & (p.daynight == \"N\")\n",
    "    ),\n",
    "    aoi=aoi,\n",
    "    columns=[\"frp\"],\n",
    ")\n",
    "\n",
    "print(f\"Maximum FRP: {table.max()}\")\n",
    "print(f\"Minimum FRP: {table.min()}\")\n",
    "print(f\"Average FRP: {table.mean()}\")\n",
    "print(f\"Total FRP: {table.sum()}\")"
   ]
  },
  {
   "cell_type": "markdown",
   "id": "8d477617-7ed1-47e3-99ea-7bb2f4e7b28d",
   "metadata": {},
   "source": [
    "However, as long as the column types support the aggregate method, multiple columns can be specified as below:"
   ]
  },
  {
   "cell_type": "code",
   "execution_count": null,
   "id": "40335c82-d755-4d22-8a28-6fedd032d08f",
   "metadata": {},
   "outputs": [],
   "source": [
    "# setting options on initialization\n",
    "table = Table.get(\n",
    "    f\"{orgname}:firms\",\n",
    "    property_filter=(\n",
    "        (p.acq_datetime > \"2021-08-02\")\n",
    "        & (p.acq_datetime <= \"2021-09-02\")\n",
    "        & (p.daynight == \"N\")\n",
    "    ),\n",
    "    aoi=aoi,\n",
    "    columns=[\"frp\", \"bright_ti5\"],\n",
    ")\n",
    "\n",
    "table.max()"
   ]
  },
  {
   "cell_type": "markdown",
   "id": "c94f3798-bf71-45ab-906c-f55a2ed6fcc8",
   "metadata": {
    "tags": []
   },
   "source": [
    "## Visualize the data: A tour of American heavy industry"
   ]
  },
  {
   "cell_type": "markdown",
   "id": "3e328ca8-b063-4018-851b-f2511b8c3217",
   "metadata": {},
   "source": [
    "Vector products can be visualized by calling the `Table.visualize()` method which will return a vector tile layer compatible with ipyleaflet. Vector visualization also supports the use of `TableOptions`; however, only the property filter and columns will be honored."
   ]
  },
  {
   "cell_type": "code",
   "execution_count": null,
   "id": "915592f2-e76b-4222-b02b-de443eeb0601",
   "metadata": {
    "tags": []
   },
   "outputs": [],
   "source": [
    "m = ipyleaflet.Map(\n",
    "    basemap=ipyleaflet.basemap_to_tiles(ipyleaflet.basemaps.Esri.WorldImagery),\n",
    "    center=(34.610471, -106.042548),\n",
    "    zoom=8,\n",
    "    scroll_wheel_zoom=True,\n",
    ")\n",
    "m"
   ]
  },
  {
   "cell_type": "code",
   "execution_count": null,
   "id": "f0af832f-67fb-429c-898c-63080ef5af5f",
   "metadata": {
    "tags": []
   },
   "outputs": [],
   "source": [
    "# visualize the FIRMS night data as red points\n",
    "nasa_firms = Table.get(\n",
    "    product_id=f\"{orgname}:firms\",\n",
    "    columns=[\"daynight\"],\n",
    "    property_filter=p.daynight == \"N\",\n",
    ")\n",
    "\n",
    "# add a layer style\n",
    "vector_tile_layer_styles = {\n",
    "    \"fill\": \"true\",\n",
    "    \"fillColor\": \"#ff0000\",\n",
    "    \"color\": \"#000000\",\n",
    "    \"weight\": 1,\n",
    "    \"fillOpacity\": 1,\n",
    "    \"radius\": 3,\n",
    "}\n",
    "\n",
    "lyr = nasa_firms.visualize(\n",
    "    name=\"FIRMS\", map=m, vector_tile_layer_styles=vector_tile_layer_styles\n",
    ")"
   ]
  },
  {
   "cell_type": "code",
   "execution_count": null,
   "id": "56702373-af39-4b64-87fa-5259ac396e03",
   "metadata": {},
   "outputs": [],
   "source": [
    "# visualize the FIRMS day data as yellow points\n",
    "nasa_firms.options.property_filter = p.daynight == \"D\"\n",
    "\n",
    "# add a layer style\n",
    "vector_tile_layer_2_styles = {\n",
    "    \"fill\": \"true\",\n",
    "    \"fillColor\": \"#ffff00\",\n",
    "    \"color\": \"#000000\",\n",
    "    \"weight\": 1,\n",
    "    \"fillOpacity\": 1,\n",
    "    \"radius\": 3,\n",
    "}\n",
    "\n",
    "\n",
    "lyr2 = nasa_firms.visualize(\n",
    "    name=\"FIRMS_Day\", map=m, vector_tile_layer_styles=vector_tile_layer_2_styles\n",
    ")"
   ]
  },
  {
   "cell_type": "markdown",
   "id": "a67929c7-3d56-4fdc-bf03-1df43c816232",
   "metadata": {},
   "source": [
    "To delete a Vector product, simply invoke the `Table.delete()` method."
   ]
  },
  {
   "cell_type": "code",
   "execution_count": null,
   "id": "8fab50f3-2da6-49bd-b0a2-7d62f52b1fc0",
   "metadata": {},
   "outputs": [],
   "source": [
    "table = Table.get(f\"{orgname}:firms\")\n",
    "table.delete()"
   ]
  }
 ],
 "metadata": {
  "kernelspec": {
   "display_name": "Python 3 (ipykernel)",
   "language": "python",
   "name": "python3"
  },
  "language_info": {
   "codemirror_mode": {
    "name": "ipython",
    "version": 3
   },
   "file_extension": ".py",
   "mimetype": "text/x-python",
   "name": "python",
   "nbconvert_exporter": "python",
   "pygments_lexer": "ipython3",
   "version": "3.8.10"
  }
 },
 "nbformat": 4,
 "nbformat_minor": 5
}

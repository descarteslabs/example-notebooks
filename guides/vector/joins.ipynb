{
 "cells": [
  {
   "cell_type": "markdown",
   "id": "63ee6ab9-98a3-46ce-a16a-4715381fb211",
   "metadata": {},
   "source": [
    "# Joining Two Vector Products"
   ]
  },
  {
   "cell_type": "code",
   "execution_count": null,
   "id": "197a1a20-fb17-4dd1-bdb2-42e9c0090e38",
   "metadata": {},
   "outputs": [],
   "source": [
    "import os\n",
    "\n",
    "os.environ[\"VECTOR_API_HOST\"] = \"http://127.0.0.1:8000\"\n",
    "import ipyleaflet\n",
    "import requests\n",
    "import json\n",
    "import pandas as pd\n",
    "import geopandas as gpd\n",
    "import descarteslabs as dl\n",
    "from client.descarteslabs.vector import Table, TableOptions, models, properties as p\n",
    "from shapely.geometry import Point\n",
    "from pydantic import Field"
   ]
  },
  {
   "cell_type": "markdown",
   "id": "a12133cb-7863-4901-97a4-76907bacfb17",
   "metadata": {},
   "source": [
    "## Downloading country boundaries"
   ]
  },
  {
   "cell_type": "markdown",
   "id": "d9e6a6b7-03a5-4bb9-8830-9feed8b4c41c",
   "metadata": {},
   "source": [
    "Download country boundarys as a GeoJSON FeatureCollection and convert the FeatureCollection to a GeoPandas dataframe."
   ]
  },
  {
   "cell_type": "code",
   "execution_count": null,
   "id": "d99079a6-4fd3-45db-9a6e-004d26866af7",
   "metadata": {},
   "outputs": [],
   "source": [
    "# download feature collection of country boundaries\n",
    "url = \"https://raw.githubusercontent.com/martynafford/natural-earth-geojson/master/110m/cultural/ne_110m_admin_0_countries.json\"\n",
    "response = requests.get(url)\n",
    "feature_collection = response.json()\n",
    "\n",
    "# convert feature collection to GeoDataFrame\n",
    "gdf = gpd.GeoDataFrame.from_features(feature_collection[\"features\"], crs=\"EPSG:4326\")"
   ]
  },
  {
   "cell_type": "markdown",
   "id": "cca6e87b-65d5-42fd-bb21-ba66ab3d01fe",
   "metadata": {},
   "source": [
    "Since two Vector products are required for joining, we are going to create two Vector products from the country boundary data. We will create one Vector product containing the country name, continent, and boundary (polygon). The other Vector product will contain country name, population estimate, GDP estimate, and country centroid (point)."
   ]
  },
  {
   "cell_type": "code",
   "execution_count": null,
   "id": "ba00f4ac-cb58-404e-a0b5-06cb861c3a27",
   "metadata": {},
   "outputs": [],
   "source": [
    "# create dataframe for the boundary table\n",
    "boundary_gdf = gdf.drop(\n",
    "    gdf.columns.difference([\"geometry\", \"NAME\", \"CONTINENT\"]),\n",
    "    axis=1,\n",
    ")\n",
    "\n",
    "# create dataframe for the population table\n",
    "population_gdf = gdf.drop(\n",
    "    gdf.columns.difference([\"geometry\", \"NAME\", \"POP_EST\", \"GDP_MD_EST\"]),\n",
    "    axis=1,\n",
    ")\n",
    "\n",
    "# convert country boundary to centroid for population table\n",
    "population_gdf[\"geometry\"] = population_gdf[\"geometry\"].apply(lambda x: x.centroid)"
   ]
  },
  {
   "cell_type": "markdown",
   "id": "6c2291b3-813b-4342-aeb0-5005cd042948",
   "metadata": {},
   "source": [
    "## Create the Vector products"
   ]
  },
  {
   "cell_type": "markdown",
   "id": "f83d94f7-e3d7-4b6f-81cb-e93538529868",
   "metadata": {},
   "source": [
    "Before creating the Vector products, ensure they do not already exist."
   ]
  },
  {
   "cell_type": "code",
   "execution_count": null,
   "id": "c7196db9-052b-46bf-bb3b-bf94bd52e67d",
   "metadata": {},
   "outputs": [],
   "source": [
    "# ensure tables don't already exist\n",
    "orgname = dl.auth.Auth().payload[\"org\"]\n",
    "\n",
    "table_names = [f\"{orgname}:country-boundary\", f\"{orgname}:country-population\"]\n",
    "\n",
    "for table_name in table_names:\n",
    "    try:\n",
    "        table = Table.get(table_name)\n",
    "        table.delete()\n",
    "    except:\n",
    "        print(f\"{table_name} does not exist!\")"
   ]
  },
  {
   "cell_type": "markdown",
   "id": "65ec0322-6f49-4b2c-a7fe-d9aeaa3005c6",
   "metadata": {},
   "source": [
    "Vector allows for creation of custom schemas for each Vector product. The geometry and UUID columns are inherited from the parent model, `models.MultiPolygonBaseModel` and `models.PointBaseModel`, and additional indices can be specified using pydantic Fields."
   ]
  },
  {
   "cell_type": "code",
   "execution_count": null,
   "id": "b05bf3e3-e914-4305-b8b8-9825dfe770b0",
   "metadata": {
    "tags": []
   },
   "outputs": [],
   "source": [
    "class BoundaryModel(models.MultiPolygonBaseModel):\n",
    "    NAME: str = Field(json_schema_extra={\"index\": True})\n",
    "    CONTINENT: str\n",
    "\n",
    "\n",
    "boundary_table = Table.create(\n",
    "    product_id=\"country-boundary\",\n",
    "    name=\"Country Boundaries\",\n",
    "    description=\"Not descriptive\",\n",
    "    owners=[\"org:descarteslabs\"],\n",
    "    model=BoundaryModel,\n",
    ")\n",
    "\n",
    "\n",
    "class PopulationModel(models.PointBaseModel):\n",
    "    NAME: str = Field(json_schema_extra={\"index\": True})\n",
    "    POP_EST: float\n",
    "    GDP_MD_EST: float\n",
    "\n",
    "\n",
    "population_table = Table.create(\n",
    "    product_id=\"country-population\",\n",
    "    name=\"Country Population\",\n",
    "    description=\"Country centroids with population estimates.\",\n",
    "    owners=[\"org:descarteslabs\"],\n",
    "    model=PopulationModel,\n",
    ")"
   ]
  },
  {
   "cell_type": "markdown",
   "id": "4e5e67f4-6746-4022-af76-5f6666dbd27a",
   "metadata": {},
   "source": [
    "Creating the product will return a `Table` object."
   ]
  },
  {
   "cell_type": "markdown",
   "id": "ad9fd51a-34cd-4e47-a689-fc830f9ddfd4",
   "metadata": {},
   "source": [
    "## Ingest data to the Vector products"
   ]
  },
  {
   "cell_type": "markdown",
   "id": "2972816f-6aee-4220-967f-16eb6d89792e",
   "metadata": {},
   "source": [
    "Features can be uploaded/ingested to the Vector product by invoking the method `Table.add()`. Adding features will return a `GeoPandas.GeoDataFrame` with UUID attribution."
   ]
  },
  {
   "cell_type": "code",
   "execution_count": null,
   "id": "ef261e39-f9bc-43db-8510-8a67972c4c33",
   "metadata": {},
   "outputs": [],
   "source": [
    "# add the boundary data to the boundary table\n",
    "boundary_gdf = boundary_table.add(boundary_gdf)\n",
    "\n",
    "# add the population data to the population table\n",
    "population_gdf = population_table.add(population_gdf)"
   ]
  },
  {
   "cell_type": "code",
   "execution_count": null,
   "id": "92179e0b-b179-4dc1-90f1-b12988d8d0c0",
   "metadata": {},
   "outputs": [],
   "source": [
    "population_gdf.head()"
   ]
  },
  {
   "cell_type": "code",
   "execution_count": null,
   "id": "682401e0-73be-46c3-bcde-3d3a7ad5988b",
   "metadata": {},
   "outputs": [],
   "source": [
    "boundary_gdf.head()"
   ]
  },
  {
   "cell_type": "markdown",
   "id": "c2b1050c-3696-4c89-9592-5730581410e4",
   "metadata": {},
   "source": [
    "## Joins"
   ]
  },
  {
   "cell_type": "markdown",
   "id": "4ccc15a3-d1f9-493c-9c04-c0f7052a507e",
   "metadata": {},
   "source": [
    "### TableOptions"
   ]
  },
  {
   "cell_type": "markdown",
   "id": "2072fabb-5e9e-42bf-9b0b-1b6adfe863af",
   "metadata": {},
   "source": [
    "Vector products can be filtered/queried by specifying a `property_filter`, `columns`, and `aoi`. In the case of Vector, `property_filter`, `columns`, and `aoi` are collectively referred to as `TableOptions`. Subsequent method calls on the `Table` object will honor these options.\n",
    "* `property_filter`: Property or column filter for the query. Default is no filter.\n",
    "* `columns`: A subset of columns to return with each query. Default is all columns will be returned.\n",
    "* `aoi`: Spatial filter for the query. Default is no spatial filter.\n",
    "\n",
    "\n",
    "Setting the `TableOptions` can be done during initialization of a `Table` object:"
   ]
  },
  {
   "cell_type": "code",
   "execution_count": null,
   "id": "fb83b715-ba6c-4943-ad52-1e416bf0d924",
   "metadata": {},
   "outputs": [],
   "source": [
    "# setting options on initialization\n",
    "table1 = Table.get(\n",
    "    f\"{orgname}:country-population\",\n",
    "    property_filter=p.NAME == \"Spain\",\n",
    "    columns=[\"geometry\", \"NAME\", \"POP_EST\"],\n",
    ")\n",
    "\n",
    "df1 = table1.collect()"
   ]
  },
  {
   "cell_type": "markdown",
   "id": "08b5ac5e-bfde-4b2e-a25a-fa118983e17c",
   "metadata": {},
   "source": [
    "updated after initialization:"
   ]
  },
  {
   "cell_type": "code",
   "execution_count": null,
   "id": "90129795-26e9-459b-99dc-ec62e5b5979d",
   "metadata": {},
   "outputs": [],
   "source": [
    "# updating options after initialization\n",
    "table2 = Table.get(f\"{orgname}:country-population\")\n",
    "table2.options.property_filter = p.NAME == \"Spain\"\n",
    "table2.options.columns = [\"geometry\", \"NAME\", \"POP_EST\"]\n",
    "\n",
    "df2 = table2.collect()\n",
    "\n",
    "df1 == df2"
   ]
  },
  {
   "cell_type": "markdown",
   "id": "cf6693f6-f8b7-4d2e-95bb-2732c873e44f",
   "metadata": {},
   "source": [
    "or overwritten entirely:"
   ]
  },
  {
   "cell_type": "code",
   "execution_count": null,
   "id": "f4bd172a-30b0-4383-b96a-62bcd7c4583a",
   "metadata": {},
   "outputs": [],
   "source": [
    "# overwriting the options by explicitly setting the TableOptions options in the collect method\n",
    "options = TableOptions(\n",
    "    f\"{orgname}:country-population\",\n",
    "    property_filter=p.NAME == \"Spain\",\n",
    "    columns=[\"geometry\", \"NAME\", \"POP_EST\"],\n",
    ")\n",
    "df3 = table1.collect(override_options=options)\n",
    "\n",
    "df1 == df3"
   ]
  },
  {
   "cell_type": "markdown",
   "id": "3dc52c6f-93a2-484c-a81d-b8f228416df2",
   "metadata": {},
   "source": [
    "The table options can be reset to default at any point using the `Table.reset_options()` method."
   ]
  },
  {
   "cell_type": "code",
   "execution_count": null,
   "id": "1d501c74-cd11-45d6-b835-e879b502f0d0",
   "metadata": {},
   "outputs": [],
   "source": [
    "print(table2.options.columns)\n",
    "table2.reset_options()\n",
    "print(table2.options.columns)"
   ]
  },
  {
   "cell_type": "markdown",
   "id": "13be52bf-e3d5-4ee1-a268-720252db9380",
   "metadata": {},
   "source": [
    "### Relational Joins"
   ]
  },
  {
   "cell_type": "markdown",
   "id": "9968e01b-d1d2-4916-acdd-d399f6776542",
   "metadata": {},
   "source": [
    "As seen from the previous examples, calling the `Table.collect()` method will execute a query based on specified `TableOptions`. Upon successful completion, a `GeoPandas.GeoDataFrame` or `Pandas.DataFrame` will be returned. If the `Table` was spatial (i.e. has a geometry column) and the columns option was not set or the geometry column was included in the columns option, a `GeoPandas.GeoDataFrame` will be returned; otherwise, a `Pandas.DataFrame` will be returned. The `DataFrame` will only contain data for the columns specified in the options. To perform a relational join between two Vector products use the `Table.join()` method, which accepts parameters specifying the joining `Table`, join type (`INNER`, `LEFT`, `RIGHT`), and the columns to join on (list of tuples). The `TableOptions` for both the input `Table` and the joining `Table` will be honored upon execution. In the example below, we are constructing an `INNER` join between the boundary table and the population table on the column `NAME`. We have also specified a property filter to only include results where the continent is North America. Since we have not specified a subset of columns for either table, all columns from both tables will be returned. The column naming convention for joined tables follows `PRODUCT_ID.COLUMN`."
   ]
  },
  {
   "cell_type": "code",
   "execution_count": null,
   "id": "dd3987e4-2aa1-429d-a347-7b2155d1747d",
   "metadata": {},
   "outputs": [],
   "source": [
    "# initialize the boundary table\n",
    "boundary_table = Table.get(\n",
    "    f\"{orgname}:country-boundary\", property_filter=p.CONTINENT == \"North America\"\n",
    ")\n",
    "\n",
    "# initialize the population table\n",
    "population_table = Table.get(f\"{orgname}:country-population\")\n",
    "\n",
    "# join the population table to the boundary table\n",
    "gdf = boundary_table.join(\n",
    "    join_table=population_table, join_type=\"INNER\", join_columns=[(\"NAME\", \"NAME\")]\n",
    ")\n",
    "\n",
    "gdf"
   ]
  },
  {
   "cell_type": "markdown",
   "id": "8b6dd91b-c88d-451b-9d40-9fc0ee3e19d6",
   "metadata": {},
   "source": [
    "In the example below, we are executing a `LEFT` join between the boundary table and the population table on the column `NAME`. We have also specified a property filter to on both the input and joining tables. Furthermore, we have specified a subset of columns to include in the joining table, thus only those columns will be joined. The column naming convention for joined tables follows `PRODUCT_ID.COLUMN`."
   ]
  },
  {
   "cell_type": "code",
   "execution_count": null,
   "id": "7bf9a0df-ffe0-4d3f-9ca8-6086c02e8a1f",
   "metadata": {},
   "outputs": [],
   "source": [
    "# initialize the boundary table\n",
    "boundary_table = Table.get(\n",
    "    f\"{orgname}:country-boundary\", property_filter=p.CONTINENT == \"North America\"\n",
    ")\n",
    "\n",
    "# initialize the population table\n",
    "population_table = Table.get(\n",
    "    f\"{orgname}:country-population\",\n",
    "    columns=[\"POP_EST\"],\n",
    "    property_filter=p.POP_EST > 10000000,\n",
    ")\n",
    "\n",
    "# join the population table to the boundary table\n",
    "gdf = boundary_table.join(\n",
    "    join_table=population_table, join_type=\"LEFT\", join_columns=[(\"NAME\", \"NAME\")]\n",
    ")\n",
    "\n",
    "gdf"
   ]
  },
  {
   "cell_type": "markdown",
   "id": "14b721f4-65cc-4999-9067-7f8c146870f1",
   "metadata": {},
   "source": [
    "### Spatial Joins"
   ]
  },
  {
   "cell_type": "markdown",
   "id": "15b9e088-42f6-45a2-97e3-0384f2607864",
   "metadata": {},
   "source": [
    "Similar to relational joins, two Vector products can be joined spatially using the `Table.sjoin()` method, which accepts parameters specifying the joining `Table` and the join type (`INTERSECTS`, `CONTAINS`, `OVERLAPS`, `WITHIN`). The `TableOptions` for both the input `Table` and the joining `Table` will be honored upon execution. In the example below, we are constructing an `INNER` join between the boundary table and the population table on the column `NAME`. We have also specified a property filter to only include results where the continent is North America. Since we have not specified a subset of columns for either table, all columns from both tables will be returned. The column naming convention for joined tables follows `PRODUCT_ID.COLUMN`."
   ]
  },
  {
   "cell_type": "code",
   "execution_count": null,
   "id": "60d2e307-ff80-4f1c-a630-f66436ccea29",
   "metadata": {},
   "outputs": [],
   "source": [
    "# initialize the boundary table\n",
    "boundary_table = Table.get(\n",
    "    f\"{orgname}:country-boundary\", property_filter=p.CONTINENT == \"North America\"\n",
    ")\n",
    "\n",
    "# initialize the population table\n",
    "population_table = Table.get(\n",
    "    f\"{orgname}:country-population\",\n",
    "    columns=[\"POP_EST\"],\n",
    ")\n",
    "\n",
    "# join the population table to the boundary table\n",
    "gdf = boundary_table.sjoin(join_table=population_table, join_type=\"CONTAINS\")\n",
    "\n",
    "gdf"
   ]
  },
  {
   "cell_type": "markdown",
   "id": "3c5de70d-cb5f-4898-8bb9-c385d9d55b80",
   "metadata": {},
   "source": [
    "In the example above, we are executing a spatial join between the boundary table and the population table where the boundary table contains a point from the population table. We have also specified a property filter to on the input tables. Furthermore, we have specified a subset of columns to include in the joining table, thus only those columns will be joined. The column naming convention for joined tables follows `PRODUCT_ID.COLUMN`."
   ]
  },
  {
   "cell_type": "markdown",
   "id": "f0e93605-86ba-410e-ad18-5a5c67c652eb",
   "metadata": {
    "tags": []
   },
   "source": [
    "## Deleting a Vector product"
   ]
  },
  {
   "cell_type": "markdown",
   "id": "5fe74366-3db1-4300-89f9-07a2acae83ca",
   "metadata": {},
   "source": [
    "To delete a Vector product, simply invoke the `Table.delete()` method."
   ]
  },
  {
   "cell_type": "code",
   "execution_count": null,
   "id": "2c6d5fb0-622b-4a64-99cd-4cac2a3ef862",
   "metadata": {},
   "outputs": [],
   "source": [
    "orgname = dl.auth.Auth().payload[\"org\"]\n",
    "\n",
    "table_names = [f\"{orgname}:country-boundary\", f\"{orgname}:country-population\"]\n",
    "\n",
    "for table_name in table_names:\n",
    "    try:\n",
    "        table = Table.get(table_name)\n",
    "        table.delete()\n",
    "    except:\n",
    "        print(f\"{table_name} does not exist!\")"
   ]
  }
 ],
 "metadata": {
  "kernelspec": {
   "display_name": "Python 3 (ipykernel)",
   "language": "python",
   "name": "python3"
  },
  "language_info": {
   "codemirror_mode": {
    "name": "ipython",
    "version": 3
   },
   "file_extension": ".py",
   "mimetype": "text/x-python",
   "name": "python",
   "nbconvert_exporter": "python",
   "pygments_lexer": "ipython3",
   "version": "3.8.10"
  }
 },
 "nbformat": 4,
 "nbformat_minor": 5
}

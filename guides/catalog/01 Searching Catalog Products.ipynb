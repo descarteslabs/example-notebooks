{
 "cells": [
  {
   "cell_type": "markdown",
   "id": "bd921a49-eb62-4775-9fb8-69bb2861d9dc",
   "metadata": {},
   "source": [
    "# Searching the Catalog\n",
    "All objects support the same search interface. `Searches` work by creating a query builder (class `Search`), which can be used in a fluent programming style to refine the search prior to execution by applying filtering, sorting, and limiting of result sets. Normally `Search` objects are created using class methods on one of the primary object types, e.g. `Product.search()`.\n",
    "\n",
    "The searches are then executed by any of several methods: calling the `count()` method to obtain a count of matching objects, using the `Search` object in an iterating context such as a for loop or a list comprehension to yield each matching object in turn, or calling the `collect()` method which will return a list-like collection object (e.g. `ProductCollection`, `BandCollection`, or `ImageCollection`).\n",
    "\n",
    "`Search` object methods never mutate the original object, but instead return modified copies. Thus Search objects can be reused for both further modification and repeated executions.\n",
    "\n",
    "Let’s look at two of the most commonly searched for types of objects: products and images."
   ]
  },
  {
   "cell_type": "markdown",
   "id": "b467fbcb-1e3d-4f9e-ac57-e410b9e002fb",
   "metadata": {},
   "source": [
    "## Finding products"
   ]
  },
  {
   "cell_type": "markdown",
   "id": "ba67eb7c-36cd-4bff-b59e-436a9d17d2d2",
   "metadata": {},
   "source": [
    "### Filtering, sorting, and limiting\n",
    "Filtering is achieved through the use of the `Properties` class which allows you to express logical and comparison operations on attributes of an object such as a product or image. Multiple filters are combined as if by `AND`. Please see the API documentation for further details; the uses demonstrated below should be readily apparent. A general-use instance of this class can be imported from `descarteslabs.catalog.properties`.\n",
    "\n",
    "Sorting by an attribute of an object in either ascending or descending order is supported for many of the attributes of each object type.\n",
    "\n",
    "API documentation should be consulted to determine which properties support filtering and/or sorting. This is noted on each attribute’s specific documentation, e.g. `acquired`.\n",
    "\n",
    "Limiting allows you to restrict search results to at most a specified number of objects.\n",
    "\n",
    "`Product.search()` is the entry point for searching products. It returns a query builder that you can use to refine your search and can iterate over to retrieve search results.\n",
    "\n",
    "Count all products with some data before 2023 using `filter()`:"
   ]
  },
  {
   "cell_type": "code",
   "execution_count": null,
   "id": "13a9b0cb-9c12-4c36-b4dc-f82e9941cff8",
   "metadata": {},
   "outputs": [],
   "source": [
    "from descarteslabs.catalog import Product, properties as p\n",
    "\n",
    "search = Product.search().filter(p.start_datetime < \"2023-01-01\")\n",
    "search.count()"
   ]
  },
  {
   "cell_type": "markdown",
   "id": "8da3bd7a-36de-4ac5-87c7-ce220964b18b",
   "metadata": {},
   "source": [
    "You can apply multiple filters. To restrict this search to products with data before 2023 and after 2000:"
   ]
  },
  {
   "cell_type": "code",
   "execution_count": null,
   "id": "15c80c17-46c9-4f83-a584-6ffc8c6a8e8d",
   "metadata": {},
   "outputs": [],
   "source": [
    "search = search.filter(p.end_datetime > \"2000-01-01\")\n",
    "search.count()"
   ]
  },
  {
   "cell_type": "markdown",
   "id": "10cb7f9e-eed9-4df4-a770-51e5ca204b54",
   "metadata": {},
   "source": [
    "Of these, get the 3 products with the oldest data, using `sort()` and `limit()`. The search is not executed until you start retrieving results by iterating over it:"
   ]
  },
  {
   "cell_type": "code",
   "execution_count": null,
   "id": "94155a9c-dd49-449e-8937-8d85ea880266",
   "metadata": {},
   "outputs": [],
   "source": [
    "oldest_search = search.sort(\"start_datetime\").limit(3)\n",
    "for result in oldest_search:\n",
    "    print(result.id)"
   ]
  },
  {
   "cell_type": "markdown",
   "id": "99c6dc37-1e1f-496b-b724-744d7880fea0",
   "metadata": {},
   "source": [
    "Or you can execute the search to produce a `ProductCollection` object, which works like a list with lots of additional features such as filtering, grouping, and attribute extraction:"
   ]
  },
  {
   "cell_type": "code",
   "execution_count": null,
   "id": "dc8c314f-0628-4e43-9e7c-107eebfe409a",
   "metadata": {},
   "outputs": [],
   "source": [
    "products = search.limit(5).collect()\n",
    "print(products.each.id)"
   ]
  },
  {
   "cell_type": "markdown",
   "id": "b6055762-3d23-4c0f-a330-18292e4e8e5b",
   "metadata": {},
   "source": [
    "All attributes are documented in the [Product API reference](https://docs.descarteslabs.com/descarteslabs/catalog/docs/product.html#descarteslabs.catalog.Product), which also spells out which ones can be used to filter or sort.\n",
    "\n"
   ]
  },
  {
   "cell_type": "markdown",
   "id": "6161e85c-2ee2-4882-9bb1-ec9b644ab4a6",
   "metadata": {},
   "source": [
    "### Text search\n",
    "Add text search to the mix using `find_text()`. This finds all products with “landsat” in the name or description:"
   ]
  },
  {
   "cell_type": "code",
   "execution_count": null,
   "id": "583669be-3f88-427d-910b-1c3e97ab9284",
   "metadata": {},
   "outputs": [],
   "source": [
    "landsat_search = search.find_text(\"landsat\").limit(None)\n",
    "for product in landsat_search:\n",
    "    print(product)"
   ]
  },
  {
   "cell_type": "markdown",
   "id": "82aab414-37a6-4dbc-abb6-2bb70c636d1d",
   "metadata": {},
   "source": [
    "### Lookup by id and object relationships\n",
    "If you know a product’s id, look it up directly with `Product.get()`:"
   ]
  },
  {
   "cell_type": "code",
   "execution_count": null,
   "id": "1ecd11fe-8d97-472a-9206-f359306d3862",
   "metadata": {},
   "outputs": [],
   "source": [
    "landsat8_collection1 = Product.get(\"usgs:landsat:oli-tirs:c2:l2:v0\")\n",
    "landsat8_collection1"
   ]
  },
  {
   "cell_type": "markdown",
   "id": "c9e77674-d6c8-47e5-b97b-ab115c86b7d9",
   "metadata": {},
   "source": [
    "Wherever there are relationships between objects expect methods such as `Product.bands()` to find related objects. This shows the first four bands of the Landsat 8 product we looked up:"
   ]
  },
  {
   "cell_type": "code",
   "execution_count": null,
   "id": "b363c4ad-6317-4bc9-bb4b-e1411b7c312d",
   "metadata": {},
   "outputs": [],
   "source": [
    "for band in landsat8_collection1.bands().limit(5):\n",
    "    print(band)"
   ]
  },
  {
   "cell_type": "markdown",
   "id": "b8737166-a3b4-4f04-9d01-5f10c65ca983",
   "metadata": {},
   "source": [
    "`Product.bands()` returns a search object that can be further refined. This shows all class bands of this Landsat 8 product, sorted by name:"
   ]
  },
  {
   "cell_type": "code",
   "execution_count": null,
   "id": "143e5543-fa04-42a0-bba4-5a408a22175c",
   "metadata": {},
   "outputs": [],
   "source": [
    "from descarteslabs.catalog import BandType\n",
    "\n",
    "for band in landsat8_collection1.bands().filter(p.type == BandType.CLASS).sort(\"name\"):\n",
    "    print(band)"
   ]
  },
  {
   "cell_type": "markdown",
   "id": "317c7999-2f53-466d-8ed0-8a80a9f3537f",
   "metadata": {},
   "source": [
    "In a similar fashion `Product.images()` returns a search object for images belonging to the product, as detailed in the next section.\n",
    "\n"
   ]
  }
 ],
 "metadata": {
  "kernelspec": {
   "display_name": "Python 3 (ipykernel)",
   "language": "python",
   "name": "python3"
  },
  "language_info": {
   "codemirror_mode": {
    "name": "ipython",
    "version": 3
   },
   "file_extension": ".py",
   "mimetype": "text/x-python",
   "name": "python",
   "nbconvert_exporter": "python",
   "pygments_lexer": "ipython3",
   "version": "3.8.16"
  }
 },
 "nbformat": 4,
 "nbformat_minor": 5
}

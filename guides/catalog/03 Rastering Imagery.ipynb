{
 "cells": [
  {
   "cell_type": "markdown",
   "id": "15301256-e231-4618-a489-354abe2d7ceb",
   "metadata": {},
   "source": [
    "## Rastering imagery\n",
    "`Image` and `ImageCollection` support a variety of methods that can be used to retrieve the image data associated with an image, including all manner of transformations such as coordinate systems, resolution, compositing, and scaling of pixel brightness. These operations can result in either a numpy ndarray of image data, or a GeoTIFF file on disk containing the image data."
   ]
  },
  {
   "cell_type": "markdown",
   "id": "901afb95-fb33-45b6-a05d-d60e84a0d7df",
   "metadata": {},
   "source": [
    "### Rastering images\n",
    "To support the rastering of images, each image has a `geocontext` attribute which is a `GeoContext` instance describing the geospatial attributes of the image. All the rastering methods use this geocontext by default, but will accept another geocontext if desired. The resolution parameter can be used to change the resolution of the geocontext if desired.\n",
    "\n",
    "`Image` supports two methods for rastering, `ndarray()` and `download()`. A variety of parameters used to control the rastering are described in the documentation for those methods.\n",
    "\n",
    "With `ndarray()` the resulting data is returned as a 3-dimensional numpy array, with the first dimension representing the different bands selected (by default, this can be altered with the bands_axis parameter)."
   ]
  },
  {
   "cell_type": "code",
   "execution_count": null,
   "id": "f6c58599-e48c-45e9-8c24-0c0bd149f360",
   "metadata": {},
   "outputs": [],
   "source": [
    "from descarteslabs.catalog import Image\n",
    "from descarteslabs.utils import display\n",
    "\n",
    "image = Image.get(\n",
    "    \"usgs:landsat:oli-tirs:c2:l2:v0:LC08_L2SP_197031_20230106_20230110_02_T1\"\n",
    ")\n",
    "data = image.ndarray(\"red green blue\", resolution=120)\n",
    "(data.shape, data.dtype)"
   ]
  },
  {
   "cell_type": "code",
   "execution_count": null,
   "id": "dc7a1d8f-e857-42cf-b5de-d22044941024",
   "metadata": {},
   "outputs": [],
   "source": [
    "display(data, title=image.id)"
   ]
  },
  {
   "cell_type": "markdown",
   "id": "0453a596-4528-496d-99ea-2ccfba9311d2",
   "metadata": {},
   "source": [
    "The ordering of the axes within the ndarray are `(band, y, x)` or `(band, row, column)`.\n",
    "\n",
    "With `download()` the resulting data is stored in the local filesystem and the name of the file is returned."
   ]
  },
  {
   "cell_type": "code",
   "execution_count": null,
   "id": "c6dcbac1-f3b0-49d8-8827-b1fef3250578",
   "metadata": {},
   "outputs": [],
   "source": [
    "import os.path\n",
    "from descarteslabs.catalog import Image\n",
    "\n",
    "image = Image.get(\n",
    "    \"usgs:landsat:oli-tirs:c2:l2:v0:LC08_L2SP_197031_20230106_20230110_02_T1\"\n",
    ")\n",
    "file = image.download(\"red green blue\", resolution=120)\n",
    "os.path.exists(file)"
   ]
  },
  {
   "cell_type": "code",
   "execution_count": null,
   "id": "8e48c7ab-a454-4daf-b525-535b4399c0ce",
   "metadata": {},
   "outputs": [],
   "source": [
    "os.remove(file)"
   ]
  },
  {
   "cell_type": "markdown",
   "id": "ead46493-03ec-48eb-874b-eba03fa3fd4a",
   "metadata": {},
   "source": [
    "## Rastering image collections\n",
    "`ImageCollection` supports several methods for rastering. A variety of parameters used to control the rastering are described in the documentation for ech of these methods.\n",
    "\n",
    "`stack()` can be used to raster each of the images in the collection and then stack the resulting 3D arrays into a single 4-dimensional array, with the different images along the first axis in the order they appear in the ImageCollection (i.e. the axes are (image, band, y, x)). Note that rastering the images is performed in parallel, so this is significantly faster than rastering each image in the collection in a loop."
   ]
  },
  {
   "cell_type": "code",
   "execution_count": null,
   "id": "82302c9d-a6d2-488d-91f7-4da19644fa67",
   "metadata": {},
   "outputs": [],
   "source": [
    "from descarteslabs.catalog import Product, properties as p\n",
    "\n",
    "geometry = {\n",
    "    \"type\": \"Polygon\",\n",
    "    \"coordinates\": [\n",
    "        [\n",
    "            [2.915496826171875, 42.044193618165224],\n",
    "            [2.838592529296875, 41.92475971933975],\n",
    "            [3.043212890625, 41.929868314485795],\n",
    "            [2.915496826171875, 42.044193618165224],\n",
    "        ]\n",
    "    ],\n",
    "}\n",
    "\n",
    "search = Product.get(\"usgs:landsat:oli-tirs:c2:l2:v0\").images()\n",
    "search = search.intersects(geometry).filter(\"2021-01-01\" <= p.acquired < \"2022-01-01\")\n",
    "search = search.filter(p.cloud_fraction <= 0.2)\n",
    "search = search.sort(\"acquired\")\n",
    "images = search.collect()\n",
    "data = images.stack(\"red green blue\", resolution=120)\n",
    "data.shape"
   ]
  },
  {
   "cell_type": "code",
   "execution_count": null,
   "id": "bbb35e87-a8ec-4424-a972-e3970bdfc5d9",
   "metadata": {},
   "outputs": [],
   "source": [
    "# Display the first few\n",
    "display(*data[0:4], title=list(images[4:8].each.name), ncols=2)"
   ]
  },
  {
   "cell_type": "markdown",
   "id": "c2a2b22f-076a-4cd3-9053-e2a88cecc59c",
   "metadata": {},
   "source": [
    "`mosaic(`) can be used to composite the images to form a single image, resulting in a 3D array. A mosaic composite uses, for each pixel location, the pixel value from the last image in the collection containing a valid (unmasked) pixel value at that location. Since individual images may not cover the same pixels this operation is typically used to combine overlapping images to obtain a single complete image. If the image collection is sorted by increasing acquisition date, this means the most recent image wins. You can use the `sort()` method on the search object to alter the ordering of the images in the collection, or the `sort()` method on the ImageCollection itself to alter the ordering of the images and hence the results of the mosaic operation."
   ]
  },
  {
   "cell_type": "code",
   "execution_count": null,
   "id": "f7d6a7ec-f051-4a7f-9358-55e35bb8e238",
   "metadata": {},
   "outputs": [],
   "source": [
    "data = images.mosaic(\"red green blue\", resolution=120)\n",
    "data.shape"
   ]
  },
  {
   "cell_type": "code",
   "execution_count": null,
   "id": "734f35ea-a4e4-45f0-bd65-7b8997da63d8",
   "metadata": {},
   "outputs": [],
   "source": [
    "display(data, title=\"Mosaic\")"
   ]
  },
  {
   "cell_type": "markdown",
   "id": "90eab1d9-f7fe-413b-9856-1da9665a8a9e",
   "metadata": {},
   "source": [
    "See the [Compositing Imagery with Catalog](https://docs.descarteslabs.com/examples-gallery/plot_images_mosaic.html) example for a more in-depth discussion of compositing by mosaic. Other kinds of compositing are possible but are not directly supported in the rastering engine but are easily achieved using the NumPy package, see the Composite Multi-Product Imagery example for the use of a median composite.\n",
    "\n",
    "Stacking and compositing can be combined using the `stack()` method with the flatten parameter. This uses the `groupby()` method to form a partitioning of the image list into multiple image lists of 1 or more images. Each sub-list is rastered as a composite (mosaic), and the multiple resulting mosaics are stacked. Note in this case that the first dimension of the resulting 4D array is equal to the number of different groups resulting from the flatten operation, and not the number of images in the original ImageCollection.\n",
    "\n",
    "In this example, we will group the images by the acquisition month. As there is at least one image each month, we end up with twelve partitioned image lists. Thus the resulting stack ends up with twelve mosaics. Note that the flatten operation preserves the original ordering of images within each group, so that if the original image collection is sorted by increasing acquired date, each mosaic will again represent “most recent image wins”."
   ]
  },
  {
   "cell_type": "code",
   "execution_count": null,
   "id": "2caf5847-bd2d-40d9-a5e2-84476f2c4d7b",
   "metadata": {},
   "outputs": [],
   "source": [
    "for month, sublist in images.groupby(lambda i: i.acquired.month):\n",
    "    print(f\"Month {month:02} Images {sublist}\")"
   ]
  },
  {
   "cell_type": "code",
   "execution_count": null,
   "id": "3f812200-1c23-44d5-876b-2dc151a7b6e8",
   "metadata": {},
   "outputs": [],
   "source": [
    "data = images.stack(\n",
    "    \"red green blue\", resolution=120, flatten=lambda i: i.acquired.month\n",
    ")\n",
    "data.shape"
   ]
  },
  {
   "cell_type": "code",
   "execution_count": null,
   "id": "0afc0d46-3467-4789-8469-111ed317815d",
   "metadata": {},
   "outputs": [],
   "source": [
    "display(*data, title=[f\"{m+1:02d}/2021\" for m in range(data.shape[0])], ncols=2)"
   ]
  },
  {
   "cell_type": "markdown",
   "id": "07ce783c-c9e4-442d-8823-750306abdf2a",
   "metadata": {},
   "source": [
    "ImageCollections support two different forms of download. The `download()` method works like the stack method, creating one geotiff file for each image in the image collection (but all using the same geocontext), while the `download_mosaic()` method composites the images in the ImageCollection just like the `mosaic()` method but results in a single geotiff file rather than an ndarray. The names of the resulting files are generated by default but can also be set explicitly. See the [API documentation](https://docs.descarteslabs.com/descarteslabs/catalog/docs/image.html#descarteslabs.catalog.ImageCollection) for further information."
   ]
  },
  {
   "cell_type": "markdown",
   "id": "d3fb0f61-603c-481d-830b-14922a89cdf4",
   "metadata": {},
   "source": [
    "## Common Rastering parameters\n",
    "Many of the rastering methods accept a common set of parameters including `geocontext, resolution, processing_level, scaling, data_type` and `progress`. These parameters are treated consistently across the different methods, and merit some explanation and examples."
   ]
  },
  {
   "cell_type": "markdown",
   "id": "4fb02822-ee46-4e0a-aee7-e7f0cab6543c",
   "metadata": {},
   "source": [
    "### `geocontext` and `resolution`\n",
    "`Image` and `ImageCollection` objects have a default geocontext associated with them. The `Image.geocontext` attribute represents the geometry of the image, while the `ImageCollection.geocontext` attribute represents the geocontext used in the search that generated the collection, if any. If the geocontext parameter to a rastering method is not specified, this corresponding geocontext of the image or collection will be used by default. The resolution parameter can be used to override the resolution of the geocontext (whether defaulted or explicitly provided)."
   ]
  },
  {
   "cell_type": "markdown",
   "id": "b2f2b76f-31e4-4ca0-8037-64b437971497",
   "metadata": {},
   "source": [
    "### `processing_level`\n",
    "The `processing_level` parameter allows the selection of different processing levels (e.g. `toa_reflectance` or `surface_reflectance`) supported by a product and its bands. When specifying a non-default processing level, the resulting data will often have a different data type and scaling than the raw image data. You must consult the `processing_levels` attribute to determine what processing levels a band supports."
   ]
  },
  {
   "cell_type": "markdown",
   "id": "7fcb3d19-4c4e-40da-9fea-8408ef998230",
   "metadata": {},
   "source": [
    "### scaling and data_type\n",
    "When band raster data is retrieved, it can be scaled and converted to a variety of data types as required by the user. When neither of these parameters are provided, the original band data (or the selected `processing_level`) is copied into the result without change, while the resulting data type is automatically selected based on the data types of the bands in order to hold all the data without loss of precision or range.\n",
    "\n",
    "However, the user may specify several different alternative treatments of the band data. One of four automated scaling modes can be specified which direct the operation to rescale the pixel values in each band according to either the range of data in the image or ranges defined in the band attributes and targeting an appropriate output data type.\n",
    "\n",
    "The raw mode is equivalent to no scaling: the data is preserved as is (after applying any `processing_level`), and the output data type is selected to hold all the band data without loss of precision or range."
   ]
  }
 ],
 "metadata": {
  "kernelspec": {
   "display_name": "Python 3 (ipykernel)",
   "language": "python",
   "name": "python3"
  },
  "language_info": {
   "codemirror_mode": {
    "name": "ipython",
    "version": 3
   },
   "file_extension": ".py",
   "mimetype": "text/x-python",
   "name": "python",
   "nbconvert_exporter": "python",
   "pygments_lexer": "ipython3",
   "version": "3.8.16"
  }
 },
 "nbformat": 4,
 "nbformat_minor": 5
}

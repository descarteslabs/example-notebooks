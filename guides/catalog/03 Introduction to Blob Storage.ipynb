{
 "cells": [
  {
   "cell_type": "markdown",
   "id": "2a02975c",
   "metadata": {},
   "source": [
    "# Storing and Accessing objects via Descartes Labs Storage\n",
    "## Blob Demo\n",
    "\n",
    "The Storage module provides users with the ability to upload, store, and access a wide variety of objects in the Descartes Labs infrastructure. Object type is intentionally arbitrary to enable users to store and access things like compute logs, model weight parameters, ...etc. \n",
    "\n",
    "Storage objects are accessible by an associated `Blob` object. These `Blob`s are queryable by name, geospatial location (E.g., points, polygons,...etc.), and assigned tags. `Blob`s  can be downloaded to local files or retrieved directly as Python `bytes` objects. Storage supports the same sharing mechanisms as Catalog products and includes `owners`, `writers`, and `readers` attributes.\n",
    "\n",
    "**Improvement notes coming:**\n",
    " * Interoperability with Explorer\n",
    " * Access Batch Compute results via Storage\n",
    " * Expiration dates for Storage objects"
   ]
  },
  {
   "cell_type": "code",
   "execution_count": null,
   "id": "d1d5b4fa",
   "metadata": {
    "tags": []
   },
   "outputs": [],
   "source": [
    "import json, os\n",
    "\n",
    "import descarteslabs as dl\n",
    "from descarteslabs.catalog import Blob, properties as p"
   ]
  },
  {
   "cell_type": "markdown",
   "id": "673708fb",
   "metadata": {},
   "source": [
    "### Store JSON information as Blob"
   ]
  },
  {
   "cell_type": "markdown",
   "id": "d3909930",
   "metadata": {},
   "source": [
    "First let's create a new `Blob` with a JSON object for data, and an associated geometry. For example, let's say that we have the geometry for a field of hops in Yakima Vally, WA and want to connect it with some (very brief) information the crop. "
   ]
  },
  {
   "cell_type": "code",
   "execution_count": null,
   "id": "b0b41cb1",
   "metadata": {
    "tags": []
   },
   "outputs": [],
   "source": [
    "# JSON of crop info\n",
    "crop_info = {\n",
    "    \"crop\": \"hops\",\n",
    "    \"acreage\": 450,\n",
    "}\n",
    "# Geometry for the field\n",
    "field_geom = {\n",
    "    \"type\": \"Polygon\",\n",
    "    \"coordinates\": [\n",
    "        [\n",
    "            [-120.4023, 46.551],\n",
    "            [-120.3859, 46.551],\n",
    "            [-120.3859, 46.5534],\n",
    "            [-120.4023, 46.5534],\n",
    "        ]\n",
    "    ],\n",
    "}"
   ]
  },
  {
   "cell_type": "markdown",
   "id": "87a53984",
   "metadata": {},
   "source": [
    "As with creating an `Image` in the Catalog module, you construct an unsaved `Blob` with whatever attributes you desire, and then use either the `upload()` method to upload a file from the local filesystem, or the `upload_data()` method to upload arbitrary python data. All data is handled as bytes internally; strings will be automatically encoded using UTF-8, anything else should be serialized to byte or string data. Upon completion of the upload, the `Blob` object will have all the recorded attributes populated.\n",
    "\n",
    "*Note* `Blob` names must be _unique to your organization's namespace_, for this demo we will include a unique string as to avoid organization conflicts."
   ]
  },
  {
   "cell_type": "code",
   "execution_count": null,
   "id": "ffa6a062",
   "metadata": {
    "tags": []
   },
   "outputs": [],
   "source": [
    "from uuid import uuid4\n",
    "\n",
    "blob = Blob(\n",
    "    name=f\"hop_field_info_demo-{uuid4()}\",\n",
    "    geometry=field_geom,\n",
    "    tags=[\"hops_project\", \"storage_demo\"],\n",
    ")\n",
    "blob.upload_data(json.dumps(crop_info))\n",
    "blob"
   ]
  },
  {
   "cell_type": "markdown",
   "id": "db191ed4",
   "metadata": {},
   "source": [
    "The resulting saved Blob's has several attributes including those identified below. Note that the `id` is the concatenation of the `storage_type`, the `namespace`, and the `name`. (Only) The name may contain internal '/' characters.\n",
    "\n",
    "If we inspect the `ID` field we can break the namespace down further:\n",
    "* `data/` is the object type\n",
    "* `your-organization-name:your-user-hash/` is your organization's namespace\n",
    "* `hop_field_demo-XXXXX` is the `Blob` object's unique name"
   ]
  },
  {
   "cell_type": "code",
   "execution_count": null,
   "id": "f2a608c8",
   "metadata": {
    "tags": []
   },
   "outputs": [],
   "source": [
    "print(\"Blob ID:\", blob.id)\n",
    "print(\"Blob size:\", blob.size_bytes)\n",
    "print(\"Blob geometry: \", blob.geometry)\n",
    "print(\"Blob assigned tags: \", blob.tags)"
   ]
  },
  {
   "cell_type": "markdown",
   "id": "6f24c28b",
   "metadata": {},
   "source": [
    "To see the remaining attributes available, run the cell below"
   ]
  },
  {
   "cell_type": "raw",
   "id": "5c9bb4a5-5994-4a39-8a0e-4c32d13c8795",
   "metadata": {},
   "source": [
    "for k, v in blob._attributes.items():\n",
    "    print(f\"{k}: {v}\")"
   ]
  },
  {
   "cell_type": "markdown",
   "id": "5493b4f7",
   "metadata": {},
   "source": [
    "### Storing a file\n",
    "\n",
    "If we want to store a file in Storage, let's say a derived GeoTIFF of the NIR and red bands for a Sentinel-2 L2A image, we can create our `Blob` object with the desired attributes and use the `.upload()` method to upload directly from a local file."
   ]
  },
  {
   "cell_type": "code",
   "execution_count": null,
   "id": "2b4715b0",
   "metadata": {
    "tags": []
   },
   "outputs": [],
   "source": [
    "file_blob = Blob(\n",
    "    namespace=f\"hop_yields_project-{uuid4()}\",\n",
    "    name=f\"sentinel-2_image_demo-{uuid4()}\",\n",
    "    readers=[\"group:hop_researchers\"],\n",
    "    tags=[\n",
    "        \"storage_demo\"\n",
    "    ],  # Even if no tags are assigned, an empty list should be passed here\n",
    ")\n",
    "file_blob.upload(\"data/rgb.tif\")\n",
    "file_blob"
   ]
  },
  {
   "cell_type": "code",
   "execution_count": null,
   "id": "6e667f9a",
   "metadata": {
    "tags": []
   },
   "outputs": [],
   "source": [
    "# Get your organization ID\n",
    "org = dl.auth.Auth().payload[\"org\"]\n",
    "file_blob = Blob(\n",
    "    namespace=\"storage_demo\",\n",
    "    name=\"yakima_valley\",\n",
    "    readers=[f\"org:{org}\"],\n",
    "    tags=[\n",
    "        \"storage_demo\"\n",
    "    ],  # Even if no tags are assigned, an empty list should be passed here\n",
    ")\n",
    "file_blob.upload(\"data/yakima.geojson\")\n",
    "file_blob"
   ]
  },
  {
   "cell_type": "markdown",
   "id": "af66593e",
   "metadata": {},
   "source": [
    "Also note, for this upload we set a specific `namespace` to store this object as part of the \"hope_yields_project\" within our organization. The previous blob received the default `namespace`, which is the owner's org. A specified `namespace` will automatically be prefixed with the user's `org` to ensure that while users within an org can work in the same namespaces, there can be no collisions between users in different orgs.\n",
    "\n",
    "Another attribute that may be useful is the href, to see where in the DL managed S3 bucket or region this `Blob` is stored"
   ]
  },
  {
   "cell_type": "code",
   "execution_count": null,
   "id": "b6b954af",
   "metadata": {
    "tags": []
   },
   "outputs": [],
   "source": [
    "print(\"S3 HREF for Blob\")\n",
    "file_blob.href"
   ]
  },
  {
   "cell_type": "code",
   "execution_count": null,
   "id": "7a4e8559-7620-4cde-9fc9-9b7ce214215c",
   "metadata": {
    "tags": []
   },
   "outputs": [],
   "source": [
    "for k, v in file_blob._attributes.items():\n",
    "    print(f\"{k}: {v}\")"
   ]
  },
  {
   "cell_type": "markdown",
   "id": "44b4870c",
   "metadata": {},
   "source": [
    "### Searching across storage objects\n",
    "Catalog search methods can be performed across your storage objects, including geospatial searches."
   ]
  },
  {
   "cell_type": "raw",
   "id": "2e9aadd2-52ab-4de3-b7f2-3da21c6edf22",
   "metadata": {
    "tags": []
   },
   "source": [
    "# List all Blob objects in your storage\n",
    "for b in Blob.search():\n",
    "    print(b.id)"
   ]
  },
  {
   "cell_type": "code",
   "execution_count": null,
   "id": "ab3e361c",
   "metadata": {
    "tags": []
   },
   "outputs": [],
   "source": [
    "# Geospatial searches by intersection\n",
    "## Intersect particular coordinate\n",
    "print(\"Point Intersection:\")\n",
    "print(\n",
    "    [\n",
    "        b.id\n",
    "        for b in Blob.search().intersects(\n",
    "            {\"type\": \"Point\", \"coordinates\": [-120.40, 46.552]}\n",
    "        )\n",
    "    ]\n",
    ")\n",
    "print(\"Polygon Intersectsion:\")\n",
    "## Intersecting geometry object\n",
    "print([b.id for b in Blob.search().intersects(field_geom)])\n",
    "print(\"Tag Filter:\")\n",
    "# Filter by tags\n",
    "print([b.id for b in Blob.search().filter(p.tags == \"storage_demo\")])\n",
    "print(\"Namespace Filter:\")\n",
    "# Filter by namespace\n",
    "# Get your org for namespace\n",
    "org = dl.auth.Auth().payload[\"org\"]\n",
    "print([b.id for b in Blob.search().filter(p.namespace == f\"{org}:hop_yields_project\")])"
   ]
  },
  {
   "cell_type": "markdown",
   "id": "f9cb66e5",
   "metadata": {},
   "source": [
    "The `name` field allows embedded \"/\" characters, allowing you to structure your blobs as if in a file system. As with typical cloud storage systems, there's no real directories, but the consistent use of the \"/\" delimiter will allow powerful prefix searches. First we'll create a few more interesting blobs:"
   ]
  },
  {
   "cell_type": "code",
   "execution_count": null,
   "id": "33e70e44",
   "metadata": {
    "tags": []
   },
   "outputs": [],
   "source": [
    "blob3 = Blob(name=f\"foo/bar-{uuid4()}\", tags=[\"storage_demo\"])\n",
    "blob3.upload_data(\"this is a test\")\n",
    "blob4 = Blob(name=f\"foo/baz-{uuid4()}\", tags=[\"storage_demo\"])\n",
    "blob4.upload_data(\"this is not a test\")"
   ]
  },
  {
   "cell_type": "markdown",
   "id": "7d090a1a",
   "metadata": {},
   "source": [
    "Now we can use a prefix filter to pick out these new blobs:"
   ]
  },
  {
   "cell_type": "code",
   "execution_count": null,
   "id": "40d9ed6c",
   "metadata": {
    "tags": []
   },
   "outputs": [],
   "source": [
    "for b in Blob.search().filter(p.name.prefix(\"foo/\")):\n",
    "    print(b.id)"
   ]
  },
  {
   "cell_type": "markdown",
   "id": "32135bae",
   "metadata": {},
   "source": [
    "### Retrieving data from Storage\n",
    "The `Blob` data may be retrieved, either by downloading directly to a local file or some other file-like object (e.g. an `io.IOBase` object), or directly into memory. Here's a simple download to a file:"
   ]
  },
  {
   "cell_type": "code",
   "execution_count": null,
   "id": "eee6c1bc",
   "metadata": {
    "tags": []
   },
   "outputs": [],
   "source": [
    "file_blob.download(\"yakima_valley.geojson\")"
   ]
  },
  {
   "cell_type": "markdown",
   "id": "1168c52c",
   "metadata": {},
   "source": [
    "You can also download in raw bytes:"
   ]
  },
  {
   "cell_type": "code",
   "execution_count": null,
   "id": "10e3eea3",
   "metadata": {
    "tags": []
   },
   "outputs": [],
   "source": [
    "print(file_blob.data())"
   ]
  },
  {
   "cell_type": "markdown",
   "id": "26982582",
   "metadata": {},
   "source": [
    "It's also possible to do streaming, iterative downloads. The `iter_data()` method iterates on chunks of bytes, while the `iter_lines()` method iterates on delimited lines.\n",
    "\n",
    "Let's quickly create a multi-line text file and push it to storage:"
   ]
  },
  {
   "cell_type": "code",
   "execution_count": null,
   "id": "54be67d4",
   "metadata": {
    "tags": []
   },
   "outputs": [],
   "source": [
    "with open(\"some_file\", \"w\") as f:\n",
    "    f.write(\"This is some text.\\nThis is some more.\\n\")\n",
    "!ls -l some_file\n",
    "!md5sum some_file"
   ]
  },
  {
   "cell_type": "code",
   "execution_count": null,
   "id": "ca3f40da",
   "metadata": {
    "tags": []
   },
   "outputs": [],
   "source": [
    "multi_blob = Blob(\n",
    "    namespace=\"some-project\",\n",
    "    name=\"its-a-file_demo\",\n",
    "    size_bytes=38,\n",
    "    hash=\"fa939c0e9a504cd9d395a93b77e496fd\",\n",
    "    readers=[\"group:thecoolones\"],\n",
    "    tags=[\"storage_demo\"],\n",
    ")\n",
    "multi_blob.upload(\"some_file\")\n",
    "multi_blob"
   ]
  },
  {
   "cell_type": "code",
   "execution_count": null,
   "id": "ec48b87d",
   "metadata": {
    "tags": []
   },
   "outputs": [],
   "source": [
    "for lineno, line in enumerate(multi_blob.iter_lines(decode_unicode=True)):\n",
    "    print(f\"{lineno} {line}\")"
   ]
  },
  {
   "cell_type": "markdown",
   "id": "482cf802",
   "metadata": {},
   "source": [
    "### Sharing Blob objects\n",
    "As with Catalog products, you can add specific organizations or users as readers or writers to your `Blob` objects to give others access. Simply update the `.readers`, `.writers`, ...etc. then save the `Blob` using `.save()`"
   ]
  },
  {
   "cell_type": "code",
   "execution_count": null,
   "id": "4491657f",
   "metadata": {},
   "outputs": [],
   "source": [
    "# Adding coworker and org as readers for previously stored GeoTiff file\n",
    "file_blob.readers = [\"email:rockstar@wherewework.com\", \"org:wherewework\"]\n",
    "file_blob.save()\n",
    "file_blob.readers"
   ]
  },
  {
   "cell_type": "markdown",
   "id": "e8864e58",
   "metadata": {},
   "source": [
    "### Deleting blob files\n",
    "`Blob`s can be deleted using the Catalog module search methods we used earlier."
   ]
  },
  {
   "cell_type": "code",
   "execution_count": null,
   "id": "f5fe9df5",
   "metadata": {
    "tags": []
   },
   "outputs": [],
   "source": [
    "# Delete by tags\n",
    "for b in Blob.search().filter(p.tags == \"storage_demo\"):\n",
    "    print(f\"Deleting {b.id}\")\n",
    "    b.delete()\n",
    "os.remove(\"yakima_valley.geojson\")\n",
    "os.remove(\"some_file\")"
   ]
  },
  {
   "cell_type": "markdown",
   "id": "30ba259b",
   "metadata": {},
   "source": [
    "### *Note: all Blob objects created here are automatically available in your organization's namespace. Before sharing this demo with others in your org, delete all unnecessary created objects to prevent errors.*"
   ]
  },
  {
   "cell_type": "code",
   "execution_count": null,
   "id": "6dbf8fb8-cced-4038-86c6-d455187d7166",
   "metadata": {},
   "outputs": [],
   "source": []
  }
 ],
 "metadata": {
  "kernelspec": {
   "display_name": "Python 3 (ipykernel)",
   "language": "python",
   "name": "python3"
  },
  "language_info": {
   "codemirror_mode": {
    "name": "ipython",
    "version": 3
   },
   "file_extension": ".py",
   "mimetype": "text/x-python",
   "name": "python",
   "nbconvert_exporter": "python",
   "pygments_lexer": "ipython3",
   "version": "3.9.18"
  }
 },
 "nbformat": 4,
 "nbformat_minor": 5
}

{
 "cells": [
  {
   "cell_type": "markdown",
   "id": "2a02975c",
   "metadata": {},
   "source": [
    "# Storing and Accessing objects via Descartes Labs Storage\n",
    "## Blob Demo\n",
    "\n",
    "The Storage module provides users with the ability to upload, store, and access a wide variety of objects in the Descartes Labs infrastructure. Object type is intentionally arbitrary to enable users to store and access things like compute logs, model weight parameters, ...etc. \n",
    "\n",
    "Storage objects are accessible by an associated `Blob` object. These `Blob`s are queryable by name, geospatial location (E.g., points, polygons,...etc.), and assigned tags. `Blob`s  can be downloaded to local files or retrieved directly as Python `bytes` objects. Storage supports the same sharing mechanisms as Catalog products and includes `owners`, `writers`, and `readers` attributes.\n",
    "\n",
    "**Improvement notes coming:**\n",
    " * Interoperability with Explorer\n",
    " * Access Batch Compute results via Storage\n",
    " * Expiration dates for Storage objects\n",
    "\n",
    "**Note:** The new AWS Catalog Storage service is only available via `descarteslabs` version 2.0.0. Please run the following once before running the demo to install the correct `descarteslabs` client version."
   ]
  },
  {
   "cell_type": "code",
   "execution_count": 1,
   "id": "4761add0-8dc7-47c9-a2c4-4c44154e7f18",
   "metadata": {
    "collapsed": true,
    "jupyter": {
     "outputs_hidden": true
    },
    "tags": []
   },
   "outputs": [
    {
     "name": "stdout",
     "output_type": "stream",
     "text": [
      "Defaulting to user installation because normal site-packages is not writeable\n",
      "Collecting git+https://github.com/descarteslabs/descarteslabs-python.git\n",
      "  Cloning https://github.com/descarteslabs/descarteslabs-python.git to /tmp/pip-req-build-cb2jqpp_\n",
      "  Running command git clone --filter=blob:none --quiet https://github.com/descarteslabs/descarteslabs-python.git /tmp/pip-req-build-cb2jqpp_\n",
      "  Resolved https://github.com/descarteslabs/descarteslabs-python.git to commit 58d0681b1aa0417928ad9b4b1aaf408cf5e38822\n",
      "  Preparing metadata (setup.py) ... \u001b[?25ldone\n",
      "\u001b[?25hRequirement already satisfied: affine>=2.2.2 in /usr/local/lib/python3.8/site-packages (from descarteslabs==2.0.0rc4) (2.4.0)\n",
      "Requirement already satisfied: blosc>=1.10.6 in /usr/local/lib/python3.8/site-packages (from descarteslabs==2.0.0rc4) (1.11.1)\n",
      "Requirement already satisfied: cachetools>=3.1.1 in /usr/local/lib/python3.8/site-packages (from descarteslabs==2.0.0rc4) (5.3.0)\n",
      "Requirement already satisfied: dill>=0.3.6 in /usr/local/lib/python3.8/site-packages (from descarteslabs==2.0.0rc4) (0.3.6)\n",
      "Requirement already satisfied: dynaconf>=3.1.11 in /usr/local/lib/python3.8/site-packages (from descarteslabs==2.0.0rc4) (3.1.12)\n",
      "Requirement already satisfied: geojson>=2.5.0 in /usr/local/lib/python3.8/site-packages (from descarteslabs==2.0.0rc4) (3.0.1)\n",
      "Requirement already satisfied: imagecodecs>=2021.5.20 in /usr/local/lib/python3.8/site-packages (from descarteslabs==2.0.0rc4) (2023.3.16)\n",
      "Requirement already satisfied: lazy_object_proxy>=1.7.1 in /usr/local/lib/python3.8/site-packages (from descarteslabs==2.0.0rc4) (1.9.0)\n",
      "Requirement already satisfied: mercantile>=1.1.3 in /usr/local/lib/python3.8/site-packages (from descarteslabs==2.0.0rc4) (1.2.1)\n",
      "Requirement already satisfied: Pillow>=9.2.0 in /usr/local/lib/python3.8/site-packages (from descarteslabs==2.0.0rc4) (9.5.0)\n",
      "Requirement already satisfied: pytz>=2021.1 in /usr/local/lib/python3.8/site-packages (from descarteslabs==2.0.0rc4) (2023.3)\n",
      "Requirement already satisfied: requests<3,>=2.28.1 in /usr/local/lib/python3.8/site-packages (from descarteslabs==2.0.0rc4) (2.30.0)\n",
      "Requirement already satisfied: setuptools>=65.6.3 in /usr/local/lib/python3.8/site-packages (from descarteslabs==2.0.0rc4) (67.7.2)\n",
      "Requirement already satisfied: shapely>=1.8.1 in /usr/local/lib/python3.8/site-packages (from descarteslabs==2.0.0rc4) (1.8.5.post1)\n",
      "Requirement already satisfied: strenum>=0.4.8 in /usr/local/lib/python3.8/site-packages (from descarteslabs==2.0.0rc4) (0.4.10)\n",
      "Requirement already satisfied: tifffile==2021.4.8 in /usr/local/lib/python3.8/site-packages (from descarteslabs==2.0.0rc4) (2021.4.8)\n",
      "Requirement already satisfied: tqdm>=4.32.1 in /usr/local/lib/python3.8/site-packages (from descarteslabs==2.0.0rc4) (4.65.0)\n",
      "Requirement already satisfied: urllib3<2,>=1.26.12 in /usr/local/lib/python3.8/site-packages (from descarteslabs==2.0.0rc4) (1.26.15)\n",
      "Requirement already satisfied: numpy>=1.21.6 in /usr/local/lib/python3.8/site-packages (from descarteslabs==2.0.0rc4) (1.22.4)\n",
      "Requirement already satisfied: click>=3.0 in /usr/local/lib/python3.8/site-packages (from mercantile>=1.1.3->descarteslabs==2.0.0rc4) (8.1.3)\n",
      "Requirement already satisfied: charset-normalizer<4,>=2 in /usr/local/lib/python3.8/site-packages (from requests<3,>=2.28.1->descarteslabs==2.0.0rc4) (3.1.0)\n",
      "Requirement already satisfied: idna<4,>=2.5 in /usr/local/lib/python3.8/site-packages (from requests<3,>=2.28.1->descarteslabs==2.0.0rc4) (3.4)\n",
      "Requirement already satisfied: certifi>=2017.4.17 in /usr/local/lib/python3.8/site-packages (from requests<3,>=2.28.1->descarteslabs==2.0.0rc4) (2023.5.7)\n",
      "Building wheels for collected packages: descarteslabs\n",
      "  Building wheel for descarteslabs (setup.py) ... \u001b[?25ldone\n",
      "\u001b[?25h  Created wheel for descarteslabs: filename=descarteslabs-2.0.0rc4-py3-none-any.whl size=443105 sha256=62be89e05874de0ffb385191e1ca83438db2e5b6998fb69b765f6adf0d4603e6\n",
      "  Stored in directory: /tmp/pip-ephem-wheel-cache-i696rxbe/wheels/f3/77/44/42127262e38a146014a3649de9c3326600c722582ca79fbbf1\n",
      "Successfully built descarteslabs\n",
      "Installing collected packages: descarteslabs\n",
      "\u001b[33m  WARNING: The script descarteslabs is installed in '/home/jovyan/.local/bin' which is not on PATH.\n",
      "  Consider adding this directory to PATH or, if you prefer to suppress this warning, use --no-warn-script-location.\u001b[0m\u001b[33m\n",
      "\u001b[0mSuccessfully installed descarteslabs-2.0.0rc4\n"
     ]
    }
   ],
   "source": [
    "# Install edge client of descarteslabs\n",
    "!pip install -U git+https://github.com/descarteslabs/descarteslabs-python.git"
   ]
  },
  {
   "cell_type": "code",
   "execution_count": 1,
   "id": "d1d5b4fa",
   "metadata": {
    "tags": []
   },
   "outputs": [],
   "source": [
    "import json\n",
    "import descarteslabs as dl\n",
    "dl.select_env(dl.AWS_ENVIRONMENT)\n",
    "\n",
    "from descarteslabs.catalog import Blob, properties\n",
    "import os"
   ]
  },
  {
   "cell_type": "code",
   "execution_count": 4,
   "id": "361be661-7a17-4525-95fb-ec80a78402cf",
   "metadata": {
    "tags": []
   },
   "outputs": [
    {
     "data": {
      "text/plain": [
       "<descarteslabs.auth.auth.Auth at 0x7f17dcc76670>"
      ]
     },
     "execution_count": 4,
     "metadata": {},
     "output_type": "execute_result"
    }
   ],
   "source": [
    "dl.auth.Auth()."
   ]
  },
  {
   "cell_type": "code",
   "execution_count": 3,
   "id": "ab6c2e05",
   "metadata": {
    "tags": []
   },
   "outputs": [
    {
     "name": "stdout",
     "output_type": "stream",
     "text": [
      "descarteslabs version: 2.0.0rc4\n",
      "Current Env:  aws-production\n"
     ]
    }
   ],
   "source": [
    "# Check that we are working with the AWS offering and correct version\n",
    "print(\"descarteslabs version:\", dl.__version__)\n",
    "print(\"Current Env: \", dl.get_settings().peek_settings().current_env)"
   ]
  },
  {
   "cell_type": "markdown",
   "id": "673708fb",
   "metadata": {},
   "source": [
    "### Store JSON information as Blob"
   ]
  },
  {
   "cell_type": "markdown",
   "id": "d3909930",
   "metadata": {},
   "source": [
    "First let's create a new `Blob` with a JSON object for data, and an associated geometry. For example, let's say that we have the geometry for a field of hops in Yakima Vally, WA and want to connect it with some (very brief) information the crop. "
   ]
  },
  {
   "cell_type": "code",
   "execution_count": 2,
   "id": "b0b41cb1",
   "metadata": {
    "tags": []
   },
   "outputs": [],
   "source": [
    "# JSON of crop info\n",
    "crop_info = {\n",
    "    \"crop\": \"hops\",\n",
    "    \"acreage\": 450,\n",
    "}\n",
    "# Geometry for the field\n",
    "field_geom = {\n",
    "    \"type\": \"Polygon\",\n",
    "    \"coordinates\": [[\n",
    "        [-120.4023, 46.551], \n",
    "        [-120.3859, 46.551], \n",
    "        [-120.3859, 46.5534], \n",
    "        [-120.4023, 46.5534], \n",
    "    ]],\n",
    "}"
   ]
  },
  {
   "cell_type": "markdown",
   "id": "87a53984",
   "metadata": {},
   "source": [
    "As with creating an `Image` in the Catalog module, you construct an unsaved `Blob` with whatever attributes you desire, and then use either the `upload()` method to upload a file from the local filesystem, or the `upload_data()` method to upload arbitrary python data. All data is handled as bytes internally; strings will be automatically encoded using UTF-8, anything else should be serialized to byte or string data. Upon completion of the upload, the `Blob` object will have all the recorded attributes populated."
   ]
  },
  {
   "cell_type": "code",
   "execution_count": 3,
   "id": "ffa6a062",
   "metadata": {
    "tags": []
   },
   "outputs": [
    {
     "data": {
      "text/plain": [
       "Blob: hop_field_info_demo\n",
       "  id: data/descarteslabs/hop_field_info_demo\n",
       "  created: Wed May 17 19:40:29 2023"
      ]
     },
     "execution_count": 3,
     "metadata": {},
     "output_type": "execute_result"
    }
   ],
   "source": [
    "blob = Blob(name=\"hop_field_info_demo\", geometry=field_geom, tags=[\"hops_project\"])\n",
    "blob.upload_data(json.dumps(crop_info))\n",
    "blob"
   ]
  },
  {
   "cell_type": "markdown",
   "id": "db191ed4",
   "metadata": {},
   "source": [
    "The resulting saved Blob's has several attributes including those identified below. Note that the `id` is the concatenation of the `storage_type`, the `namespace`, and the `name`. (Only) The name may contain internal '/' characters."
   ]
  },
  {
   "cell_type": "code",
   "execution_count": 4,
   "id": "f2a608c8",
   "metadata": {
    "tags": []
   },
   "outputs": [
    {
     "name": "stdout",
     "output_type": "stream",
     "text": [
      "Blob ID: data/descarteslabs/hop_field_info_demo\n",
      "Blob size: 32\n",
      "Blob geometry:  POLYGON ((-120.4023 46.551, -120.3859 46.551, -120.3859 46.5534, -120.4023 46.5534, -120.4023 46.551))\n",
      "Blob assigned tags:  ['hops_project']\n"
     ]
    }
   ],
   "source": [
    "print(\"Blob ID:\", blob.id)\n",
    "print(\"Blob size:\", blob.size_bytes)\n",
    "print(\"Blob geometry: \", blob.geometry)\n",
    "print(\"Blob assigned tags: \", blob.tags)"
   ]
  },
  {
   "cell_type": "markdown",
   "id": "6f24c28b",
   "metadata": {},
   "source": [
    "To see the remaining attributes available, run the cell below"
   ]
  },
  {
   "cell_type": "raw",
   "id": "d72dcefb",
   "metadata": {},
   "source": [
    "for k,v in blob._attributes.items():\n",
    "    print(f\"{k}: {v}\")"
   ]
  },
  {
   "cell_type": "markdown",
   "id": "5493b4f7",
   "metadata": {},
   "source": [
    "### Storing a file\n",
    "\n",
    "If we want to store a file in Storage, let's say a derived GeoTIFF of the NIR and red bands for a Sentinel-2 L2A image, we can create our `Blob` object with the desired attributes and use the `.upload()` method to upload directly from a local file."
   ]
  },
  {
   "cell_type": "code",
   "execution_count": null,
   "id": "2b4715b0",
   "metadata": {
    "tags": []
   },
   "outputs": [],
   "source": [
    "file_blob = Blob(\n",
    "    namespace=\"hop_yields_project\",\n",
    "    name=\"sentinel-2_image_demo\",\n",
    "    readers=[\"group:hop_researchers\"],\n",
    "    tags=[]  # Even if no tags are assigned, an empty list should be passed here\n",
    ")\n",
    "file_blob.upload(\"sentinel-2_l2a_nir_red.tif\")\n",
    "file_blob"
   ]
  },
  {
   "cell_type": "code",
   "execution_count": 4,
   "id": "6e667f9a",
   "metadata": {
    "tags": []
   },
   "outputs": [
    {
     "data": {
      "text/plain": [
       "Blob: yakima_valley\n",
       "  id: data/descarteslabs:compute_demo/yakima_valley\n",
       "  created: Tue May 23 01:39:18 2023"
      ]
     },
     "execution_count": 4,
     "metadata": {},
     "output_type": "execute_result"
    }
   ],
   "source": [
    "# Get your organization ID\n",
    "org = dl.auth.Auth().payload['org']\n",
    "file_blob = Blob(\n",
    "    namespace=\"compute_demo\",\n",
    "    name=\"yakima_valley\",\n",
    "    readers=[f\"org:{org}\"],\n",
    "    tags=[\"compute_demo\"]  # Even if no tags are assigned, an empty list should be passed here\n",
    ")\n",
    "file_blob.upload(\"../data/CountyZoning.zip\")\n",
    "file_blob"
   ]
  },
  {
   "cell_type": "markdown",
   "id": "af66593e",
   "metadata": {},
   "source": [
    "Also note, for this upload we set a specific `namespace` to store this object as part of the \"hope_yields_project\" within our organization. The previous blob received the default `namespace`, which is the owner's org. A specified `namespace` will automatically be prefixed with the user's `org` to ensure that while users within an org can work in the same namespaces, there can be no collisions between users in different orgs.\n",
    "\n",
    "Another attribute that may be useful is the href, to see where in the DL managed S3 bucket or region this `Blob` is stored"
   ]
  },
  {
   "cell_type": "code",
   "execution_count": 6,
   "id": "b6b954af",
   "metadata": {
    "tags": []
   },
   "outputs": [
    {
     "name": "stdout",
     "output_type": "stream",
     "text": [
      "S3 HREF for Blob\n"
     ]
    },
    {
     "data": {
      "text/plain": [
       "'s3://dl-catalog-storage-production.us-west-2/792f2f3d48174547a7cdac4534761291/data/descarteslabs:compute_demo/yakima_valley'"
      ]
     },
     "execution_count": 6,
     "metadata": {},
     "output_type": "execute_result"
    }
   ],
   "source": [
    "print(\"S3 HREF for Blob\")\n",
    "file_blob.href"
   ]
  },
  {
   "cell_type": "code",
   "execution_count": 7,
   "id": "7a4e8559-7620-4cde-9fc9-9b7ce214215c",
   "metadata": {
    "collapsed": true,
    "jupyter": {
     "outputs_hidden": true
    },
    "tags": []
   },
   "outputs": [
    {
     "name": "stdout",
     "output_type": "stream",
     "text": [
      "id: data/descarteslabs:compute_demo/yakima_valley\n",
      "created: 2023-05-17 19:42:58.266937+00:00\n",
      "description: None\n",
      "expires: None\n",
      "extra_properties: {}\n",
      "geometry: None\n",
      "hash: 6cabda957e28608b3b2e3a2516ae14c1\n",
      "href: s3://dl-catalog-storage-production.us-west-2/792f2f3d48174547a7cdac4534761291/data/descarteslabs:compute_demo/yakima_valley\n",
      "modified: 2023-05-17 19:42:58.266937+00:00\n",
      "name: yakima_valley\n",
      "namespace: descarteslabs:compute_demo\n",
      "owners: ['org:descarteslabs', 'user:ca44eb051c6fdcfa155a20166b234253eb33538c']\n",
      "readers: ['org:descarteslabs']\n",
      "size_bytes: 1036082\n",
      "storage_state: available\n",
      "storage_type: data\n",
      "tags: ['compute_demo']\n",
      "writers: []\n"
     ]
    }
   ],
   "source": [
    "for k,v in file_blob._attributes.items():\n",
    "    print(f\"{k}: {v}\")"
   ]
  },
  {
   "cell_type": "markdown",
   "id": "44b4870c",
   "metadata": {},
   "source": [
    "### Searching across storage objects\n",
    "Catalog search methods can be performed across your storage objects, including geospatial searches."
   ]
  },
  {
   "cell_type": "code",
   "execution_count": 8,
   "id": "68a3065c",
   "metadata": {
    "tags": []
   },
   "outputs": [
    {
     "name": "stdout",
     "output_type": "stream",
     "text": [
      "data/descarteslabs/foo/bar\n",
      "data/descarteslabs/foo/baz\n",
      "data/descarteslabs/hop_field_info\n",
      "data/descarteslabs/hop_field_info_demo\n",
      "data/descarteslabs:compute_demo/yakima_valley\n",
      "data/descarteslabs:hop_yields_project/sentinel-2_image\n"
     ]
    }
   ],
   "source": [
    "# List all Blob objects in your storage\n",
    "for b in Blob.search():\n",
    "    print(b.id)"
   ]
  },
  {
   "cell_type": "code",
   "execution_count": 9,
   "id": "ab3e361c",
   "metadata": {
    "tags": []
   },
   "outputs": [
    {
     "name": "stdout",
     "output_type": "stream",
     "text": [
      "['data/descarteslabs/hop_field_info', 'data/descarteslabs/hop_field_info_demo']\n",
      "['data/descarteslabs/hop_field_info', 'data/descarteslabs/hop_field_info_demo']\n",
      "['data/descarteslabs/hop_field_info', 'data/descarteslabs/hop_field_info_demo']\n",
      "['data/descarteslabs:hop_yields_project/sentinel-2_image']\n"
     ]
    }
   ],
   "source": [
    "# Geospatial searches by intersection\n",
    "## Intersect particular coordinate\n",
    "print([b.id for b in Blob.search().intersects({\"type\": \"Point\", \"coordinates\": [-120.40, 46.552]})])\n",
    "## Intersecting geometry object\n",
    "print([b.id for b in Blob.search().intersects(field_geom)])\n",
    "# Filter by tags\n",
    "print([b.id for b in Blob.search().filter(properties.tags == \"hops_project\")])\n",
    "# Filter by namespace\n",
    "# Get your org for namespace\n",
    "org = dl.auth.Auth().payload['org']\n",
    "print([b.id for b in Blob.search().filter(properties.namespace == f\"{org}:hop_yields_project\")])"
   ]
  },
  {
   "cell_type": "markdown",
   "id": "f9cb66e5",
   "metadata": {},
   "source": [
    "The `name` field allows embedded \"/\" characters, allowing you to structure your blobs as if in a file system. As with typical cloud storage systems, there's no real directories, but the consistent use of the \"/\" delimiter will allow powerful prefix searches. First we'll create a few more interesting blobs:"
   ]
  },
  {
   "cell_type": "code",
   "execution_count": 10,
   "id": "33e70e44",
   "metadata": {
    "collapsed": true,
    "jupyter": {
     "outputs_hidden": true
    },
    "tags": []
   },
   "outputs": [
    {
     "ename": "ConflictError",
     "evalue": "\n    409: A document with id `data/descarteslabs/foo/bar` already exists",
     "output_type": "error",
     "traceback": [
      "\u001b[0;31m---------------------------------------------------------------------------\u001b[0m",
      "\u001b[0;31mConflictError\u001b[0m                             Traceback (most recent call last)",
      "Cell \u001b[0;32mIn[10], line 2\u001b[0m\n\u001b[1;32m      1\u001b[0m blob3 \u001b[38;5;241m=\u001b[39m Blob(name\u001b[38;5;241m=\u001b[39m\u001b[38;5;124m\"\u001b[39m\u001b[38;5;124mfoo/bar\u001b[39m\u001b[38;5;124m\"\u001b[39m)\n\u001b[0;32m----> 2\u001b[0m \u001b[43mblob3\u001b[49m\u001b[38;5;241;43m.\u001b[39;49m\u001b[43mupload_data\u001b[49m\u001b[43m(\u001b[49m\u001b[38;5;124;43m\"\u001b[39;49m\u001b[38;5;124;43mthis is a test\u001b[39;49m\u001b[38;5;124;43m\"\u001b[39;49m\u001b[43m)\u001b[49m\n\u001b[1;32m      3\u001b[0m blob4 \u001b[38;5;241m=\u001b[39m Blob(name\u001b[38;5;241m=\u001b[39m\u001b[38;5;124m\"\u001b[39m\u001b[38;5;124mfoo/baz\u001b[39m\u001b[38;5;124m\"\u001b[39m)\n\u001b[1;32m      4\u001b[0m blob4\u001b[38;5;241m.\u001b[39mupload_data(\u001b[38;5;124m\"\u001b[39m\u001b[38;5;124mthis is not a test\u001b[39m\u001b[38;5;124m\"\u001b[39m)\n",
      "File \u001b[0;32m/usr/local/lib/python3.8/site-packages/descarteslabs/core/catalog/catalog_base.py:64\u001b[0m, in \u001b[0;36mcheck_deleted.<locals>.wrapper\u001b[0;34m(self, *args, **kwargs)\u001b[0m\n\u001b[1;32m     62\u001b[0m     \u001b[38;5;28;01mraise\u001b[39;00m DeletedObjectError(\u001b[38;5;124m\"\u001b[39m\u001b[38;5;124mThis catalog object has been deleted.\u001b[39m\u001b[38;5;124m\"\u001b[39m)\n\u001b[1;32m     63\u001b[0m \u001b[38;5;28;01mtry\u001b[39;00m:\n\u001b[0;32m---> 64\u001b[0m     \u001b[38;5;28;01mreturn\u001b[39;00m \u001b[43mf\u001b[49m\u001b[43m(\u001b[49m\u001b[38;5;28;43mself\u001b[39;49m\u001b[43m,\u001b[49m\u001b[43m \u001b[49m\u001b[38;5;241;43m*\u001b[39;49m\u001b[43margs\u001b[49m\u001b[43m,\u001b[49m\u001b[43m \u001b[49m\u001b[38;5;241;43m*\u001b[39;49m\u001b[38;5;241;43m*\u001b[39;49m\u001b[43mkwargs\u001b[49m\u001b[43m)\u001b[49m\n\u001b[1;32m     65\u001b[0m \u001b[38;5;28;01mexcept\u001b[39;00m NotFoundError \u001b[38;5;28;01mas\u001b[39;00m e:\n\u001b[1;32m     66\u001b[0m     \u001b[38;5;28mself\u001b[39m\u001b[38;5;241m.\u001b[39m_deleted \u001b[38;5;241m=\u001b[39m \u001b[38;5;28;01mTrue\u001b[39;00m\n",
      "File \u001b[0;32m/usr/local/lib/python3.8/site-packages/descarteslabs/core/catalog/blob.py:481\u001b[0m, in \u001b[0;36mBlob.upload_data\u001b[0;34m(self, data)\u001b[0m\n\u001b[1;32m    478\u001b[0m \u001b[38;5;28;01melif\u001b[39;00m \u001b[38;5;129;01mnot\u001b[39;00m \u001b[38;5;28misinstance\u001b[39m(data, \u001b[38;5;28mbytes\u001b[39m):\n\u001b[1;32m    479\u001b[0m     \u001b[38;5;28;01mraise\u001b[39;00m \u001b[38;5;167;01mValueError\u001b[39;00m(\u001b[38;5;124m\"\u001b[39m\u001b[38;5;124mInvalid data value: must be string or bytes\u001b[39m\u001b[38;5;124m\"\u001b[39m)\n\u001b[0;32m--> 481\u001b[0m \u001b[38;5;28;01mreturn\u001b[39;00m \u001b[38;5;28;43mself\u001b[39;49m\u001b[38;5;241;43m.\u001b[39;49m\u001b[43m_do_upload\u001b[49m\u001b[43m(\u001b[49m\u001b[43mdata\u001b[49m\u001b[43m)\u001b[49m\n",
      "File \u001b[0;32m/usr/local/lib/python3.8/site-packages/descarteslabs/core/catalog/blob.py:491\u001b[0m, in \u001b[0;36mBlob._do_upload\u001b[0;34m(self, src)\u001b[0m\n\u001b[1;32m    488\u001b[0m \u001b[38;5;66;03m# Request an upload url\u001b[39;00m\n\u001b[1;32m    489\u001b[0m upload \u001b[38;5;241m=\u001b[39m BlobUpload(client\u001b[38;5;241m=\u001b[39m\u001b[38;5;28mself\u001b[39m\u001b[38;5;241m.\u001b[39m_client, storage\u001b[38;5;241m=\u001b[39m\u001b[38;5;28mself\u001b[39m)\n\u001b[0;32m--> 491\u001b[0m \u001b[43mupload\u001b[49m\u001b[38;5;241;43m.\u001b[39;49m\u001b[43msave\u001b[49m\u001b[43m(\u001b[49m\u001b[43m)\u001b[49m\n\u001b[1;32m    493\u001b[0m headers \u001b[38;5;241m=\u001b[39m {}\n\u001b[1;32m    494\u001b[0m headers[\u001b[38;5;124m\"\u001b[39m\u001b[38;5;124mcontent-type\u001b[39m\u001b[38;5;124m\"\u001b[39m] \u001b[38;5;241m=\u001b[39m \u001b[38;5;124m\"\u001b[39m\u001b[38;5;124mapplication/octet-stream\u001b[39m\u001b[38;5;124m\"\u001b[39m\n",
      "File \u001b[0;32m/usr/local/lib/python3.8/site-packages/descarteslabs/core/catalog/catalog_base.py:64\u001b[0m, in \u001b[0;36mcheck_deleted.<locals>.wrapper\u001b[0;34m(self, *args, **kwargs)\u001b[0m\n\u001b[1;32m     62\u001b[0m     \u001b[38;5;28;01mraise\u001b[39;00m DeletedObjectError(\u001b[38;5;124m\"\u001b[39m\u001b[38;5;124mThis catalog object has been deleted.\u001b[39m\u001b[38;5;124m\"\u001b[39m)\n\u001b[1;32m     63\u001b[0m \u001b[38;5;28;01mtry\u001b[39;00m:\n\u001b[0;32m---> 64\u001b[0m     \u001b[38;5;28;01mreturn\u001b[39;00m \u001b[43mf\u001b[49m\u001b[43m(\u001b[49m\u001b[38;5;28;43mself\u001b[39;49m\u001b[43m,\u001b[49m\u001b[43m \u001b[49m\u001b[38;5;241;43m*\u001b[39;49m\u001b[43margs\u001b[49m\u001b[43m,\u001b[49m\u001b[43m \u001b[49m\u001b[38;5;241;43m*\u001b[39;49m\u001b[38;5;241;43m*\u001b[39;49m\u001b[43mkwargs\u001b[49m\u001b[43m)\u001b[49m\n\u001b[1;32m     65\u001b[0m \u001b[38;5;28;01mexcept\u001b[39;00m NotFoundError \u001b[38;5;28;01mas\u001b[39;00m e:\n\u001b[1;32m     66\u001b[0m     \u001b[38;5;28mself\u001b[39m\u001b[38;5;241m.\u001b[39m_deleted \u001b[38;5;241m=\u001b[39m \u001b[38;5;28;01mTrue\u001b[39;00m\n",
      "File \u001b[0;32m/usr/local/lib/python3.8/site-packages/descarteslabs/core/client/deprecation.py:265\u001b[0m, in \u001b[0;36mdeprecate.<locals>.wrapper.<locals>.wrapped\u001b[0;34m(*args, **kwargs)\u001b[0m\n\u001b[1;32m    256\u001b[0m kwargs\u001b[38;5;241m.\u001b[39mupdate(\u001b[38;5;28mdict\u001b[39m(\u001b[38;5;28mzip\u001b[39m(func_args, args)))\n\u001b[1;32m    257\u001b[0m check_deprecated_kwargs(\n\u001b[1;32m    258\u001b[0m     kwargs,\n\u001b[1;32m    259\u001b[0m     renamed,\n\u001b[0;32m   (...)\u001b[0m\n\u001b[1;32m    263\u001b[0m     stacklevel\u001b[38;5;241m=\u001b[39m\u001b[38;5;241m3\u001b[39m,\n\u001b[1;32m    264\u001b[0m )\n\u001b[0;32m--> 265\u001b[0m \u001b[38;5;28;01mreturn\u001b[39;00m \u001b[43mf\u001b[49m\u001b[43m(\u001b[49m\u001b[38;5;241;43m*\u001b[39;49m\u001b[38;5;241;43m*\u001b[39;49m\u001b[43mkwargs\u001b[49m\u001b[43m)\u001b[49m\n",
      "File \u001b[0;32m/usr/local/lib/python3.8/site-packages/descarteslabs/core/catalog/catalog_base.py:831\u001b[0m, in \u001b[0;36mCatalogObjectBase.save\u001b[0;34m(self, request_params)\u001b[0m\n\u001b[1;32m    828\u001b[0m \u001b[38;5;28;01mif\u001b[39;00m request_params:\n\u001b[1;32m    829\u001b[0m     json[\u001b[38;5;124m\"\u001b[39m\u001b[38;5;124mdata\u001b[39m\u001b[38;5;124m\"\u001b[39m][\u001b[38;5;124m\"\u001b[39m\u001b[38;5;124mattributes\u001b[39m\u001b[38;5;124m\"\u001b[39m]\u001b[38;5;241m.\u001b[39mupdate(request_params)\n\u001b[0;32m--> 831\u001b[0m data, related_objects \u001b[38;5;241m=\u001b[39m \u001b[38;5;28;43mself\u001b[39;49m\u001b[38;5;241;43m.\u001b[39;49m\u001b[43m_send_data\u001b[49m\u001b[43m(\u001b[49m\n\u001b[1;32m    832\u001b[0m \u001b[43m    \u001b[49m\u001b[43mmethod\u001b[49m\u001b[38;5;241;43m=\u001b[39;49m\u001b[43mmethod\u001b[49m\u001b[43m,\u001b[49m\u001b[43m \u001b[49m\u001b[38;5;28;43mid\u001b[39;49m\u001b[38;5;241;43m=\u001b[39;49m\u001b[38;5;28;43mself\u001b[39;49m\u001b[38;5;241;43m.\u001b[39;49m\u001b[43mid\u001b[49m\u001b[43m,\u001b[49m\u001b[43m \u001b[49m\u001b[43mjson\u001b[49m\u001b[38;5;241;43m=\u001b[39;49m\u001b[43mjson\u001b[49m\u001b[43m,\u001b[49m\u001b[43m \u001b[49m\u001b[43mclient\u001b[49m\u001b[38;5;241;43m=\u001b[39;49m\u001b[38;5;28;43mself\u001b[39;49m\u001b[38;5;241;43m.\u001b[39;49m\u001b[43m_client\u001b[49m\n\u001b[1;32m    833\u001b[0m \u001b[43m\u001b[49m\u001b[43m)\u001b[49m\n\u001b[1;32m    835\u001b[0m \u001b[38;5;28mself\u001b[39m\u001b[38;5;241m.\u001b[39m_initialize(\n\u001b[1;32m    836\u001b[0m     \u001b[38;5;28mid\u001b[39m\u001b[38;5;241m=\u001b[39mdata[\u001b[38;5;124m\"\u001b[39m\u001b[38;5;124mid\u001b[39m\u001b[38;5;124m\"\u001b[39m],\n\u001b[1;32m    837\u001b[0m     saved\u001b[38;5;241m=\u001b[39m\u001b[38;5;28;01mTrue\u001b[39;00m,\n\u001b[0;32m   (...)\u001b[0m\n\u001b[1;32m    840\u001b[0m     \u001b[38;5;241m*\u001b[39m\u001b[38;5;241m*\u001b[39mdata[\u001b[38;5;124m\"\u001b[39m\u001b[38;5;124mattributes\u001b[39m\u001b[38;5;124m\"\u001b[39m],\n\u001b[1;32m    841\u001b[0m )\n",
      "File \u001b[0;32m/usr/local/lib/python3.8/site-packages/descarteslabs/core/catalog/catalog_base.py:83\u001b[0m, in \u001b[0;36mcheck_derived.<locals>.wrapper\u001b[0;34m(cls, *args, **kwargs)\u001b[0m\n\u001b[1;32m     79\u001b[0m \u001b[38;5;28;01mif\u001b[39;00m \u001b[38;5;28mcls\u001b[39m\u001b[38;5;241m.\u001b[39m_url \u001b[38;5;129;01mis\u001b[39;00m \u001b[38;5;28;01mNone\u001b[39;00m:\n\u001b[1;32m     80\u001b[0m     \u001b[38;5;28;01mraise\u001b[39;00m \u001b[38;5;167;01mTypeError\u001b[39;00m(\n\u001b[1;32m     81\u001b[0m         \u001b[38;5;124m\"\u001b[39m\u001b[38;5;124mThis method is only available for a derived class of \u001b[39m\u001b[38;5;124m'\u001b[39m\u001b[38;5;124mCatalogObject\u001b[39m\u001b[38;5;124m'\u001b[39m\u001b[38;5;124m\"\u001b[39m\n\u001b[1;32m     82\u001b[0m     )\n\u001b[0;32m---> 83\u001b[0m \u001b[38;5;28;01mreturn\u001b[39;00m \u001b[43mf\u001b[49m\u001b[43m(\u001b[49m\u001b[38;5;28;43mcls\u001b[39;49m\u001b[43m,\u001b[49m\u001b[43m \u001b[49m\u001b[38;5;241;43m*\u001b[39;49m\u001b[43margs\u001b[49m\u001b[43m,\u001b[49m\u001b[43m \u001b[49m\u001b[38;5;241;43m*\u001b[39;49m\u001b[38;5;241;43m*\u001b[39;49m\u001b[43mkwargs\u001b[49m\u001b[43m)\u001b[49m\n",
      "File \u001b[0;32m/usr/local/lib/python3.8/site-packages/descarteslabs/core/catalog/catalog_base.py:998\u001b[0m, in \u001b[0;36mCatalogObjectBase._send_data\u001b[0;34m(cls, method, id, json, client, request_params)\u001b[0m\n\u001b[1;32m    995\u001b[0m \u001b[38;5;28;01mif\u001b[39;00m query_params:\n\u001b[1;32m    996\u001b[0m     url \u001b[38;5;241m+\u001b[39m\u001b[38;5;241m=\u001b[39m \u001b[38;5;124m\"\u001b[39m\u001b[38;5;124m?\u001b[39m\u001b[38;5;124m\"\u001b[39m \u001b[38;5;241m+\u001b[39m urllib\u001b[38;5;241m.\u001b[39mparse\u001b[38;5;241m.\u001b[39murlencode(query_params)\n\u001b[0;32m--> 998\u001b[0m r \u001b[38;5;241m=\u001b[39m \u001b[43msession_method\u001b[49m\u001b[43m(\u001b[49m\u001b[43murl\u001b[49m\u001b[43m,\u001b[49m\u001b[43m \u001b[49m\u001b[43mjson\u001b[49m\u001b[38;5;241;43m=\u001b[39;49m\u001b[43mjson\u001b[49m\u001b[43m)\u001b[49m\u001b[38;5;241m.\u001b[39mjson()\n\u001b[1;32m    999\u001b[0m data \u001b[38;5;241m=\u001b[39m r[\u001b[38;5;124m\"\u001b[39m\u001b[38;5;124mdata\u001b[39m\u001b[38;5;124m\"\u001b[39m]\n\u001b[1;32m   1000\u001b[0m related_objects \u001b[38;5;241m=\u001b[39m \u001b[38;5;28mcls\u001b[39m\u001b[38;5;241m.\u001b[39m_load_related_objects(r, client)\n",
      "File \u001b[0;32m/usr/local/lib/python3.8/site-packages/requests/sessions.py:635\u001b[0m, in \u001b[0;36mSession.post\u001b[0;34m(self, url, data, json, **kwargs)\u001b[0m\n\u001b[1;32m    624\u001b[0m \u001b[38;5;28;01mdef\u001b[39;00m \u001b[38;5;21mpost\u001b[39m(\u001b[38;5;28mself\u001b[39m, url, data\u001b[38;5;241m=\u001b[39m\u001b[38;5;28;01mNone\u001b[39;00m, json\u001b[38;5;241m=\u001b[39m\u001b[38;5;28;01mNone\u001b[39;00m, \u001b[38;5;241m*\u001b[39m\u001b[38;5;241m*\u001b[39mkwargs):\n\u001b[1;32m    625\u001b[0m \u001b[38;5;250m    \u001b[39m\u001b[38;5;124mr\u001b[39m\u001b[38;5;124;03m\"\"\"Sends a POST request. Returns :class:`Response` object.\u001b[39;00m\n\u001b[1;32m    626\u001b[0m \n\u001b[1;32m    627\u001b[0m \u001b[38;5;124;03m    :param url: URL for the new :class:`Request` object.\u001b[39;00m\n\u001b[0;32m   (...)\u001b[0m\n\u001b[1;32m    632\u001b[0m \u001b[38;5;124;03m    :rtype: requests.Response\u001b[39;00m\n\u001b[1;32m    633\u001b[0m \u001b[38;5;124;03m    \"\"\"\u001b[39;00m\n\u001b[0;32m--> 635\u001b[0m     \u001b[38;5;28;01mreturn\u001b[39;00m \u001b[38;5;28;43mself\u001b[39;49m\u001b[38;5;241;43m.\u001b[39;49m\u001b[43mrequest\u001b[49m\u001b[43m(\u001b[49m\u001b[38;5;124;43m\"\u001b[39;49m\u001b[38;5;124;43mPOST\u001b[39;49m\u001b[38;5;124;43m\"\u001b[39;49m\u001b[43m,\u001b[49m\u001b[43m \u001b[49m\u001b[43murl\u001b[49m\u001b[43m,\u001b[49m\u001b[43m \u001b[49m\u001b[43mdata\u001b[49m\u001b[38;5;241;43m=\u001b[39;49m\u001b[43mdata\u001b[49m\u001b[43m,\u001b[49m\u001b[43m \u001b[49m\u001b[43mjson\u001b[49m\u001b[38;5;241;43m=\u001b[39;49m\u001b[43mjson\u001b[49m\u001b[43m,\u001b[49m\u001b[43m \u001b[49m\u001b[38;5;241;43m*\u001b[39;49m\u001b[38;5;241;43m*\u001b[39;49m\u001b[43mkwargs\u001b[49m\u001b[43m)\u001b[49m\n",
      "File \u001b[0;32m/usr/local/lib/python3.8/site-packages/descarteslabs/core/client/services/service/service.py:404\u001b[0m, in \u001b[0;36mJsonApiSession.request\u001b[0;34m(self, *args, **kwargs)\u001b[0m\n\u001b[1;32m    356\u001b[0m \u001b[38;5;250m\u001b[39m\u001b[38;5;124;03m\"\"\"Sends an HTTP request and emits Descartes Labs specific errors.\u001b[39;00m\n\u001b[1;32m    357\u001b[0m \n\u001b[1;32m    358\u001b[0m \u001b[38;5;124;03mParameters\u001b[39;00m\n\u001b[0;32m   (...)\u001b[0m\n\u001b[1;32m    400\u001b[0m \u001b[38;5;124;03mhuman readable format.\u001b[39;00m\n\u001b[1;32m    401\u001b[0m \u001b[38;5;124;03m\"\"\"\u001b[39;00m\n\u001b[1;32m    403\u001b[0m \u001b[38;5;28;01mtry\u001b[39;00m:\n\u001b[0;32m--> 404\u001b[0m     resp \u001b[38;5;241m=\u001b[39m \u001b[38;5;28;43msuper\u001b[39;49m\u001b[43m(\u001b[49m\u001b[43mJsonApiSession\u001b[49m\u001b[43m,\u001b[49m\u001b[43m \u001b[49m\u001b[38;5;28;43mself\u001b[39;49m\u001b[43m)\u001b[49m\u001b[38;5;241;43m.\u001b[39;49m\u001b[43mrequest\u001b[49m\u001b[43m(\u001b[49m\u001b[38;5;241;43m*\u001b[39;49m\u001b[43margs\u001b[49m\u001b[43m,\u001b[49m\u001b[43m \u001b[49m\u001b[38;5;241;43m*\u001b[39;49m\u001b[38;5;241;43m*\u001b[39;49m\u001b[43mkwargs\u001b[49m\u001b[43m)\u001b[49m\n\u001b[1;32m    405\u001b[0m \u001b[38;5;28;01mexcept\u001b[39;00m (ClientError, ServerError) \u001b[38;5;28;01mas\u001b[39;00m error:\n\u001b[1;32m    406\u001b[0m     \u001b[38;5;28;01mif\u001b[39;00m \u001b[38;5;28mself\u001b[39m\u001b[38;5;241m.\u001b[39mrewrite_errors:\n",
      "File \u001b[0;32m/usr/local/lib/python3.8/site-packages/descarteslabs/core/common/http/session.py:325\u001b[0m, in \u001b[0;36mSession.request\u001b[0;34m(self, method, url, headers, **kwargs)\u001b[0m\n\u001b[1;32m    320\u001b[0m     \u001b[38;5;28;01mraise\u001b[39;00m ProxyAuthenticationRequiredError(\n\u001b[1;32m    321\u001b[0m         resp\u001b[38;5;241m.\u001b[39mtext,\n\u001b[1;32m    322\u001b[0m         proxy_authenticate\u001b[38;5;241m=\u001b[39mresp\u001b[38;5;241m.\u001b[39mheaders\u001b[38;5;241m.\u001b[39mget(HttpHeaderKeys\u001b[38;5;241m.\u001b[39mProxyAuthenticate),\n\u001b[1;32m    323\u001b[0m     )\n\u001b[1;32m    324\u001b[0m \u001b[38;5;28;01melif\u001b[39;00m resp\u001b[38;5;241m.\u001b[39mstatus_code \u001b[38;5;241m==\u001b[39m HTTPStatus\u001b[38;5;241m.\u001b[39mCONFLICT:\n\u001b[0;32m--> 325\u001b[0m     \u001b[38;5;28;01mraise\u001b[39;00m ConflictError(resp\u001b[38;5;241m.\u001b[39mtext)\n\u001b[1;32m    326\u001b[0m \u001b[38;5;28;01melif\u001b[39;00m resp\u001b[38;5;241m.\u001b[39mstatus_code \u001b[38;5;241m==\u001b[39m HTTPStatus\u001b[38;5;241m.\u001b[39mGONE:\n\u001b[1;32m    327\u001b[0m     \u001b[38;5;28;01mraise\u001b[39;00m GoneError(resp\u001b[38;5;241m.\u001b[39mtext)\n",
      "\u001b[0;31mConflictError\u001b[0m: \n    409: A document with id `data/descarteslabs/foo/bar` already exists"
     ]
    }
   ],
   "source": [
    "blob3 = Blob(name=\"foo/bar\")\n",
    "blob3.upload_data(\"this is a test\")\n",
    "blob4 = Blob(name=\"foo/baz\")\n",
    "blob4.upload_data(\"this is not a test\")"
   ]
  },
  {
   "cell_type": "markdown",
   "id": "7d090a1a",
   "metadata": {},
   "source": [
    "Now we can use a prefix filter to pick out these new blobs:"
   ]
  },
  {
   "cell_type": "code",
   "execution_count": 11,
   "id": "40d9ed6c",
   "metadata": {
    "tags": []
   },
   "outputs": [
    {
     "name": "stdout",
     "output_type": "stream",
     "text": [
      "data/descarteslabs/foo/bar\n",
      "data/descarteslabs/foo/baz\n"
     ]
    }
   ],
   "source": [
    "for b in Blob.search().filter(properties.name.prefix(\"foo/\")):\n",
    "    print(b.id)"
   ]
  },
  {
   "cell_type": "markdown",
   "id": "32135bae",
   "metadata": {},
   "source": [
    "### Retrieving data from Storage\n",
    "The `Blob` data may be retrieved, either by downloading directly to a local file or some other file-like object (e.g. an `io.IOBase` object), or directly into memory. Here's a simple download to a file:"
   ]
  },
  {
   "cell_type": "code",
   "execution_count": 12,
   "id": "eee6c1bc",
   "metadata": {
    "tags": []
   },
   "outputs": [
    {
     "name": "stdout",
     "output_type": "stream",
     "text": [
      "ls: cannot access 'sentinel-2_l2a_nir_red.tif': No such file or directory\n",
      "md5sum: sentinel-2_l2a_nir_red.tif: No such file or directory\n"
     ]
    }
   ],
   "source": [
    "blob.download(\"sentinel-2_image_demo\")\n",
    "!ls -l sentinel-2_l2a_nir_red.tif\n",
    "!md5sum sentinel-2_l2a_nir_red.tif"
   ]
  },
  {
   "cell_type": "markdown",
   "id": "1168c52c",
   "metadata": {},
   "source": [
    "You can also download in raw bytes:"
   ]
  },
  {
   "cell_type": "code",
   "execution_count": 13,
   "id": "10e3eea3",
   "metadata": {
    "tags": []
   },
   "outputs": [
    {
     "name": "stdout",
     "output_type": "stream",
     "text": [
      "b'{\"crop\": \"hops\", \"acreage\": 450}'\n"
     ]
    }
   ],
   "source": [
    "print(blob.data())"
   ]
  },
  {
   "cell_type": "markdown",
   "id": "26982582",
   "metadata": {},
   "source": [
    "It's also possible to do streaming, iterative downloads. The `iter_data()` method iterates on chunks of bytes, while the `iter_lines()` method iterates on delimited lines.\n",
    "\n",
    "Let's quickly create a multi-line text file and push it to storage:"
   ]
  },
  {
   "cell_type": "code",
   "execution_count": 14,
   "id": "54be67d4",
   "metadata": {
    "tags": []
   },
   "outputs": [
    {
     "name": "stdout",
     "output_type": "stream",
     "text": [
      "-rw-r--r-- 1 jovyan jovyan 38 May 17 19:46 some_file\n",
      "fa939c0e9a504cd9d395a93b77e496fd  some_file\n"
     ]
    }
   ],
   "source": [
    "with open(\"some_file\", \"w\") as f:\n",
    "    f.write(\"This is some text.\\nThis is some more.\\n\")\n",
    "!ls -l some_file\n",
    "!md5sum some_file"
   ]
  },
  {
   "cell_type": "code",
   "execution_count": 15,
   "id": "ca3f40da",
   "metadata": {
    "tags": []
   },
   "outputs": [
    {
     "data": {
      "text/plain": [
       "Blob: its-a-file_demo\n",
       "  id: data/descarteslabs:some-project/its-a-file_demo\n",
       "  created: Wed May 17 19:46:48 2023"
      ]
     },
     "execution_count": 15,
     "metadata": {},
     "output_type": "execute_result"
    }
   ],
   "source": [
    "multi_blob = Blob(\n",
    "    namespace=\"some-project\",\n",
    "    name=\"its-a-file_demo\",\n",
    "    size_bytes=38,\n",
    "    hash=\"fa939c0e9a504cd9d395a93b77e496fd\",\n",
    "    readers=[\"group:thecoolones\"]\n",
    ")\n",
    "multi_blob.upload(\"some_file\")\n",
    "multi_blob"
   ]
  },
  {
   "cell_type": "code",
   "execution_count": 16,
   "id": "ec48b87d",
   "metadata": {
    "tags": []
   },
   "outputs": [
    {
     "name": "stdout",
     "output_type": "stream",
     "text": [
      "0 This is some text.\n",
      "1 This is some more.\n"
     ]
    }
   ],
   "source": [
    "for lineno, line in enumerate(multi_blob.iter_lines(decode_unicode=True)):\n",
    "    print(f\"{lineno} {line}\")"
   ]
  },
  {
   "cell_type": "markdown",
   "id": "482cf802",
   "metadata": {},
   "source": [
    "### Sharing Blob objects\n",
    "As with Catalog products, you can add specific organizations or users as readers or writers to your `Blob` objects to give others access. Simply update the `.readers`, `.writers`, ...etc. then save the `Blob` using `.save()`"
   ]
  },
  {
   "cell_type": "code",
   "execution_count": 44,
   "id": "4491657f",
   "metadata": {},
   "outputs": [],
   "source": [
    "# Adding coworker and org as readers for previously stored GeoTiff file\n",
    "file_blob.readers = [\"email:rockstar@wherewework.com\", \"org:wherewework\"]\n",
    "file_blob.readers\n",
    "file_blob.save()"
   ]
  },
  {
   "cell_type": "markdown",
   "id": "e8864e58",
   "metadata": {},
   "source": [
    "### Deleting blob files\n",
    "`Blob`s can be deleted using the Catalog module search methods we used earlier."
   ]
  },
  {
   "cell_type": "code",
   "execution_count": 17,
   "id": "f5fe9df5",
   "metadata": {
    "collapsed": true,
    "jupyter": {
     "outputs_hidden": true
    },
    "tags": []
   },
   "outputs": [
    {
     "ename": "ServerError",
     "evalue": "\n    Access denied: No delete permission for object: data/descarteslabs/hop_field_info",
     "output_type": "error",
     "traceback": [
      "\u001b[0;31m---------------------------------------------------------------------------\u001b[0m",
      "\u001b[0;31mServerError\u001b[0m                               Traceback (most recent call last)",
      "Cell \u001b[0;32mIn[17], line 3\u001b[0m\n\u001b[1;32m      1\u001b[0m \u001b[38;5;66;03m# Delete by tags\u001b[39;00m\n\u001b[1;32m      2\u001b[0m \u001b[38;5;28;01mfor\u001b[39;00m b \u001b[38;5;129;01min\u001b[39;00m Blob\u001b[38;5;241m.\u001b[39msearch()\u001b[38;5;241m.\u001b[39mfilter(properties\u001b[38;5;241m.\u001b[39mtags \u001b[38;5;241m==\u001b[39m \u001b[38;5;124m\"\u001b[39m\u001b[38;5;124mhops_project\u001b[39m\u001b[38;5;124m\"\u001b[39m):\n\u001b[0;32m----> 3\u001b[0m     \u001b[43mb\u001b[49m\u001b[38;5;241;43m.\u001b[39;49m\u001b[43mdelete\u001b[49m\u001b[43m(\u001b[49m\u001b[43m)\u001b[49m\n\u001b[1;32m      4\u001b[0m \u001b[38;5;66;03m# Delete by project namespace\u001b[39;00m\n\u001b[1;32m      5\u001b[0m \u001b[38;5;28;01mfor\u001b[39;00m b \u001b[38;5;129;01min\u001b[39;00m Blob\u001b[38;5;241m.\u001b[39msearch()\u001b[38;5;241m.\u001b[39mfilter(properties\u001b[38;5;241m.\u001b[39mnamespace \u001b[38;5;241m==\u001b[39m \u001b[38;5;124m\"\u001b[39m\u001b[38;5;124mhop_yields_project\u001b[39m\u001b[38;5;124m\"\u001b[39m):\n",
      "File \u001b[0;32m/usr/local/lib/python3.8/site-packages/descarteslabs/core/catalog/catalog_base.py:64\u001b[0m, in \u001b[0;36mcheck_deleted.<locals>.wrapper\u001b[0;34m(self, *args, **kwargs)\u001b[0m\n\u001b[1;32m     62\u001b[0m     \u001b[38;5;28;01mraise\u001b[39;00m DeletedObjectError(\u001b[38;5;124m\"\u001b[39m\u001b[38;5;124mThis catalog object has been deleted.\u001b[39m\u001b[38;5;124m\"\u001b[39m)\n\u001b[1;32m     63\u001b[0m \u001b[38;5;28;01mtry\u001b[39;00m:\n\u001b[0;32m---> 64\u001b[0m     \u001b[38;5;28;01mreturn\u001b[39;00m \u001b[43mf\u001b[49m\u001b[43m(\u001b[49m\u001b[38;5;28;43mself\u001b[39;49m\u001b[43m,\u001b[49m\u001b[43m \u001b[49m\u001b[38;5;241;43m*\u001b[39;49m\u001b[43margs\u001b[49m\u001b[43m,\u001b[49m\u001b[43m \u001b[49m\u001b[38;5;241;43m*\u001b[39;49m\u001b[38;5;241;43m*\u001b[39;49m\u001b[43mkwargs\u001b[49m\u001b[43m)\u001b[49m\n\u001b[1;32m     65\u001b[0m \u001b[38;5;28;01mexcept\u001b[39;00m NotFoundError \u001b[38;5;28;01mas\u001b[39;00m e:\n\u001b[1;32m     66\u001b[0m     \u001b[38;5;28mself\u001b[39m\u001b[38;5;241m.\u001b[39m_deleted \u001b[38;5;241m=\u001b[39m \u001b[38;5;28;01mTrue\u001b[39;00m\n",
      "File \u001b[0;32m/usr/local/lib/python3.8/site-packages/descarteslabs/core/catalog/catalog_base.py:971\u001b[0m, in \u001b[0;36mCatalogObjectBase._instance_delete\u001b[0;34m(self)\u001b[0m\n\u001b[1;32m    968\u001b[0m \u001b[38;5;28;01mif\u001b[39;00m \u001b[38;5;28mself\u001b[39m\u001b[38;5;241m.\u001b[39mstate \u001b[38;5;241m==\u001b[39m DocumentState\u001b[38;5;241m.\u001b[39mUNSAVED:\n\u001b[1;32m    969\u001b[0m     \u001b[38;5;28;01mraise\u001b[39;00m UnsavedObjectError(\u001b[38;5;124m\"\u001b[39m\u001b[38;5;124mYou cannot delete an unsaved object.\u001b[39m\u001b[38;5;124m\"\u001b[39m)\n\u001b[0;32m--> 971\u001b[0m \u001b[38;5;28;43mself\u001b[39;49m\u001b[38;5;241;43m.\u001b[39;49m\u001b[43m_client\u001b[49m\u001b[38;5;241;43m.\u001b[39;49m\u001b[43msession\u001b[49m\u001b[38;5;241;43m.\u001b[39;49m\u001b[43mdelete\u001b[49m\u001b[43m(\u001b[49m\u001b[38;5;28;43mself\u001b[39;49m\u001b[38;5;241;43m.\u001b[39;49m\u001b[43m_url\u001b[49m\u001b[43m \u001b[49m\u001b[38;5;241;43m+\u001b[39;49m\u001b[43m \u001b[49m\u001b[38;5;124;43m\"\u001b[39;49m\u001b[38;5;124;43m/\u001b[39;49m\u001b[38;5;124;43m\"\u001b[39;49m\u001b[43m \u001b[49m\u001b[38;5;241;43m+\u001b[39;49m\u001b[43m \u001b[49m\u001b[38;5;28;43mself\u001b[39;49m\u001b[38;5;241;43m.\u001b[39;49m\u001b[43mid\u001b[49m\u001b[43m)\u001b[49m\n\u001b[1;32m    972\u001b[0m \u001b[38;5;28mself\u001b[39m\u001b[38;5;241m.\u001b[39m_deleted \u001b[38;5;241m=\u001b[39m \u001b[38;5;28;01mTrue\u001b[39;00m\n",
      "File \u001b[0;32m/usr/local/lib/python3.8/site-packages/requests/sessions.py:669\u001b[0m, in \u001b[0;36mSession.delete\u001b[0;34m(self, url, **kwargs)\u001b[0m\n\u001b[1;32m    661\u001b[0m \u001b[38;5;28;01mdef\u001b[39;00m \u001b[38;5;21mdelete\u001b[39m(\u001b[38;5;28mself\u001b[39m, url, \u001b[38;5;241m*\u001b[39m\u001b[38;5;241m*\u001b[39mkwargs):\n\u001b[1;32m    662\u001b[0m \u001b[38;5;250m    \u001b[39m\u001b[38;5;124mr\u001b[39m\u001b[38;5;124;03m\"\"\"Sends a DELETE request. Returns :class:`Response` object.\u001b[39;00m\n\u001b[1;32m    663\u001b[0m \n\u001b[1;32m    664\u001b[0m \u001b[38;5;124;03m    :param url: URL for the new :class:`Request` object.\u001b[39;00m\n\u001b[1;32m    665\u001b[0m \u001b[38;5;124;03m    :param \\*\\*kwargs: Optional arguments that ``request`` takes.\u001b[39;00m\n\u001b[1;32m    666\u001b[0m \u001b[38;5;124;03m    :rtype: requests.Response\u001b[39;00m\n\u001b[1;32m    667\u001b[0m \u001b[38;5;124;03m    \"\"\"\u001b[39;00m\n\u001b[0;32m--> 669\u001b[0m     \u001b[38;5;28;01mreturn\u001b[39;00m \u001b[38;5;28;43mself\u001b[39;49m\u001b[38;5;241;43m.\u001b[39;49m\u001b[43mrequest\u001b[49m\u001b[43m(\u001b[49m\u001b[38;5;124;43m\"\u001b[39;49m\u001b[38;5;124;43mDELETE\u001b[39;49m\u001b[38;5;124;43m\"\u001b[39;49m\u001b[43m,\u001b[49m\u001b[43m \u001b[49m\u001b[43murl\u001b[49m\u001b[43m,\u001b[49m\u001b[43m \u001b[49m\u001b[38;5;241;43m*\u001b[39;49m\u001b[38;5;241;43m*\u001b[39;49m\u001b[43mkwargs\u001b[49m\u001b[43m)\u001b[49m\n",
      "File \u001b[0;32m/usr/local/lib/python3.8/site-packages/descarteslabs/core/client/services/service/service.py:404\u001b[0m, in \u001b[0;36mJsonApiSession.request\u001b[0;34m(self, *args, **kwargs)\u001b[0m\n\u001b[1;32m    356\u001b[0m \u001b[38;5;250m\u001b[39m\u001b[38;5;124;03m\"\"\"Sends an HTTP request and emits Descartes Labs specific errors.\u001b[39;00m\n\u001b[1;32m    357\u001b[0m \n\u001b[1;32m    358\u001b[0m \u001b[38;5;124;03mParameters\u001b[39;00m\n\u001b[0;32m   (...)\u001b[0m\n\u001b[1;32m    400\u001b[0m \u001b[38;5;124;03mhuman readable format.\u001b[39;00m\n\u001b[1;32m    401\u001b[0m \u001b[38;5;124;03m\"\"\"\u001b[39;00m\n\u001b[1;32m    403\u001b[0m \u001b[38;5;28;01mtry\u001b[39;00m:\n\u001b[0;32m--> 404\u001b[0m     resp \u001b[38;5;241m=\u001b[39m \u001b[38;5;28;43msuper\u001b[39;49m\u001b[43m(\u001b[49m\u001b[43mJsonApiSession\u001b[49m\u001b[43m,\u001b[49m\u001b[43m \u001b[49m\u001b[38;5;28;43mself\u001b[39;49m\u001b[43m)\u001b[49m\u001b[38;5;241;43m.\u001b[39;49m\u001b[43mrequest\u001b[49m\u001b[43m(\u001b[49m\u001b[38;5;241;43m*\u001b[39;49m\u001b[43margs\u001b[49m\u001b[43m,\u001b[49m\u001b[43m \u001b[49m\u001b[38;5;241;43m*\u001b[39;49m\u001b[38;5;241;43m*\u001b[39;49m\u001b[43mkwargs\u001b[49m\u001b[43m)\u001b[49m\n\u001b[1;32m    405\u001b[0m \u001b[38;5;28;01mexcept\u001b[39;00m (ClientError, ServerError) \u001b[38;5;28;01mas\u001b[39;00m error:\n\u001b[1;32m    406\u001b[0m     \u001b[38;5;28;01mif\u001b[39;00m \u001b[38;5;28mself\u001b[39m\u001b[38;5;241m.\u001b[39mrewrite_errors:\n",
      "File \u001b[0;32m/usr/local/lib/python3.8/site-packages/descarteslabs/core/common/http/session.py:349\u001b[0m, in \u001b[0;36mSession.request\u001b[0;34m(self, method, url, headers, **kwargs)\u001b[0m\n\u001b[1;32m    347\u001b[0m server_error \u001b[38;5;241m=\u001b[39m ServerError(resp\u001b[38;5;241m.\u001b[39mtext)\n\u001b[1;32m    348\u001b[0m server_error\u001b[38;5;241m.\u001b[39moriginal_status \u001b[38;5;241m=\u001b[39m resp\u001b[38;5;241m.\u001b[39mstatus_code\n\u001b[0;32m--> 349\u001b[0m \u001b[38;5;28;01mraise\u001b[39;00m server_error\n",
      "\u001b[0;31mServerError\u001b[0m: \n    Access denied: No delete permission for object: data/descarteslabs/hop_field_info"
     ]
    }
   ],
   "source": [
    "# Delete by tags\n",
    "for b in Blob.search().filter(properties.tags == \"hops_project\"):\n",
    "    b.delete()\n",
    "# Delete by project namespace\n",
    "for b in Blob.search().filter(properties.namespace == \"hop_yields_project\"):\n",
    "    b.delete()"
   ]
  },
  {
   "cell_type": "markdown",
   "id": "b1b9db33",
   "metadata": {},
   "source": [
    " Let's clean up our mess using the namespace for our personal account: "
   ]
  },
  {
   "cell_type": "code",
   "execution_count": 18,
   "id": "4f91f68b",
   "metadata": {
    "tags": []
   },
   "outputs": [],
   "source": [
    "# Delete all files\n",
    "for b in Blob.search().filter(properties.owners == \"user:\" + dl.auth.Auth().namespace):\n",
    "    b.delete()\n",
    "assert Blob.search().filter(properties.owners == \"user:\" + dl.auth.Auth().namespace).count() == 0"
   ]
  },
  {
   "cell_type": "markdown",
   "id": "30ba259b",
   "metadata": {},
   "source": [
    "*Note: all Blob objects created here are automatically available in your organization's namespace. Before sharing this demo with others in your org, delete all unnecessary created objects to prevent errors.*"
   ]
  }
 ],
 "metadata": {
  "kernelspec": {
   "display_name": "Python 3 (ipykernel)",
   "language": "python",
   "name": "python3"
  },
  "language_info": {
   "codemirror_mode": {
    "name": "ipython",
    "version": 3
   },
   "file_extension": ".py",
   "mimetype": "text/x-python",
   "name": "python",
   "nbconvert_exporter": "python",
   "pygments_lexer": "ipython3",
   "version": "3.8.16"
  }
 },
 "nbformat": 4,
 "nbformat_minor": 5
}

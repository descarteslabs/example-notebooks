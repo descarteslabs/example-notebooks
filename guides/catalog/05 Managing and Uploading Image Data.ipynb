{
 "cells": [
  {
   "cell_type": "markdown",
   "id": "33a4a50b-f7b9-4e57-ba0a-775c13262312",
   "metadata": {},
   "source": [
    "# Managing images\n",
    "Apart from searching and discovering data available to you, catalog enables you to upload new images of your own."
   ]
  },
  {
   "cell_type": "markdown",
   "id": "b4e74601-b6e6-44b8-bf72-74bcaf9985d8",
   "metadata": {},
   "source": [
    "## Creating images\n",
    "There are two general mechanisms of creating images in the catalog. Upload is the primary mechanism for creating images, either by uploading supported image files types such as GeoTIFF or JPEG, or by uploading image data in the form of a numpy ndarray. The other mechanism is to create “remote” image entries in the catalog without supplying the actual image data."
   ]
  },
  {
   "cell_type": "markdown",
   "id": "67912fb9-cd79-456f-93a9-0cbc740a3f81",
   "metadata": {},
   "source": [
    "### Uploading image files\n",
    "If your data already exists on disk as an image file, usually a GeoTIFF or JPEG file, you can upload it directly.\n",
    "\n",
    "In the following examples we will upload data with a single band representing the blue light spectrum. First let’s create a product and band corresponding to that:"
   ]
  },
  {
   "cell_type": "code",
   "execution_count": null,
   "id": "fa0c5c6a-13cd-4703-8f75-279e9ce93890",
   "metadata": {},
   "outputs": [],
   "source": [
    "# Create a product\n",
    "from descarteslabs.catalog import (\n",
    "    Band,\n",
    "    DataType,\n",
    "    Product,\n",
    "    Resolution,\n",
    "    ResolutionUnit,\n",
    "    SpectralBand,\n",
    ")\n",
    "from uuid import uuid4\n",
    "\n",
    "product = Product(id=f\"guide-example-product-{uuid4()}\", name=\"Example product\")\n",
    "product.save()\n",
    "print(product.id)\n",
    "# Create a band\n",
    "band = SpectralBand(name=\"blue\", product=product)\n",
    "band.data_type = DataType.UINT16\n",
    "band.data_range = (0, 10000)\n",
    "band.display_range = (0, 4000)\n",
    "band.resolution = Resolution(unit=ResolutionUnit.METERS, value=60)\n",
    "band.band_index = 0\n",
    "band.save()"
   ]
  },
  {
   "cell_type": "markdown",
   "id": "cd9e6f23-018c-4bea-909e-b718d2c061cf",
   "metadata": {},
   "source": [
    "Now you create a new image and use `image.upload()` to upload imagery to the new product. This returns a ImageUpload. Images are uploaded and processed asynchronously, so they are not available in the catalog immediately. With `upload.wait_for_completion()` we wait until the upload is completely finished."
   ]
  },
  {
   "cell_type": "code",
   "execution_count": null,
   "id": "246add35-f0ed-48a9-9cac-b2865a0a7832",
   "metadata": {},
   "outputs": [],
   "source": [
    "from descarteslabs.catalog import Image\n",
    "\n",
    "# Set any attributes that should be set on the uploaded images\n",
    "image = Image(product=product, name=\"image1\")\n",
    "image.acquired = \"2012-01-02\"\n",
    "image.cloud_fraction = 0.1\n",
    "# Do the upload\n",
    "image_path = \"data/blue.tif\"\n",
    "upload = image.upload(image_path)\n",
    "upload.wait_for_completion()\n",
    "upload.status"
   ]
  },
  {
   "cell_type": "markdown",
   "id": "f869459e-16f4-4496-8602-e5673214a230",
   "metadata": {},
   "source": [
    "### Uploading ndarrays\n",
    "Often, when creating derived product - for example, running a classification model on existing data - you’ll have a NumPy array (often referred to as “ndarrays”) in memory instead of a file written to disk. In that case, you can use `upload_ndarray()`. This method behaves like `upload()`, with one key difference: you must provide georeferencing attributes for the ndarray.\n",
    "\n",
    "Georeferencing attributes are used to map between geospatial coordinates (such as latitude and longitude) and their corresponding pixel coordinates in the array. The required attributes are:\n",
    "\n",
    "An affine geotransform in GDAL format (the `geotrans` attribute)\n",
    "A coordinate reference system definition, preferrably as an EPSG code (the `cs_code` attribute) or alternatively as a string in PROJ.4 or WKT format (the `projection` attribute)\n",
    "If the ndarray you’re uploading was rastered through the the platform, this information is easy to get. When rastering you also receive a dictionary of metadata that includes both of these parameters. Using the `Image.ndarray()`, you have to set `raster_info=True`; with `Raster.ndarray()`, it’s always returned.\n",
    "\n",
    "The following example puts these pieces together. This extracts the blue band from a Landsat 8 scene at a lower resolution and uploads it to our product:"
   ]
  },
  {
   "cell_type": "code",
   "execution_count": null,
   "id": "5aaf683b-11b7-4d70-94df-8da561613671",
   "metadata": {},
   "outputs": [],
   "source": [
    "from descarteslabs.catalog import OverviewResampler\n",
    "\n",
    "image = Image.get(\n",
    "    \"usgs:landsat:oli-tirs:c2:l2:v0:LC08_L2SP_197031_20230106_20230110_02_T1\"\n",
    ")\n",
    "ndarray, raster_meta = image.ndarray(\"blue\", resolution=60, raster_info=True)\n",
    "image2 = Image(product=product, name=\"image2\")\n",
    "image2.acquired = image.acquired\n",
    "upload2 = image2.upload_ndarray(\n",
    "    ndarray,\n",
    "    raster_meta=raster_meta,\n",
    "    # create overviews for 120m and 240m resolution\n",
    "    overviews=[2, 4],\n",
    "    overview_resampler=OverviewResampler.AVERAGE,\n",
    ")\n",
    "upload2.wait_for_completion()\n",
    "upload2.status"
   ]
  },
  {
   "cell_type": "markdown",
   "id": "ae59c5eb-e06f-46d1-be9b-e18957f4e98a",
   "metadata": {},
   "source": [
    "The rastered ndarray here is a three-dimensional array in the shape (band, x, y) - the first axis corresponds to the band number. `upload_ndarray()` expects an array in that shape and will raise a warning if thinks the shape of the array is wrong. If the given array is two-dimensional it will assume you’re uploading a single band image.\n",
    "\n",
    "This also specifies typically useful values for `overviews` and `overview_resampler`. Overviews allow the platform to raster your image faster at non-native resolutions, at the cost of more storage and a longer initial upload processing time to calculate the overviews.\n",
    "\n",
    "The overviews argument specifies a list of up to 16 different resolution magnification factors to calulate overviews for. E.g. `overviews=[2,4]` calculates two overviews at 2x and 4x the native resolution. The `overview_resampler` argument specifies the algorithm to use when calculating overviews, see `upload_ndarray()` for which algorithms can be used."
   ]
  },
  {
   "cell_type": "markdown",
   "id": "05a86f60-7ed9-4541-bdcc-48e22333f4b0",
   "metadata": {},
   "source": [
    "### Updating images\n",
    "The image created in the previous example is now available in the Catalog. We can look it up and update any of its attributes like any other catalog object:"
   ]
  },
  {
   "cell_type": "code",
   "execution_count": null,
   "id": "c7dc141d-6b4a-4106-ad6b-792b36ac6824",
   "metadata": {},
   "outputs": [],
   "source": [
    "image2 = Image.get(image2.id)\n",
    "image2.cloud_fraction = 0.2\n",
    "image2.save()"
   ]
  },
  {
   "cell_type": "markdown",
   "id": "5af9d331-52c3-4073-8ef2-0b2a290e3f7e",
   "metadata": {},
   "source": [
    "To update the underlying file data, you will need to upload a new file or ndarray. However you must utilize a new unsaved Image instance (using the original product id and image name) along with the `overwrite=True` parameter. The reason for this is the original image which is now saved in the catalog contains many computed values, which may be different from those which would be computed from the new upload. There is no way for the catalog to know if you intend to reuse the original values or compute new values for these attributes. Also be aware that using the `overwrite=True` parameter can lead to data cache inconsistencies in the platform which may last a while, so it should be used sparingly with no expectation of seeing the updated data immediately."
   ]
  },
  {
   "cell_type": "markdown",
   "id": "4dacd3b2-2cae-433f-8124-e9dfd016b8f7",
   "metadata": {
    "tags": []
   },
   "source": [
    "## Tags & extra attributes\n",
    "The image attributes you can set, filter by and sort on are documented on the `Image` class. If you have other structured metadata to attach with your images you can use `extra_properties`:"
   ]
  },
  {
   "cell_type": "code",
   "execution_count": null,
   "id": "cea9d4a0-c64c-48fc-9fd4-bed6864d4880",
   "metadata": {},
   "outputs": [],
   "source": [
    "image2.extra_properties = {\n",
    "    \"processing_time\": 120,\n",
    "    \"quality\": 0.5,\n",
    "    \"reviewer\": \"joe@acme.com\",\n",
    "}\n",
    "\n",
    "image2.save()"
   ]
  },
  {
   "cell_type": "markdown",
   "id": "25f4c91a-669e-4c21-b452-3d83eadfc2b1",
   "metadata": {},
   "source": [
    "`extra_properties` is a dictionary with string keys and values of any type that can be JSON-serialized (booleans, numbers, strings, lists, dictionaries).\n",
    "\n",
    "Note that you cannot filter or sort images by `extra_properties`. Use `tags` if you have a finite discrete number of custom values you’d like to filter by:"
   ]
  },
  {
   "cell_type": "code",
   "execution_count": null,
   "id": "c7ea927c-21cb-49fc-b495-3411650974f0",
   "metadata": {},
   "outputs": [],
   "source": [
    "from descarteslabs.catalog import properties as p\n",
    "\n",
    "image2.tags = [\"temporary\", \"guide\"]\n",
    "image2.save()\n",
    "\n",
    "# Find all images in the product tagged \"temporary\"\n",
    "search = product.images().filter(p.tags == \"temporary\")\n",
    "for image in search:\n",
    "    print(image)"
   ]
  },
  {
   "cell_type": "code",
   "execution_count": null,
   "id": "ebece3ff-ac23-43c9-9a1b-13e26329fbf1",
   "metadata": {},
   "outputs": [],
   "source": []
  }
 ],
 "metadata": {
  "kernelspec": {
   "display_name": "Python 3 (ipykernel)",
   "language": "python",
   "name": "python3"
  },
  "language_info": {
   "codemirror_mode": {
    "name": "ipython",
    "version": 3
   },
   "file_extension": ".py",
   "mimetype": "text/x-python",
   "name": "python",
   "nbconvert_exporter": "python",
   "pygments_lexer": "ipython3",
   "version": "3.8.16"
  }
 },
 "nbformat": 4,
 "nbformat_minor": 5
}

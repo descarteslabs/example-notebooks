{
 "cells": [
  {
   "cell_type": "code",
   "execution_count": null,
   "id": "2fbdc5b5-0201-45be-aa55-ce9afba4dcd0",
   "metadata": {},
   "outputs": [],
   "source": [
    "import descarteslabs as dl\n",
    "from descarteslabs.vector import Feature, Table, TableOptions, models\n",
    "from pydantic import Field"
   ]
  },
  {
   "cell_type": "code",
   "execution_count": null,
   "id": "ba99c6ab-9c13-4bfd-a49d-b2fc55e9109a",
   "metadata": {
    "tags": []
   },
   "outputs": [],
   "source": [
    "import requests\n",
    "import geopandas as gpd"
   ]
  },
  {
   "cell_type": "code",
   "execution_count": null,
   "id": "9dad260d-1f96-44c9-8cda-ce85025ce8b2",
   "metadata": {
    "tags": []
   },
   "outputs": [],
   "source": [
    "org = dl.auth.Auth().payload[\"org\"]"
   ]
  },
  {
   "cell_type": "code",
   "execution_count": null,
   "id": "acccb67a-9789-4616-b66c-f81f431a53c0",
   "metadata": {
    "tags": []
   },
   "outputs": [],
   "source": [
    "gdf = gpd.read_parquet(\"data/countries.geoparquet\")\n",
    "gdf.plot(figsize=(10, 5))"
   ]
  },
  {
   "cell_type": "code",
   "execution_count": null,
   "id": "b0a46039-383b-4b8b-9452-2f40616e1342",
   "metadata": {
    "tags": []
   },
   "outputs": [],
   "source": [
    "gdf.head(5)"
   ]
  },
  {
   "cell_type": "code",
   "execution_count": null,
   "id": "a1d44992-5ae4-450f-9105-8c85903200d3",
   "metadata": {
    "tags": []
   },
   "outputs": [],
   "source": [
    "gdf.info()"
   ]
  },
  {
   "cell_type": "markdown",
   "id": "a698477f-2389-4e03-9302-2bc3d9fcd63c",
   "metadata": {
    "tags": []
   },
   "source": [
    "## Table Models\n",
    "\n",
    "* Subclasses the pydantic model\n",
    "* geometry by default"
   ]
  },
  {
   "cell_type": "code",
   "execution_count": null,
   "id": "eee79c5a-4501-409d-94a0-a8edee8cc4b1",
   "metadata": {},
   "outputs": [],
   "source": [
    "class CountryModel(models.MultiPolygonBaseModel):\n",
    "    NAME: str = Field(json_schema_extra={\"index\": True})\n",
    "    REGION_UN: str\n",
    "    CONTINENT: str\n",
    "    POP_EST: float\n",
    "    LASTCENSUS: float"
   ]
  },
  {
   "cell_type": "code",
   "execution_count": null,
   "id": "c24d2a8f-9f78-4307-9160-42317243f5b5",
   "metadata": {
    "tags": []
   },
   "outputs": [],
   "source": [
    "# create the table with the default generic feature model\n",
    "the_world = Table.create(\n",
    "    \"the-world\", name=\"The World\", owners=[\"org:descarteslabs\"], model=CountryModel\n",
    ")"
   ]
  },
  {
   "cell_type": "code",
   "execution_count": null,
   "id": "0fafd409-2ec1-4ff3-959e-ea6cc8d693e6",
   "metadata": {
    "tags": []
   },
   "outputs": [],
   "source": [
    "borders = the_world.add(gdf)"
   ]
  },
  {
   "cell_type": "code",
   "execution_count": null,
   "id": "1bbade47-7248-4d1d-ace7-d3bc24e79d3c",
   "metadata": {
    "tags": []
   },
   "outputs": [],
   "source": [
    "print(the_world.description)\n",
    "the_world.description = \"Country boundaries for the world.\"\n",
    "the_world.save()\n",
    "print(the_world.description)"
   ]
  },
  {
   "cell_type": "code",
   "execution_count": null,
   "id": "554b9c87-0c3e-42dc-9c29-b1e68105d0ad",
   "metadata": {
    "tags": []
   },
   "outputs": [],
   "source": [
    "# add readers to the product\n",
    "print(the_world.readers)\n",
    "the_world.readers.append(\"org:pga-tour\")\n",
    "the_world.save()\n",
    "print(the_world.readers)"
   ]
  },
  {
   "cell_type": "code",
   "execution_count": null,
   "id": "6cb15d81-932a-4f3c-9717-a1718904f2ed",
   "metadata": {
    "tags": []
   },
   "outputs": [],
   "source": [
    "# these are equivalent access patterns\n",
    "feat1 = Feature.get(f\"{the_world.id}:{borders.iloc[0].uuid}\")\n",
    "feat2 = the_world.get_feature(borders.iloc[0].uuid)\n",
    "assert feat1.values == feat2.values"
   ]
  },
  {
   "cell_type": "code",
   "execution_count": null,
   "id": "34b39506-0a68-43ba-994b-4e609780009e",
   "metadata": {
    "tags": []
   },
   "outputs": [],
   "source": [
    "# modify the geometry\n",
    "feat1.values[\"geometry\"] = feat1.values[\"geometry\"].convex_hull"
   ]
  },
  {
   "cell_type": "code",
   "execution_count": null,
   "id": "0b3e55ba-e8ba-4d84-b769-0299700aa9c1",
   "metadata": {
    "tags": []
   },
   "outputs": [],
   "source": [
    "# modify the population column\n",
    "feat1.values[\"POP_EST\"] += 10000"
   ]
  },
  {
   "cell_type": "code",
   "execution_count": null,
   "id": "3db6cd70-e936-4bdb-92ae-f3da32de7b6b",
   "metadata": {
    "tags": []
   },
   "outputs": [],
   "source": [
    "# save the feature\n",
    "feat1.save()"
   ]
  },
  {
   "cell_type": "code",
   "execution_count": null,
   "id": "1f76d872-7e9b-45c1-905c-160877198fe7",
   "metadata": {
    "tags": []
   },
   "outputs": [],
   "source": [
    "# retrieve the Feature once again to verify the modifications\n",
    "feat1 = Feature.get(f\"{the_world.id}:{borders.iloc[0].uuid}\")\n",
    "feat1.values"
   ]
  },
  {
   "cell_type": "code",
   "execution_count": null,
   "id": "28ea86f9-205b-4109-8a38-b2391a7b23cb",
   "metadata": {
    "tags": []
   },
   "outputs": [],
   "source": [
    "table = Table.get(f\"{org}:the-world\")\n",
    "table.delete()"
   ]
  },
  {
   "cell_type": "code",
   "execution_count": null,
   "id": "520274b5-09d3-4db0-8055-2a732105f79e",
   "metadata": {},
   "outputs": [],
   "source": []
  }
 ],
 "metadata": {
  "kernelspec": {
   "display_name": "Python 3 (ipykernel)",
   "language": "python",
   "name": "python3"
  },
  "language_info": {
   "codemirror_mode": {
    "name": "ipython",
    "version": 3
   },
   "file_extension": ".py",
   "mimetype": "text/x-python",
   "name": "python",
   "nbconvert_exporter": "python",
   "pygments_lexer": "ipython3",
   "version": "3.9.18"
  }
 },
 "nbformat": 4,
 "nbformat_minor": 5
}

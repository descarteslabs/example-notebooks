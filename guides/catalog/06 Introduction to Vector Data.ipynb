{
 "cells": [
  {
   "cell_type": "markdown",
   "id": "36278bab-2f81-48c4-a6f8-e88f5d6ad68e",
   "metadata": {},
   "source": [
    "# Vector\n",
    "`Vector` is a catalog for vector data. It enables users to store, query, and display vector data — which includes everything from fault lines to thermal anomalies to material spectra to ML detections.\n",
    "\n",
    "This quick-start guide provides examples to demonstrate some of the basic features of `Vector`. This guide's prerequisite is a notebook environment that includes the `Descartes Labs` Python client and supports `ipyleaflet`. `Vector` tables consist of features, which themselves consist of a `geometry` and `properties`. Features are encoded as `GeoJSON` and support the following geometry types: `Point, MultiPoint, Line, LineString, MultiLine, MultiLineString, Polygon, MultiPolygon,` and `GeometryCollection`.\n",
    "\n",
    "`Vector` is available within the Descartes Labs client and can be imported into a notebook with the following:"
   ]
  },
  {
   "cell_type": "code",
   "execution_count": null,
   "id": "d068891a-371c-4257-b95d-130466823bf4",
   "metadata": {},
   "outputs": [],
   "source": [
    "import descarteslabs as dl\n",
    "from descarteslabs import vector"
   ]
  },
  {
   "cell_type": "markdown",
   "id": "b4a8e128-0265-49ef-937f-420ac5bc88de",
   "metadata": {},
   "source": [
    "## Creating a Vector Table\n",
    "Vector tables which a user has read access at minimum can be listed by using the list() method."
   ]
  },
  {
   "cell_type": "code",
   "execution_count": null,
   "id": "473bc36f-b6a6-4f1d-a64b-8b7e293c4a45",
   "metadata": {},
   "outputs": [],
   "source": [
    "for table in vector.Table.list():\n",
    "    print(table.tid())"
   ]
  },
  {
   "cell_type": "markdown",
   "id": "311ac397-cb82-4948-8231-ed8d702e0388",
   "metadata": {},
   "source": [
    "In the above code example, the `tid()` method is being called with each iteration, which will return the Vector table ID. Vector table IDs must be unique within a given organization."
   ]
  },
  {
   "cell_type": "markdown",
   "id": "40653534-7800-46ad-8a57-341bbec64e17",
   "metadata": {},
   "source": [
    "As this is an example notebook and table IDs must be unique, any existing Vector table with the same table ID for this example will we will first be deleted."
   ]
  },
  {
   "cell_type": "code",
   "execution_count": null,
   "id": "302253db-095e-4643-a804-afd30c7ab006",
   "metadata": {},
   "outputs": [],
   "source": [
    "orgname = dl.auth.Auth().payload[\"org\"]\n",
    "for table in vector.Table.list():\n",
    "    if table.tid() == f\"{orgname}:us-counties\":\n",
    "        print(f\"Deleting {table}\")\n",
    "        table.delete()"
   ]
  },
  {
   "cell_type": "markdown",
   "id": "726f10a8-e0a3-405e-9576-5cba14386158",
   "metadata": {},
   "source": [
    "In the code above, Vector tables are listed and iterated over. If a table already exists with the table ID equivalent to us-counties, it will be deleted by calling the `delete()` method.\n",
    "\n",
    "With any potential duplicate tables now deleted, a Vector table can created by executing the following code:"
   ]
  },
  {
   "cell_type": "code",
   "execution_count": null,
   "id": "4c2ad586-4000-4f90-a455-67831b764e65",
   "metadata": {},
   "outputs": [],
   "source": [
    "table = vector.Table.create(\n",
    "    \"us-counties\", \"US Counties\"  # ID for the table  # Name for the table\n",
    ")"
   ]
  },
  {
   "cell_type": "markdown",
   "id": "2b8c59a7-9ed1-409d-a215-cd7e5c036fa1",
   "metadata": {},
   "source": [
    "In this example, a Vector table was created by invoking the `create()` method. This method requires a table ID, which will be prefixed with `YOURORGNAME:`, and a table name. For this example, the table will hold information pertaining to US counties. A table object will be returned upon success."
   ]
  },
  {
   "cell_type": "markdown",
   "id": "f545dbf6-1c96-41f3-b2e6-adcfaddce423",
   "metadata": {},
   "source": [
    "## Ingesting Data\n",
    "With the Vector table created, the table can be populated with features using the following code:\n"
   ]
  },
  {
   "cell_type": "code",
   "execution_count": null,
   "id": "2b9af464-6fe8-466d-90fa-2b1e8f34b920",
   "metadata": {},
   "outputs": [],
   "source": [
    "import requests\n",
    "\n",
    "url = \"https://gist.githubusercontent.com/sdwfrost/d1c73f91dd9d175998ed166eb216994a/raw/e89c35f308cee7e2e5a784e1d3afc5d449e9e4bb/counties.geojson\"\n",
    "response = requests.get(url)\n",
    "feature_collection = response.json()\n",
    "_ = table.add(feature_collection)"
   ]
  },
  {
   "cell_type": "markdown",
   "id": "fcf33753-0d28-483d-9712-bb731a1de553",
   "metadata": {},
   "source": [
    "In the above code snippet, a GeoJSON feature collection was downloaded from a webpage. The feature collection was then added to the table with the `add()` method. In this case, the feature collection is polygons of US counties."
   ]
  },
  {
   "cell_type": "markdown",
   "id": "333db364-1b62-46cf-b7e3-75ec11a3f026",
   "metadata": {},
   "source": [
    "## Querying Data\n",
    "After a table has been populated with features, the table can be queried using a combination of spatial and property filtering."
   ]
  },
  {
   "cell_type": "markdown",
   "id": "fd279fa4-34b2-4b91-bdd6-82a55c65ad9f",
   "metadata": {},
   "source": [
    "### Spatial Filter\n",
    "The comparison geometry can be represented as a GeoJSON feature. In the code below, an AOI is being created for the southwestern US.\n",
    "\n"
   ]
  },
  {
   "cell_type": "code",
   "execution_count": null,
   "id": "bf6c377e-f13b-434d-b27b-1038f8d71e2d",
   "metadata": {},
   "outputs": [],
   "source": [
    "aoi = {\n",
    "    \"type\": \"Polygon\",\n",
    "    \"coordinates\": [\n",
    "        [\n",
    "            [-109.63936670604541, 33.07321249994284],\n",
    "            [-99.18198027219883, 33.07321249994284],\n",
    "            [-99.18198027219883, 39.037426282400816],\n",
    "            [-109.63936670604541, 39.037426282400816],\n",
    "            [-109.63936670604541, 33.07321249994284],\n",
    "        ]\n",
    "    ],\n",
    "}"
   ]
  },
  {
   "cell_type": "markdown",
   "id": "0ee182b0-2155-4a45-ac3c-5551fc565d9e",
   "metadata": {},
   "source": [
    "The AOI can then be used to perform a spatial intersection against the features in the table by using the following:\n"
   ]
  },
  {
   "cell_type": "code",
   "execution_count": null,
   "id": "3d2efa1b-d420-465f-9a7a-4c5491479363",
   "metadata": {},
   "outputs": [],
   "source": [
    "import geopandas as gpd\n",
    "\n",
    "feature_search = table.features()\n",
    "feature_search = feature_search.intersects(aoi)\n",
    "feature_collection = feature_search.collect()\n",
    "gdf = gpd.GeoDataFrame.from_features(feature_collection.features_list())\n",
    "gdf"
   ]
  },
  {
   "cell_type": "markdown",
   "id": "3625b2d0-3493-4e33-80c5-cc85206cf945",
   "metadata": {},
   "source": [
    "In the example above, invoking the `features()` method returns a search object. Spatial filters can be applied to the search object to construct queries. In this case, the `intersects()` method has been called with the AOI as input. Once th query has been constructed, the `collect()` method can be invoked to execute the query and fetch the results as a feature collection. This feature collection can then be converted to a `GeoPandas` dataframe for further scrutiny."
   ]
  },
  {
   "cell_type": "markdown",
   "id": "7174e1c5-46ab-429a-990c-da642f51e333",
   "metadata": {},
   "source": [
    "### Property Filter\n",
    "Aspatial or property filtering leverages the DL client's property filters and can be applied with the following:"
   ]
  },
  {
   "cell_type": "code",
   "execution_count": null,
   "id": "aa28622d-66ab-4c42-8ff7-715d0b7d4093",
   "metadata": {},
   "outputs": [],
   "source": [
    "p = dl.utils.Properties()\n",
    "feature_search = table.features()\n",
    "feature_search = feature_search.filter(p.NAME == \"Santa Fe\")\n",
    "feature_collection = feature_search.collect()\n",
    "gdf = gpd.GeoDataFrame.from_features(feature_collection.features_list())\n",
    "gdf"
   ]
  },
  {
   "cell_type": "markdown",
   "id": "f3ec00d1-0b38-4ee6-b16b-ca5f261af0ca",
   "metadata": {},
   "source": [
    "In this example, invoking the `features()` method returns a search object. To construct queries, property filters can be applied to the search object using the `filter()` method. Calling the `collect()` method will then execute the query and retreive the results as a feature collection. This feature collection can then be converted to a `GeoPandas` dataframe for further visualization and analysis."
   ]
  },
  {
   "cell_type": "markdown",
   "id": "948a4cd3-893f-43e0-8d43-5f986c9a7326",
   "metadata": {},
   "source": [
    "### Spatial and Property Filter\n",
    "Spatial and property filtering can be combined to create more complex queries:"
   ]
  },
  {
   "cell_type": "code",
   "execution_count": null,
   "id": "61a25c70-389b-47e7-b9b7-772ddc185525",
   "metadata": {},
   "outputs": [],
   "source": [
    "p = dl.utils.Properties()\n",
    "feature_search = table.features()\n",
    "feature_search = feature_search.intersects(aoi)\n",
    "feature_search = feature_search.filter(p.STATEFP == 49)\n",
    "feature_collection = feature_search.collect()\n",
    "\n",
    "gdf = gpd.GeoDataFrame.from_features(feature_collection.features_list())\n",
    "gdf"
   ]
  },
  {
   "cell_type": "markdown",
   "id": "ed8eb8fe-ff7b-425b-ba1e-5a8de462eddd",
   "metadata": {},
   "source": [
    "Similar to previous examples, invoking the `features()` method returns a search object. Property and spatial filters are then applied to the search object using the `filter()` and `intersects` methods. Finally, the query is executed with the `collect()` method, which will return a feature collection. This feature collection can then be converted to a GeoPandas dataframe for further experimentation."
   ]
  },
  {
   "cell_type": "markdown",
   "id": "f597b5ae-78fb-4917-9450-807de3cc9924",
   "metadata": {},
   "source": [
    "## Visualization\n",
    "Working within a notebook, Vector tables can be displayed using the following:"
   ]
  },
  {
   "cell_type": "code",
   "execution_count": null,
   "id": "0ac27bbd-2755-40eb-9d9e-dcb80ff0d0da",
   "metadata": {},
   "outputs": [],
   "source": [
    "import ipyleaflet\n",
    "\n",
    "m = ipyleaflet.Map(scroll_wheel_zoom=True, center=(44.5, -103))\n",
    "m.zoom = 3\n",
    "lyr = table.visualize(\"US Counties\", m)\n",
    "m"
   ]
  },
  {
   "cell_type": "markdown",
   "id": "abf45c3e-6e67-4fb1-9ebc-2250d84b9752",
   "metadata": {},
   "source": [
    "In this example, an `ipyleaflet` map has been created centered over the US. Invoking the `visualize()` method with a name and map will return a `VectorTileLayer` which has been added to the map display."
   ]
  },
  {
   "cell_type": "markdown",
   "id": "8481a578-7e04-4604-ac78-666af264da60",
   "metadata": {},
   "source": [
    "## Filtering Tiles\n",
    "Similar to the spatial and property filtering above, filters can also be supplied to `visualize()`:"
   ]
  },
  {
   "cell_type": "code",
   "execution_count": null,
   "id": "ec791163-e330-48d2-a249-24e0f634fe06",
   "metadata": {},
   "outputs": [],
   "source": [
    "p = dl.utils.Properties()\n",
    "property_filter = p.STATEFP == 35\n",
    "vector_tile_layer_styles = {\n",
    "    \"default\": {\n",
    "        \"fill\": \"true\",\n",
    "        \"fillColor\": \"#00ff00\",\n",
    "        \"color\": \"#000000\",\n",
    "        \"fillOpacity\": 0.5,\n",
    "    }\n",
    "}\n",
    "lyr = table.visualize(\n",
    "    \"New Mexico Counties\",\n",
    "    m,\n",
    "    property_filter=property_filter,\n",
    "    vector_tile_layer_styles=vector_tile_layer_styles,\n",
    ")"
   ]
  },
  {
   "cell_type": "markdown",
   "id": "69ba8ec4-64e8-461e-b85d-ba9d0d2c7dd9",
   "metadata": {},
   "source": [
    "In this example, the `visualize()` method has been invoked with a property filter and layer style. Instead of visualizing all US counties, only counties with a state FIPS code of 35, New Mexico. The `VectorTileLayer` returned will be formatted according to the vector_tile_layer_style."
   ]
  },
  {
   "cell_type": "code",
   "execution_count": null,
   "id": "84de5a97-950d-431a-a2e7-768420ff9f8b",
   "metadata": {},
   "outputs": [],
   "source": []
  }
 ],
 "metadata": {
  "kernelspec": {
   "display_name": "Python 3 (ipykernel)",
   "language": "python",
   "name": "python3"
  },
  "language_info": {
   "codemirror_mode": {
    "name": "ipython",
    "version": 3
   },
   "file_extension": ".py",
   "mimetype": "text/x-python",
   "name": "python",
   "nbconvert_exporter": "python",
   "pygments_lexer": "ipython3",
   "version": "3.8.16"
  }
 },
 "nbformat": 4,
 "nbformat_minor": 5
}

{
 "cells": [
  {
   "cell_type": "markdown",
   "id": "df9ead35-3ddf-4978-a556-6ecebac7893a",
   "metadata": {},
   "source": [
    "# Managing Products\n",
    "Here we will outline the basic steps to create a new raster `Product` with associated `Images`. This example will also cover the basics of `Namespaces` and `Organizations` for managing access to your newly created `Product`.\n",
    "\n",
    "This guide is meant to serve as an introduction to managing raster data. For a more in depth overview of all possible options please see the [Catalog Guide](https://docs.descarteslabs.com/guides/catalog.html#managing-products) located in the Documentation. "
   ]
  },
  {
   "cell_type": "code",
   "execution_count": null,
   "id": "2790d71b-9377-448f-8d05-6aa138e97df7",
   "metadata": {
    "tags": []
   },
   "outputs": [],
   "source": [
    "import descarteslabs as dl\n",
    "from descarteslabs.catalog import (\n",
    "    Image,\n",
    "    DataType,\n",
    "    Product,\n",
    "    Resolution,\n",
    "    ResolutionUnit,\n",
    "    SpectralBand,\n",
    ")"
   ]
  },
  {
   "cell_type": "markdown",
   "id": "c661c1ac-b9ce-4e18-a741-fe49f5149085",
   "metadata": {},
   "source": [
    "## Creating and updating a product\n",
    "The only required attributes for a `Product` are a unique id and a name. \n",
    "\n",
    "A `Product ID` should always have the following structure:\n",
    "\n",
    "    `my-org-id:my-product-id`\n",
    "\n",
    "You can retrieve your `Organization` by the `Auth API`:"
   ]
  },
  {
   "cell_type": "code",
   "execution_count": null,
   "id": "afa69bb7-7442-4d4d-9466-a49d130e5bfd",
   "metadata": {
    "tags": []
   },
   "outputs": [],
   "source": [
    "org = dl.auth.Auth().payload[\"org\"]\n",
    "org"
   ]
  },
  {
   "cell_type": "markdown",
   "id": "a5155b5d-14a8-4071-bc3a-7f00a514157e",
   "metadata": {},
   "source": [
    "Since you may have other users within your `Organization` who have run this same example, let's take it one step further and append our default `Namespace` to our `Product ID`. Each `Descartes Labs` account has a unique default `Namespace` ID."
   ]
  },
  {
   "cell_type": "code",
   "execution_count": null,
   "id": "6a28f311-aed9-4f87-905f-b954b353423b",
   "metadata": {
    "tags": []
   },
   "outputs": [],
   "source": [
    "namespace = dl.auth.Auth().namespace\n",
    "namespace"
   ]
  },
  {
   "cell_type": "code",
   "execution_count": null,
   "id": "1829e262-a26e-494f-a9e2-65dc03ef7c26",
   "metadata": {
    "tags": []
   },
   "outputs": [],
   "source": [
    "pid = f\"{org}:{namespace}:guide-example-product\"\n",
    "pid"
   ]
  },
  {
   "cell_type": "markdown",
   "id": "6ca0deff-3be9-4a64-bbde-22a894925de8",
   "metadata": {},
   "source": [
    "Now we can create our new `Product`:"
   ]
  },
  {
   "cell_type": "code",
   "execution_count": null,
   "id": "a56aa3ec-019a-44f2-8a3a-179b6bdba424",
   "metadata": {
    "tags": []
   },
   "outputs": [],
   "source": [
    "product = Product.get_or_create(pid)\n",
    "product.name = \"Example RGB Product\"\n",
    "product.tags = [\"examples\"]\n",
    "product.save()\n",
    "product"
   ]
  },
  {
   "cell_type": "markdown",
   "id": "e640a52a-c521-463a-8212-b99703894072",
   "metadata": {},
   "source": [
    "## Creating bands\n",
    "Before adding any `Images` to a `Product` you must create `Bands` that declare the structure of the data shared among all images in a product.\n",
    "\n",
    "The `Band` defines where its data is found in the files attached to images in the product: In the below example, `band_index = 0` indicates that `Red` is the first band in the image file, and that band is expected to be represented by unsigned 16-bit integers (`DataType.UINT16`). Note also that if we were to set `file_index = 1` it would expect a _second Image_ in that position to represent that `Band`. \n",
    "\n",
    "We'll start with a simple `SpectralBand`. Here, we have a `GeoTIFF` located under the path `data/rgb.tif` which contains 3 bands. We will create one `SpectralBand` per channel here, for `Red`, `Green`, and `Blue`, including supported wavelength properties."
   ]
  },
  {
   "cell_type": "code",
   "execution_count": null,
   "id": "7d70a3a6-0e30-4d22-9610-03b84a7afb91",
   "metadata": {
    "tags": []
   },
   "outputs": [],
   "source": [
    "# These values are in nanometers (nm)\n",
    "band_info_dict = {\n",
    "    \"red\": {\"wavelength_nm_min\": 650, \"wavelength_nm_max\": 680},\n",
    "    \"green\": {\"wavelength_nm_min\": 542.5, \"wavelength_nm_max\": 577.5},\n",
    "    \"blue\": {\"wavelength_nm_min\": 457.5, \"wavelength_nm_max\": 522.5},\n",
    "}"
   ]
  },
  {
   "cell_type": "code",
   "execution_count": null,
   "id": "40448583-5d5a-4638-bef9-c4ef1f76ff00",
   "metadata": {
    "tags": []
   },
   "outputs": [],
   "source": [
    "for i, (name, info) in enumerate(band_info_dict.items()):\n",
    "    band = SpectralBand(name=name, product=product)\n",
    "    band.data_type = DataType.UINT16\n",
    "    band.data_range = (0, 10000)\n",
    "    band.display_range = (0, 4000)\n",
    "    band.resolution = Resolution(unit=ResolutionUnit.METERS, value=30.0)\n",
    "    band.band_index = i\n",
    "    band.file_index = 0\n",
    "    band.wavelength_nm_min = info[\"wavelength_nm_min\"]\n",
    "    band.wavelength_nm_max = info[\"wavelength_nm_max\"]\n",
    "    band.save()\n",
    "    print(f\"Saved: {band.id}\")"
   ]
  },
  {
   "cell_type": "markdown",
   "id": "6d33661e-06bb-43ac-9c5e-23a222bc5817",
   "metadata": {},
   "source": [
    "See the [`Bands`](https://docs.descarteslabs.com/descarteslabs/catalog/docs/band.html#bands) Documentation page for more information about other band types not covered in this example."
   ]
  },
  {
   "cell_type": "markdown",
   "id": "587516dc-1472-4771-bb1e-8a25c8c09b18",
   "metadata": {},
   "source": [
    "## Uploading Images - File Paths\n",
    "`image.upload()` uploads imagery to a `Product` via a list of specified file paths. This returns an `ImageUpload`. Images are uploaded and processed asynchronously, so they are not available in the catalog immediately. With `upload.wait_for_completion()` we wait until the upload is completely finished:"
   ]
  },
  {
   "cell_type": "code",
   "execution_count": null,
   "id": "e7fde391-1842-42d3-a7a7-146f3403f7e3",
   "metadata": {
    "tags": []
   },
   "outputs": [],
   "source": [
    "# Set any attributes that should be set on the uploaded images\n",
    "image = Image(product=product, name=\"image1\")\n",
    "# Set acquired date\n",
    "image.acquired = \"2023-06-15\"\n",
    "# Set metadata\n",
    "image.cloud_fraction = 0.1\n",
    "# Do the upload\n",
    "image_path = \"data/rgb.tif\"\n",
    "upload = image.upload(image_path)\n",
    "upload.wait_for_completion()\n",
    "upload.status"
   ]
  },
  {
   "cell_type": "markdown",
   "id": "3a131832-a7a6-4093-9ea3-3feedfe78565",
   "metadata": {},
   "source": [
    "## Uploading Images - Numpy Arrays\n",
    "You can also call [`Image.upload_ndarray`](https://docs.descarteslabs.com/examples-gallery/plot_create_product.html?#upload-ndarray-to-new-product) if you have your pixels in-memory. Note you will need to manually specify `raster_info` as that is not information is not contained within a numpy array."
   ]
  },
  {
   "cell_type": "markdown",
   "id": "5182f726-e20e-474e-a5b2-846a69385eb8",
   "metadata": {},
   "source": [
    "## Access Control\n",
    "By default only the creator of a product can read and modify it as well as read and modify the bands and images in it. To share access to a product with others you can modify its access control lists (ACLs):"
   ]
  },
  {
   "cell_type": "code",
   "execution_count": null,
   "id": "d4db9c19-4262-42b8-b12c-db3ea69c07cc",
   "metadata": {
    "tags": []
   },
   "outputs": [],
   "source": [
    "product.readers = [\"org:pga-tour\"]\n",
    "product.writers = [\"email:jane.doe@descarteslabs.com\", \"email:john.daly@gmail.com\"]\n",
    "product.save()"
   ]
  },
  {
   "cell_type": "markdown",
   "id": "9989dbfd-de20-433b-89e6-b1f41c9434c5",
   "metadata": {},
   "source": [
    "What the above just did:\n",
    "* Give read access to the whole `pga-tour` organization. All users in that organization can now find the product and retrieve it's imagery.\n",
    "* Give write access to two specific users identified by email. These two users can now update the product and add new images to it. "
   ]
  },
  {
   "cell_type": "markdown",
   "id": "05452b44-377f-4d6f-b910-73d654c239da",
   "metadata": {},
   "source": [
    "### Transfer ownership\n",
    "Transferring ownership of a product to a new user requires cooperation from both the previous owner and the new owner and is a two-step effort. The first step is for the previous owner to add the new owner to the product:"
   ]
  },
  {
   "cell_type": "raw",
   "id": "d1d660f7-9ee7-415d-bceb-ed834bbdbd84",
   "metadata": {},
   "source": [
    "product.owners.append(\"user:{namespace}\")\n",
    "product.save()"
   ]
  },
  {
   "cell_type": "markdown",
   "id": "803cbb1f-20cc-4da7-aab8-fc2fd2c3c8c4",
   "metadata": {},
   "source": [
    "Just a reminder that you cannot use the `email:` variant as an owner. You will have to request the user's `default Namespace` from the new owner and use that instead. (You can find your user id in the profile drop-down on [iam.descarteslabs.com](iam.descarteslabs.com) or through `dl.auth.Auth().namespace`).\n",
    "\n",
    "The second step is for the new owner to remove the previous owner:"
   ]
  },
  {
   "cell_type": "raw",
   "id": "fa0f47b1-6b3f-469a-89d3-53565d8a1e9b",
   "metadata": {},
   "source": [
    "product.owners.remove(\"user:...\")\n",
    "product.save()"
   ]
  },
  {
   "cell_type": "markdown",
   "id": "017a7b42-b403-4717-abc6-de84216aff1f",
   "metadata": {},
   "source": [
    "\n",
    "For further information on access control please see the [Sharing Resources](https://docs.descarteslabs.com/guides/sharing.html) guide."
   ]
  },
  {
   "cell_type": "markdown",
   "id": "cd2ab6a4-a73f-4fe2-821c-700bdc8f101c",
   "metadata": {},
   "source": [
    "## Deleting Bands and Products\n",
    "Any catalog objects (`Products`, `Bands`, and `Images`) can be deleted using the `delete` method:"
   ]
  },
  {
   "cell_type": "code",
   "execution_count": null,
   "id": "ac865c70-d3b1-4b55-806b-2a86853628c1",
   "metadata": {
    "tags": []
   },
   "outputs": [],
   "source": [
    "product.delete()"
   ]
  },
  {
   "cell_type": "markdown",
   "id": "3d23deb2-1960-4511-a0bd-65f1af16b62f",
   "metadata": {},
   "source": [
    "#### *NOTE:* You ran into an error, didn't you!\n",
    "A `Product` can _only be deleted if it doesn’t have any associated Bands or Images_. Because the `Product` we created still has images and bands we must first delete those related objects. \n",
    "\n",
    "There is a convenience method to delete all bands and images in a product. Be careful as this may delete a lot of data and can’t be undone!"
   ]
  },
  {
   "cell_type": "code",
   "execution_count": null,
   "id": "311dd372-e111-4367-ad48-29ab5b7617d9",
   "metadata": {
    "tags": []
   },
   "outputs": [],
   "source": [
    "status = product.delete_related_objects()"
   ]
  },
  {
   "cell_type": "markdown",
   "id": "8667b9ab-6feb-4e50-8084-667ddad9501e",
   "metadata": {},
   "source": [
    "This kicks off a job that deletes bands and images in the background. You can wait for this to complete and then delete the product:"
   ]
  },
  {
   "cell_type": "code",
   "execution_count": null,
   "id": "345854be-d926-417c-b953-5ea670ec8c44",
   "metadata": {
    "tags": []
   },
   "outputs": [],
   "source": [
    "if status:\n",
    "    status.wait_for_completion()\n",
    "product.delete()"
   ]
  },
  {
   "cell_type": "code",
   "execution_count": null,
   "id": "536d3fad-10ab-473d-a160-fd4767bcec11",
   "metadata": {},
   "outputs": [],
   "source": []
  }
 ],
 "metadata": {
  "kernelspec": {
   "display_name": "Python 3 (ipykernel)",
   "language": "python",
   "name": "python3"
  },
  "language_info": {
   "codemirror_mode": {
    "name": "ipython",
    "version": 3
   },
   "file_extension": ".py",
   "mimetype": "text/x-python",
   "name": "python",
   "nbconvert_exporter": "python",
   "pygments_lexer": "ipython3",
   "version": "3.9.18"
  }
 },
 "nbformat": 4,
 "nbformat_minor": 5
}

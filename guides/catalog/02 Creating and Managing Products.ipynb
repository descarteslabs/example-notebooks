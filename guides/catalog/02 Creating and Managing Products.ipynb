{
 "cells": [
  {
   "cell_type": "markdown",
   "id": "df9ead35-3ddf-4978-a556-6ecebac7893a",
   "metadata": {},
   "source": [
    "# Managing products\n",
    "Here we will outline the basic steps to create and manage new raster `Product`s and `Image`s."
   ]
  },
  {
   "cell_type": "code",
   "execution_count": null,
   "id": "2790d71b-9377-448f-8d05-6aa138e97df7",
   "metadata": {
    "tags": []
   },
   "outputs": [],
   "source": [
    "from descarteslabs.catalog import (\n",
    "    Image,\n",
    "    DataType,\n",
    "    Product,\n",
    "    Resolution,\n",
    "    ResolutionUnit,\n",
    "    SpectralBand,\n",
    "    properties as p,\n",
    ")"
   ]
  },
  {
   "cell_type": "markdown",
   "id": "c661c1ac-b9ce-4e18-a741-fe49f5149085",
   "metadata": {},
   "source": [
    "## Creating and updating a product\n",
    "Before uploading images to the catalog, you need to create a product and declare its bands. The only required attributes for a product are a unique id and a name:"
   ]
  },
  {
   "cell_type": "code",
   "execution_count": null,
   "id": "1829e262-a26e-494f-a9e2-65dc03ef7c26",
   "metadata": {
    "tags": []
   },
   "outputs": [],
   "source": [
    "# Creating a unique ID to avoid conflicts:\n",
    "from uuid import uuid4\n",
    "\n",
    "pid = f\"guide-example-product-{uuid4()}\"\n",
    "name = \"Example product\""
   ]
  },
  {
   "cell_type": "code",
   "execution_count": null,
   "id": "a56aa3ec-019a-44f2-8a3a-179b6bdba424",
   "metadata": {
    "tags": []
   },
   "outputs": [],
   "source": [
    "product = Product()\n",
    "product.id = pid\n",
    "product.name = name\n",
    "product.tags = [\"examples\"]\n",
    "product.save()\n",
    "product.id"
   ]
  },
  {
   "cell_type": "markdown",
   "id": "9c2ac3cf-6f01-4b18-a290-ebcdb5acd028",
   "metadata": {},
   "source": [
    "Every object has a read-only `created` attribute with the timestamp from when it was first saved:"
   ]
  },
  {
   "cell_type": "code",
   "execution_count": null,
   "id": "f3922796-cb1e-4f40-98d5-226b786d7022",
   "metadata": {
    "tags": []
   },
   "outputs": [],
   "source": [
    "product.created"
   ]
  },
  {
   "cell_type": "markdown",
   "id": "baf11668-eb3f-4684-b0f3-8b8006eae0a2",
   "metadata": {},
   "source": [
    "`save()` saves the product to the catalog in the cloud. Note that you get to choose an id for your product but it must be unique within your organization (you get an exception if it’s not). This code example is assuming the user is in the “descarteslabs” organization. The id is prefixed with the organization id on save to enforce global uniqueness and uniqueness within an organization. If you are not part of an organization the prefix will be your unique user id. You can find this unique user id on your IAM page if you click on your name in the upper right."
   ]
  },
  {
   "cell_type": "markdown",
   "id": "4fda3ccf-0b1d-48ca-94e4-a84cb48e3b77",
   "metadata": {},
   "source": [
    "There are a few more attributes that you can set (see the [`Product`](https://docs.descarteslabs.com/descarteslabs/catalog/docs/product.html#descarteslabs.catalog.Product) API reference). You can update the product to define the timespan that it covers. This is as simple as assigning attributes and then saving again:"
   ]
  },
  {
   "cell_type": "code",
   "execution_count": null,
   "id": "44800dd8-68c7-47f0-b4ae-9ed178a9ce7c",
   "metadata": {
    "tags": []
   },
   "outputs": [],
   "source": [
    "product.start_datetime = \"2012-01-01\"\n",
    "product.end_datetime = \"2015-01-01\"\n",
    "product.save()\n",
    "product.start_datetime"
   ]
  },
  {
   "cell_type": "markdown",
   "id": "9a6f8bd5-3bf8-4571-b20c-6c1510537a10",
   "metadata": {},
   "source": [
    "A read-only `modified` attribute exists on all objects and is updated on every save."
   ]
  },
  {
   "cell_type": "code",
   "execution_count": null,
   "id": "c321d16d-0275-4e6f-bfd0-56dab84d30bd",
   "metadata": {
    "tags": []
   },
   "outputs": [],
   "source": [
    "product.modified"
   ]
  },
  {
   "cell_type": "markdown",
   "id": "9cd44f5d-5f9e-4e07-9774-374daef1adff",
   "metadata": {},
   "source": [
    "Note that all timestamp attributes are represented as `datetime` instances in UTC. You may assign strings to timestamp attributes if they can be reasonably parsed as timestamps. Once the object is saved the attributes will appear as parsed `datetime` instances. If a timestamp has no explicit timezone, it’s assumed to be in UTC."
   ]
  },
  {
   "cell_type": "markdown",
   "id": "e640a52a-c521-463a-8212-b99703894072",
   "metadata": {},
   "source": [
    "## Creating bands\n",
    "Before adding any images to a product you must create bands that declare the structure of the data shared among all images in a product."
   ]
  },
  {
   "cell_type": "code",
   "execution_count": null,
   "id": "40448583-5d5a-4638-bef9-c4ef1f76ff00",
   "metadata": {
    "tags": []
   },
   "outputs": [],
   "source": [
    "band = SpectralBand(name=\"blue\", product=product)\n",
    "band.data_type = DataType.UINT16\n",
    "band.data_range = (0, 10000)\n",
    "band.display_range = (0, 4000)\n",
    "band.resolution = Resolution(unit=ResolutionUnit.METERS, value=60)\n",
    "band.band_index = 0\n",
    "band.save()\n",
    "band.id"
   ]
  },
  {
   "cell_type": "markdown",
   "id": "a29fd3b2-3cc4-42b4-ad17-0e5767c5e269",
   "metadata": {},
   "source": [
    "A band is uniquely identified by its name and product. The full id of the band is composed of the product id and the name.\n",
    "\n",
    "The band defines where its data is found in the files attached to images in the product: In this example, `band_index = 0` indicates that `blue` is the first band in the image file, and that first band is expected to be represented by unsigned 16-bit integers (`DataType.UINT16`).\n",
    "\n",
    "This band is specifically a `SpectralBand`, with pixel values representing measurements somewhere in the visible/NIR/SWIR electro-optical wavelength spectrum, so you can also set additional attributes to locate it on the spectrum:"
   ]
  },
  {
   "cell_type": "code",
   "execution_count": null,
   "id": "eafe46cc-e576-4911-b763-913f40a2922f",
   "metadata": {
    "tags": []
   },
   "outputs": [],
   "source": [
    "# These values are in nanometers (nm)\n",
    "band.wavelength_nm_min = 452\n",
    "band.wavelength_nm_max = 512\n",
    "band.save()"
   ]
  },
  {
   "cell_type": "markdown",
   "id": "6d33661e-06bb-43ac-9c5e-23a222bc5817",
   "metadata": {},
   "source": [
    "See the [`Bands`](https://docs.descarteslabs.com/descarteslabs/catalog/docs/band.html#bands) Documentation page for more information about other band types not covered in this example."
   ]
  },
  {
   "cell_type": "markdown",
   "id": "77638544-57c9-4683-829b-beb42e6b8d96",
   "metadata": {},
   "source": [
    "# Managing images\n",
    "Apart from searching and discovering data available to you, catalog enables you to upload new images of your own."
   ]
  },
  {
   "cell_type": "markdown",
   "id": "c5da3745-c0b9-4ade-b291-834a3f4b8129",
   "metadata": {},
   "source": [
    "## Creating images\n",
    "There are two general mechanisms of creating images in the catalog. Upload is the primary mechanism for creating images, either by uploading supported image files types such as GeoTIFF or JPEG, or by uploading image data in the form of a numpy ndarray. The other mechanism is to create “remote” image entries in the catalog without supplying the actual image data."
   ]
  },
  {
   "cell_type": "markdown",
   "id": "3f2f9cdb-70d3-4bd2-8c56-4a76a4dc544a",
   "metadata": {
    "tags": []
   },
   "source": [
    "### Uploading image files\n",
    "If your data already exists on disk as an image file, usually a GeoTIFF or JPEG file, you can upload it directly.\n",
    "\n",
    "In the following examples we will upload data to the single band we created representing the blue light spectrum. "
   ]
  },
  {
   "cell_type": "markdown",
   "id": "587516dc-1472-4771-bb1e-8a25c8c09b18",
   "metadata": {},
   "source": [
    "Now you create a new image and use `image.upload()` to upload imagery to the new product. This returns a ImageUpload. Images are uploaded and processed asynchronously, so they are not available in the catalog immediately. With `upload.wait_for_completion()` we wait until the upload is completely finished."
   ]
  },
  {
   "cell_type": "code",
   "execution_count": null,
   "id": "e7fde391-1842-42d3-a7a7-146f3403f7e3",
   "metadata": {
    "tags": []
   },
   "outputs": [],
   "source": [
    "# Set any attributes that should be set on the uploaded images\n",
    "image = Image(product=product, name=\"image1\")\n",
    "image.acquired = \"2012-01-02\"\n",
    "image.cloud_fraction = 0.1\n",
    "# Do the upload\n",
    "image_path = \"data/blue.tif\"\n",
    "upload = image.upload(image_path)\n",
    "upload.wait_for_completion()\n",
    "upload.status"
   ]
  },
  {
   "cell_type": "markdown",
   "id": "5182f726-e20e-474e-a5b2-846a69385eb8",
   "metadata": {},
   "source": [
    "## Access Control\n",
    "By default only the creator of a product can read and modify it as well as read and modify the bands and images in it. To share access to a product with others you can modify its access control lists (ACLs):"
   ]
  },
  {
   "cell_type": "code",
   "execution_count": null,
   "id": "d4db9c19-4262-42b8-b12c-db3ea69c07cc",
   "metadata": {
    "tags": []
   },
   "outputs": [],
   "source": [
    "product.readers = [\"org:descarteslabs\"]\n",
    "product.writers = [\"email:jane.doe@descarteslabs.com\", \"email:john.daly@gmail.com\"]\n",
    "product.save()"
   ]
  },
  {
   "cell_type": "markdown",
   "id": "9989dbfd-de20-433b-89e6-b1f41c9434c5",
   "metadata": {},
   "source": [
    "This gives read access to the whole “descarteslabs” organization. All users in that organization can now find the product. This also gives write access to two specific users identified by email. These two users can now update the product and add new images to it. For further information on access control please see the [Sharing Resources](https://docs.descarteslabs.com/guides/sharing.html) guide."
   ]
  },
  {
   "cell_type": "markdown",
   "id": "05452b44-377f-4d6f-b910-73d654c239da",
   "metadata": {},
   "source": [
    "### Transfer ownership\n",
    "Transfering ownership of a product to a new user requires cooperation from both the previous owner and the new owner and is a two-step effort. The first step is for the previous owner to add the new owner to the product:"
   ]
  },
  {
   "cell_type": "raw",
   "id": "d1d660f7-9ee7-415d-bceb-ed834bbdbd84",
   "metadata": {},
   "source": [
    "product.owners.append(\"user:...\")\n",
    "product.save()"
   ]
  },
  {
   "cell_type": "markdown",
   "id": "803cbb1f-20cc-4da7-aab8-fc2fd2c3c8c4",
   "metadata": {},
   "source": [
    "Just a reminder that you cannot use the `email:` variant as an owner. You will have to request the user id from the new owner and use that instead. (You can find your user id in the profile drop-down on iam.descarteslabs.com).\n",
    "\n",
    "The second step is for the new owner to remove the previous owner:"
   ]
  },
  {
   "cell_type": "raw",
   "id": "fa0f47b1-6b3f-469a-89d3-53565d8a1e9b",
   "metadata": {},
   "source": [
    "product.owners.remove(\"user:...\")\n",
    "product.save()"
   ]
  },
  {
   "cell_type": "markdown",
   "id": "cd2ab6a4-a73f-4fe2-821c-700bdc8f101c",
   "metadata": {},
   "source": [
    "## Deleting bands and products\n",
    "Any catalog objects (Products, Bands, and Images) can be deleted using the `delete` method:"
   ]
  },
  {
   "cell_type": "code",
   "execution_count": null,
   "id": "ac865c70-d3b1-4b55-806b-2a86853628c1",
   "metadata": {
    "tags": []
   },
   "outputs": [],
   "source": [
    "product.delete()"
   ]
  },
  {
   "cell_type": "markdown",
   "id": "3d23deb2-1960-4511-a0bd-65f1af16b62f",
   "metadata": {},
   "source": [
    "#### *NOTE:*\n",
    "A product can _only be deleted if it doesn’t have any associated bands or images_. Because the product we created still has images and bands we must first delete those related objects. \n",
    "\n",
    "There is a convenience method to delete all bands and images in a product. Be careful as this may delete a lot of data and can’t be undone!"
   ]
  },
  {
   "cell_type": "code",
   "execution_count": null,
   "id": "311dd372-e111-4367-ad48-29ab5b7617d9",
   "metadata": {
    "tags": []
   },
   "outputs": [],
   "source": [
    "status = product.delete_related_objects()"
   ]
  },
  {
   "cell_type": "markdown",
   "id": "8667b9ab-6feb-4e50-8084-667ddad9501e",
   "metadata": {},
   "source": [
    "This kicks off a job that deletes bands and images in the background. You can wait for this to complete and then delete the product:"
   ]
  },
  {
   "cell_type": "code",
   "execution_count": null,
   "id": "345854be-d926-417c-b953-5ea670ec8c44",
   "metadata": {
    "tags": []
   },
   "outputs": [],
   "source": [
    "if status:\n",
    "    status.wait_for_completion()\n",
    "product.delete()"
   ]
  },
  {
   "cell_type": "markdown",
   "id": "b02415b7-2521-499d-ac17-44894bb932f8",
   "metadata": {},
   "source": [
    "If you have run this notebook multiple times, you can easily delete all Products with the `examples` tag as follows:"
   ]
  },
  {
   "cell_type": "code",
   "execution_count": null,
   "id": "c41f5cfe-24c6-432f-8a13-f7c77bdba04d",
   "metadata": {
    "tags": []
   },
   "outputs": [],
   "source": [
    "import descarteslabs as dl\n",
    "\n",
    "user_hash = dl.auth.Auth().namespace\n",
    "for prod in (\n",
    "    Product.search()\n",
    "    .filter(p.tags == \"examples\")\n",
    "    .filter(p.owners == f\"user:{user_hash}\")\n",
    "):\n",
    "    print(f\"Deleting {prod.id}\")\n",
    "    status = prod.delete_related_objects()\n",
    "    if status:\n",
    "        status.wait_for_completion()\n",
    "    prod.delete()"
   ]
  },
  {
   "cell_type": "code",
   "execution_count": null,
   "id": "536d3fad-10ab-473d-a160-fd4767bcec11",
   "metadata": {},
   "outputs": [],
   "source": []
  }
 ],
 "metadata": {
  "kernelspec": {
   "display_name": "Python 3 (ipykernel)",
   "language": "python",
   "name": "python3"
  },
  "language_info": {
   "codemirror_mode": {
    "name": "ipython",
    "version": 3
   },
   "file_extension": ".py",
   "mimetype": "text/x-python",
   "name": "python",
   "nbconvert_exporter": "python",
   "pygments_lexer": "ipython3",
   "version": "3.8.16"
  }
 },
 "nbformat": 4,
 "nbformat_minor": 5
}

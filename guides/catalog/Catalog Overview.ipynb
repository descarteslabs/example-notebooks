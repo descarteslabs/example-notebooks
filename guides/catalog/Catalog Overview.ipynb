{
 "cells": [
  {
   "cell_type": "markdown",
   "id": "ed27bd2a-d960-4b7b-9b4e-83141cc633bd",
   "metadata": {},
   "source": [
    "# Catalog\n",
    "Use the Descartes Labs Catalog to discover existing raster products, search the images contained in them, manage your own products and images, and render images or collections of images by rastering."
   ]
  },
  {
   "cell_type": "markdown",
   "id": "a0653c02-e541-4982-a3c1-b80f1933fdcd",
   "metadata": {},
   "source": [
    "## Concepts\n",
    "The Descartes Labs Catalog is a repository for georeferenced images. Commonly these images are either acquired by Earth observation platforms like a satellite or they are derived from other georeferenced images. The catalog is modeled on the following core concepts, each of which is represented by its own class in the API."
   ]
  },
  {
   "cell_type": "markdown",
   "id": "b004f826-5b6a-44f1-ac99-5d92058bf6a2",
   "metadata": {
    "tags": []
   },
   "source": [
    "### Images\n",
    "An image (represented by class `Image` in the API) contains data for a shape on earth, as specified by its georeferencing. An image references one or more files (commonly TIFF or JPEG files) that contain the actual binary image data conforming to the band declaration of its product. An image does not itself contain the actual pixel data, but the image has methods toraster its associated data, either resulting in a numpy ndarray or a geotiff file. There is no direct access to the underlying file data.\n",
    "\n",
    "Please see the API documentation for the [`Image`](https://docs.descarteslabs.com/descarteslabs/catalog/docs/image.html#descarteslabs.catalog.Image) class for the full list of supported attributes."
   ]
  },
  {
   "cell_type": "markdown",
   "id": "2f234cd5-97ea-4b9d-bec9-ba255f25b435",
   "metadata": {},
   "source": [
    "### Bands\n",
    "A band (represented by class `Band`) is a 2-dimensional slice of raster data in an image. A product must have at least one band and all images in the product must conform to the declared band structure. For example, an optical sensor will commonly have bands that correspond to the red, blue and green visible light spectrum, which you could raster together to create an RGB image. All bands are of a specific type, represented by one of the classes [`SpectralBand`](https://docs.descarteslabs.com/descarteslabs/catalog/docs/band.html#descarteslabs.catalog.SpectralBand), [`MicrowaveBand`](https://docs.descarteslabs.com/descarteslabs/catalog/docs/band.html#descarteslabs.catalog.MicrowaveBand), [`GenericBand`](https://docs.descarteslabs.com/descarteslabs/catalog/docs/band.html#descarteslabs.catalog.GenericBand), [`ClassBand`](https://docs.descarteslabs.com/descarteslabs/catalog/docs/band.html#descarteslabs.catalog.ClassBand) or [`MaskBand`](https://docs.descarteslabs.com/descarteslabs/catalog/docs/band.html#descarteslabs.catalog.MaskBand), and can be determined by the type attribute.\n",
    "\n",
    "Please see the API documentation for each [`Band`](https://docs.descarteslabs.com/descarteslabs/catalog/docs/band.html#descarteslabs.catalog.Band) class in linked in the previous paragraph for a full list of the supported attributes for each type."
   ]
  },
  {
   "cell_type": "markdown",
   "id": "212949dd-f29c-4c8b-88c2-61766fb9c67a",
   "metadata": {},
   "source": [
    "### Products\n",
    "A product (represented by class `Product`) is a collection of images that share the same band structure. Images in a product can generally be used jointly in a data analysis, as they are expected to have been uniformly processed with respect to data correction, georegistration and so on. For example, you can composite multiple images from a product to run an algorithm over a large geographic region.\n",
    "\n",
    "Some products correspond directly to image datasets provided by a platform. See for example the Landsat 8 Collection 1 product. This product contains all images taken by the Landsat 8 satellite, is updated continuously as it takes more images, and is processed to NASA’s Collection 1 specification.\n",
    "\n",
    "A product may also represent data derived from multiple other products or data sources - some may not even derive from Earth observation data. A raster product can contain any sort of image data as long as it’s georeferenced.\n",
    "\n",
    "Please see the API documentation for the [`Product`](https://docs.descarteslabs.com/descarteslabs/catalog/docs/product.html#descarteslabs.catalog.Product) class for the full list of supported attributes."
   ]
  },
  {
   "cell_type": "code",
   "execution_count": null,
   "id": "b616a2a5-5d01-42bf-9afb-b651bf127b6d",
   "metadata": {},
   "outputs": [],
   "source": []
  }
 ],
 "metadata": {
  "kernelspec": {
   "display_name": "Python 3 (ipykernel)",
   "language": "python",
   "name": "python3"
  },
  "language_info": {
   "codemirror_mode": {
    "name": "ipython",
    "version": 3
   },
   "file_extension": ".py",
   "mimetype": "text/x-python",
   "name": "python",
   "nbconvert_exporter": "python",
   "pygments_lexer": "ipython3",
   "version": "3.8.16"
  }
 },
 "nbformat": 4,
 "nbformat_minor": 5
}

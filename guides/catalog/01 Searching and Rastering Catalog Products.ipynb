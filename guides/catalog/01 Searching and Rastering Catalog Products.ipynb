{
 "cells": [
  {
   "cell_type": "markdown",
   "id": "bd921a49-eb62-4775-9fb8-69bb2861d9dc",
   "metadata": {},
   "source": [
    "# Searching the Catalog\n",
    "\n",
    "The `Descartes Labs Catalog API` is a single interface through which you can discover existing raster `Products`, search and retrieve their associated `Images`, and manage your own `Products`.\n",
    "\n",
    "This guide is meant to serve as an introduction to searching and retrieving raster data. For a more in depth overview of all of `Catalog's` classes and their capabilities please visit the [Catalog Guide](https://docs.descarteslabs.com/guides/catalog.html) in our Documentation page."
   ]
  },
  {
   "cell_type": "code",
   "execution_count": null,
   "id": "ea169894-250b-4f68-b9d5-f29fcedcb9ba",
   "metadata": {
    "tags": []
   },
   "outputs": [],
   "source": [
    "import descarteslabs as dl\n",
    "from descarteslabs.catalog import Image, Product, properties as p"
   ]
  },
  {
   "cell_type": "markdown",
   "id": "82aab414-37a6-4dbc-abb6-2bb70c636d1d",
   "metadata": {},
   "source": [
    "## Catalog Products\n",
    "The foundational class within `Descartes Labs Catalog` is a `Product`. Think of a `Product` as a collection of imagery from the same data source, such as [Sentinel-2](https://sentinel.esa.int/web/sentinel/missions/sentinel-2), but more specifically with the same formatting level, such as  [Sentinel-2 Level 2A](https://sentinels.copernicus.eu/web/sentinel/user-guides/sentinel-2-msi/product-types/level-2a).\n",
    "\n",
    "Below, we will start with the `Product` ID for [Sentinel-2 L2A](https://app.descarteslabs.com/explorer/datasets/esa:sentinel-2:l2a:v1). You can find `Products` through our graphical user interface [Explorer](https://app.descarteslabs.com/explorer/) or through a [`Search`](https://docs.descarteslabs.com/descarteslabs/catalog/docs/product.html#descarteslabs.catalog.Poduct.search). "
   ]
  },
  {
   "cell_type": "code",
   "execution_count": null,
   "id": "1ecd11fe-8d97-472a-9206-f359306d3862",
   "metadata": {
    "tags": []
   },
   "outputs": [],
   "source": [
    "s2_product = Product.get(\"esa:sentinel-2:l2a:v1\")\n",
    "s2_product"
   ]
  },
  {
   "cell_type": "markdown",
   "id": "dc1599c7-b3b7-4223-a329-23d6f39c57e0",
   "metadata": {},
   "source": [
    "A `Product` contains a number of [`Images`](https://docs.descarteslabs.com/descarteslabs/catalog/docs/image.html), which themselves contain the same number of [`Bands`](https://docs.descarteslabs.com/descarteslabs/catalog/docs/band.html). \n",
    "\n",
    "Let's see how many `Images` and `Bands` there are in this `Product` through accessing the respective `Product.images()` and `Product.bands()` methods. Note that the type of each is their respective `Search` object:"
   ]
  },
  {
   "cell_type": "code",
   "execution_count": null,
   "id": "cae3ceea-0155-43fa-a7b4-ed9d7ca193fb",
   "metadata": {
    "tags": []
   },
   "outputs": [],
   "source": [
    "s2_images = s2_product.images()\n",
    "s2_bands = s2_product.bands()\n",
    "\n",
    "print(f\"Number of Images: {s2_images.count()}\")\n",
    "print(f\"Type: {type(s2_images)}\")\n",
    "print(f\"Number of Bands: {s2_bands.count()}\")\n",
    "print(f\"Type: {type(s2_bands)}\")"
   ]
  },
  {
   "cell_type": "markdown",
   "id": "34b851f3-9ceb-4499-86c5-6b0bda16c467",
   "metadata": {
    "tags": []
   },
   "source": [
    "## GeoContexts\n",
    "Once a `Product` is defined, searching over spatiotemporal extents is simple. The foundational `GeoContext` class is an [`AOI`](https://docs.descarteslabs.com/descarteslabs/geo/readme.html#descarteslabs.geo.AOI), which specifies spatial parameters to define an output raster data such as `Resolution`, `CRS`, and a `geometry` cutline.\n",
    "\n",
    "Here we will create an `AOI` from a `GeoJSON geometry` over the Washington, DC area. Note, we could also pass a `shapely geometry` here if we so chose."
   ]
  },
  {
   "cell_type": "code",
   "execution_count": null,
   "id": "6a9f3340-53f1-4c35-8844-9a1bb0f88006",
   "metadata": {
    "tags": []
   },
   "outputs": [],
   "source": [
    "geometry = {\n",
    "    \"type\": \"Polygon\",\n",
    "    \"coordinates\": [\n",
    "        [\n",
    "            [-77.06237256372073, 38.83807622810744],\n",
    "            [-76.96982073518272, 38.83807622810744],\n",
    "            [-76.96982073518272, 38.921715779114066],\n",
    "            [-77.06237256372073, 38.921715779114066],\n",
    "            [-77.06237256372073, 38.83807622810744],\n",
    "        ]\n",
    "    ],\n",
    "}\n",
    "\n",
    "aoi = dl.geo.AOI(geometry, resolution=30.0, crs=\"EPSG:3857\")\n",
    "aoi"
   ]
  },
  {
   "cell_type": "markdown",
   "id": "4d651b01-e0e8-4bef-aeef-029bcab6a020",
   "metadata": {},
   "source": [
    "## Finding Images\n",
    "Now that we have both a `Product` to search and a `GeoContext` over which we want to search and pull imagery, we can chain a series of [`properties` filters](https://docs.descarteslabs.com/descarteslabs/catalog/docs/search.html#descarteslabs.catalog.Search.filter) to return an `ImageCollection`. \n",
    "\n",
    "Let's take a look at all the imagery acquired in the month of June, 2023 with less than 10% cloud cover:"
   ]
  },
  {
   "cell_type": "code",
   "execution_count": null,
   "id": "4ef0ee65-43ae-4e12-b16a-ed7781f8ad5c",
   "metadata": {
    "tags": []
   },
   "outputs": [],
   "source": [
    "search = (\n",
    "    s2_images.intersects(aoi)\n",
    "    .filter(\"2023-06-01\" < p.acquired < \"2023-07-01\")\n",
    "    .filter(p.cloud_fraction < 0.1)\n",
    ")\n",
    "\n",
    "image_collection = search.collect()\n",
    "image_collection"
   ]
  },
  {
   "cell_type": "markdown",
   "id": "67abb273-32a6-409b-b32d-55635e740105",
   "metadata": {},
   "source": [
    "There are other attributes useful to filter by, documented in the API reference for [Image](https://docs.descarteslabs.com/descarteslabs/catalog/docs/image.html#descarteslabs.catalog.Image)"
   ]
  },
  {
   "cell_type": "markdown",
   "id": "3d6af844-6c3a-40f1-bb1c-e7e72d977db8",
   "metadata": {},
   "source": [
    "## Rastering Data - Mosaics\n",
    "Our [`ImageCollection`](https://docs.descarteslabs.com/descarteslabs/catalog/docs/image.html#descarteslabs.catalog.ImageCollection) now has all of the methods we need to retrieve our pixel data. \n",
    "\n",
    "First, we'll explore the [`.mosaic()`](https://docs.descarteslabs.com/descarteslabs/catalog/docs/image.html#descarteslabs.catalog.ImageCollection.mosaic) method, which will load all specified bands into a single 3D ndarray:"
   ]
  },
  {
   "cell_type": "code",
   "execution_count": null,
   "id": "ad4fb4f5-a678-4eeb-9d16-1dc8efd293d9",
   "metadata": {
    "tags": []
   },
   "outputs": [],
   "source": [
    "rgb = image_collection.mosaic(bands=[\"red\", \"green\", \"blue\"])\n",
    "dl.utils.display(rgb, size=5)"
   ]
  },
  {
   "cell_type": "markdown",
   "id": "60b33f01-5b42-45ce-a916-c831938f8db8",
   "metadata": {},
   "source": [
    "The default shape of the resulting ndarray is `(nbands, ny, nx)`:"
   ]
  },
  {
   "cell_type": "code",
   "execution_count": null,
   "id": "a1ca2f51-d557-44f4-b298-1737de16adad",
   "metadata": {
    "tags": []
   },
   "outputs": [],
   "source": [
    "rgb.shape"
   ]
  },
  {
   "cell_type": "markdown",
   "id": "3006db9d-3d9f-4bfe-b95e-0dfae36242db",
   "metadata": {},
   "source": [
    "Alternatively, call [`.download_mosaic()`](https://docs.descarteslabs.com/descarteslabs/catalog/docs/image.html#descarteslabs.catalog.ImageCollection.download_mosaic) to download this as a GeoTIFF:"
   ]
  },
  {
   "cell_type": "code",
   "execution_count": null,
   "id": "611e6e1f-4539-41d7-a961-748eb245655b",
   "metadata": {
    "tags": []
   },
   "outputs": [],
   "source": [
    "image_collection.download_mosaic(bands=[\"red\", \"green\", \"blue\"], dest=\"data/rgb.tif\")"
   ]
  },
  {
   "cell_type": "markdown",
   "id": "e56d524c-56ce-408e-9bc3-041b69fc9f62",
   "metadata": {},
   "source": [
    "## Rastering Data - Stacks\n",
    "If we instead wanted to retrieve each `Image` in our `ImageCollection` as a 4D ndarray we use [`ImageCollection.stack`](https://docs.descarteslabs.com/descarteslabs/catalog/docs/image.html#descarteslabs.catalog.ImageCollection.stack) to return a ndarray of shape `(nimages, nbands, ny, nx)`:"
   ]
  },
  {
   "cell_type": "code",
   "execution_count": null,
   "id": "4f06308c-06b1-4c41-88ba-3b5eb9d8d62e",
   "metadata": {
    "tags": []
   },
   "outputs": [],
   "source": [
    "rgb_stack = image_collection.stack(bands=[\"red\", \"green\", \"blue\"])\n",
    "rgb_stack.shape"
   ]
  },
  {
   "cell_type": "markdown",
   "id": "4e162fa0-12ea-4d37-9341-f8519acd0806",
   "metadata": {},
   "source": [
    "## ImageCollection Properties\n",
    "We can iterate over the `properties` of our `ImageCollection` as well:"
   ]
  },
  {
   "cell_type": "code",
   "execution_count": null,
   "id": "a0cb4d00-5843-46d9-988b-e1de7a0caaed",
   "metadata": {
    "tags": []
   },
   "outputs": [],
   "source": [
    "dates = list(image_collection.each.acquired.strftime(\"%Y-%m-%d %H-%m-%s\"))\n",
    "dates"
   ]
  },
  {
   "cell_type": "markdown",
   "id": "db9241e0-ca5c-4b00-9567-482da80def7e",
   "metadata": {},
   "source": [
    "Let's take a look at each `Image` in our `ImageCollection` to explore the data in more detail:"
   ]
  },
  {
   "cell_type": "code",
   "execution_count": null,
   "id": "2151e065-488a-41ae-887c-8d83efe9e119",
   "metadata": {
    "tags": []
   },
   "outputs": [],
   "source": [
    "ids = list(image_collection.each.id)\n",
    "titles = [f\"{ids[i]}\\n{dates[i]}\" for i in range(len(ids))]\n",
    "\n",
    "dl.utils.display(*rgb_stack, title=titles, size=5)"
   ]
  },
  {
   "cell_type": "markdown",
   "id": "aa3964ba-0cc9-415f-8aa2-71c6932a77e4",
   "metadata": {},
   "source": [
    "Note that each `Image` in the `ImageCollection` may not completely overlap our input `AOI`, as these are individual Sentinel-2 scenes"
   ]
  },
  {
   "cell_type": "code",
   "execution_count": null,
   "id": "8b7ae51c-4119-4e89-be97-07630c69fc50",
   "metadata": {},
   "outputs": [],
   "source": []
  }
 ],
 "metadata": {
  "kernelspec": {
   "display_name": "Python 3 (ipykernel)",
   "language": "python",
   "name": "python3"
  },
  "language_info": {
   "codemirror_mode": {
    "name": "ipython",
    "version": 3
   },
   "file_extension": ".py",
   "mimetype": "text/x-python",
   "name": "python",
   "nbconvert_exporter": "python",
   "pygments_lexer": "ipython3",
   "version": "3.9.18"
  }
 },
 "nbformat": 4,
 "nbformat_minor": 5
}

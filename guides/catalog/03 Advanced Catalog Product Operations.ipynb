{
 "cells": [
  {
   "cell_type": "markdown",
   "id": "3182fd75-67d6-4158-9fad-f1b516a594f6",
   "metadata": {},
   "source": [
    "# Advanced Catalog Product Operations\n",
    "\n",
    "The `Descartes Labs Catalog API` is a single interface through which you can discover existing raster `Products`, search and retrieve their associated `Images`, and manage your own `Products`.\n",
    "\n",
    "This guide is meant to serve as an introduction to miscellaneous advanced concepts and operations with `Descartes Labs Catalog Products`. For a more in depth overview of all of `Catalog's` classes and their capabilities please visit the [API Reference](https://docs.descarteslabs.com/descarteslabs/catalog/readme.html) and [Catalog Guide](https://docs.descarteslabs.com/guides/catalog.html) sections in our Documentation page."
   ]
  },
  {
   "cell_type": "code",
   "execution_count": null,
   "id": "ad05a743-c30f-4c91-8e79-af0b952c46ea",
   "metadata": {
    "tags": []
   },
   "outputs": [],
   "source": [
    "import descarteslabs as dl\n",
    "from descarteslabs.catalog import Product, properties as p"
   ]
  },
  {
   "cell_type": "code",
   "execution_count": null,
   "id": "10eeaacd-fb88-4911-924d-5ce384b6c6c6",
   "metadata": {
    "tags": []
   },
   "outputs": [],
   "source": [
    "import numpy as np"
   ]
  },
  {
   "cell_type": "markdown",
   "id": "4539193b-01de-40d7-a978-5ea3dd82e572",
   "metadata": {},
   "source": [
    "For this guide we will search several `Products` over the same `DLTile`:"
   ]
  },
  {
   "cell_type": "code",
   "execution_count": null,
   "id": "063e5eef-5a8a-481e-8e90-a62e523a7038",
   "metadata": {
    "tags": []
   },
   "outputs": [],
   "source": [
    "dltile = dl.geo.DLTile.from_latlon(\n",
    "    46.63653, 7.93202, resolution=10.0, tilesize=1024, pad=0\n",
    ")\n",
    "dltile"
   ]
  },
  {
   "cell_type": "markdown",
   "id": "4466c3c3-44de-4a7f-8706-3aafe6c05566",
   "metadata": {
    "tags": []
   },
   "source": [
    "## Bitmask QA Bands\n",
    "Some `Catalog Products` contain various quality flags within a single band, otherwise known as a `bitmask`. Below is an example of working with the `Sentinel-2 L2A SCL band` to retrieve information contained within this bitmask. "
   ]
  },
  {
   "cell_type": "markdown",
   "id": "54629b9b-869b-4def-afcd-e3352b905bc8",
   "metadata": {},
   "source": [
    "First, we'll retrieve the `SCL` band as a `numpy ndarray`. Note that the returned `data_type` for this band is `Unsigned 8-bit integer`, or internally as `dl.catalog.DataType.BYTE`"
   ]
  },
  {
   "cell_type": "code",
   "execution_count": null,
   "id": "52435eb9-93f5-4415-ad1f-d5dc515541d0",
   "metadata": {
    "tags": []
   },
   "outputs": [],
   "source": [
    "s2_product = Product.get(\"esa:sentinel-2:l2a:v1\")\n",
    "s2_images = s2_product.images()\n",
    "s2_ic = (\n",
    "    s2_images.intersects(dltile)\n",
    "    .filter(\"2023-10-01\" < p.acquired < \"2023-10-05\")\n",
    "    .filter(p.cloud_fraction < 0.1)\n",
    ").collect()\n",
    "s2_ic"
   ]
  },
  {
   "cell_type": "code",
   "execution_count": null,
   "id": "25ea6ac5-d719-4d23-8d0c-54967359a3fa",
   "metadata": {
    "tags": []
   },
   "outputs": [],
   "source": [
    "scl_arr = s2_ic.mosaic(bands=[\"scl\"])\n",
    "rgb_arr = s2_ic.mosaic(bands=[\"red\", \"green\", \"blue\"])\n",
    "print(f\"RGB Shape: {rgb_arr.shape}\")\n",
    "print(f\"RGB DType: {rgb_arr.dtype}\")\n",
    "print(f\"SCL Shape: {scl_arr.shape}\")\n",
    "print(f\"DType: {scl_arr.dtype}\")\n",
    "dl.utils.display(*(rgb_arr, scl_arr), title=[\"RGB\", \"SCL Integer Values\"], size=5)"
   ]
  },
  {
   "cell_type": "markdown",
   "id": "71a3d3be-16c2-4b72-8074-dea2068e3d34",
   "metadata": {},
   "source": [
    "That the `integer` values themselves do not represent anything meaningful, however converting them to `bits` reveals a wealth of information through a series of `boolean` flags. \n",
    "\n",
    "While we do calculate much of the `Sentinel-2 L2A SCL` information into its own separate band, there are a handful of classifications we do not. [More information on what else is contained within the Sentinel-2 L2A SCL band](https://sentinels.copernicus.eu/documents/247904/446933/Sentinel-2-Level-2A-Algorithm-Theoretical-Basis-Document-ATBD.pdf/fe5bacb4-7d4c-9212-8606-6591384390c3?t=1643102691874)\n",
    "\n",
    "Here we will define a simple function which converts the returned `integer` values into `bits`, then check the specified `bit position` for the presence of dark area pixels or cast shadows. "
   ]
  },
  {
   "cell_type": "code",
   "execution_count": null,
   "id": "4f2250d3-e188-4d2a-9ef5-161626928dc8",
   "metadata": {
    "tags": []
   },
   "outputs": [],
   "source": [
    "# Function to return individual mask from QA bits\n",
    "def bit_mask(array, bit_pos, num_bits, cond_val):\n",
    "    \"\"\"\n",
    "    array -> numpy array\n",
    "    bit_pos -> bit position (index in to bit string)\n",
    "    num_bits -> number of bits occuppied by bit flag\n",
    "    cond_val -> conditional value (boolean 0,1)\n",
    "    \"\"\"\n",
    "    pos_value = num_bits << bit_pos\n",
    "    con_value = cond_val << bit_pos\n",
    "    return (array & pos_value) == con_value"
   ]
  },
  {
   "cell_type": "markdown",
   "id": "f7ea01ce-b595-41e9-9e49-b3ecb58c2d54",
   "metadata": {},
   "source": [
    "When we invoke this function, each pixel is evaluated `True` if it matches our filter condition and `False` if not:"
   ]
  },
  {
   "cell_type": "code",
   "execution_count": null,
   "id": "242e2f67-b933-49be-aaee-de31a4231a29",
   "metadata": {
    "tags": []
   },
   "outputs": [],
   "source": [
    "cast_shadow = bit_mask(scl_arr, 2, 1, 0)\n",
    "cast_shadow"
   ]
  },
  {
   "cell_type": "markdown",
   "id": "643cfb7a-f647-457e-8e6e-92cd9db3cd63",
   "metadata": {},
   "source": [
    "Lastly, we can `mask` our RGB data to our newly calculated mask:"
   ]
  },
  {
   "cell_type": "code",
   "execution_count": null,
   "id": "c77c3bec-21d7-40c8-8480-966b27ce9857",
   "metadata": {
    "tags": []
   },
   "outputs": [],
   "source": [
    "mask_3d = np.broadcast_to(cast_shadow, rgb_arr.shape)\n",
    "rgb_mask = np.ma.masked_array(data=rgb_arr, mask=mask_3d)\n",
    "dl.utils.display(*(rgb_arr, rgb_mask), title=[\"RGB\", \"RGB Masked\"], size=5)"
   ]
  },
  {
   "cell_type": "markdown",
   "id": "c5d0b525-1d6d-43ae-bad6-8b0d2aad065f",
   "metadata": {},
   "source": [
    "## Filtering Ascending and Descendng Sentinel-1 Collections\n",
    "Oftentimes we want to apply an arbitrary `filter` against a collection of objects. \n",
    "\n",
    "In this example we will filter an `ImageCollection` of `Sentinel-1` images for ascending orbit."
   ]
  },
  {
   "cell_type": "code",
   "execution_count": null,
   "id": "19497afb-9b0b-4a2d-9a01-1346672d3826",
   "metadata": {
    "tags": []
   },
   "outputs": [],
   "source": [
    "s1_product = Product.get(\"esa:sentinel-1:sigma0v:v1\")\n",
    "s1_images = s1_product.images()\n",
    "s1_ic = (\n",
    "    s1_images.intersects(dltile).filter(\"2023-01-01\" <= p.acquired < \"2023-02-01\")\n",
    ").collect()\n",
    "s1_ic"
   ]
  },
  {
   "cell_type": "markdown",
   "id": "a8aa25f6-b360-4331-9f82-e5d19ed32e6b",
   "metadata": {},
   "source": [
    "Filtering function to be applied in an `ImageCollection.filter()`. Note this information is stored in the `Image ID` and the evaluation is a simple `.endswith()`:"
   ]
  },
  {
   "cell_type": "code",
   "execution_count": null,
   "id": "38e160e7-cdac-4c6b-9095-4d94d62f7468",
   "metadata": {
    "tags": []
   },
   "outputs": [],
   "source": [
    "def filter_asc(s):\n",
    "    sid = s.id\n",
    "    ascending = sid.split(\"-\")[-2].endswith(\"A\")\n",
    "    return ascending"
   ]
  },
  {
   "cell_type": "markdown",
   "id": "2e0de956-9e48-48f3-9e8d-690df4dd2887",
   "metadata": {},
   "source": [
    "Apply our filter:"
   ]
  },
  {
   "cell_type": "code",
   "execution_count": null,
   "id": "0d0f990f-27e2-4ff1-88fe-c4679035f1e4",
   "metadata": {
    "tags": []
   },
   "outputs": [],
   "source": [
    "asc_ic = s1_ic.filter(filter_asc)\n",
    "asc_ic"
   ]
  },
  {
   "cell_type": "code",
   "execution_count": null,
   "id": "bcf25eff-29ad-4a6e-a5be-a0736db1090a",
   "metadata": {},
   "outputs": [],
   "source": []
  }
 ],
 "metadata": {
  "kernelspec": {
   "display_name": "Python 3 (ipykernel)",
   "language": "python",
   "name": "python3"
  },
  "language_info": {
   "codemirror_mode": {
    "name": "ipython",
    "version": 3
   },
   "file_extension": ".py",
   "mimetype": "text/x-python",
   "name": "python",
   "nbconvert_exporter": "python",
   "pygments_lexer": "ipython3",
   "version": "3.9.18"
  }
 },
 "nbformat": 4,
 "nbformat_minor": 5
}

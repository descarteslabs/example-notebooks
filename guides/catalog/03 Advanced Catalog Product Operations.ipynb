{
 "cells": [
  {
   "cell_type": "markdown",
   "id": "3182fd75-67d6-4158-9fad-f1b516a594f6",
   "metadata": {},
   "source": [
    "# Advanced Catalog Product Operations\n",
    "\n",
    "The `Descartes Labs Catalog API` is a single interface through which you can discover existing raster `Products`, search and retrieve their associated `Images`, and manage your own `Products`.\n",
    "\n",
    "This guide is meant to serve as an introduction to miscellaneous advanced concepts and operations with `Descartes Labs Catalog Products`. For a more in depth overview of all of `Catalog's` classes and their capabilities please visit the [Catalog Guide](https://docs.descarteslabs.com/guides/catalog.html) in our Documentation page."
   ]
  },
  {
   "cell_type": "code",
   "execution_count": null,
   "id": "ad05a743-c30f-4c91-8e79-af0b952c46ea",
   "metadata": {
    "tags": []
   },
   "outputs": [],
   "source": [
    "import descarteslabs as dl\n",
    "from descarteslabs.catalog import Product, properties as p"
   ]
  },
  {
   "cell_type": "code",
   "execution_count": null,
   "id": "4f2250d3-e188-4d2a-9ef5-161626928dc8",
   "metadata": {
    "tags": []
   },
   "outputs": [],
   "source": [
    "# Function to return individual mask from QA bits\n",
    "def bit_mask(array, bit_pos, num_bits, cond_val):\n",
    "    \"\"\"\n",
    "    array -> numpy array\n",
    "    bit_pos -> bit position (index in to bit string)\n",
    "    num_bits -> number of bits occuppied by bit flag\n",
    "    cond_val -> conditional value (boolean 0,1)\n",
    "    \"\"\"\n",
    "    pos_value = num_bits << bit_pos\n",
    "    con_value = cond_val << bit_pos\n",
    "    return (array & pos_value) == con_value"
   ]
  },
  {
   "cell_type": "code",
   "execution_count": null,
   "id": "c77c3bec-21d7-40c8-8480-966b27ce9857",
   "metadata": {},
   "outputs": [],
   "source": [
    "s2_arr = s2_ic.mosaic(bands=[\"nir\", \"red\"])\n",
    "s2_scl = s2_ic.mosaic(bands=[\"scl\"], data_type=dl.catalog.DataType.BYTE)\n",
    "cast_shadow = bit_mask(s2_scl[0].astype(int), 2, 1, 0)\n",
    "ndvi_msk = np.ma.masked_array(data=ndvi, mask=cast_shadow)"
   ]
  }
 ],
 "metadata": {
  "kernelspec": {
   "display_name": "Python 3 (ipykernel)",
   "language": "python",
   "name": "python3"
  },
  "language_info": {
   "codemirror_mode": {
    "name": "ipython",
    "version": 3
   },
   "file_extension": ".py",
   "mimetype": "text/x-python",
   "name": "python",
   "nbconvert_exporter": "python",
   "pygments_lexer": "ipython3",
   "version": "3.9.18"
  }
 },
 "nbformat": 4,
 "nbformat_minor": 5
}

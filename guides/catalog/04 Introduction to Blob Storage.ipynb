{
 "cells": [
  {
   "cell_type": "markdown",
   "id": "2a02975c",
   "metadata": {},
   "source": [
    "# Storing and Accessing objects via Descartes Labs Storage\n",
    "\n",
    "The Descartes Labs Catalog API also supports arbitrary formats of data that don't fall neatly into either a raster\" or vector data model.\n",
    "\n",
    "This guide covers the basic methods for generic blob storage. For a more in depth overview of all Catalog classes and their capabilities please visit the [API Reference](https://docs.descarteslabs.com/descarteslabs/catalog/readme.html) and [Catalog Guide](https://docs.descarteslabs.com/guides/catalog.html) sections in our Documentation page."
   ]
  },
  {
   "cell_type": "code",
   "execution_count": null,
   "id": "d1d5b4fa",
   "metadata": {
    "tags": []
   },
   "outputs": [],
   "source": [
    "import descarteslabs as dl\n",
    "from descarteslabs.catalog import Blob, properties as p"
   ]
  },
  {
   "cell_type": "code",
   "execution_count": null,
   "id": "1fe493d1-6917-4da1-b547-2f0a89fe40a5",
   "metadata": {
    "tags": []
   },
   "outputs": [],
   "source": [
    "import json"
   ]
  },
  {
   "cell_type": "markdown",
   "id": "ccb0b4b4-2c4a-4e57-a1ad-64a73ced6232",
   "metadata": {
    "tags": []
   },
   "source": [
    "## Creating a Blob\n",
    "The only required attribute for a [`Blob`](https://docs.descarteslabs.com/descarteslabs/catalog/docs/blob.html) is a *unique* ID. As with Products, blobs also contain a namespace, defaulting to the user's organization and user ID if none is specified:\n",
    "\n",
    "    my-org-id:my-user-id\n",
    "\n",
    "Similar to [02 Creating and Managing Products.ipynb](./02%20Creating%20and%20Managing%20Products.ipynb), we will first format our default namespace with the current user's org and ID:"
   ]
  },
  {
   "cell_type": "code",
   "execution_count": null,
   "id": "d2693d92-08e0-4372-b158-5ccf693255e8",
   "metadata": {
    "tags": []
   },
   "outputs": [],
   "source": [
    "org = dl.auth.Auth().payload[\"org\"]\n",
    "user_namespace = dl.auth.Auth().namespace"
   ]
  },
  {
   "cell_type": "markdown",
   "id": "2903d506-a7a1-4a7c-93ae-397bec74a630",
   "metadata": {},
   "source": [
    "## Storing Arbitrary Data as Blobs\n",
    "\n",
    "Blobs also contain various attributes to search and filter by, such as a geometry and [`tags`](https://docs.descarteslabs.com/descarteslabs/catalog/docs/blob.html#descarteslabs.catalog.Blob.tags). \n",
    "\n",
    "In this first example let's define a JSON dictionary of random data and a geometry to go with it:"
   ]
  },
  {
   "cell_type": "code",
   "execution_count": null,
   "id": "28817924-9c0e-40de-8020-206d14489821",
   "metadata": {
    "tags": []
   },
   "outputs": [],
   "source": [
    "# JSON of random field info\n",
    "crop_info = {\n",
    "    \"crop\": \"hops\",\n",
    "    \"acreage\": 450,\n",
    "}\n",
    "# Geometry for the field\n",
    "field_geom = {\n",
    "    \"type\": \"Polygon\",\n",
    "    \"coordinates\": [\n",
    "        [\n",
    "            [-120.4023, 46.551],\n",
    "            [-120.3859, 46.551],\n",
    "            [-120.3859, 46.5534],\n",
    "            [-120.4023, 46.5534],\n",
    "        ]\n",
    "    ],\n",
    "}"
   ]
  },
  {
   "cell_type": "markdown",
   "id": "34b5dd65-3fcb-450a-8fbc-8724b32086b4",
   "metadata": {},
   "source": [
    "Note we are using JSON for simplicity, however this could be any object format you choose.\n",
    "\n",
    "Now that we have the data we want to store, we can create create a new blob and call [`Blob.upload_data()`](https://docs.descarteslabs.com/descarteslabs/catalog/docs/blob.html#descarteslabs.catalog.Blob.upload_data) to upload our dataset. Finally, we call [`Blob.save()`](https://docs.descarteslabs.com/descarteslabs/catalog/docs/blob.html#descarteslabs.catalog.Blob.save):"
   ]
  },
  {
   "cell_type": "code",
   "execution_count": null,
   "id": "081240af-3f85-474b-a7fe-c0db19526b3e",
   "metadata": {
    "tags": []
   },
   "outputs": [],
   "source": [
    "blob = Blob(\n",
    "    name=\"hop_field_info_demo\",\n",
    "    geometry=field_geom,\n",
    "    tags=[\"storage_demo\"],\n",
    ")\n",
    "blob.upload_data(json.dumps(crop_info))\n",
    "blob.save()\n",
    "blob"
   ]
  },
  {
   "cell_type": "markdown",
   "id": "bfca9386-c081-4952-be84-db6ac4cad750",
   "metadata": {},
   "source": [
    "#### _Note on Namespaces_\n",
    "\n",
    "You can pass any arbitrary string as a specified namespace. Any namespace provided by the user will automatically be prefixed by the user’s organization and a colon if not already present.\n",
    "\n",
    "While we didn't pass a namespace that information was automatically populated in the blob ID above, defaulting to:\n",
    "\n",
    "    {my-org}:{my-user-id}"
   ]
  },
  {
   "cell_type": "markdown",
   "id": "006b9e2b-1e7c-4a1c-9142-1db86cee7034",
   "metadata": {},
   "source": [
    "## Storing Files as Blobs\n",
    "If your object is located on disk, you can instead call [`Blob.upload()`](https://docs.descarteslabs.com/descarteslabs/catalog/docs/blob.html#descarteslabs.catalog.Blob.upload):"
   ]
  },
  {
   "cell_type": "code",
   "execution_count": null,
   "id": "17c98790-5e93-400b-9cc3-04e1d83d7217",
   "metadata": {
    "tags": []
   },
   "outputs": [],
   "source": [
    "file_blob = Blob(\n",
    "    name=\"yakima_valley\",\n",
    "    namespace=f\"{org}:{user_namespace}\",\n",
    "    tags=[\"storage_demo\"],\n",
    ")\n",
    "file_blob.upload(\"data/yakima.geojson\")\n",
    "file_blob.save()\n",
    "file_blob"
   ]
  },
  {
   "cell_type": "markdown",
   "id": "bf774f9d-54fb-4897-9e31-b49447254311",
   "metadata": {},
   "source": [
    "Notice that the namespaces on these two blobs are identical"
   ]
  },
  {
   "cell_type": "markdown",
   "id": "db191ed4",
   "metadata": {
    "tags": []
   },
   "source": [
    "## Blob Attributes and Storage Types\n",
    "The resulting saved blob has several attributes, a few of which are printed below. Note that the ID is the concatenation of the [`StorageType`](https://docs.descarteslabs.com/descarteslabs/catalog/docs/blob.html#descarteslabs.catalog.Blob.storage_type), the namespace, and the name. \n",
    "\n",
    "*Note: (Only) The name may contain internal '/' characters.*\n",
    "\n",
    "If we inspect the ID field we can break the namespace down further:\n",
    "* *data/* is the storage type\n",
    "* *my-org-name:my-user-id/* is the namespace\n",
    "* *hop_field_demo* is the blob's name"
   ]
  },
  {
   "cell_type": "code",
   "execution_count": null,
   "id": "f2a608c8",
   "metadata": {
    "tags": []
   },
   "outputs": [],
   "source": [
    "print(\"Blob ID:\", blob.id)\n",
    "print(\"Blob size:\", blob.size_bytes)\n",
    "print(\"Blob geometry: \", blob.geometry)\n",
    "print(\"Blob assigned tags: \", blob.tags)"
   ]
  },
  {
   "cell_type": "markdown",
   "id": "44b4870c",
   "metadata": {},
   "source": [
    "## Searching Blobs\n",
    "Catalog search methods can be performed across your storage objects, including geospatial searches as well. \n",
    "\n",
    "Below are examples of:\n",
    "* Point intersection\n",
    "* Polygon intersection\n",
    "* Tag filter\n",
    "* Filtering by Storage Type"
   ]
  },
  {
   "cell_type": "code",
   "execution_count": null,
   "id": "ab3e361c",
   "metadata": {
    "tags": []
   },
   "outputs": [],
   "source": [
    "# Geospatial searches by intersection\n",
    "## Intersect particular coordinate\n",
    "print(\"Point Intersection:\")\n",
    "print(\n",
    "    [\n",
    "        b.id\n",
    "        for b in Blob.search().intersects(\n",
    "            {\"type\": \"Point\", \"coordinates\": [-120.40, 46.552]}\n",
    "        )\n",
    "    ]\n",
    ")\n",
    "print(\"Polygon Intersectsion:\")\n",
    "## Intersecting geometry object\n",
    "print([b.id for b in Blob.search().intersects(field_geom)])\n",
    "print(\"Tag Filter:\")\n",
    "# Filter by tags\n",
    "print([b.id for b in Blob.search().filter(p.tags == \"storage_demo\")])\n",
    "print(\"Storage Type Filter:\")\n",
    "# Filter by Storage Type\n",
    "print([b.id for b in Blob.search().filter(p.storage_type == \"data\")])"
   ]
  },
  {
   "cell_type": "markdown",
   "id": "7d090a1a",
   "metadata": {},
   "source": [
    "We can also use a prefix filter to pick out these new blobs:"
   ]
  },
  {
   "cell_type": "code",
   "execution_count": null,
   "id": "40d9ed6c",
   "metadata": {
    "tags": []
   },
   "outputs": [],
   "source": [
    "for b in Blob.search().filter(p.name.prefix(\"foo/\")):\n",
    "    print(b.id)"
   ]
  },
  {
   "cell_type": "markdown",
   "id": "32135bae",
   "metadata": {},
   "source": [
    "### Retrieving data from Blobs\n",
    "The blob data may be retrieved, either by downloading directly to a local file or some other file-like object (e.g. an io.IOBase object), or directly into memory. Here's a simple download to a file via [`Blob.download()`](https://docs.descarteslabs.com/descarteslabs/catalog/docs/blob.html?highlight=storagetype#descarteslabs.catalog.Blob.download):"
   ]
  },
  {
   "cell_type": "code",
   "execution_count": null,
   "id": "eee6c1bc",
   "metadata": {
    "tags": []
   },
   "outputs": [],
   "source": [
    "file_blob.download(\"data/yakima_valley.geojson\")"
   ]
  },
  {
   "cell_type": "markdown",
   "id": "1168c52c",
   "metadata": {},
   "source": [
    "You can also download in raw bytes via [`Blob.data()`](https://docs.descarteslabs.com/descarteslabs/catalog/docs/blob.html?highlight=storagetype#descarteslabs.catalog.Blob.data):"
   ]
  },
  {
   "cell_type": "code",
   "execution_count": null,
   "id": "10e3eea3",
   "metadata": {
    "tags": []
   },
   "outputs": [],
   "source": [
    "print(file_blob.data())"
   ]
  },
  {
   "cell_type": "markdown",
   "id": "482cf802",
   "metadata": {},
   "source": [
    "### Sharing Blobs\n",
    "As with Products, you can add specific organizations or users as readers to your blobs to give others access. Simply update the readers list, then saving the blob:"
   ]
  },
  {
   "cell_type": "code",
   "execution_count": null,
   "id": "4491657f",
   "metadata": {
    "tags": []
   },
   "outputs": [],
   "source": [
    "# Adding coworker and org as readers for previously stored GeoTiff file\n",
    "file_blob.readers = [\"email:john.daily@gmail.com\", \"org:pga-tour\"]\n",
    "file_blob.save()\n",
    "file_blob.readers"
   ]
  },
  {
   "cell_type": "markdown",
   "id": "68ae8f05-9335-4f96-9b73-05b98c2ada2c",
   "metadata": {},
   "source": [
    "Blobs can also transfer ownership, however you cannot use the *email:* variant as an owner. Instead use the new owner's user ID:"
   ]
  },
  {
   "cell_type": "markdown",
   "id": "b29d872d-234a-48b8-ab97-711c0fcb2eb0",
   "metadata": {
    "tags": []
   },
   "source": [
    "    file_blob.owners.append(f\"user:{user_namespace}\")\n",
    "    file_blob.save()"
   ]
  },
  {
   "cell_type": "markdown",
   "id": "51fbf344-8749-4832-a2e0-7cb6a668cb3b",
   "metadata": {},
   "source": [
    "For more information visit our [Sharing Resources](https://docs.descarteslabs.com/guides/sharing.html) page."
   ]
  },
  {
   "cell_type": "markdown",
   "id": "e8864e58",
   "metadata": {
    "tags": []
   },
   "source": [
    "### Deleting Blobs\n",
    "Blobs can also be deleted using the Catalog module search methods we used earlier and by calling [`Blob.delete()`](https://docs.descarteslabs.com/descarteslabs/catalog/docs/blob.html?highlight=storagetype#descarteslabs.catalog.Blob.delete):"
   ]
  },
  {
   "cell_type": "code",
   "execution_count": null,
   "id": "f5fe9df5",
   "metadata": {
    "tags": []
   },
   "outputs": [],
   "source": [
    "# Delete by tags\n",
    "for b in (\n",
    "    Blob.search()\n",
    "    .filter(p.tags == \"storage_demo\")\n",
    "    .filter(p.owners == f\"user:{user_namespace}\")\n",
    "):\n",
    "    print(f\"Deleting {b.id}\")\n",
    "    b.delete()"
   ]
  },
  {
   "cell_type": "markdown",
   "id": "7ecf5fe3-5b08-470e-a3e4-605223d026bc",
   "metadata": {},
   "source": [
    "Cleaning up our workspace"
   ]
  },
  {
   "cell_type": "code",
   "execution_count": null,
   "id": "6dbf8fb8-cced-4038-86c6-d455187d7166",
   "metadata": {
    "tags": []
   },
   "outputs": [],
   "source": [
    "import os\n",
    "\n",
    "os.remove(\"data/yakima_valley.geojson\")"
   ]
  },
  {
   "cell_type": "code",
   "execution_count": null,
   "id": "d4ec7b2a-2772-4da0-bc3f-9c20ef241431",
   "metadata": {},
   "outputs": [],
   "source": []
  }
 ],
 "metadata": {
  "kernelspec": {
   "display_name": "Python 3 (ipykernel)",
   "language": "python",
   "name": "python3"
  },
  "language_info": {
   "codemirror_mode": {
    "name": "ipython",
    "version": 3
   },
   "file_extension": ".py",
   "mimetype": "text/x-python",
   "name": "python",
   "nbconvert_exporter": "python",
   "pygments_lexer": "ipython3",
   "version": "3.9.18"
  }
 },
 "nbformat": 4,
 "nbformat_minor": 5
}

{
 "cells": [
  {
   "cell_type": "markdown",
   "id": "2a02975c",
   "metadata": {},
   "source": [
    "# Storing and Accessing objects via Descartes Labs Storage\n",
    "__________________\n",
    "\n",
    "The Descartes Labs Catalog API also supports arbitrary formats of data that don't fall neatly into either a raster or vector data model.\n",
    "\n",
    "This guide covers the basic methods for generic blob storage. For a more in depth overview of all Catalog classes and their capabilities please visit the [API Reference](https://docs.descarteslabs.com/descarteslabs/catalog/readme.html) and [Catalog Guide](https://docs.descarteslabs.com/guides/catalog.html) sections in our Documentation page."
   ]
  },
  {
   "cell_type": "code",
   "execution_count": null,
   "id": "d1d5b4fa",
   "metadata": {
    "tags": []
   },
   "outputs": [],
   "source": [
    "import descarteslabs as dl\n",
    "from descarteslabs.catalog import Blob, properties as p"
   ]
  },
  {
   "cell_type": "code",
   "execution_count": null,
   "id": "1fe493d1-6917-4da1-b547-2f0a89fe40a5",
   "metadata": {
    "tags": []
   },
   "outputs": [],
   "source": [
    "import json"
   ]
  },
  {
   "cell_type": "markdown",
   "id": "ccb0b4b4-2c4a-4e57-a1ad-64a73ced6232",
   "metadata": {
    "tags": []
   },
   "source": [
    "## Creating a Blob\n",
    "The only required attribute for a [`Blob`](https://docs.descarteslabs.com/descarteslabs/catalog/docs/blob.html) is a *unique* ID. Blobs may also contain various attributes to search and filter by, such as a geometry and [`tags`](https://docs.descarteslabs.com/descarteslabs/catalog/docs/blob.html#descarteslabs.catalog.Blob.tags). "
   ]
  },
  {
   "cell_type": "markdown",
   "id": "1290f2ae-daa1-484a-872c-6bf31ceecafc",
   "metadata": {},
   "source": [
    "In this first example we'll define a JSON dictionary of arbitrary field data and a geometry to go with it:"
   ]
  },
  {
   "cell_type": "code",
   "execution_count": null,
   "id": "42a1bc36-e4e0-4164-964c-057bbebe8f4e",
   "metadata": {
    "tags": []
   },
   "outputs": [],
   "source": [
    "# JSON of random field info\n",
    "crop_info = {\n",
    "    \"crop\": \"hops\",\n",
    "    \"acreage\": 450,\n",
    "}\n",
    "# Geometry for the field\n",
    "field_geom = {\n",
    "    \"type\": \"Polygon\",\n",
    "    \"coordinates\": [\n",
    "        [\n",
    "            [-120.4023, 46.551],\n",
    "            [-120.3859, 46.551],\n",
    "            [-120.3859, 46.5534],\n",
    "            [-120.4023, 46.5534],\n",
    "        ]\n",
    "    ],\n",
    "}"
   ]
  },
  {
   "cell_type": "markdown",
   "id": "2177930e-2f2b-4ea7-9c40-de3d35cea95f",
   "metadata": {},
   "source": [
    "#### Note on Blobs \n",
    "We are using JSON for simplicity, however this could be _any object format_ you choose!"
   ]
  },
  {
   "cell_type": "markdown",
   "id": "2903d506-a7a1-4a7c-93ae-397bec74a630",
   "metadata": {
    "jp-MarkdownHeadingCollapsed": true,
    "tags": []
   },
   "source": [
    "Let's start by creating a new blob named **hop_field_info**, and give it a list of tags to search by:"
   ]
  },
  {
   "cell_type": "code",
   "execution_count": null,
   "id": "9a7a87d9-4d19-4e34-95a1-02b7cafcc1a0",
   "metadata": {
    "tags": []
   },
   "outputs": [],
   "source": [
    "blob = Blob(name=\"hop_field_info\", tags=[\"examples\"], geometry=field_geom)"
   ]
  },
  {
   "cell_type": "markdown",
   "id": "34b5dd65-3fcb-450a-8fbc-8724b32086b4",
   "metadata": {},
   "source": [
    "### Uploading to a Blob from Data In Memory\n",
    "\n",
    "Now that we have the data we want to store, we can add data to our blob and call [`Blob.upload_data()`](https://docs.descarteslabs.com/descarteslabs/catalog/docs/blob.html#descarteslabs.catalog.Blob.upload_data) to upload our dataset:"
   ]
  },
  {
   "cell_type": "code",
   "execution_count": null,
   "id": "081240af-3f85-474b-a7fe-c0db19526b3e",
   "metadata": {
    "tags": []
   },
   "outputs": [],
   "source": [
    "blob.upload_data(json.dumps(crop_info))\n",
    "blob"
   ]
  },
  {
   "cell_type": "markdown",
   "id": "f19dfb29-daf2-4c62-8d88-1f07342297f0",
   "metadata": {},
   "source": [
    "#### _Note on Namespaces_:\n",
    "You'll note that, as with products, blobs also contain a _namespace_. A namespace defaults to the current user's organization and user hash if none is specified (such as with self-signup users). Therefore, the typical construction of a blob ID is as follows:\n",
    "\n",
    "    data/my-org-id:my-user-id/blob-name\n",
    "    \n",
    "or\n",
    "\n",
    "    data/my-user-id/blob-name\n",
    "\n",
    "\n",
    "Where **data/** is the [`StorageType`](https://docs.descarteslabs.com/descarteslabs/catalog/docs/blob.html#descarteslabs.catalog.Blob.storage_type).\n",
    "\n",
    "_For self-signup or free trial users, you will not have an organization defined. Your namespace will simply be your user hash._"
   ]
  },
  {
   "cell_type": "markdown",
   "id": "ac06a543-f85b-4781-898d-3da8e1d55979",
   "metadata": {},
   "source": [
    "Similar to [02 Creating and Managing Products.ipynb](./02%20Creating%20and%20Managing%20Products.ipynb), we can recreate our default namespace with the current user's org and hash:"
   ]
  },
  {
   "cell_type": "code",
   "execution_count": null,
   "id": "e74f9756-3ad9-4d11-af05-4485e14ccaf8",
   "metadata": {
    "tags": []
   },
   "outputs": [],
   "source": [
    "##Setting namespace\n",
    "auth = dl.auth.Auth.get_default_auth()\n",
    "user_hash = auth.namespace\n",
    "org = auth.payload['org']\n",
    "default_namespace = f\"{org}:{user_hash}\" if org else user_hash"
   ]
  },
  {
   "cell_type": "code",
   "execution_count": null,
   "id": "399164f4-0791-4741-96ec-28441e7c6c3f",
   "metadata": {
    "tags": []
   },
   "outputs": [],
   "source": [
    "print(blob.namespace==default_namespace)"
   ]
  },
  {
   "cell_type": "markdown",
   "id": "006b9e2b-1e7c-4a1c-9142-1db86cee7034",
   "metadata": {},
   "source": [
    "### Uploading Files as Blobs\n",
    "If your object is located on disk, you can instead call [`Blob.upload()`](https://docs.descarteslabs.com/descarteslabs/catalog/docs/blob.html#descarteslabs.catalog.Blob.upload). Here we will also pass a non-default namespace to demonstrate how these differ:"
   ]
  },
  {
   "cell_type": "code",
   "execution_count": null,
   "id": "17c98790-5e93-400b-9cc3-04e1d83d7217",
   "metadata": {
    "tags": []
   },
   "outputs": [],
   "source": [
    "file_blob = Blob(\n",
    "    name=\"yakima_valley\",\n",
    "    namespace=f\"examples\",\n",
    "    tags=[\"examples\"],\n",
    ")\n",
    "file_blob.upload(\"data/yakima.geojson\")\n",
    "file_blob"
   ]
  },
  {
   "cell_type": "markdown",
   "id": "bf774f9d-54fb-4897-9e31-b49447254311",
   "metadata": {},
   "source": [
    "#### Note on Namespaces\n",
    "Notice that now instead of our user hash we now have the string **examples** in our namespace. The user-specified namespace blob ID format will be:\n",
    "\n",
    "    data/my-default-namespace:provided-namespace/blob-name"
   ]
  },
  {
   "cell_type": "markdown",
   "id": "db191ed4",
   "metadata": {
    "tags": []
   },
   "source": [
    "### Blob Attributes\n",
    "Each saved blob has several attributes, a few of which are printed below:"
   ]
  },
  {
   "cell_type": "code",
   "execution_count": null,
   "id": "f2a608c8",
   "metadata": {
    "tags": []
   },
   "outputs": [],
   "source": [
    "print(\"Blob ID:\", blob.id)\n",
    "print(\"Blob size:\", blob.size_bytes)\n",
    "print(\"Blob geometry: \", blob.geometry)\n",
    "print(\"Blob assigned tags: \", blob.tags)"
   ]
  },
  {
   "cell_type": "markdown",
   "id": "44b4870c",
   "metadata": {},
   "source": [
    "## Searching Blobs\n",
    "Catalog search methods can be performed across your storage objects, including geospatial searches as well. \n",
    "\n",
    "Below are examples of:\n",
    "* Point intersection\n",
    "* Polygon intersection\n",
    "* Tag filter\n",
    "* Filtering by Storage Type"
   ]
  },
  {
   "cell_type": "code",
   "execution_count": null,
   "id": "ab3e361c",
   "metadata": {
    "tags": []
   },
   "outputs": [],
   "source": [
    "# Geospatial searches by intersection\n",
    "## Intersect particular coordinate\n",
    "print(\"Point Intersection:\")\n",
    "print(\n",
    "    [\n",
    "        b.id\n",
    "        for b in Blob.search().intersects(\n",
    "            {\"type\": \"Point\", \"coordinates\": [-120.40, 46.552]}\n",
    "        )\n",
    "    ]\n",
    ")\n",
    "print(\"Polygon Intersectsion:\")\n",
    "## Intersecting geometry object\n",
    "print([b.id for b in Blob.search().intersects(field_geom)])\n",
    "print(\"Tag Filter:\")\n",
    "# Filter by tags\n",
    "print([b.id for b in Blob.search().filter(p.tags == \"examples\")])\n",
    "print(\"Storage Type Filter:\")\n",
    "# Filter by Storage Type\n",
    "print([b.id for b in Blob.search().filter(p.storage_type == \"data\")])"
   ]
  },
  {
   "cell_type": "markdown",
   "id": "7d090a1a",
   "metadata": {},
   "source": [
    "We can also use a prefix filter to pick out these new blobs:"
   ]
  },
  {
   "cell_type": "code",
   "execution_count": null,
   "id": "40d9ed6c",
   "metadata": {
    "tags": []
   },
   "outputs": [],
   "source": [
    "for b in Blob.search().filter(p.name.prefix(\"foo/\")):\n",
    "    print(b.id)"
   ]
  },
  {
   "cell_type": "markdown",
   "id": "d27219e1-8046-4627-b9b9-0f455aeacd1d",
   "metadata": {},
   "source": [
    "*__Note__*: Only the name may contain internal '/' characters."
   ]
  },
  {
   "cell_type": "markdown",
   "id": "32135bae",
   "metadata": {},
   "source": [
    "## Retrieving Data from Blobs\n",
    "The blob data may be retrieved, either by downloading directly to a local file or some other file-like object (e.g. an io.IOBase object), or directly into memory. Here's a simple download to a file via [`Blob.download()`](https://docs.descarteslabs.com/descarteslabs/catalog/docs/blob.html?highlight=storagetype#descarteslabs.catalog.Blob.download):"
   ]
  },
  {
   "cell_type": "code",
   "execution_count": null,
   "id": "eee6c1bc",
   "metadata": {
    "tags": []
   },
   "outputs": [],
   "source": [
    "file_blob.download(\"data/yakima_valley.geojson\")"
   ]
  },
  {
   "cell_type": "markdown",
   "id": "1168c52c",
   "metadata": {},
   "source": [
    "You can also download in raw bytes via [`Blob.data()`](https://docs.descarteslabs.com/descarteslabs/catalog/docs/blob.html?highlight=storagetype#descarteslabs.catalog.Blob.data):"
   ]
  },
  {
   "cell_type": "code",
   "execution_count": null,
   "id": "10e3eea3",
   "metadata": {
    "tags": []
   },
   "outputs": [],
   "source": [
    "print(len(file_blob.data()))"
   ]
  },
  {
   "cell_type": "markdown",
   "id": "482cf802",
   "metadata": {},
   "source": [
    "## Sharing Blobs\n",
    "As with products, you can add specific organizations or users as readers to your blobs to give others access. Simply update the readers list, then save the blob:"
   ]
  },
  {
   "cell_type": "code",
   "execution_count": null,
   "id": "4491657f",
   "metadata": {
    "tags": []
   },
   "outputs": [],
   "source": [
    "# Adding coworker and org as readers for previously stored GeoTiff file\n",
    "file_blob.readers = [\"email:john.daily@gmail.com\", \"org:pga-tour\"]\n",
    "file_blob.save()\n",
    "file_blob.readers"
   ]
  },
  {
   "cell_type": "markdown",
   "id": "68ae8f05-9335-4f96-9b73-05b98c2ada2c",
   "metadata": {},
   "source": [
    "#### Note on Ownership\n",
    "Blobs can also transfer ownership, however you cannot use the \"email:\" variant as an owner. Instead use the new owner's user ID:"
   ]
  },
  {
   "cell_type": "markdown",
   "id": "b29d872d-234a-48b8-ab97-711c0fcb2eb0",
   "metadata": {
    "tags": []
   },
   "source": [
    "    file_blob.owners.append(f\"user:{user_namespace}\")\n",
    "    file_blob.save()"
   ]
  },
  {
   "cell_type": "markdown",
   "id": "51fbf344-8749-4832-a2e0-7cb6a668cb3b",
   "metadata": {},
   "source": [
    "For more information visit our [Sharing Resources](https://docs.descarteslabs.com/guides/sharing.html) page."
   ]
  },
  {
   "cell_type": "markdown",
   "id": "e8864e58",
   "metadata": {
    "tags": []
   },
   "source": [
    "## Deleting Blobs\n",
    "Blobs can also be deleted using the Catalog module search methods we used earlier and by calling [`Blob.delete()`](https://docs.descarteslabs.com/descarteslabs/catalog/docs/blob.html?highlight=storagetype#descarteslabs.catalog.Blob.delete):"
   ]
  },
  {
   "cell_type": "code",
   "execution_count": null,
   "id": "f5fe9df5",
   "metadata": {
    "tags": []
   },
   "outputs": [],
   "source": [
    "# Delete by tags\n",
    "for b in (\n",
    "    Blob.search().filter(p.tags == \"examples\").filter(p.owners == f\"user:{user_hash}\")\n",
    "):\n",
    "    print(f\"Deleting {b.id}\")\n",
    "    b.delete()"
   ]
  },
  {
   "cell_type": "markdown",
   "id": "7ecf5fe3-5b08-470e-a3e4-605223d026bc",
   "metadata": {},
   "source": [
    "Cleaning up our workspace"
   ]
  },
  {
   "cell_type": "code",
   "execution_count": null,
   "id": "6dbf8fb8-cced-4038-86c6-d455187d7166",
   "metadata": {
    "tags": []
   },
   "outputs": [],
   "source": [
    "import os\n",
    "\n",
    "os.remove(\"data/yakima_valley.geojson\")"
   ]
  },
  {
   "cell_type": "code",
   "execution_count": null,
   "id": "d4ec7b2a-2772-4da0-bc3f-9c20ef241431",
   "metadata": {},
   "outputs": [],
   "source": []
  }
 ],
 "metadata": {
  "kernelspec": {
   "display_name": "Python 3 (ipykernel)",
   "language": "python",
   "name": "python3"
  },
  "language_info": {
   "codemirror_mode": {
    "name": "ipython",
    "version": 3
   },
   "file_extension": ".py",
   "mimetype": "text/x-python",
   "name": "python",
   "nbconvert_exporter": "python",
   "pygments_lexer": "ipython3",
   "version": "3.9.18"
  }
 },
 "nbformat": 4,
 "nbformat_minor": 5
}

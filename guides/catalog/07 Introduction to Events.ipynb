{
 "cells": [
  {
   "cell_type": "markdown",
   "id": "084c8798-deec-4e57-819b-811238da0ab8",
   "metadata": {},
   "source": [
    "# Working with Events\n",
    "__________________\n",
    "As of Descartes Labs 3.2 the Catalog API now supports an event notification service which allows the user to subscribe to certain types of events within the Catalog and to define actions to be taken when an event is matched by the conditions of the subscription.\n",
    "\n",
    "This notebook serves as an introduction to Catalog Events, for a more detailed overview please visit the [API Reference](https://docs.descarteslabs.com/descarteslabs/catalog/readme.html) and [Catalog Guide](https://docs.descarteslabs.com/guides/catalog.html#working-with-events) sections in our Documentation page. "
   ]
  },
  {
   "cell_type": "code",
   "execution_count": null,
   "id": "eaf10cd0-f3c7-4893-abe3-3f03bd3b123d",
   "metadata": {
    "tags": []
   },
   "outputs": [],
   "source": [
    "import descarteslabs as dl\n",
    "from descarteslabs.catalog import (\n",
    "    EventSchedule,\n",
    "    EventSubscription,\n",
    "    EventType,\n",
    "    ScheduledEventSubscription,\n",
    "    EventSubscriptionComputeTarget,\n",
    "    Placeholder,\n",
    "    Image,\n",
    "    DataType,\n",
    "    Product,\n",
    "    Resolution,\n",
    "    ResolutionUnit,\n",
    "    SpectralBand,\n",
    ")\n",
    "from descarteslabs.compute import Function"
   ]
  },
  {
   "cell_type": "code",
   "execution_count": null,
   "id": "7e5029f2-4b54-4a56-b7ff-c585ec8b8159",
   "metadata": {
    "tags": []
   },
   "outputs": [],
   "source": [
    "import sys"
   ]
  },
  {
   "cell_type": "markdown",
   "id": "730026df-3ac7-487b-a79f-fe03dc1dccdf",
   "metadata": {},
   "source": [
    "## Catalog Events\n",
    "Every time an image or storage blob is created or updated within the Catalog, a corresponding event can be generated which is then matched against the registered subscriptions, causing the target actions specified by the matching subscriptions to be invoked.\n",
    "\n",
    "This example will cover the basics of creating a new event by:\n",
    "* Creating a new Catalog product, alongside its bands, to serve as a sample\n",
    "* Defining a function which calculates and returns a mean band ratio of a single image\n",
    "* Creating a Compute function which will be triggered by the upload of a new image\n",
    "* Submitting a new [`EventSubscription`](https://docs.descarteslabs.com/descarteslabs/catalog/docs/event_subscription.html#descarteslabs.catalog.EventSubscription) which will trigger the Compute function upon new image upload"
   ]
  },
  {
   "cell_type": "markdown",
   "id": "fd9e9786-65b8-4363-85af-9ba458a599ad",
   "metadata": {
    "tags": []
   },
   "source": [
    "_For more details on creating new products, visit [02 Creating and Managing Products](02%20Creating%20and%20Managing%20Products.ipynb)_"
   ]
  },
  {
   "cell_type": "code",
   "execution_count": null,
   "id": "4226e62a-fd48-4621-a6b7-f58d7142e919",
   "metadata": {
    "tags": []
   },
   "outputs": [],
   "source": [
    "##Setting namespace\n",
    "auth = dl.auth.Auth.get_default_auth()\n",
    "org = auth.payload['org']\n",
    "user_hash = auth.namespace"
   ]
  },
  {
   "cell_type": "code",
   "execution_count": null,
   "id": "8b6adeed-a172-4adb-b21e-f78d89ad969a",
   "metadata": {
    "tags": []
   },
   "outputs": [],
   "source": [
    "pid = f\"{org or user_hash}:sample-rgb-product:{user_hash}\"\n",
    "pid"
   ]
  },
  {
   "cell_type": "markdown",
   "id": "74b91638-2b84-4e7e-a938-26e6d936ae8d",
   "metadata": {},
   "source": [
    "Creating our new product:"
   ]
  },
  {
   "cell_type": "code",
   "execution_count": null,
   "id": "3bf9c65b-20c9-4434-84d5-3c768bf3bb0b",
   "metadata": {
    "tags": []
   },
   "outputs": [],
   "source": [
    "product = Product.get(pid)\n",
    "\n",
    "if product:\n",
    "    status = product.delete_related_objects()\n",
    "    if status:\n",
    "        status.wait_for_completion()\n",
    "    product.delete()"
   ]
  },
  {
   "cell_type": "code",
   "execution_count": null,
   "id": "668c4e4a-7621-4fa9-a398-52653ddcf822",
   "metadata": {
    "tags": []
   },
   "outputs": [],
   "source": [
    "product = Product.get_or_create(pid)\n",
    "product.name = \"Example RGB Product\"\n",
    "product.tags = [\"examples\"]\n",
    "product.save()\n",
    "product"
   ]
  },
  {
   "cell_type": "markdown",
   "id": "9be873cc-27b5-4667-a848-a0695d4d53fb",
   "metadata": {},
   "source": [
    "Adding in 3 bands:"
   ]
  },
  {
   "cell_type": "code",
   "execution_count": null,
   "id": "9b726bfa-f536-42f9-8216-d1a7ed17620b",
   "metadata": {
    "tags": []
   },
   "outputs": [],
   "source": [
    "for i, name in enumerate(['red', 'green', 'blue']):\n",
    "    band = SpectralBand(name=name, product=product)\n",
    "    band.band_index = i\n",
    "    band.file_index = 0\n",
    "    band.data_type = DataType.FLOAT64\n",
    "    band.data_range = (0, 1)\n",
    "    band.display_range = (0, 0.4)\n",
    "    band.resolution = Resolution(unit=ResolutionUnit.METERS, value=30.0)\n",
    "    band.save()\n",
    "    print(f\"Saved: {band.id}\")"
   ]
  },
  {
   "cell_type": "markdown",
   "id": "2a80b5a7-2bfc-4a0f-ae1b-8ee1c02ec8df",
   "metadata": {},
   "source": [
    "Defining our function, which accepts a single image ID as an input argument alongside a subscription ID, which will be discused below:"
   ]
  },
  {
   "cell_type": "code",
   "execution_count": null,
   "id": "410c44b6-9538-411f-8ad5-ac1f8729b813",
   "metadata": {
    "tags": []
   },
   "outputs": [],
   "source": [
    "def new_image_processing(image_id, subscription_id=None):\n",
    "    from descarteslabs.catalog import Image\n",
    "    print(f\"Found {image_id}\")\n",
    "    print(f\"Subscription ID: {subscription_id}\")\n",
    "    img = Image.get(image_id)\n",
    "    ndarr = img.ndarray([\"red\", \"green\"])\n",
    "    red = ndarr[:,:,0]\n",
    "    green = ndarr[:,:,1]\n",
    "    gr_ix = (green - red) / (green + red)\n",
    "    return {\n",
    "        \"image_id\": image_id, \n",
    "        \"date\": img.acquired.strftime(\"%Y-%m-%d\"),\n",
    "        \"gr_ix\": float(gr_ix.mean())\n",
    "    }"
   ]
  },
  {
   "cell_type": "markdown",
   "id": "e4c90c80-157b-43b0-85ab-100265efbb1d",
   "metadata": {},
   "source": [
    "Creating and saving our Compute function:"
   ]
  },
  {
   "cell_type": "code",
   "execution_count": null,
   "id": "b8d3af8e-458f-4b8c-baab-6d614f63f2a1",
   "metadata": {
    "tags": []
   },
   "outputs": [],
   "source": [
    "major = sys.version_info.major\n",
    "minor = sys.version_info.minor\n",
    "image = f\"python{major}.{minor}:latest\"\n",
    "image"
   ]
  },
  {
   "cell_type": "code",
   "execution_count": null,
   "id": "b000626b-5bf8-41dd-9a36-59b72d4fbb01",
   "metadata": {
    "tags": []
   },
   "outputs": [],
   "source": [
    "async_func = Function(\n",
    "    new_image_processing,\n",
    "    name=\"New Image Processing\",\n",
    "    image=image,\n",
    "    cpus=0.25,\n",
    "    memory=512,\n",
    "    maximum_concurrency=20,\n",
    "    timeout=300,\n",
    "    retry_count=0,\n",
    ")\n",
    "async_func.save()\n",
    "print(f\"Created: {async_func.id}\")"
   ]
  },
  {
   "cell_type": "markdown",
   "id": "28ea4765-7a7e-4e0d-98f4-453e5b16c39a",
   "metadata": {
    "tags": []
   },
   "source": [
    "## Event Subscriptions\n",
    "Below is a sample [`EventSubscription`](https://docs.descarteslabs.com/descarteslabs/catalog/docs/event_subscription.html#descarteslabs.catalog.EventSubscription) which will trigger the newly created Compute function upon notification of a new image upload. \n",
    "\n",
    "The subscription takes the following inputs:\n",
    "* Name, string\n",
    "* [`EventType`](https://docs.descarteslabs.com/descarteslabs/catalog/docs/types.html#descarteslabs.catalog.EventType), in this case NEW_IMAGE\n",
    "* Event Namespace, which corresponds to our newly created product. This could also be a blob namespace. \n",
    "* [`Event Subscription Target`](https://docs.descarteslabs.com/descarteslabs/catalog/docs/types.html#descarteslabs.catalog.EventSubscriptionTarget), in this case our Compute function via [`EventSubscriptionComputeTarget`](https://docs.descarteslabs.com/descarteslabs/catalog/docs/types.html#descarteslabs.catalog.EventSubscriptionComputeTarget)\n",
    "\n",
    "Once saved, this subscription will be active. "
   ]
  },
  {
   "cell_type": "code",
   "execution_count": null,
   "id": "faa96bd7-82d0-48e9-b3cf-a2f9d3035b8d",
   "metadata": {
    "tags": []
   },
   "outputs": [],
   "source": [
    "subscription = EventSubscription(\n",
    "    name=\"new_image_processing\",\n",
    "    event_type=[EventType.NEW_IMAGE],\n",
    "    event_namespace=[pid],\n",
    "    targets=[\n",
    "        EventSubscriptionComputeTarget(\n",
    "            async_func.id, \n",
    "            Placeholder(\"event.detail.id\"), \n",
    "            subscription_id=Placeholder(\"subscription.id\")\n",
    "        )\n",
    "    ]\n",
    ")\n",
    "subscription.save()\n",
    "subscription"
   ]
  },
  {
   "cell_type": "markdown",
   "id": "76ce3c90-b22b-4d72-af7d-67022ca1fe6d",
   "metadata": {
    "tags": []
   },
   "source": [
    "Adding a new sample image to our test product:"
   ]
  },
  {
   "cell_type": "code",
   "execution_count": null,
   "id": "1697750f-3ac0-4bad-b08d-ede0f17a563e",
   "metadata": {
    "tags": []
   },
   "outputs": [],
   "source": [
    "# Set any attributes that should be set on the uploaded images\n",
    "image = Image(product=product, name=\"image1\")\n",
    "# Set acquired date\n",
    "image.acquired = \"2023-06-15\"\n",
    "# Set metadata\n",
    "image.cloud_fraction = 0.1\n",
    "image.extra_properties = {\"foo\": \"bar\"}\n",
    "# Do the upload\n",
    "upload = image.upload(\"data/rgb.tif\")\n",
    "# Wait for completion\n",
    "upload.wait_for_completion()\n",
    "upload.status"
   ]
  },
  {
   "cell_type": "markdown",
   "id": "d8215161-9297-475c-8968-e7777bff6646",
   "metadata": {},
   "source": [
    "Now that a new image has been added to the product, navigate to [app.descarteslabs.com/compute](https://app.descarteslabs.com/compute) to ensure the function has received a new job input. Also check by collecting all jobs on the new function:"
   ]
  },
  {
   "cell_type": "code",
   "execution_count": null,
   "id": "f768b4cc-07fc-4cec-85f2-001472577660",
   "metadata": {
    "tags": []
   },
   "outputs": [],
   "source": [
    "async_func.jobs.collect()"
   ]
  },
  {
   "cell_type": "markdown",
   "id": "7fe35acc-6012-4518-91fb-69c3bf2bada7",
   "metadata": {},
   "source": [
    "Cleaning up:"
   ]
  },
  {
   "cell_type": "code",
   "execution_count": null,
   "id": "4cb3dfd9-4c69-4240-ae82-1e2caedf2b1f",
   "metadata": {
    "tags": []
   },
   "outputs": [],
   "source": [
    "status = product.delete_related_objects()"
   ]
  },
  {
   "cell_type": "code",
   "execution_count": null,
   "id": "85f7b3dd-a409-468c-ba24-3a72bb39498c",
   "metadata": {
    "tags": []
   },
   "outputs": [],
   "source": [
    "if status:\n",
    "    status.wait_for_completion()\n",
    "product.delete()"
   ]
  },
  {
   "cell_type": "markdown",
   "id": "adb22f83-09d5-492f-868a-b34ba93ea127",
   "metadata": {},
   "source": [
    "Deleting the subscription:"
   ]
  },
  {
   "cell_type": "code",
   "execution_count": null,
   "id": "c74aabfb-1b30-41ab-b99b-1c7a1cdd9920",
   "metadata": {},
   "outputs": [],
   "source": [
    "subscription.delete()"
   ]
  },
  {
   "cell_type": "code",
   "execution_count": null,
   "id": "a4628e31-3898-4a94-a7c2-9e5fb8274061",
   "metadata": {},
   "outputs": [],
   "source": []
  },
  {
   "cell_type": "code",
   "execution_count": null,
   "id": "bb04fd3c-c156-4957-8685-11b96f3f5d2e",
   "metadata": {},
   "outputs": [],
   "source": []
  }
 ],
 "metadata": {
  "kernelspec": {
   "display_name": "Python 3 (ipykernel)",
   "language": "python",
   "name": "python3"
  },
  "language_info": {
   "codemirror_mode": {
    "name": "ipython",
    "version": 3
   },
   "file_extension": ".py",
   "mimetype": "text/x-python",
   "name": "python",
   "nbconvert_exporter": "python",
   "pygments_lexer": "ipython3",
   "version": "3.9.18"
  }
 },
 "nbformat": 4,
 "nbformat_minor": 5
}

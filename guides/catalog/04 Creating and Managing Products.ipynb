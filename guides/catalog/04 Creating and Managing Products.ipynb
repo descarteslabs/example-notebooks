{
 "cells": [
  {
   "cell_type": "markdown",
   "id": "df9ead35-3ddf-4978-a556-6ecebac7893a",
   "metadata": {},
   "source": [
    "# Managing products"
   ]
  },
  {
   "cell_type": "markdown",
   "id": "c661c1ac-b9ce-4e18-a741-fe49f5149085",
   "metadata": {},
   "source": [
    "## Creating and updating a product\n",
    "Before uploading images to the catalog, you need to create a product and declare its bands. The only required attributes for a product are a unique id and a name:"
   ]
  },
  {
   "cell_type": "code",
   "execution_count": null,
   "id": "2790d71b-9377-448f-8d05-6aa138e97df7",
   "metadata": {},
   "outputs": [],
   "source": [
    "from descarteslabs.catalog import Product"
   ]
  },
  {
   "cell_type": "code",
   "execution_count": null,
   "id": "1829e262-a26e-494f-a9e2-65dc03ef7c26",
   "metadata": {},
   "outputs": [],
   "source": [
    "# Creating a unique ID to avoid conflicts:\n",
    "from uuid import uuid4\n",
    "\n",
    "pid = f\"guide-example-product-{uuid4()}\"\n",
    "name = \"Example product\""
   ]
  },
  {
   "cell_type": "code",
   "execution_count": null,
   "id": "a56aa3ec-019a-44f2-8a3a-179b6bdba424",
   "metadata": {},
   "outputs": [],
   "source": [
    "product = Product()\n",
    "product.id = pid\n",
    "product.name = name\n",
    "product.save()\n",
    "product.id"
   ]
  },
  {
   "cell_type": "code",
   "execution_count": null,
   "id": "755139bf-5f7a-45bb-9192-42fedfd86a8a",
   "metadata": {},
   "outputs": [],
   "source": [
    "product.created"
   ]
  },
  {
   "cell_type": "markdown",
   "id": "baf11668-eb3f-4684-b0f3-8b8006eae0a2",
   "metadata": {},
   "source": [
    "`save()` saves the product to the catalog in the cloud. Note that you get to choose an id for your product but it must be unique within your organization (you get an exception if it’s not). This code example is assuming the user is in the “descarteslabs” organization. The id is prefixed with the organization id on save to enforce global uniqueness and uniqueness within an organization. If you are not part of an organization the prefix will be your unique user id. You can find this unique user id on your IAM page if you click on your name in the upper right."
   ]
  },
  {
   "cell_type": "markdown",
   "id": "4fda3ccf-0b1d-48ca-94e4-a84cb48e3b77",
   "metadata": {},
   "source": [
    "Every object has a read-only `created` attribute with the timestamp from when it was first saved.\n",
    "\n",
    "There are a few more attributes that you can set (see the [`Product`](https://docs.descarteslabs.com/descarteslabs/catalog/docs/product.html#descarteslabs.catalog.Product) API reference). You can update the product to define the timespan that it covers. This is as simple as assigning attributes and then saving again:"
   ]
  },
  {
   "cell_type": "code",
   "execution_count": null,
   "id": "44800dd8-68c7-47f0-b4ae-9ed178a9ce7c",
   "metadata": {},
   "outputs": [],
   "source": [
    "product.start_datetime = \"2012-01-01\"\n",
    "product.end_datetime = \"2015-01-01\"\n",
    "product.save()\n",
    "product.start_datetime"
   ]
  },
  {
   "cell_type": "markdown",
   "id": "9a6f8bd5-3bf8-4571-b20c-6c1510537a10",
   "metadata": {},
   "source": [
    "A read-only `modified` attribute exists on all objects and is updated on every save."
   ]
  },
  {
   "cell_type": "code",
   "execution_count": null,
   "id": "c321d16d-0275-4e6f-bfd0-56dab84d30bd",
   "metadata": {},
   "outputs": [],
   "source": [
    "product.modified"
   ]
  },
  {
   "cell_type": "markdown",
   "id": "9cd44f5d-5f9e-4e07-9774-374daef1adff",
   "metadata": {},
   "source": [
    "Note that all timestamp attributes are represented as `datetime` instances in UTC. You may assign strings to timestamp attributes if they can be reasonably parsed as timestamps. Once the object is saved the attributes will appear as parsed `datetime` instances. If a timestamp has no explicit timezone, it’s assumed to be in UTC."
   ]
  },
  {
   "cell_type": "markdown",
   "id": "e640a52a-c521-463a-8212-b99703894072",
   "metadata": {},
   "source": [
    "## Creating bands\n",
    "Before adding any images to a product you must create bands that declare the structure of the data shared among all images in a product."
   ]
  },
  {
   "cell_type": "code",
   "execution_count": null,
   "id": "40448583-5d5a-4638-bef9-c4ef1f76ff00",
   "metadata": {},
   "outputs": [],
   "source": [
    "from descarteslabs.catalog import SpectralBand, DataType, Resolution, ResolutionUnit\n",
    "\n",
    "band = SpectralBand(name=\"blue\", product=product)\n",
    "band.data_type = DataType.UINT16\n",
    "band.data_range = (0, 10000)\n",
    "band.display_range = (0, 4000)\n",
    "band.resolution = Resolution(unit=ResolutionUnit.METERS, value=60)\n",
    "band.band_index = 0\n",
    "band.save()\n",
    "band.id"
   ]
  },
  {
   "cell_type": "markdown",
   "id": "a29fd3b2-3cc4-42b4-ad17-0e5767c5e269",
   "metadata": {},
   "source": [
    "A band is uniquely identified by its name and product. The full id of the band is composed of the product id and the name.\n",
    "\n",
    "The band defines where its data is found in the files attached to images in the product: In this example, `band_index = 0` indicates that `blue` is the first band in the image file, and that first band is expected to be represented by unsigned 16-bit integers (`DataType.UINT16`).\n",
    "\n",
    "This band is specifically a `SpectralBand`, with pixel values representing measurements somewhere in the visible/NIR/SWIR electro-optical wavelength spectrum, so you can also set additional attributes to locate it on the spectrum:"
   ]
  },
  {
   "cell_type": "code",
   "execution_count": null,
   "id": "eafe46cc-e576-4911-b763-913f40a2922f",
   "metadata": {},
   "outputs": [],
   "source": [
    "# These values are in nanometers (nm)\n",
    "band.wavelength_nm_min = 452\n",
    "band.wavelength_nm_max = 512\n",
    "band.save()"
   ]
  },
  {
   "cell_type": "markdown",
   "id": "9a3960ad-a9ed-42b0-b059-afabd869ab5e",
   "metadata": {},
   "source": [
    "Bands are created and updated in the same way was as products and all other Catalog objects.\n",
    "\n"
   ]
  },
  {
   "cell_type": "markdown",
   "id": "01324a32-d891-4ba6-bfab-102ca18df353",
   "metadata": {},
   "source": [
    "### Band types\n",
    "It’s common for many products to have an alpha band, which masks pixels in the image that don’t have valid data:\n",
    "\n"
   ]
  },
  {
   "cell_type": "code",
   "execution_count": null,
   "id": "f450e2ef-f0da-4f82-987e-cd5464e209aa",
   "metadata": {},
   "outputs": [],
   "source": [
    "from descarteslabs.catalog import MaskBand\n",
    "\n",
    "alpha = MaskBand(name=\"alpha\", product=product)\n",
    "alpha.is_alpha = True\n",
    "alpha.data_type = DataType.UINT16\n",
    "alpha.resolution = band.resolution\n",
    "alpha.band_index = 1\n",
    "alpha.save()"
   ]
  },
  {
   "cell_type": "markdown",
   "id": "6d33661e-06bb-43ac-9c5e-23a222bc5817",
   "metadata": {},
   "source": [
    "See the [`Bands`](https://docs.descarteslabs.com/descarteslabs/catalog/docs/band.html#bands) Documentation page for more information about other band types not covered in this example."
   ]
  },
  {
   "cell_type": "markdown",
   "id": "16d748cf-a4e9-4932-b4fe-cff0726a0a15",
   "metadata": {},
   "source": [
    "## Access Control\n",
    "By default only the creator of a product can read and modify it as well as read and modify the bands and images in it. To share access to a product with others you can modify its access control lists (ACLs):"
   ]
  },
  {
   "cell_type": "code",
   "execution_count": null,
   "id": "d4db9c19-4262-42b8-b12c-db3ea69c07cc",
   "metadata": {},
   "outputs": [],
   "source": [
    "product.readers = [\"org:descarteslabs\"]\n",
    "product.writers = [\"email:jane.doe@descarteslabs.com\", \"email:john.daly@gmail.com\"]"
   ]
  },
  {
   "cell_type": "markdown",
   "id": "1e9f8af8-5941-4241-a049-5de9ce2b73b2",
   "metadata": {},
   "source": [
    "This gives read access to the whole “descarteslabs” organization. All users in that organization can now find the product. This also gives write access to two specific users identified by email. These two users can now update the product and add new images to it. For further information on access control please see the [Sharing Resources](https://docs.descarteslabs.com/guides/sharing.html) guide."
   ]
  },
  {
   "cell_type": "markdown",
   "id": "4eb926b4-c3ea-4f70-89ea-237288b7cbd8",
   "metadata": {},
   "source": [
    "### Transfer ownership\n",
    "Transfering ownership of a product to a new user requires cooperation from both the previous owner and the new owner and is a two-step effort. The first step is for the previous owner to add the new owner to the product:"
   ]
  },
  {
   "cell_type": "raw",
   "id": "b648672f-5c49-4786-bee6-2002ce92bc57",
   "metadata": {},
   "source": [
    "product.owners.append(\"user:...\")\n",
    "product.save()"
   ]
  },
  {
   "cell_type": "markdown",
   "id": "61e50a82-dbaa-4d4b-8988-6ebdf8b9e8b1",
   "metadata": {},
   "source": [
    "Just a reminder that you cannot use the `email:` variant as an owner. You will have to request the user id from the new owner and use that instead. (You can find your user id in the profile drop-down on iam.descarteslabs.com).\n",
    "\n",
    "The second step is for the new owner to remove the previous owner:"
   ]
  },
  {
   "cell_type": "raw",
   "id": "b13a1976-8da6-4d17-88f2-46b670e769b9",
   "metadata": {},
   "source": [
    "product.owners.remove(\"user:...\")\n",
    "product.save()"
   ]
  },
  {
   "cell_type": "markdown",
   "id": "697f8fc4-9535-4c0c-90f5-57888be20c7e",
   "metadata": {},
   "source": [
    "## Deleting bands and products\n",
    "Any catalog objects (Products, Bands, and Images) can be deleted using the delete method. For example, delete the previously created alpha band:"
   ]
  },
  {
   "cell_type": "code",
   "execution_count": null,
   "id": "40aa1270-e08b-43a1-82ad-094ffdd4ae4f",
   "metadata": {},
   "outputs": [],
   "source": [
    "alpha.delete()"
   ]
  },
  {
   "cell_type": "markdown",
   "id": "a5bbe7e8-ab74-43dc-8608-6f65dc4831d7",
   "metadata": {},
   "source": [
    "A product can only be deleted if it doesn’t have any associated bands or images. Because the product we created still has one band this fails:"
   ]
  },
  {
   "cell_type": "code",
   "execution_count": null,
   "id": "ac865c70-d3b1-4b55-806b-2a86853628c1",
   "metadata": {},
   "outputs": [],
   "source": [
    "product.delete()"
   ]
  },
  {
   "cell_type": "markdown",
   "id": "284a9d97-5cad-4183-b067-5d1bc9a77066",
   "metadata": {},
   "source": [
    "There is a convenience method to delete all bands and images in a product. Be careful as this may delete a lot of data and can’t be undone!"
   ]
  },
  {
   "cell_type": "code",
   "execution_count": null,
   "id": "311dd372-e111-4367-ad48-29ab5b7617d9",
   "metadata": {},
   "outputs": [],
   "source": [
    "status = product.delete_related_objects()"
   ]
  },
  {
   "cell_type": "markdown",
   "id": "8667b9ab-6feb-4e50-8084-667ddad9501e",
   "metadata": {},
   "source": [
    "This kicks off a job that deletes bands and images in the background. You can wait for this to complete and then delete the product:"
   ]
  },
  {
   "cell_type": "code",
   "execution_count": null,
   "id": "345854be-d926-417c-b953-5ea670ec8c44",
   "metadata": {},
   "outputs": [],
   "source": [
    "if status:\n",
    "    status.wait_for_completion()\n",
    "product.delete()"
   ]
  },
  {
   "cell_type": "code",
   "execution_count": null,
   "id": "44dbc487-545f-4f2a-9b78-517c0d8818d8",
   "metadata": {},
   "outputs": [],
   "source": []
  }
 ],
 "metadata": {
  "kernelspec": {
   "display_name": "Python 3 (ipykernel)",
   "language": "python",
   "name": "python3"
  },
  "language_info": {
   "codemirror_mode": {
    "name": "ipython",
    "version": 3
   },
   "file_extension": ".py",
   "mimetype": "text/x-python",
   "name": "python",
   "nbconvert_exporter": "python",
   "pygments_lexer": "ipython3",
   "version": "3.8.16"
  }
 },
 "nbformat": 4,
 "nbformat_minor": 5
}

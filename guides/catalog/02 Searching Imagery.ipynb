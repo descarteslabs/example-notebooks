{
 "cells": [
  {
   "cell_type": "markdown",
   "id": "2d20fb55-661b-4291-badf-1e9003035e07",
   "metadata": {},
   "source": [
    "## Finding images"
   ]
  },
  {
   "cell_type": "markdown",
   "id": "e0ed676a-5121-477f-88cf-0e0944af9032",
   "metadata": {},
   "source": [
    "### Image filters\n",
    "`Image` searches support a special method `intersects()` which is used to filter images by means of a geospatial search. Unlike `filter()` this method cannot be used multiple times. It will accept as an argument a GeoJSON dictionary, a shapely geometry, or any of the DL standard `GeoContext` object types. It will select any image for which the image geometry intersects the supplied geometry in lat-lon space (i.e. WGS84). As coordinate system transformations of bounding boxes are involved here, it should be noted that this filtering can be inexact; the overlap of geometries in the native coordinate system of the image may not be the same as that when transformed to the geographic coordinate system.\n",
    "\n",
    "Please see the `GeoContext Guide` for more information about working with `GeoContexts`.\n",
    "\n",
    "Please consult the API documentation for the `Image` class for information on which properties can be filtered.\n",
    "\n",
    "Search images by the most common attributes - by product, intersecting with a geometry and by a date range:"
   ]
  },
  {
   "cell_type": "code",
   "execution_count": null,
   "id": "f747f032-824b-4bd6-a1b2-0c3c71539743",
   "metadata": {},
   "outputs": [],
   "source": [
    "from descarteslabs.catalog import Image, Product, properties as p\n",
    "\n",
    "geometry = {\n",
    "    \"type\": \"Polygon\",\n",
    "    \"coordinates\": [\n",
    "        [\n",
    "            [2.915496826171875, 42.044193618165224],\n",
    "            [2.838592529296875, 41.92475971933975],\n",
    "            [3.043212890625, 41.929868314485795],\n",
    "            [2.915496826171875, 42.044193618165224],\n",
    "        ]\n",
    "    ],\n",
    "}\n",
    "\n",
    "search = Product.get(\"usgs:landsat:oli-tirs:c2:l2:v0\").images()\n",
    "search = search.intersects(geometry)\n",
    "search = search.filter(\"2023-01-01\" <= p.acquired < \"2023-06-01\")\n",
    "search = search.sort(\"acquired\")\n",
    "search.count()"
   ]
  },
  {
   "cell_type": "markdown",
   "id": "b30e3e34-928f-49ed-a97f-8d5ffab9d50b",
   "metadata": {},
   "source": [
    "There are other attributes useful to filter by, documented in the API reference for [`Image`](https://docs.descarteslabs.com/descarteslabs/catalog/docs/image.html#descarteslabs.catalog.Image). For example exclude images with too much cloud cover:"
   ]
  },
  {
   "cell_type": "code",
   "execution_count": null,
   "id": "3ec56ac2-de8b-453a-8c5b-74d66dad3b74",
   "metadata": {},
   "outputs": [],
   "source": [
    "search = search.filter(p.cloud_fraction < 0.2)\n",
    "search.count()"
   ]
  },
  {
   "cell_type": "markdown",
   "id": "2bc7e158-c6ff-4b67-a0f4-b348c986805c",
   "metadata": {},
   "source": [
    "Filtering by `cloud_fraction` is only reasonable when the product sets this attribute on images. `Images` that don’t set the attribute are excluded from the filter.\n",
    "\n",
    "The `created` timestamp is added to all objects in the catalog when they are created and is immutable. Restrict the search to results created before some time in the past, to make sure that the image results are stable:"
   ]
  },
  {
   "cell_type": "code",
   "execution_count": null,
   "id": "6fb3cf6e-051c-4931-bdb7-10a311c331fb",
   "metadata": {},
   "outputs": [],
   "source": [
    "from datetime import datetime\n",
    "\n",
    "search = search.filter(p.created < datetime(2023, 4, 1))\n",
    "search.count()"
   ]
  },
  {
   "cell_type": "markdown",
   "id": "83c97a1d-95c0-4690-a465-79cb6908a031",
   "metadata": {},
   "source": [
    "Note that for all timestamps we can use `datetime` instances or strings that can reasonably be parsed as a timestamp. If a timestamp has no explicit timezone, it’s assumed to be in UTC."
   ]
  },
  {
   "cell_type": "markdown",
   "id": "24c0053f-6818-4268-ad9d-8cb19326cab3",
   "metadata": {},
   "source": [
    "## ImageCollections\n",
    "We can use the `collect()` method with an image search to obtain an `ImageCollection` with many useful features:"
   ]
  },
  {
   "cell_type": "code",
   "execution_count": null,
   "id": "ff34dfaf-92b9-4900-b6ab-fa3393436c8f",
   "metadata": {},
   "outputs": [],
   "source": [
    "images = search.collect()\n",
    "images"
   ]
  },
  {
   "cell_type": "markdown",
   "id": "7cfc61e5-35db-4696-8fc8-a8c92001e08c",
   "metadata": {},
   "source": [
    "Our original AOI for the search is available on the image collection:"
   ]
  },
  {
   "cell_type": "code",
   "execution_count": null,
   "id": "5a1182c9-8a4d-4eee-b2c4-78107d16df13",
   "metadata": {},
   "outputs": [],
   "source": [
    "images.geocontext"
   ]
  },
  {
   "cell_type": "markdown",
   "id": "9fd40e8b-ef16-4829-9dc1-d6604d727d84",
   "metadata": {},
   "source": [
    "We can extract attributes across the collection with `each()`, or filter or group based on their attributes with `filter()` and `groupby()`:"
   ]
  },
  {
   "cell_type": "code",
   "execution_count": null,
   "id": "57d14b6d-8d1c-43f3-8fbb-4e77df93f554",
   "metadata": {},
   "outputs": [],
   "source": [
    "list(images.each.acquired.month)"
   ]
  },
  {
   "cell_type": "code",
   "execution_count": null,
   "id": "c91de4a0-ebd0-4698-8c9e-bc1fd7dc9eef",
   "metadata": {},
   "outputs": [],
   "source": [
    "spring = images.filter(lambda i: 3 <= i.acquired.month < 6)\n",
    "list(spring.groupby(lambda i: i.acquired.month))"
   ]
  },
  {
   "cell_type": "markdown",
   "id": "3631756a-3652-4be4-a0da-3b914fc22a54",
   "metadata": {},
   "source": [
    "## Image summaries\n",
    "Any queries for images support a summary via the `summary()` method, returning a `SummaryResult` with aggregate statistics beyond just the number of results:\n",
    "\n"
   ]
  },
  {
   "cell_type": "code",
   "execution_count": null,
   "id": "d7945bdf-787b-4a9e-a938-441af649a409",
   "metadata": {},
   "outputs": [],
   "source": [
    "from descarteslabs.catalog import Image, properties as p\n",
    "\n",
    "search = Image.search().filter(p.product_id == \"usgs:landsat:oli-tirs:c2:l2:v0\")\n",
    "search.summary()"
   ]
  },
  {
   "cell_type": "markdown",
   "id": "260cd5b0-16c8-455e-b882-def3b4a6a063",
   "metadata": {},
   "source": [
    "These summaries can also be bucketed by time intervals with `summary_interval()` to create a time series:"
   ]
  },
  {
   "cell_type": "code",
   "execution_count": null,
   "id": "5cb2e8d0-3576-48c5-995a-c676ae17423c",
   "metadata": {},
   "outputs": [],
   "source": [
    "search.summary_interval(\n",
    "    interval=\"month\", start_datetime=\"2023-01-01\", end_datetime=\"2023-06-01\"\n",
    ")"
   ]
  },
  {
   "cell_type": "code",
   "execution_count": null,
   "id": "46420c7e-dd0a-4d77-8aaf-28158cb40016",
   "metadata": {},
   "outputs": [],
   "source": []
  }
 ],
 "metadata": {
  "kernelspec": {
   "display_name": "Python 3 (ipykernel)",
   "language": "python",
   "name": "python3"
  },
  "language_info": {
   "codemirror_mode": {
    "name": "ipython",
    "version": 3
   },
   "file_extension": ".py",
   "mimetype": "text/x-python",
   "name": "python",
   "nbconvert_exporter": "python",
   "pygments_lexer": "ipython3",
   "version": "3.8.16"
  }
 },
 "nbformat": 4,
 "nbformat_minor": 5
}

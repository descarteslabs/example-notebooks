{
 "cells": [
  {
   "cell_type": "markdown",
   "id": "27b2538b-1fa0-497c-8693-90ac49de1cdb",
   "metadata": {},
   "source": [
    "# Searching and Retrieving Vector Tables\n",
    "\n",
    "__________________\n",
    "\n",
    "The Descartes Labs API also supports spatial and aspatial tabular datasets. \n",
    "\n",
    "This guide covers the basic methods for searching, filtering, joining, and collecting tabular data. For full reference visit the [Vector API Documentation page](https://docs.descarteslabs.com/api/vector.html).\n",
    "\n",
    "__Note__\n",
    "Currently Vector is pre-installed on Workbench, however is not included with the main Descartes Labs Python client. To install Vector, run the following:\n",
    "\n",
    "    !pip install descarteslabs-vector"
   ]
  },
  {
   "cell_type": "code",
   "execution_count": null,
   "id": "397b3ff8-7e8d-4283-a072-98707e852a78",
   "metadata": {
    "tags": []
   },
   "outputs": [],
   "source": [
    "import descarteslabs as dl\n",
    "from descarteslabs.catalog import properties as p"
   ]
  },
  {
   "cell_type": "code",
   "execution_count": null,
   "id": "fcf130ce-2dc2-4ab9-8bbf-0b2d6ad462d2",
   "metadata": {
    "tags": []
   },
   "outputs": [],
   "source": [
    "from descarteslabs.vector import Table"
   ]
  },
  {
   "cell_type": "markdown",
   "id": "278dc0cf-1ae8-4f0d-b277-e78edd441252",
   "metadata": {},
   "source": [
    "## Tablular Data\n",
    "The foundational class in Vector is the `Table`. As with other objects such as products and blobs, you can retrieve a table by it's *unique* ID. \n",
    "\n",
    "Let's start by taking a look at the table for US county and county-equivalents and inspect both the number of rows and the column names:"
   ]
  },
  {
   "cell_type": "code",
   "execution_count": null,
   "id": "97cf06b1-7632-4cd3-90de-2a5c0296bc44",
   "metadata": {
    "tags": []
   },
   "outputs": [],
   "source": [
    "counties_table = Table.get(\"descarteslabs:hifld:us-counties\")\n",
    "\n",
    "print(f\"Columns: {counties_table.columns}\")\n",
    "print(f\"Count: {counties_table.count()}\")\n",
    "counties_table"
   ]
  },
  {
   "cell_type": "markdown",
   "id": "071f560a-9382-4a3d-93b8-5ae94f7012a6",
   "metadata": {},
   "source": [
    "List all tables you have access to for their table ID:\n",
    "\n",
    "    for table in Table.list():\n",
    "        print(table.id)"
   ]
  },
  {
   "cell_type": "markdown",
   "id": "8edcbb1e-5488-4b7e-84bd-663a35a8ebf6",
   "metadata": {
    "tags": []
   },
   "source": [
    "## Filtering Tables\n",
    "\n",
    "Vector is much more than a simple store for tabular data. Much of Catalog's search, intersect, and filter functionality is exposed as well. \n",
    "\n",
    "There are a few ways to pass spatial or attribute filters to tables, all through the table's __aoi__ and __property_filter__: \n",
    "* Modify the `TableOptions` directly, or\n",
    "* The easiest way is to pass __aoi__ or __property_filter__ arguments upon table creation \n",
    "\n",
    "Here's an example of modifying our table's __property_filter__ options, finding all counties in the US state of Washington by their STATEFP attribute:"
   ]
  },
  {
   "cell_type": "code",
   "execution_count": null,
   "id": "3bbb4401-d320-4a3d-9c1f-895defb68063",
   "metadata": {
    "tags": []
   },
   "outputs": [],
   "source": [
    "counties_table.options.property_filter = p.STATEFP == \"53\"\n",
    "print(f\"Counties in Washington: {counties_table.count()}\")"
   ]
  },
  {
   "cell_type": "markdown",
   "id": "c799f010-3ed0-45de-97d4-d26d572fe573",
   "metadata": {},
   "source": [
    "The same could be achieved on class instantiation. We can also pass __columns__ to restrict the collected columns:"
   ]
  },
  {
   "cell_type": "code",
   "execution_count": null,
   "id": "f2d3a39a-cefe-436d-941e-81f855dc7512",
   "metadata": {
    "tags": []
   },
   "outputs": [],
   "source": [
    "counties_table = Table.get(\n",
    "    \"descarteslabs:hifld:us-counties\",\n",
    "    columns=[\"STATEFP\", \"NAME\", \"geometry\"],\n",
    "    property_filter=(p.STATEFP == \"53\"),\n",
    ")\n",
    "print(f\"Counties in Washington: {counties_table.count()}\")\n",
    "print(f\"Columns: {counties_table.options.columns}\")"
   ]
  },
  {
   "cell_type": "markdown",
   "id": "f88b5558-16e8-44fd-86e2-492b278ea75a",
   "metadata": {},
   "source": [
    "## Retrieving Data\n",
    "We can retrieve the contents of our table at any point as a geopandas geodataframe by calling `Table.collect()`:"
   ]
  },
  {
   "cell_type": "code",
   "execution_count": null,
   "id": "8d4849ae-9ed8-478f-bf30-be8643cd4981",
   "metadata": {
    "tags": []
   },
   "outputs": [],
   "source": [
    "counties_gdf = counties_table.collect()\n",
    "print(counties_gdf.shape)\n",
    "print(counties_gdf.columns)\n",
    "counties_gdf.plot(figsize=(5, 5))"
   ]
  },
  {
   "cell_type": "markdown",
   "id": "e8d70716-c7a0-463b-9a97-ec016b51d968",
   "metadata": {},
   "source": [
    "Note that the __columns__ we filtered above were returned in our dataframe, and not all possible fields."
   ]
  },
  {
   "cell_type": "markdown",
   "id": "88d10412-4840-4ab9-a1e7-f5b8f28baa2e",
   "metadata": {},
   "source": [
    "## Spatial Intersections\n",
    "We can also implement a spatial __aoi__ filter. \n",
    "\n",
    "How about we retrieve the US country boundary by passing an AOI to our country boundaries table:"
   ]
  },
  {
   "cell_type": "code",
   "execution_count": null,
   "id": "690bb4d5-6c0b-4df7-9a67-d94c429c4a4c",
   "metadata": {
    "tags": []
   },
   "outputs": [],
   "source": [
    "countries_table = Table.get(\n",
    "    \"descarteslabs:lsib-boundaries\", aoi=counties_gdf[\"geometry\"][0]\n",
    ")\n",
    "countries_gdf = countries_table.collect()\n",
    "countries_gdf"
   ]
  },
  {
   "cell_type": "markdown",
   "id": "dc750f7d-a9bf-4e11-a019-1935da7ffd62",
   "metadata": {},
   "source": [
    "## Joining Tables\n",
    "Vector perform spatial and aspatial joins as well. \n",
    "\n",
    "In the below example we will find counties in Washington that intersect a census tract with a high avalanche risk score. \n",
    "\n",
    "To start, we will filter all the census tracts from the [National Risk Index](https://www.fema.gov/flood-maps/products-tools/national-risk-index) table with an avalanche risk score greater than 50 through a __property_filter__:"
   ]
  },
  {
   "cell_type": "code",
   "execution_count": null,
   "id": "0f49e2e8-4083-42b5-91a7-72fba4610d5e",
   "metadata": {
    "tags": []
   },
   "outputs": [],
   "source": [
    "nri_table = Table.get(\n",
    "    \"descarteslabs:nri:tracts\",\n",
    "    columns=[\"uuid\", \"NRI_ID\", \"AVLN_RISKS\", \"geometry\"],\n",
    "    property_filter=(p.AVLN_RISKS > 50),\n",
    ")\n",
    "nri_table.count()"
   ]
  },
  {
   "cell_type": "markdown",
   "id": "42cc0b17-6fcb-4ab8-8d61-26c872864ed6",
   "metadata": {},
   "source": [
    "We could have also modified the table's options directly just as well:"
   ]
  },
  {
   "cell_type": "markdown",
   "id": "5abf829b-9d39-4ead-9f15-f17234f73720",
   "metadata": {},
   "source": [
    "    nri_table = Table.get(\"descarteslabs:nri:tracts\")\n",
    "    nri_table.options.property_filter = (p.AVLN_RISKS>80)"
   ]
  },
  {
   "cell_type": "markdown",
   "id": "bf0a8e69-560f-47ff-a759-99e710898d49",
   "metadata": {},
   "source": [
    "A spatial join is as simple as calling `Table.sjoin` and passing a __join_type__:"
   ]
  },
  {
   "cell_type": "code",
   "execution_count": null,
   "id": "633959dd-9d13-49c8-96fe-f81ab4780afb",
   "metadata": {
    "tags": []
   },
   "outputs": [],
   "source": [
    "avln_join_gdf = counties_table.sjoin(join_table=nri_table, join_type=\"INTERSECTS\")"
   ]
  },
  {
   "cell_type": "markdown",
   "id": "0bf3450b-3687-4906-bf3d-43723a785ea1",
   "metadata": {},
   "source": [
    "We can now inspect the geodataframe to see how the associated joined data is returned:"
   ]
  },
  {
   "cell_type": "code",
   "execution_count": null,
   "id": "382b82af-0aa6-4928-8500-5d32697e9c50",
   "metadata": {
    "tags": []
   },
   "outputs": [],
   "source": [
    "avln_join_gdf.head(5)"
   ]
  },
  {
   "cell_type": "markdown",
   "id": "d0d4b7c0-2861-4bb0-940d-2e40328edb51",
   "metadata": {},
   "source": [
    "Note that each field in the resulting joined table has the following naming structure:\n",
    "\n",
    "    {table-name}.{field-name}\n",
    "    \n",
    "Let's overlay our high-risk counties with the rest of the state:"
   ]
  },
  {
   "cell_type": "code",
   "execution_count": null,
   "id": "c1160559-c662-467e-8115-14c3ecc48bb0",
   "metadata": {
    "tags": []
   },
   "outputs": [],
   "source": [
    "import matplotlib.pyplot as plt\n",
    "\n",
    "fig, ax = plt.subplots()\n",
    "counties_gdf.plot(ax=ax, facecolor=\"none\", edgecolor=\"k\")\n",
    "avln_join_gdf.plot(ax=ax, column=\"tracts.AVLN_RISKS\", cmap=\"winter\", legend=True)\n",
    "ax.set_title(\"Avalanche Risk\");"
   ]
  },
  {
   "cell_type": "markdown",
   "id": "3d9d55c2-366b-40ba-9acd-cf4e4ee4047a",
   "metadata": {},
   "source": [
    "## Visualization\n",
    "We can also visualize our vector data on a leaflet map, such as through Dynamic Compute:"
   ]
  },
  {
   "cell_type": "code",
   "execution_count": null,
   "id": "7fc6fc6d-cd37-4735-8d8d-130b739f61e7",
   "metadata": {
    "tags": []
   },
   "outputs": [],
   "source": [
    "import descarteslabs.dynamic_compute as dc"
   ]
  },
  {
   "cell_type": "code",
   "execution_count": null,
   "id": "fcdcd1c2-aa70-4f5e-876b-aa2c7967bf08",
   "metadata": {
    "tags": []
   },
   "outputs": [],
   "source": [
    "m = dc.map\n",
    "m.center = 47.4578, -121.6956\n",
    "zoom = 6"
   ]
  },
  {
   "cell_type": "code",
   "execution_count": null,
   "id": "6e3be9f4-7940-4069-b1c6-5133e036c645",
   "metadata": {
    "tags": []
   },
   "outputs": [],
   "source": [
    "counties_table.visualize(name=\"Washington\", map=m)"
   ]
  },
  {
   "cell_type": "code",
   "execution_count": null,
   "id": "50a07c69-e785-48c6-ba02-8abce864271b",
   "metadata": {
    "tags": []
   },
   "outputs": [],
   "source": [
    "m"
   ]
  },
  {
   "cell_type": "code",
   "execution_count": null,
   "id": "5267bb96-20c0-40ad-bda9-9fa21bda578b",
   "metadata": {},
   "outputs": [],
   "source": []
  }
 ],
 "metadata": {
  "kernelspec": {
   "display_name": "Python 3 (ipykernel)",
   "language": "python",
   "name": "python3"
  },
  "language_info": {
   "codemirror_mode": {
    "name": "ipython",
    "version": 3
   },
   "file_extension": ".py",
   "mimetype": "text/x-python",
   "name": "python",
   "nbconvert_exporter": "python",
   "pygments_lexer": "ipython3",
   "version": "3.9.18"
  }
 },
 "nbformat": 4,
 "nbformat_minor": 5
}

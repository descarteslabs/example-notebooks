{
 "cells": [
  {
   "cell_type": "markdown",
   "id": "ea5784c3-c69c-4c7c-b431-49d7508b176c",
   "metadata": {},
   "source": [
    "# Compute Functions and Jobs\n",
    "__________________\n",
    "The Compute module provides scalable compute capabilities to parallelize your computations. Compute enables users to package and execute your Python code within nodes hosted on Descartes Lab's cloud infrastructure. These nodes offer the ability to access imagery at extremely high rates of throughput to execute computations over nearly any spatio-temporal scale. \n",
    "\n",
    "Within the compute module, there are two primary objects that we work with:\n",
    "\n",
    " * [**Function:**](https://docs.descarteslabs.com/descarteslabs/compute/readme.html#descarteslabs.compute.Function) dynamically created, serverless functions containing user submitted, compiled code that you can submit many jobs to.\n",
    " * [**Job:**](https://docs.descarteslabs.com/descarteslabs/compute/readme.html#descarteslabs.compute.Job) submitted request for a single invocation of a created Function. \n",
    "\n",
    "Let's start by importing the compute module and creating a test Function object. "
   ]
  },
  {
   "cell_type": "code",
   "execution_count": null,
   "id": "ff1ce274-85e8-4aa0-87b1-c7ed27681648",
   "metadata": {
    "tags": []
   },
   "outputs": [],
   "source": [
    "from descarteslabs.compute import Function, FunctionStatus, Job, JobStatus"
   ]
  },
  {
   "cell_type": "markdown",
   "id": "a48ca67b",
   "metadata": {},
   "source": [
    "We'll also need these imports for this example."
   ]
  },
  {
   "cell_type": "code",
   "execution_count": null,
   "id": "a054f4ad-2c1c-4359-a8cf-58dda7011092",
   "metadata": {
    "tags": []
   },
   "outputs": [],
   "source": [
    "from datetime import datetime\n",
    "import gzip\n",
    "from descarteslabs.auth import Auth\n",
    "from descarteslabs.catalog import Blob, properties as p, StorageType"
   ]
  },
  {
   "cell_type": "markdown",
   "id": "827ddcd7-7ed1-4572-b9a2-9071006c9a09",
   "metadata": {},
   "source": [
    "Next, we'll create a very basic `hello_world` function that returns a string constructed from the given argument."
   ]
  },
  {
   "cell_type": "code",
   "execution_count": null,
   "id": "90509f65-19fb-4032-9698-dac8ade9583b",
   "metadata": {
    "tags": []
   },
   "outputs": [],
   "source": [
    "def hello(arg):\n",
    "    print(f\"Hello, {arg}\")\n",
    "    return f\"hello {arg}\""
   ]
  },
  {
   "cell_type": "markdown",
   "id": "05d45cbd-086c-4c77-8959-0a636bf1eaa5",
   "metadata": {},
   "source": [
    "To create the Function object, we simply need to call `Function()` and specify the desired parameters. The recommended minimum parameters are your function, a name, and the image that will be used to build the Function environment.  Some common attributes used to better customize the performance of your scalable compute object include: \n",
    " * cpus = Number of CPUs requested for a single job\n",
    " * memory = max memory available for each job\n",
    " * maximum_concurrency = max number of jobs to run in parallel\n",
    " * timeout = max length a job can run in seconds\n",
    " * retry_count = max number of times a job can be retried\n",
    " * requirements = list of Python dependencies required by this function\n",
    "\n",
    "For other options, please see the [Compute documentation](https://docs.descarteslabs.com/guides/compute.html)."
   ]
  },
  {
   "cell_type": "code",
   "execution_count": null,
   "id": "c3962281-bbce-4408-870a-e8a0fe4424d7",
   "metadata": {
    "tags": []
   },
   "outputs": [],
   "source": [
    "print(\"creating function\")\n",
    "async_func = Function(\n",
    "    hello,\n",
    "    name=\"my-compute-hello\",\n",
    "    image=\"python3.9:latest\",\n",
    "    cpus=0.25,\n",
    "    memory=512,\n",
    "    maximum_concurrency=1,\n",
    "    timeout=600,\n",
    "    retry_count=0,\n",
    ")\n",
    "async_func.save()\n",
    "\n",
    "# wait for the function to be ready (will take a few minutes)\n",
    "print(\"waiting for function to be ready\")\n",
    "async_func.wait_for_completion()"
   ]
  },
  {
   "cell_type": "markdown",
   "id": "e8f080cc-c554-4f49-bb81-4ae422c68dd0",
   "metadata": {},
   "source": [
    "Once the Function is built, we will test it by creating and submitting a Job. There are several ways you can submit jobs to a function:\n",
    " * `async_func(args)` - Pass arguments directly to the compute.Function\n",
    " * [`async_func.map()`](https://docs.descarteslabs.com/descarteslabs/compute/readme.html#descarteslabs.compute.Function.map) - Submit multiple jobs efficiently (discussed in more detail within the next example - \"02_Create_Imagery.ipynb\")"
   ]
  },
  {
   "cell_type": "code",
   "execution_count": null,
   "id": "39f2012c-b0f2-407e-afa1-bf463a32ecc4",
   "metadata": {
    "tags": []
   },
   "outputs": [],
   "source": [
    "# invoke the function\n",
    "print(\"submitting a job\")\n",
    "job = async_func(\"Hello from my function!\")\n",
    "# print the job result and logs\n",
    "print(\"waiting for the job to complete\")\n",
    "job.wait_for_completion()\n",
    "print(job.result())\n",
    "print(job.log())"
   ]
  },
  {
   "cell_type": "markdown",
   "id": "b70ed895-84be-4535-a9e9-ad2ea48d6a69",
   "metadata": {},
   "source": [
    "### Waiting for Completion\n",
    "\n",
    "There are multiple ways to wait for completion.\n",
    " * You can wait on an individual job as in the previous cell.\n",
    " * You can wait for all pending and running jobs for the function to complete using `async_func.wait_for_completion()`.\n",
    " * You can navigate to the Compute monitor app at [app.descarteslabs.com/monitor](https://app.descarteslabs.com/monitor).\n",
    " * You can embed the same directly in your notebook as in the following cell."
   ]
  },
  {
   "cell_type": "code",
   "execution_count": null,
   "id": "c622fe0c-58f1-45fa-954c-8c760e2a0ccb",
   "metadata": {
    "tags": []
   },
   "outputs": [],
   "source": [
    "from IPython.display import IFrame\n",
    "\n",
    "IFrame(\"https://app.descarteslabs.com/monitor\", width=700, height=350)"
   ]
  },
  {
   "cell_type": "markdown",
   "id": "8f65f19b-e22f-4857-86ee-f6081db41f63",
   "metadata": {},
   "source": [
    "### Integration with DL Storage - Logging and Results\n",
    "In addition to accessing your `Function` build log and your `Job` results and logs as shown above, you can also\n",
    "access these using the Catalog module, as all these artifacts are automatically stored in the Catalog as Storage\n",
    "Blobs. Logs are retained only for a period of 30 days. Results are retained indefinitely, even after the `Function`\n",
    "and its `Job`s have been deleted.\n",
    "\n",
    "In order to access these artifacts, you will need to form the correct ids to retrieve them. All three require\n",
    "the correct `StorageType` value (`\"logs\"` for logs and `\"compute\"` for results), your namespace (Available as\n",
    "`Function.namespace` while your function exists, or can be derived from your authentication details as shown below),\n",
    "and the name of the `Blob` derived from your `Function.id` and `Job.id`.\n",
    "\n",
    "* Function Build Log id:\n",
    "\n",
    "    `logs/<namespace>/<function-id>`\n",
    "\n",
    "* Job Execution Log id:\n",
    "\n",
    "    `logs/<namespace>/<function-id>/<job-id>`\n",
    "\n",
    "* Job Result id:\n",
    "        \n",
    "    `compute/<namespace>/<function-id>/<job-id>`\n",
    "\n",
    "Note that the build log content is compressed!\n",
    "    "
   ]
  },
  {
   "cell_type": "code",
   "execution_count": null,
   "id": "325304a5-999c-4f1d-9436-70f55c878a5a",
   "metadata": {
    "tags": []
   },
   "outputs": [],
   "source": [
    "print(\"Namespace\")\n",
    "auth = Auth.get_default_auth()\n",
    "namespace = f\"{auth.payload['org']}:{auth.namespace}\"\n",
    "assert namespace == async_func.namespace\n",
    "print(namespace)\n",
    "\n",
    "print(f\"Build Log for {async_func.id}\")\n",
    "build_log = Blob.get(f\"{StorageType.LOGS}/{namespace}/{async_func.id}\")\n",
    "print(gzip.decompress(build_log.data()).decode())\n",
    "\n",
    "print(f\"Results for {async_func.id}\")\n",
    "for b in (\n",
    "    Blob.search()\n",
    "    .filter(p.namespace == namespace)\n",
    "    .filter(p.name.startswith(f\"{async_func.id}/\"))\n",
    "    .filter(p.storage_type == StorageType.COMPUTE)\n",
    "):\n",
    "    print(f\"ID: {b.id}\")\n",
    "    print(b.data())\n",
    "    print(\"\\n\")\n",
    "\n",
    "print(f\"Job Execution Logs for {async_func.id}\")\n",
    "for b in (\n",
    "    Blob.search()\n",
    "    .filter(p.namespace == namespace)\n",
    "    .filter(p.name.startswith(f\"{async_func.id}/\"))\n",
    "    .filter(p.storage_type == StorageType.LOGS)\n",
    "):\n",
    "    print(f\"ID: {b.id}\")\n",
    "    print(b.data())\n",
    "    print(\"\\n\")"
   ]
  },
  {
   "cell_type": "markdown",
   "id": "fee121d2-045f-4410-9a3f-c4146a4bf990",
   "metadata": {},
   "source": [
    "### Searching Functions\n",
    "You can also search, filter, and sort your previously created `Function` objects. Here we will find all of our `Function`s created today:"
   ]
  },
  {
   "cell_type": "code",
   "execution_count": null,
   "id": "234a7ecb-e4b4-4009-b3dd-01881f34c6a6",
   "metadata": {
    "tags": []
   },
   "outputs": [],
   "source": [
    "today = datetime.today().strftime(\"%Y-%m-%d\")\n",
    "\n",
    "for func in Function.search().filter(Function.creation_date > today):\n",
    "    print(func.id)\n",
    "    print(func.creation_date)\n",
    "    print(func.status)\n",
    "    print(len(list(func.jobs)))"
   ]
  },
  {
   "cell_type": "code",
   "execution_count": null,
   "id": "824ad205-fe36-49d9-a488-5ffc0f9ba496",
   "metadata": {
    "tags": []
   },
   "outputs": [],
   "source": [
    "# Get active functions by specifying the \"rady\" status\n",
    "active_funcs = [{\"name\": f.name, \"id\": f.id} for f in Function.search().filter(Function.status==FunctionStatus.READY)]\n",
    "active_funcs"
   ]
  },
  {
   "cell_type": "code",
   "execution_count": null,
   "id": "a1302459-5cbe-4a31-943c-c323169789aa",
   "metadata": {
    "tags": []
   },
   "outputs": [],
   "source": [
    "# Filter Functions by name prefixes\n",
    "ndvi_funcs = [f.name for f in Function.search().filter(Function.name.startswith(\"my\"))]\n",
    "ndvi_funcs"
   ]
  },
  {
   "cell_type": "markdown",
   "id": "23d770ea-a648-4ccc-831e-f446ac3e92c4",
   "metadata": {},
   "source": [
    "### Deleting Functions\n",
    "\n",
    "In order to release all resources associated with a `Function` you should delete it when you are done. Any jobs must have been completed before you can delete the `Function`. When deleted, all associated `Job`s, build logs, and job logs will be deleted. Results will not be deleted and will remain available via the Catalog. "
   ]
  },
  {
   "cell_type": "code",
   "execution_count": null,
   "id": "e7c882a9-8b79-4e17-ad15-81ce8e560080",
   "metadata": {
    "tags": []
   },
   "outputs": [],
   "source": [
    "async_func.delete_jobs(delete_results=True)\n",
    "async_func.delete()"
   ]
  }
 ],
 "metadata": {
  "kernelspec": {
   "display_name": "Python 3 (ipykernel)",
   "language": "python",
   "name": "python3"
  },
  "language_info": {
   "codemirror_mode": {
    "name": "ipython",
    "version": 3
   },
   "file_extension": ".py",
   "mimetype": "text/x-python",
   "name": "python",
   "nbconvert_exporter": "python",
   "pygments_lexer": "ipython3",
   "version": "3.8.16"
  }
 },
 "nbformat": 4,
 "nbformat_minor": 5
}

{
 "cells": [
  {
   "cell_type": "markdown",
   "id": "ea5784c3-c69c-4c7c-b431-49d7508b176c",
   "metadata": {},
   "source": [
    "# Compute Functions and Jobs\n",
    "__________________\n",
    "The Compute module provides scalable compute capabilities to parallelize your computations. Compute enables users to package and execute your Python code within nodes hosted on Descartes Lab's cloud infrastructure. These nodes offer the ability to access imagery at extremely high rates of throughput to execute computations over nearly any spatio-temporal scale. \n",
    "\n",
    "Within the compute module, there are two primary objects that we work with:\n",
    "\n",
    " * [**Function:**](https://docs.descarteslabs.com/descarteslabs/compute/readme.html#descarteslabs.compute.Function) dynamically created, serverless functions containing user submitted, compiled code that you can submit many jobs to.\n",
    " * [**Job:**](https://docs.descarteslabs.com/descarteslabs/compute/readme.html#descarteslabs.compute.Job) submitted request for a single invocation of a created Function. \n",
    "\n",
    "Let's start by importing the compute module and creating a test Function object. "
   ]
  },
  {
   "cell_type": "code",
   "execution_count": null,
   "id": "ff1ce274-85e8-4aa0-87b1-c7ed27681648",
   "metadata": {
    "tags": []
   },
   "outputs": [],
   "source": [
    "from descarteslabs.compute import Function, Job"
   ]
  },
  {
   "cell_type": "markdown",
   "id": "827ddcd7-7ed1-4572-b9a2-9071006c9a09",
   "metadata": {},
   "source": [
    "Next, we'll create a very basic `hello_world` function that imports a common geospatial Python package and returns a given argument."
   ]
  },
  {
   "cell_type": "code",
   "execution_count": null,
   "id": "90509f65-19fb-4032-9698-dac8ade9583b",
   "metadata": {
    "tags": []
   },
   "outputs": [],
   "source": [
    "def hello(i):\n",
    "    print(f\"Hello, {i}\")\n",
    "    return f\"hello {i}\""
   ]
  },
  {
   "cell_type": "markdown",
   "id": "05d45cbd-086c-4c77-8959-0a636bf1eaa5",
   "metadata": {},
   "source": [
    "To create the Function object, we simply need to call `Function()` and specify the desired parameters. The recommended minimum parameters are your function, a name, and the image that will be used to build the Function environment.  Some common attributes used to better customize the performance of your scalable compute object include: \n",
    " * cpus = Number of CPUs requested for a single job\n",
    " * memory = max memory available for each job\n",
    " * maximum_concurrency = max number of jobs to run in parallel\n",
    " * timeout = max length a job can run in seconds\n",
    " * retry_count = max number of times a job can be retried\n",
    " * requirements = list of Python dependencies required by this function\n",
    "\n",
    "For other options, please see the [Compute documentation](https://docs.descarteslabs.com/guides/compute.html)."
   ]
  },
  {
   "cell_type": "code",
   "execution_count": null,
   "id": "c3962281-bbce-4408-870a-e8a0fe4424d7",
   "metadata": {
    "tags": []
   },
   "outputs": [],
   "source": [
    "print(\"creating function\")\n",
    "async_func = Function(\n",
    "    hello,\n",
    "    name=\"my-compute-hello\",\n",
    "    image=\"python3.9:latest\",\n",
    "    cpus=0.25,\n",
    "    memory=512,\n",
    "    maximum_concurrency=1,\n",
    "    timeout=600,\n",
    "    retry_count=0,\n",
    ")\n",
    "async_func.save()"
   ]
  },
  {
   "cell_type": "markdown",
   "id": "e2ed2869-536a-46d2-9f49-c8a562cb9318",
   "metadata": {},
   "source": [
    "It should take a few minutes for your Function to be built within your organization's batch compute environment on AWS. The code below will automatically check if your function has been built and is running every 10-seconds. "
   ]
  },
  {
   "cell_type": "code",
   "execution_count": null,
   "id": "5b7cecb4-3332-44fc-b251-8ab58e6855fc",
   "metadata": {
    "tags": []
   },
   "outputs": [],
   "source": [
    "import time\n",
    "\n",
    "# Check status of Function build\n",
    "print(f\"Waiting for Function to be built: {async_func.id}\")\n",
    "while async_func.status == \"building\":\n",
    "    async_func.refresh()\n",
    "    time.sleep(10)\n",
    "\n",
    "# Print function status\n",
    "print(f\"Function built: {async_func.name} status = {async_func.status}\")"
   ]
  },
  {
   "cell_type": "markdown",
   "id": "e8f080cc-c554-4f49-bb81-4ae422c68dd0",
   "metadata": {},
   "source": [
    "Once the Function is built, we will test it by creating and submitting a Job. There are several ways you can submit jobs to a function:\n",
    " * `async_func(args)` - Pass arguments directly to the compute.Function\n",
    " * [`async_func.map()`](https://docs.descarteslabs.com/descarteslabs/compute/readme.html#descarteslabs.compute.Function.map) - Submit multiple jobs efficiently (discussed in more detail within the next example - \"02_Create_Imagery.ipynb\")"
   ]
  },
  {
   "cell_type": "code",
   "execution_count": null,
   "id": "39f2012c-b0f2-407e-afa1-bf463a32ecc4",
   "metadata": {
    "tags": []
   },
   "outputs": [],
   "source": [
    "# invoke the function\n",
    "print(\"submitting a job\")\n",
    "job = async_func(\"Hello from my function!\")\n",
    "# print the job result and logs\n",
    "print(\"waiting for the job to complete\")\n",
    "job.wait_for_completion()"
   ]
  },
  {
   "cell_type": "markdown",
   "id": "8f65f19b-e22f-4857-86ee-f6081db41f63",
   "metadata": {},
   "source": [
    "### Integration with DL Storage - Logging and Results\n",
    "You can access the logs of your `Function` as well as the results of each `Job` through the `Storage` module. These three items are outlined below:\n",
    "\n",
    "* Function Build Logs:\n",
    "\n",
    "    `logs/org:user-hash/function-id`\n",
    "\n",
    "* Job Execution Logs:\n",
    "\n",
    "    `logs/org:user-hash/function-id/job-id`\n",
    "\n",
    "* Job Results:\n",
    "        \n",
    "    `compute/org:user-hash/function-id/job-id`\n",
    "    "
   ]
  },
  {
   "cell_type": "markdown",
   "id": "8930754b-0a68-4d05-b3c9-aef1716abff6",
   "metadata": {},
   "source": [
    "First, we must find the current active `Organization` and `User Hash`. These, combined with our `Function` ID, allows us to search `Blob`s for our results and logs:"
   ]
  },
  {
   "cell_type": "code",
   "execution_count": null,
   "id": "325304a5-999c-4f1d-9436-70f55c878a5a",
   "metadata": {
    "tags": []
   },
   "outputs": [],
   "source": [
    "from descarteslabs.catalog import Blob, properties as p\n",
    "import descarteslabs as dl\n",
    "\n",
    "orgname = dl.auth.Auth().payload[\"org\"]\n",
    "user_hash = dl.auth.Auth().namespace\n",
    "\n",
    "print(f\"Function Logs for {async_func.id}\")\n",
    "function_log = Blob.get(f\"logs/{orgname}:{user_hash}/{async_func.id}\")\n",
    "print(function_log)\n",
    "\n",
    "print(f\"Results for {async_func.id}\")\n",
    "for b in (\n",
    "    Blob.search()\n",
    "    .filter(p.namespace == f\"{orgname}:{user_hash}\")\n",
    "    .filter(p.name.startswith(async_func.id))\n",
    "    .filter(p.storage_type == \"compute\")\n",
    "):\n",
    "    print(f\"ID: {b.id}\")\n",
    "    print(b.data())\n",
    "    print(\"\\n\")\n",
    "\n",
    "print(f\"Job Build Logs for {async_func.id}\")\n",
    "for b in (\n",
    "    Blob.search()\n",
    "    .filter(p.namespace == f\"{orgname}:{user_hash}\")\n",
    "    .filter(p.name.startswith(f\"{async_func.id}/\"))\n",
    "    .filter(p.storage_type == \"logs\")\n",
    "):\n",
    "    print(b.id)\n",
    "    print(b.data())\n",
    "    print(\"\\n\")"
   ]
  },
  {
   "cell_type": "markdown",
   "id": "fee121d2-045f-4410-9a3f-c4146a4bf990",
   "metadata": {},
   "source": [
    "### Searching Functions\n",
    "You can also search and filter your previously created `Function` objects. Here we will find all of our `Function`s created today:"
   ]
  },
  {
   "cell_type": "code",
   "execution_count": null,
   "id": "234a7ecb-e4b4-4009-b3dd-01881f34c6a6",
   "metadata": {
    "tags": []
   },
   "outputs": [],
   "source": [
    "from datetime import datetime\n",
    "\n",
    "today = datetime.today().strftime(\"%Y-%m-%d\")\n",
    "\n",
    "for func in Function.search().filter(p.creation_date > today):\n",
    "    print(func.id)\n",
    "    print(func.creation_date)\n",
    "    print(func.status)\n",
    "    print(len(list(func.jobs)))"
   ]
  },
  {
   "cell_type": "code",
   "execution_count": null,
   "id": "912041d7-a6a1-4a69-9cd1-d43120a2585a",
   "metadata": {
    "tags": []
   },
   "outputs": [],
   "source": []
  },
  {
   "cell_type": "code",
   "execution_count": null,
   "id": "a4fda608-3fb9-405e-801b-640f866220ba",
   "metadata": {},
   "outputs": [],
   "source": []
  }
 ],
 "metadata": {
  "kernelspec": {
   "display_name": "Python 3 (ipykernel)",
   "language": "python",
   "name": "python3"
  },
  "language_info": {
   "codemirror_mode": {
    "name": "ipython",
    "version": 3
   },
   "file_extension": ".py",
   "mimetype": "text/x-python",
   "name": "python",
   "nbconvert_exporter": "python",
   "pygments_lexer": "ipython3",
   "version": "3.8.16"
  }
 },
 "nbformat": 4,
 "nbformat_minor": 5
}

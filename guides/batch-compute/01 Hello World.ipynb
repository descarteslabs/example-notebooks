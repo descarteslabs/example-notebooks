{
 "cells": [
  {
   "cell_type": "markdown",
   "id": "ea5784c3-c69c-4c7c-b431-49d7508b176c",
   "metadata": {},
   "source": [
    "# Creating new Product Images with Compute\n",
    "\n",
    "The Compute module provides scalable compute capabilities to parallelize your computations. Compute enables users to package and execute your Python code within nodes hosted on Descartes Lab's cloud infrastructure. These nodes offer the ability to access imagery at extremely high rates of throughput to execute computations over nearly any spatio-temporal scale. \n",
    "\n",
    "Within the compute module, there are two primary objects that we work with:\n",
    "\n",
    " * **Function:** dynamically created, serverless functions containing user submitted, compiled code that you can submit many jobs to.\n",
    " * **Job:** submitted request for a single invocation of a created Function. \n",
    "\n",
    "Let's start by importing the compute module and creating a test Function object. "
   ]
  },
  {
   "cell_type": "code",
   "execution_count": null,
   "id": "c4a98f41-1f75-41c6-ba4a-70c49b446f44",
   "metadata": {},
   "outputs": [],
   "source": [
    "from descarteslabs.compute import Function, Job"
   ]
  },
  {
   "cell_type": "markdown",
   "id": "827ddcd7-7ed1-4572-b9a2-9071006c9a09",
   "metadata": {},
   "source": [
    "Next, we'll create a very basic `hello_world` function that imports a common geospatial Python package and returns a given argument."
   ]
  },
  {
   "cell_type": "code",
   "execution_count": null,
   "id": "90509f65-19fb-4032-9698-dac8ade9583b",
   "metadata": {},
   "outputs": [],
   "source": [
    "def hello(i):\n",
    "    print(f\"Hello, {i}\")\n",
    "    return f\"hello {i}\""
   ]
  },
  {
   "cell_type": "markdown",
   "id": "05d45cbd-086c-4c77-8959-0a636bf1eaa5",
   "metadata": {},
   "source": [
    "To create the Function object, we simply need to call `Function()` and specify the desired parameters. The recommended minimum parameters are your function, a name, and the image that will be used to build the Function environment.  Some common attributes used to better customize the performance of your scalable compute object include: \n",
    " * cpus = Number of CPUs requested for a single job\n",
    " * memory = max memory available for each job\n",
    " * maximum_concurrency = max number of jobs to run in parallel\n",
    " * timeout = max length a job can run in seconds\n",
    " * retry_count = max number of times a job can be retried\n",
    " * requirements = list of Python dependencies required by this function\n",
    "\n",
    "For other options, please see the [Compute documentation](https://docs.descarteslabs.com/guides/compute.html)."
   ]
  },
  {
   "cell_type": "code",
   "execution_count": null,
   "id": "c3962281-bbce-4408-870a-e8a0fe4424d7",
   "metadata": {},
   "outputs": [],
   "source": [
    "print(\"creating function\")\n",
    "async_func = Function(\n",
    "    hello,\n",
    "    name=\"my-compute-hello\",\n",
    "    image=\"python3.8:master_ec20a887a6a964cf\",\n",
    "    cpus=0.25,\n",
    "    memory=512,\n",
    "    maximum_concurrency=1,\n",
    "    timeout=600,\n",
    "    retry_count=0,\n",
    ")\n",
    "async_func.save()\n",
    "# Wait for Function to be built\n",
    "async_func.wait_for_completion()"
   ]
  },
  {
   "cell_type": "markdown",
   "id": "e8f080cc-c554-4f49-bb81-4ae422c68dd0",
   "metadata": {},
   "source": [
    "It should take a few minutes for your Function to be built within your organization's batch compute environment on AWS. \n",
    "\n",
    "Once the Function is built, we will test it by creating and submitting a Job. "
   ]
  },
  {
   "cell_type": "code",
   "execution_count": null,
   "id": "39f2012c-b0f2-407e-afa1-bf463a32ecc4",
   "metadata": {},
   "outputs": [],
   "source": [
    "# invoke the function\n",
    "print(\"submitting a job\")\n",
    "job = Job(async_func.id, args=[\"Batch Compute fan!\"])\n",
    "\n",
    "# print the job result and logs\n",
    "print(\"waiting for the job to complete\")\n",
    "job.wait_for_completion()\n",
    "print(job.result()())\n",
    "print(job.log())"
   ]
  },
  {
   "cell_type": "code",
   "execution_count": null,
   "id": "c7d3a9b4-a392-4dbd-aada-e21022f94d94",
   "metadata": {},
   "outputs": [],
   "source": []
  }
 ],
 "metadata": {
  "kernelspec": {
   "display_name": "Python 3 (ipykernel)",
   "language": "python",
   "name": "python3"
  },
  "language_info": {
   "codemirror_mode": {
    "name": "ipython",
    "version": 3
   },
   "file_extension": ".py",
   "mimetype": "text/x-python",
   "name": "python",
   "nbconvert_exporter": "python",
   "pygments_lexer": "ipython3",
   "version": "3.8.16"
  }
 },
 "nbformat": 4,
 "nbformat_minor": 5
}

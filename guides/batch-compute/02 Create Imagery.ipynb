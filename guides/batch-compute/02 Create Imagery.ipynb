{
 "cells": [
  {
   "cell_type": "markdown",
   "id": "2fe7ee39",
   "metadata": {},
   "source": [
    "# Creating new Product Images with Batch Compute\n",
    "__________________\n",
    "\n",
    "The `Compute` module provides scalable, out of the box resources to parallelize your computations across nearly any spatio-temporal scale. `Compute` enables users to package and execute your Python code within nodes hosted on Descartes Labs' cloud infrastructure, offering the ability to access imagery at extremely high rates of throughput to fast-track your analyses.\n",
    "\n",
    "In this example notebook, we will create a [`Function`](https://docs.descarteslabs.com/descarteslabs/compute/readme.html#descarteslabs.compute.Function) to calculate and create an NDVI product from Sentinel-2 L2A imagery then scale it over Yakima County in Washington. The Yakima Valley contains ~75% of the total US hop acreage. \n",
    "\n",
    "First, we'll start by importing the descarteslabs Python client and the `Compute` module's main classes, the `Function` and `Job`:"
   ]
  },
  {
   "cell_type": "code",
   "execution_count": null,
   "id": "fc6ae10a",
   "metadata": {
    "tags": []
   },
   "outputs": [],
   "source": [
    "import descarteslabs as dl\n",
    "from descarteslabs.catalog import Product, SpectralBand, properties as p"
   ]
  },
  {
   "cell_type": "code",
   "execution_count": null,
   "id": "7abc9b02",
   "metadata": {
    "tags": []
   },
   "outputs": [],
   "source": [
    "from descarteslabs.compute import Function, Job"
   ]
  },
  {
   "cell_type": "markdown",
   "id": "720f8823",
   "metadata": {},
   "source": [
    "Now that we have the `Compute` module imported, let's look at the primary objects we'll be working with: `Function` and `Job`.\n",
    " * `Function:` dynamically created, serverless functions containing user submitted, compiled code that you can submit many jobs to.\n",
    " * `Job:` submitted request for a single invocation of a created Function. \n",
    " \n",
    "As a hands-on example, we'll create a local Python function to search for Sentinel-2 imagery over a given AOI, calculate NDVI from the red and near-infrared bands, and upload the NDVI image to our catalog product using our `Catalog` module. Then, we'll create a `Compute Function` object wrapping our NDVI function to scale across the entire county. "
   ]
  },
  {
   "cell_type": "markdown",
   "id": "22f5a781-8b6a-45bf-a597-4a8cd1162ecb",
   "metadata": {},
   "source": [
    "First, we'll create a new `Product` to write our results in to, including a `Spectral Band`:"
   ]
  },
  {
   "cell_type": "code",
   "execution_count": null,
   "id": "95dce2b5-a37a-4fa5-a728-36255f169ce2",
   "metadata": {
    "tags": []
   },
   "outputs": [],
   "source": [
    "# Add Unique ID to prevent conflicting products across your organization\n",
    "from uuid import uuid4\n",
    "\n",
    "# Get your org for namespace\n",
    "org = dl.auth.Auth().payload[\"org\"]\n",
    "# Create NDVI Catalog product\n",
    "product = Product.get_or_create(\n",
    "    id=f\"{org}:sentinel-2_ndvi-{uuid4()}\",\n",
    "    name=\"Sentinel-2 L2A NDVI\",\n",
    ")\n",
    "product.save()"
   ]
  },
  {
   "cell_type": "code",
   "execution_count": null,
   "id": "377ebf58",
   "metadata": {
    "tags": []
   },
   "outputs": [],
   "source": [
    "# Create NDVI band for product\n",
    "band = SpectralBand(\n",
    "    product=product,\n",
    "    name=\"ndvi\",\n",
    "    band_index=0,\n",
    "    data_type=\"Float64\",\n",
    "    nodata=0,\n",
    "    data_range=(0.0, 1.0),\n",
    "    display_range=(0.0, 0.4),\n",
    ")\n",
    "band.save()\n",
    "print(f\"Saved {band}\")"
   ]
  },
  {
   "cell_type": "code",
   "execution_count": null,
   "id": "8849bb0e",
   "metadata": {
    "tags": []
   },
   "outputs": [],
   "source": [
    "print(\"Product status: \", product.state)  # check that product is 'saved'\n",
    "print(\"Product ID: \", product.id)  # Get product ID that we will pass to function later"
   ]
  },
  {
   "cell_type": "markdown",
   "id": "d2e60f61-4065-430b-acf6-e7103c2d2693",
   "metadata": {},
   "source": [
    "Next we'll define our Python function to wrap into a `Compute Function` below. The general methodology is as follows:\n",
    "* Inputs:\n",
    "    * DLTile Key\n",
    "    * Start Date\n",
    "    * End Date\n",
    "    * Product ID\n",
    "\n",
    "* Steps:\n",
    "    1. Create a `DLTile` object from our DLTile Key\n",
    "    2. Search our Sentinel-2 L2A `Product` obver our specified date range and, intersecting our `DLTile`\n",
    "    3. `Mosaic` our resulting `ImageCollection` to retrieve the red and NIR bands\n",
    "    4. Calculate NDVI on our `ndarray`\n",
    "    5. Create a new `Image` object\n",
    "    6. Write our `ndarray` to our new `Image` via `upload_ndarray`"
   ]
  },
  {
   "cell_type": "code",
   "execution_count": null,
   "id": "5429efb9",
   "metadata": {
    "tags": []
   },
   "outputs": [],
   "source": [
    "# NDVI method\n",
    "def create_ndvi_image(tile_key, start_date, end_date, product_id):\n",
    "    import descarteslabs as dl\n",
    "\n",
    "    # Import Catalog module methods\n",
    "    from descarteslabs.catalog import Image, Product, properties as p\n",
    "\n",
    "    # Get DLTile GeoContext for AOI\n",
    "    dltile = dl.geo.DLTile.from_key(tile_key)\n",
    "\n",
    "    # Find Sentinel-2 imagery over AOI\n",
    "    print(\"Searching for imagery\")\n",
    "    images = (\n",
    "        Product.get(\"esa:sentinel-2:l2a:v1\")\n",
    "        .images()\n",
    "        .intersects(dltile)\n",
    "        .filter(start_date < p.acquired <= end_date)\n",
    "        .filter(p.cloud_fraction < 0.1)\n",
    "    ).collect()\n",
    "    print(f\"Found {len(images)} images\")\n",
    "\n",
    "    # Create stack of red and nir bands for NDVI calc\n",
    "    mosaic, raster_info = images.mosaic([\"nir\", \"red\"], raster_info=True)\n",
    "\n",
    "    nir = mosaic[0]\n",
    "    red = mosaic[1]\n",
    "\n",
    "    # Calculate NDVI\n",
    "    print(\"Calculating NDVI\")\n",
    "    ndvi = (nir - red) / (nir + red)\n",
    "\n",
    "    # Create image for upload\n",
    "    ndvi_image = Image(\n",
    "        name=tile_key.replace(\":\", \"_\"),\n",
    "        geometry=dltile.geometry,\n",
    "        product_id=product_id,\n",
    "        acquired=end_date,\n",
    "    )\n",
    "\n",
    "    # Upload image to catalog product\n",
    "    upload = ndvi_image.upload_ndarray(ndvi, raster_meta=raster_info, overwrite=True)\n",
    "    upload.wait_for_completion()\n",
    "\n",
    "    print(\"NDVI image upload ID:\", upload.id)\n",
    "\n",
    "    return upload.id"
   ]
  },
  {
   "cell_type": "markdown",
   "id": "1427b2d2",
   "metadata": {},
   "source": [
    "### Define AOI: Yakima County, Washington state\n",
    "Now that we have our function, let's define our AOI to calculate NDVI over. First we'll read in our GeoJSON file as a `GeoDataFrame`:"
   ]
  },
  {
   "cell_type": "code",
   "execution_count": null,
   "id": "48ae1be1-cc3d-46c7-a9d7-12b7c291158c",
   "metadata": {
    "tags": []
   },
   "outputs": [],
   "source": [
    "import geopandas as gpd\n",
    "\n",
    "# Get Yakima County GeoJSON File\n",
    "yak = gpd.read_file(\"../catalog/data/yakima.geojson\")"
   ]
  },
  {
   "cell_type": "markdown",
   "id": "92534d31-d0cd-45ba-af84-b47d3315729d",
   "metadata": {},
   "source": [
    "Next we will create a list of `DLTile`s from our input geometry:"
   ]
  },
  {
   "cell_type": "code",
   "execution_count": null,
   "id": "c596e679",
   "metadata": {
    "tags": []
   },
   "outputs": [],
   "source": [
    "from shapely.geometry import box\n",
    "\n",
    "# Create bounding box to get DLTiles over\n",
    "bbox = box(*yak.total_bounds)\n",
    "# Create DLTile GeoContext objects to iterate over for NDVI function\n",
    "dltiles = dl.geo.DLTile.from_shape(\n",
    "    bbox, resolution=30, tilesize=256, pad=0  # 30 meters\n",
    ")\n",
    "# Get list of DLTile keys\n",
    "dltile_keys = [tile.key for tile in dltiles]\n",
    "\n",
    "print(\"Number of DLTiles: \", len(dltiles))\n",
    "print(\"Single DLTile example: \")\n",
    "print(dltiles[0])"
   ]
  },
  {
   "cell_type": "markdown",
   "id": "85e2a72a",
   "metadata": {},
   "source": [
    "### Testing function\n",
    "Let's test the NDVI method locally and see the images uploaded to the Catalog product we created:"
   ]
  },
  {
   "cell_type": "code",
   "execution_count": null,
   "id": "6e100a98",
   "metadata": {
    "tags": []
   },
   "outputs": [],
   "source": [
    "# Test start and end dates\n",
    "start_date = \"2021-06-01\"\n",
    "end_date = \"2021-06-15\"\n",
    "# Submit request for NDVI image upload\n",
    "ndvi_test = create_ndvi_image(\n",
    "    dltile_keys[0], product_id=product.id, start_date=start_date, end_date=end_date\n",
    ")"
   ]
  },
  {
   "cell_type": "markdown",
   "id": "5ec81b6c-e4a9-4a69-bf64-22c774e2b7ec",
   "metadata": {},
   "source": [
    "Now that we've completed the first tile's upload locally, we should see a single `Image` returned in our new `Product`:"
   ]
  },
  {
   "cell_type": "code",
   "execution_count": null,
   "id": "4e5d9222",
   "metadata": {
    "tags": []
   },
   "outputs": [],
   "source": [
    "# Compare upload ID\n",
    "product.image_uploads().collect()\n",
    "# Check if new images are in Catalog product\n",
    "img = product.images().filter(start_date < p.acquired <= end_date).collect()\n",
    "img"
   ]
  },
  {
   "cell_type": "markdown",
   "id": "61b4726a-a914-42af-a8cd-8868f31dba13",
   "metadata": {},
   "source": [
    "Note that our resulting `ndarray` is of the same shape as our `DLTile`:"
   ]
  },
  {
   "cell_type": "code",
   "execution_count": null,
   "id": "be8b111f",
   "metadata": {
    "tags": []
   },
   "outputs": [],
   "source": [
    "test_arr = img[0].ndarray(\"ndvi\")\n",
    "test_arr.shape"
   ]
  },
  {
   "cell_type": "code",
   "execution_count": null,
   "id": "1c2322e0",
   "metadata": {
    "tags": []
   },
   "outputs": [],
   "source": [
    "# Plot example of image\n",
    "dl.utils.display(test_arr, title=\"NDVI test\", size=4, colormap=\"viridis\")"
   ]
  },
  {
   "cell_type": "markdown",
   "id": "56861e49",
   "metadata": {},
   "source": [
    "### Create Compute function\n",
    "Now that we're happy with the results of our locally-run function, we can now create our `Batch Compute Function`. Here we will create a new `Function` object by passing in our Python function as the first inpurt argument, with the following keyword arguments:\n",
    "* Name\n",
    "* Image, which should always be `python3.X:latest`\n",
    "* CPUs\n",
    "* Memory\n",
    "* Timeout, in seconds\n",
    "* Maximum Concurrency\n",
    "* Retry Count"
   ]
  },
  {
   "cell_type": "code",
   "execution_count": null,
   "id": "fe09ee40",
   "metadata": {
    "tags": []
   },
   "outputs": [],
   "source": [
    "async_func = Function(\n",
    "    create_ndvi_image,\n",
    "    name=\"NDVI-from-sentinel\",\n",
    "    image=\"python3.9:latest\",\n",
    "    cpus=1,\n",
    "    memory=2,\n",
    "    timeout=60 * 10,  # in seconds ~ currently 10 min # Must be less than 900\n",
    "    maximum_concurrency=25,\n",
    "    retry_count=2,\n",
    ")\n",
    "async_func.save()"
   ]
  },
  {
   "cell_type": "code",
   "execution_count": null,
   "id": "ba575ea2-cdd2-4c93-940b-4d18666527e2",
   "metadata": {
    "tags": []
   },
   "outputs": [],
   "source": [
    "async_func.id"
   ]
  },
  {
   "cell_type": "markdown",
   "id": "aa76b143",
   "metadata": {},
   "source": [
    "### Submit jobs to Compute function\n",
    "\n",
    "Now that we have a `Function` built, we can test submitting a `Job`. \n",
    "\n",
    "First, we'll generate our argument to pass into our `Function`:"
   ]
  },
  {
   "cell_type": "code",
   "execution_count": null,
   "id": "cd92bfa6",
   "metadata": {
    "tags": []
   },
   "outputs": [],
   "source": [
    "# Get the DLTile key for the first tile\n",
    "key = dltiles[0].key\n",
    "# Set a start_date and end_date\n",
    "start_date = \"2021-06-01\"\n",
    "end_date = \"2021-06-15\""
   ]
  },
  {
   "cell_type": "markdown",
   "id": "1e093a1a-ad9c-4ea7-a787-b0502887c06d",
   "metadata": {},
   "source": [
    "Next we will create a single `Job` object by passing in our `Function ID` and `args` as a list:"
   ]
  },
  {
   "cell_type": "code",
   "execution_count": null,
   "id": "a5cb8ab9",
   "metadata": {
    "tags": []
   },
   "outputs": [],
   "source": [
    "# Create the job function\n",
    "job = Job(async_func.id, args=[key, start_date, end_date, product.id])\n",
    "job.save()"
   ]
  },
  {
   "cell_type": "markdown",
   "id": "7430245d-9cc8-4680-91ae-4c0637d502e1",
   "metadata": {},
   "source": [
    "We can `wait_for_completion()` programmatically if we choose:"
   ]
  },
  {
   "cell_type": "raw",
   "id": "a518a0bc-6a37-4c4d-81c3-446fc6448c08",
   "metadata": {
    "tags": []
   },
   "source": [
    "job.wait_for_completion()"
   ]
  },
  {
   "cell_type": "markdown",
   "id": "9d9bb1aa",
   "metadata": {},
   "source": [
    "### Submit multiple jobs\n",
    "We can also submit multiple jobs to the same function."
   ]
  },
  {
   "cell_type": "markdown",
   "id": "14963f09",
   "metadata": {},
   "source": [
    "##### Create dictionary of arguments to pass as Jobs\n"
   ]
  },
  {
   "cell_type": "code",
   "execution_count": null,
   "id": "ca45c583",
   "metadata": {
    "tags": []
   },
   "outputs": [],
   "source": [
    "# Convenience function for building kwarg dict\n",
    "def get_bulk_kwargs(jobs, **kwargs):\n",
    "    bulk_kwargs = []\n",
    "    for _ in range(jobs):\n",
    "        bulk_kwargs.append(dict(kwargs))\n",
    "\n",
    "    return bulk_kwargs"
   ]
  },
  {
   "cell_type": "code",
   "execution_count": null,
   "id": "0f0cce51",
   "metadata": {
    "tags": []
   },
   "outputs": [],
   "source": [
    "## Collect args to submit to Function\n",
    "# Get a list of the DLTile keys\n",
    "dltile_keys = [\n",
    "    [tile.key] for tile in dltiles\n",
    "]  # First iterable argument needs to be list of lists - List[List]\n",
    "# Test start and end dates\n",
    "start_date = \"2021-06-01\"\n",
    "end_date = \"2021-06-15\"\n",
    "\n",
    "# Build kwarg dict\n",
    "kwargs = get_bulk_kwargs(\n",
    "    len(dltiles), start_date=start_date, end_date=end_date, product_id=product.id\n",
    ")\n",
    "print(\"Example of Key word args\")\n",
    "kwargs[0:5]"
   ]
  },
  {
   "cell_type": "code",
   "execution_count": null,
   "id": "80ce47d7-5b9a-4428-8878-1b9ddedb0c98",
   "metadata": {
    "tags": []
   },
   "outputs": [],
   "source": [
    "dltile_keys[:5]"
   ]
  },
  {
   "cell_type": "code",
   "execution_count": null,
   "id": "99c014ed-1aa1-4dbf-8091-7bdb27020d53",
   "metadata": {},
   "outputs": [],
   "source": []
  },
  {
   "cell_type": "code",
   "execution_count": null,
   "id": "3bc8f9e0",
   "metadata": {
    "tags": []
   },
   "outputs": [],
   "source": [
    "# Submit multiple Jobs using map\n",
    "jobs = async_func.map(dltile_keys, kwargs)"
   ]
  },
  {
   "cell_type": "code",
   "execution_count": null,
   "id": "6d127401-e312-4d83-be20-389aa209f57d",
   "metadata": {
    "tags": []
   },
   "outputs": [],
   "source": [
    "len(jobs)"
   ]
  },
  {
   "cell_type": "markdown",
   "id": "f902dbd2-5235-4cde-928c-3e92e3a3b538",
   "metadata": {},
   "source": [
    "### Submit Multiple jobs by creating multiple Job objects\n",
    "\n",
    "Jobs can also be create directly and will be executed once the object is saved. I.e., `job.save()`"
   ]
  },
  {
   "cell_type": "raw",
   "id": "77a3c157-b5fe-4036-afa3-c619fdd6d55f",
   "metadata": {},
   "source": [
    "jobs = []\n",
    "for key in dltile_keys:\n",
    "    j = Job(async_func.id, args=[key, \"2022-06-01\", \"2022-06-30\", product.id])\n",
    "    j.save()\n",
    "    jobs.append(j)"
   ]
  },
  {
   "cell_type": "markdown",
   "id": "0f704498-6274-4980-bf29-4ebec417092d",
   "metadata": {},
   "source": [
    "### Waiting for Completion\n",
    "Now that we've mapped our arguments to `Job`s, we can wait for our `Function` to complete by either navigating to [app.descarteslabs.com/monitor](https://app.descarteslabs.com/monitor) or programmatically via:"
   ]
  },
  {
   "cell_type": "raw",
   "id": "307356c2-5a97-41f5-8388-66741e4c771e",
   "metadata": {
    "tags": []
   },
   "source": [
    "async_func.wait_for_completion()"
   ]
  },
  {
   "cell_type": "code",
   "execution_count": null,
   "id": "d346c7a9-01d6-4ab9-bcc3-3ac248a3b7fd",
   "metadata": {
    "tags": []
   },
   "outputs": [],
   "source": [
    "from IPython.display import IFrame\n",
    "\n",
    "IFrame(\"https://app.descarteslabs.com/monitor\", width=700, height=350)"
   ]
  },
  {
   "cell_type": "code",
   "execution_count": null,
   "id": "141a1d96-5d2a-4cc5-b0c2-6bbc7e4b5eec",
   "metadata": {},
   "outputs": [],
   "source": []
  }
 ],
 "metadata": {
  "kernelspec": {
   "display_name": "Python 3 (ipykernel)",
   "language": "python",
   "name": "python3"
  },
  "language_info": {
   "codemirror_mode": {
    "name": "ipython",
    "version": 3
   },
   "file_extension": ".py",
   "mimetype": "text/x-python",
   "name": "python",
   "nbconvert_exporter": "python",
   "pygments_lexer": "ipython3",
   "version": "3.8.16"
  }
 },
 "nbformat": 4,
 "nbformat_minor": 5
}

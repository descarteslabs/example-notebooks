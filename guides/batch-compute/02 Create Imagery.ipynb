{
 "cells": [
  {
   "cell_type": "markdown",
   "id": "2fe7ee39",
   "metadata": {},
   "source": [
    "# Creating new Product Images with Batch Compute\n",
    "__________________\n",
    "\n",
    "The Compute module provides scalable, out of the box resources to parallelize your computations across nearly any spatio-temporal scale. Compute enables users to package and execute your Python code within nodes hosted on Descartes Labs' cloud infrastructure, offering the ability to access imagery at extremely high rates of throughput to fast-track your analyses.\n",
    "\n",
    "In this example notebook, we will create a [`Function`](https://docs.descarteslabs.com/descarteslabs/compute/readme.html#descarteslabs.compute.Function) to calculate and create an NDVI product from Sentinel-2 L2A imagery then scale it over Yakima County in Washington. The Yakima Valley contains ~75% of the total US hop acreage. \n",
    "\n",
    "As a hands-on example, we'll create a local Python function to search for Sentinel-2 imagery over a given AOI, calculate NDVI from the red and near-infrared bands, and upload the NDVI image to a new catalog product. Then, we'll create a Compute Function object wrapping our NDVI function to scale across the entire county.\n",
    "\n",
    "For more on creating and managing products, review [Catalog 02 Creating and Managing Products.ipynb](../catalog/02%20Creating%20and%20Managing%20Products.ipynb)"
   ]
  },
  {
   "cell_type": "code",
   "execution_count": null,
   "id": "fc6ae10a",
   "metadata": {
    "tags": []
   },
   "outputs": [],
   "source": [
    "import descarteslabs as dl\n",
    "from descarteslabs.compute import Function, Job\n",
    "from descarteslabs.catalog import Image, Product, SpectralBand, properties as p"
   ]
  },
  {
   "cell_type": "markdown",
   "id": "22f5a781-8b6a-45bf-a597-4a8cd1162ecb",
   "metadata": {},
   "source": [
    "First, we'll create a new product to write our results in to, including it's single NDVI band:"
   ]
  },
  {
   "cell_type": "code",
   "execution_count": null,
   "id": "c222fcc6-03f8-4402-806b-eb81589307ee",
   "metadata": {
    "tags": []
   },
   "outputs": [],
   "source": [
    "org = dl.auth.Auth().payload[\"org\"]\n",
    "user_id = dl.auth.Auth().namespace"
   ]
  },
  {
   "cell_type": "markdown",
   "id": "ff1ee3c8-681d-4b6e-a8ed-498536d7f378",
   "metadata": {},
   "source": [
    "*Note: Since other users within your organization may have run this notebook before, we will create a new unique Product ID using the current users ID. This is not required for your own work.*"
   ]
  },
  {
   "cell_type": "code",
   "execution_count": null,
   "id": "95dce2b5-a37a-4fa5-a728-36255f169ce2",
   "metadata": {
    "tags": []
   },
   "outputs": [],
   "source": [
    "# Create NDVI Catalog product\n",
    "product = Product.get_or_create(\n",
    "    id=f\"sentinel-2_ndvi-{user_id}\",\n",
    "    name=\"Sentinel-2 L2A NDVI\",\n",
    ")\n",
    "product.save()"
   ]
  },
  {
   "cell_type": "code",
   "execution_count": null,
   "id": "377ebf58",
   "metadata": {
    "tags": []
   },
   "outputs": [],
   "source": [
    "# Create NDVI band for product\n",
    "band = SpectralBand.get_or_create(\n",
    "    id=f\"{product.id}:ndvi\",\n",
    "    band_index=0,\n",
    "    data_type=\"Float64\",\n",
    "    nodata=0,\n",
    "    data_range=(0.0, 1.0),\n",
    "    display_range=(0.0, 0.4),\n",
    ")\n",
    "band.save()\n",
    "print(f\"Saved {band}\")"
   ]
  },
  {
   "cell_type": "code",
   "execution_count": null,
   "id": "8849bb0e",
   "metadata": {
    "tags": []
   },
   "outputs": [],
   "source": [
    "print(\"Product status: \", product.state)  # check that product is 'saved'\n",
    "print(\"Product ID: \", product.id)  # Get product ID that we will pass to function later"
   ]
  },
  {
   "cell_type": "markdown",
   "id": "d2e60f61-4065-430b-acf6-e7103c2d2693",
   "metadata": {},
   "source": [
    "Next we'll define our Python function to wrap into a Compute Function below. The general methodology is as follows:\n",
    "* Inputs:\n",
    "    * DLTile Key\n",
    "    * Start Date\n",
    "    * End Date\n",
    "    * Product ID\n",
    "\n",
    "* Steps:\n",
    "    1. Create a DLTile object from our DLTile Key\n",
    "    2. Search our Sentinel-2 L2A Product over our specified date range and, intersecting our DLTile\n",
    "    3. Mosaic our resulting ImageCollection to retrieve the red and NIR bands\n",
    "    4. Calculate NDVI on our ndarray\n",
    "    5. Create a new Image object\n",
    "    6. Write our ndarray to our new Image via upload_ndarray"
   ]
  },
  {
   "cell_type": "code",
   "execution_count": null,
   "id": "5429efb9",
   "metadata": {
    "tags": []
   },
   "outputs": [],
   "source": [
    "# NDVI method\n",
    "def create_ndvi_image(tile_key, start_date, end_date, product_id):\n",
    "    import descarteslabs as dl\n",
    "\n",
    "    # Import Catalog module methods\n",
    "    from descarteslabs.catalog import Image, Product, properties as p\n",
    "\n",
    "    # Get DLTile GeoContext for AOI\n",
    "    dltile = dl.geo.DLTile.from_key(tile_key)\n",
    "\n",
    "    # Find Sentinel-2 imagery over AOI\n",
    "    print(\"Searching for imagery\")\n",
    "    images = (\n",
    "        Product.get(\"esa:sentinel-2:l2a:v1\")\n",
    "        .images()\n",
    "        .intersects(dltile)\n",
    "        .filter(start_date < p.acquired <= end_date)\n",
    "        .filter(p.cloud_fraction < 0.1)\n",
    "    ).collect()\n",
    "    print(f\"Found {len(images)} images\")\n",
    "\n",
    "    # Create stack of red and nir bands for NDVI calc\n",
    "    mosaic, raster_info = images.mosaic([\"nir\", \"red\"], raster_info=True)\n",
    "\n",
    "    nir = mosaic[0]\n",
    "    red = mosaic[1]\n",
    "\n",
    "    # Calculate NDVI\n",
    "    print(\"Calculating NDVI\")\n",
    "    ndvi = (nir - red) / (nir + red)\n",
    "\n",
    "    # Create image for upload\n",
    "    ndvi_image = Image(\n",
    "        name=tile_key.replace(\":\", \"_\"),\n",
    "        geometry=dltile.geometry,\n",
    "        product_id=product_id,\n",
    "        acquired=end_date,\n",
    "    )\n",
    "\n",
    "    # Upload image to catalog product\n",
    "    upload = ndvi_image.upload_ndarray(ndvi, raster_meta=raster_info, overwrite=True)\n",
    "    print(\"NDVI image upload ID:\", upload.id)\n",
    "\n",
    "    upload.wait_for_completion()\n",
    "\n",
    "    print(\"NDVI image ID:\", ndvi_image.id)\n",
    "\n",
    "    return ndvi_image.id"
   ]
  },
  {
   "cell_type": "markdown",
   "id": "1427b2d2",
   "metadata": {},
   "source": [
    "### Define AOI: Yakima County, Washington state\n",
    "Now that we have our function, let's define our AOI to calculate NDVI over. First we'll read in our GeoJSON file as a geodataframe:"
   ]
  },
  {
   "cell_type": "code",
   "execution_count": null,
   "id": "48ae1be1-cc3d-46c7-a9d7-12b7c291158c",
   "metadata": {
    "tags": []
   },
   "outputs": [],
   "source": [
    "import geopandas as gpd\n",
    "\n",
    "yak = gpd.read_file(\"../catalog/data/yakima.geojson\")"
   ]
  },
  {
   "cell_type": "markdown",
   "id": "92534d31-d0cd-45ba-af84-b47d3315729d",
   "metadata": {},
   "source": [
    "Next we will create a list of DLTiles from our input geometry by [`DLTile.from_shape`](https://docs.descarteslabs.com/descarteslabs/geo/readme.html#descarteslabs.geo.DLTile):"
   ]
  },
  {
   "cell_type": "code",
   "execution_count": null,
   "id": "c596e679",
   "metadata": {
    "tags": []
   },
   "outputs": [],
   "source": [
    "from shapely.geometry import box\n",
    "\n",
    "# Create bounding box to get DLTiles over\n",
    "bbox = box(*yak.total_bounds)\n",
    "# Create DLTile GeoContext objects to iterate over for NDVI function\n",
    "dltiles = dl.geo.DLTile.from_shape(\n",
    "    bbox, resolution=30, tilesize=256, pad=0  # 30 meters\n",
    ")\n",
    "# Get list of DLTile keys\n",
    "dltile_keys = [tile.key for tile in dltiles]\n",
    "\n",
    "print(\"Number of DLTiles: \", len(dltiles))\n",
    "print(\"Single DLTile example: \")\n",
    "print(dltiles[0])"
   ]
  },
  {
   "cell_type": "markdown",
   "id": "85e2a72a",
   "metadata": {},
   "source": [
    "### Testing function\n",
    "Let's test the NDVI method locally and see the images uploaded to the Catalog product we created:"
   ]
  },
  {
   "cell_type": "code",
   "execution_count": null,
   "id": "6e100a98",
   "metadata": {
    "tags": []
   },
   "outputs": [],
   "source": [
    "# Test start and end dates\n",
    "start_date = \"2021-06-01\"\n",
    "end_date = \"2021-06-15\"\n",
    "# Submit request for NDVI image upload\n",
    "create_ndvi_image(\n",
    "    dltile_keys[0], product_id=product.id, start_date=start_date, end_date=end_date\n",
    ")"
   ]
  },
  {
   "cell_type": "markdown",
   "id": "5ec81b6c-e4a9-4a69-bf64-22c774e2b7ec",
   "metadata": {},
   "source": [
    "Now that we've completed the first tile's upload locally, we should see a single image returned in our new product:"
   ]
  },
  {
   "cell_type": "code",
   "execution_count": null,
   "id": "4e5d9222",
   "metadata": {
    "tags": []
   },
   "outputs": [],
   "source": [
    "# Compare Upload ID\n",
    "print([upload.id for upload in product.image_uploads()])\n",
    "# Check if new images are in Catalog product\n",
    "images = product.images().filter(start_date < p.acquired <= end_date).collect()\n",
    "print([image.id for image in images])"
   ]
  },
  {
   "cell_type": "markdown",
   "id": "61b4726a-a914-42af-a8cd-8868f31dba13",
   "metadata": {},
   "source": [
    "Note that our resulting ndarray is of the same shape as our DLTile:"
   ]
  },
  {
   "cell_type": "code",
   "execution_count": null,
   "id": "be8b111f",
   "metadata": {
    "tags": []
   },
   "outputs": [],
   "source": [
    "test_arr = images[0].ndarray(\"ndvi\")\n",
    "test_arr.shape"
   ]
  },
  {
   "cell_type": "markdown",
   "id": "238a59b6",
   "metadata": {},
   "source": [
    "And lets have a look at the image we created:"
   ]
  },
  {
   "cell_type": "code",
   "execution_count": null,
   "id": "1c2322e0",
   "metadata": {
    "tags": []
   },
   "outputs": [],
   "source": [
    "# Plot example image\n",
    "dl.utils.display(test_arr, title=\"NDVI test\", size=4, colormap=\"viridis\")"
   ]
  },
  {
   "cell_type": "markdown",
   "id": "ee3b5e6a",
   "metadata": {},
   "source": [
    "In order to avoid duplication, lets delete the image that we created:"
   ]
  },
  {
   "cell_type": "code",
   "execution_count": null,
   "id": "79d2d362",
   "metadata": {
    "tags": []
   },
   "outputs": [],
   "source": [
    "images[0].delete()"
   ]
  },
  {
   "cell_type": "markdown",
   "id": "56861e49",
   "metadata": {},
   "source": [
    "### Create Compute function\n",
    "Now that we're happy with the results of our locally-run function, we can now create our Batch Compute Function. Here we will create a new Function object by passing in our Python function as the first input argument, with the following keyword arguments:\n",
    "* __name__\n",
    "* __image__, which should always be __python3.X:latest__ corresponding to your environment\n",
    "* __cpus__, number of CPUs\n",
    "* __memory__\n",
    "* __timeout__, in seconds\n",
    "* __maximum_concurrency__, or number of parallel Jobs running at a time\n",
    "* __retry_count__, number of times to retry failed Jobs\n",
    "\n",
    "For more information on __memory__ and __cpu__ combinations visit our [Documentation page](https://docs.descarteslabs.com/guides/quota.html)"
   ]
  },
  {
   "cell_type": "code",
   "execution_count": null,
   "id": "fe09ee40",
   "metadata": {
    "tags": []
   },
   "outputs": [],
   "source": [
    "async_func = Function(\n",
    "    create_ndvi_image,\n",
    "    name=\"NDVI-from-sentinel\",\n",
    "    image=\"python3.9:latest\",\n",
    "    cpus=1,\n",
    "    memory=2,\n",
    "    timeout=600,\n",
    "    maximum_concurrency=25,\n",
    "    retry_count=2,\n",
    ")\n",
    "async_func.save()"
   ]
  },
  {
   "cell_type": "code",
   "execution_count": null,
   "id": "ba575ea2-cdd2-4c93-940b-4d18666527e2",
   "metadata": {
    "tags": []
   },
   "outputs": [],
   "source": [
    "async_func.id"
   ]
  },
  {
   "cell_type": "markdown",
   "id": "aa76b143",
   "metadata": {},
   "source": [
    "### Submit jobs to Compute function\n",
    "\n",
    "Now that we have a Function built, we can test submitting a Job. \n",
    "\n",
    "First, we'll generate our argument to pass into our Function:"
   ]
  },
  {
   "cell_type": "code",
   "execution_count": null,
   "id": "cd92bfa6",
   "metadata": {
    "tags": []
   },
   "outputs": [],
   "source": [
    "# Get the DLTile key for the first tile\n",
    "key = dltiles[0].key\n",
    "# Set a start_date and end_date\n",
    "start_date = \"2021-06-01\"\n",
    "end_date = \"2021-06-15\""
   ]
  },
  {
   "cell_type": "markdown",
   "id": "1e093a1a-ad9c-4ea7-a787-b0502887c06d",
   "metadata": {},
   "source": [
    "Next we will create a single Job object by passing in our Function ID and args:"
   ]
  },
  {
   "cell_type": "code",
   "execution_count": null,
   "id": "a5cb8ab9",
   "metadata": {
    "tags": []
   },
   "outputs": [],
   "source": [
    "# Create the job function\n",
    "job = async_func(key, start_date, end_date, product.id)"
   ]
  },
  {
   "cell_type": "markdown",
   "id": "7430245d-9cc8-4680-91ae-4c0637d502e1",
   "metadata": {},
   "source": [
    "We can [`wait_for_completion()`](https://docs.descarteslabs.com/descarteslabs/compute/readme.html#descarteslabs.compute.Job.wait_for_completion) programmatically if we choose. Note that it will take some time between creating the Function above, and completion of the first job."
   ]
  },
  {
   "cell_type": "markdown",
   "id": "2b94f693-9228-4914-9362-e7c1b0b50131",
   "metadata": {
    "tags": []
   },
   "source": [
    "    job.wait_for_completion()"
   ]
  },
  {
   "cell_type": "markdown",
   "id": "6919c25f-3f62-4c79-ad6a-4a34ad84e507",
   "metadata": {},
   "source": [
    "Or visit our [Compute Monitor](https://app.descarteslabs.com/compute) to track rour Function's progress."
   ]
  },
  {
   "cell_type": "markdown",
   "id": "ff4ebfdc",
   "metadata": {},
   "source": [
    "Let's check what was created:"
   ]
  },
  {
   "cell_type": "code",
   "execution_count": null,
   "id": "c80bdc1e",
   "metadata": {},
   "outputs": [],
   "source": [
    "image_id = job.result()\n",
    "print(image_id)\n",
    "\n",
    "image = Image.get(image_id)\n",
    "print(image)"
   ]
  },
  {
   "cell_type": "markdown",
   "id": "1be1b2e5",
   "metadata": {},
   "source": [
    "And finally, to again avoid any duplication, we will delete both the job and the image we created."
   ]
  },
  {
   "cell_type": "code",
   "execution_count": null,
   "id": "4f4ba738",
   "metadata": {},
   "outputs": [],
   "source": [
    "job.delete(delete_result=True)\n",
    "image.delete()"
   ]
  },
  {
   "cell_type": "markdown",
   "id": "9d9bb1aa",
   "metadata": {},
   "source": [
    "### Submit multiple jobs\n",
    "We can also submit multiple jobs to the same function. This is the most typical pattern for creating and running large numbers of jobs, and is more efficient than creating jobs one by one, unless there is non-trivial computation required to generate the arguments to your Function."
   ]
  },
  {
   "cell_type": "code",
   "execution_count": null,
   "id": "0f0cce51",
   "metadata": {
    "tags": []
   },
   "outputs": [],
   "source": [
    "## Collect args to submit to Function\n",
    "# Get a list of the DLTile keys\n",
    "dltile_keys = [\n",
    "    [tile.key] for tile in dltiles\n",
    "]  # First iterable argument needs to be list of lists - List[List]\n",
    "# Test start and end dates\n",
    "start_date = \"2021-06-01\"\n",
    "end_date = \"2021-06-15\""
   ]
  },
  {
   "cell_type": "code",
   "execution_count": null,
   "id": "3bc8f9e0",
   "metadata": {
    "tags": []
   },
   "outputs": [],
   "source": [
    "# Submit multiple Jobs using map\n",
    "jobs = async_func.map(\n",
    "    dltile_keys,\n",
    "    repeat(\n",
    "        {\"product_id\": product.id, \"start_date\": start_date, \"end_date\": end_date},\n",
    "        len(dltile_keys),\n",
    "    ),\n",
    ")\n",
    "print(len(jobs))"
   ]
  },
  {
   "cell_type": "markdown",
   "id": "0f704498-6274-4980-bf29-4ebec417092d",
   "metadata": {},
   "source": [
    "### Waiting for Completion\n",
    "Now that we've mapped our arguments to Jobs, we can wait for our Function to complete by either navigating to [app.descarteslabs.com/compute](https://app.descarteslabs.com/compute) or programmatically via:"
   ]
  },
  {
   "cell_type": "code",
   "execution_count": null,
   "id": "d5a5beb5",
   "metadata": {},
   "outputs": [],
   "source": [
    "# print new image ids as they are completed\n",
    "for job in async_func.as_completed(jobs):\n",
    "    print(job.result())"
   ]
  },
  {
   "cell_type": "markdown",
   "id": "ee61dc93",
   "metadata": {},
   "source": [
    "or:"
   ]
  },
  {
   "cell_type": "code",
   "execution_count": null,
   "id": "c8261fb3",
   "metadata": {},
   "outputs": [],
   "source": [
    "# wait for everyting to finish\n",
    "async_func.wait_for_completion()"
   ]
  },
  {
   "cell_type": "markdown",
   "id": "08a5f8ca",
   "metadata": {},
   "source": [
    "### Verify\n",
    "We can check for successful completion of all jobs, and verify our images exist."
   ]
  },
  {
   "cell_type": "code",
   "execution_count": null,
   "id": "223d8cd4",
   "metadata": {},
   "outputs": [],
   "source": [
    "async_func.refresh(include=\"job.statistics\")\n",
    "print(async_func.job_statistics)\n",
    "print(product.images().count())"
   ]
  },
  {
   "cell_type": "markdown",
   "id": "34fdc508",
   "metadata": {},
   "source": [
    "### Cleaning up\n",
    "\n",
    "When we are done, it is always good hygiene to clean up!"
   ]
  },
  {
   "cell_type": "code",
   "execution_count": null,
   "id": "5a69788b",
   "metadata": {},
   "outputs": [],
   "source": [
    "# remove function and jobs\n",
    "async_func.delete_jobs(delete_results=True)\n",
    "async_func.delete()\n",
    "\n",
    "# remove product and images\n",
    "task = product.delete_related_objects()\n",
    "task.wait_for_completion() if task\n",
    "product.delete()"
   ]
  }
 ],
 "metadata": {
  "kernelspec": {
   "display_name": "Python 3 (ipykernel)",
   "language": "python",
   "name": "python3"
  },
  "language_info": {
   "codemirror_mode": {
    "name": "ipython",
    "version": 3
   },
   "file_extension": ".py",
   "mimetype": "text/x-python",
   "name": "python",
   "nbconvert_exporter": "python",
   "pygments_lexer": "ipython3",
   "version": "3.9.18"
  }
 },
 "nbformat": 4,
 "nbformat_minor": 5
}

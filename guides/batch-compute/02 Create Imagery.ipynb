{
 "cells": [
  {
   "cell_type": "markdown",
   "id": "2fe7ee39",
   "metadata": {},
   "source": [
    "# Imagery Generation with Batch Compute\n",
    "__________________\n",
    "\n",
    "This notebook will cover a typical pattern of using Compute to scalably generate new imagery across large areas of interest (AOIs). \n",
    "\n",
    "In this hands-on example we will calculate a simple Normalized Difference Vegetation Index (NDVI) map over Yakima County in Washington, which contains ~75% of the total US hop acreage. \n",
    "\n",
    "The general steps covered in this example are as follows:\n",
    "* Create a new [`Product`](https://docs.descarteslabs.com/descarteslabs/catalog/docs/product.html#descarteslabs.catalog.Product) and [`Band`](https://docs.descarteslabs.com/descarteslabs/catalog/docs/band.html#descarteslabs.catalog.Band) to save results\n",
    "* Define a self-contained Python function that accepts a tile key, start date, end date, and output product ID which performs the following:\n",
    "    * Generates a [`DLTile`](https://docs.descarteslabs.com/descarteslabs/geo/readme.html#descarteslabs.geo.DLTile) from the passed key\n",
    "    * Searches Sentinel-2 imagery which intersect the passed tile given the specified date range and 10% cloud fraction\n",
    "    * Calculates NDVI from the **nir** and **red** bands\n",
    "    * Saves the NDVI calculation as a new [`Image`](https://docs.descarteslabs.com/descarteslabs/catalog/docs/image.html#descarteslabs.catalog.Image)\n",
    "* Wrap the local function into a [`Function`](https://docs.descarteslabs.com/descarteslabs/compute/readme.html#descarteslabs.compute.Function) to scale asynchronously across the entire county\n",
    "\n",
    "*__Note__*: For more on creating and managing products, review Catalog tutorial [02 Creating and Managing Products.ipynb](../catalog/02%20Creating%20and%20Managing%20Products.ipynb)."
   ]
  },
  {
   "cell_type": "code",
   "execution_count": null,
   "id": "fc6ae10a",
   "metadata": {
    "tags": []
   },
   "outputs": [],
   "source": [
    "import descarteslabs as dl\n",
    "from descarteslabs.compute import Function, Job\n",
    "from descarteslabs.catalog import Image, Product, SpectralBand, properties as p"
   ]
  },
  {
   "cell_type": "markdown",
   "id": "06ccfe8b-b20c-4f53-88aa-f43b204a84f8",
   "metadata": {},
   "source": [
    "Defining global variables for reference throughout this example, including the current user's org and user ID:"
   ]
  },
  {
   "cell_type": "code",
   "execution_count": null,
   "id": "c222fcc6-03f8-4402-806b-eb81589307ee",
   "metadata": {
    "tags": []
   },
   "outputs": [],
   "source": [
    "org = dl.auth.Auth().payload[\"org\"]\n",
    "user_id = dl.auth.Auth().namespace"
   ]
  },
  {
   "cell_type": "code",
   "execution_count": null,
   "id": "c237ac86-77db-4f9b-a92b-a3d43cd008f7",
   "metadata": {
    "tags": []
   },
   "outputs": [],
   "source": [
    "# Test start and end dates\n",
    "start_date = \"2023-10-15\"\n",
    "end_date = \"2023-10-25\""
   ]
  },
  {
   "cell_type": "markdown",
   "id": "3d3d9a3a-adfe-4390-85c7-7dfe4836b3b8",
   "metadata": {},
   "source": [
    "## Creating the Output Product\n",
    "First we'll create a new product in which we will write our results to, including a single NDVI band. "
   ]
  },
  {
   "cell_type": "code",
   "execution_count": null,
   "id": "bd5bc7f4-3a0e-4624-97a4-b1b77af76b41",
   "metadata": {
    "tags": []
   },
   "outputs": [],
   "source": [
    "pid = f\"{org}:yakima-county-ndvi-{user_id}\""
   ]
  },
  {
   "cell_type": "markdown",
   "id": "ff1ee3c8-681d-4b6e-a8ed-498536d7f378",
   "metadata": {
    "tags": []
   },
   "source": [
    "#### **_Note on Product Creation:_** \n",
    "We do not always need to delete and overwrite our product on every iteration as in the following cell. This notebook is designed for demonstration purposes, where we do not care about preserving each prior product. \n",
    "\n",
    "In practice, as long as your product has a **unique** ID you may ignore the next cell and skip to the following."
   ]
  },
  {
   "cell_type": "code",
   "execution_count": null,
   "id": "cf85fd12-1cac-4193-9fc0-e3c7851d1b37",
   "metadata": {
    "tags": []
   },
   "outputs": [],
   "source": [
    "try:\n",
    "    product = Product.get(pid)\n",
    "    print(\"Product already exists, deleting old iteration\")\n",
    "    status = product.delete_related_objects()\n",
    "    if status:\n",
    "        status.wait_for_completion()\n",
    "    print(\"Deleted related objects\")\n",
    "    product.delete()\n",
    "    print(\"Deleted Product\")\n",
    "except:\n",
    "    print(\"No Product exists\")"
   ]
  },
  {
   "cell_type": "markdown",
   "id": "d2e745d3-be6e-499d-84ca-59bb571dcd6a",
   "metadata": {},
   "source": [
    "Now we create the product:"
   ]
  },
  {
   "cell_type": "code",
   "execution_count": null,
   "id": "95dce2b5-a37a-4fa5-a728-36255f169ce2",
   "metadata": {
    "tags": []
   },
   "outputs": [],
   "source": [
    "# Create NDVI Catalog product\n",
    "product = Product.get_or_create(\n",
    "    id=pid,\n",
    "    name=\"Yakima County NDVI\",\n",
    ")\n",
    "product.tags = [\"examples\"]\n",
    "product.save()\n",
    "product"
   ]
  },
  {
   "cell_type": "markdown",
   "id": "f378ccb6-427c-48a7-81c1-960d4f33535f",
   "metadata": {},
   "source": [
    "And a single band:"
   ]
  },
  {
   "cell_type": "code",
   "execution_count": null,
   "id": "377ebf58",
   "metadata": {
    "tags": []
   },
   "outputs": [],
   "source": [
    "# Create NDVI band for product\n",
    "band = SpectralBand.get_or_create(\n",
    "    id=f\"{product.id}:ndvi\",\n",
    "    band_index=0,\n",
    "    data_type=\"Float64\",\n",
    "    nodata=0,\n",
    "    data_range=(0.0, 1.0),\n",
    "    display_range=(0.0, 0.4),\n",
    ")\n",
    "band.save()\n",
    "print(f\"Saved {band}\")"
   ]
  },
  {
   "cell_type": "code",
   "execution_count": null,
   "id": "8849bb0e",
   "metadata": {
    "tags": []
   },
   "outputs": [],
   "source": [
    "print(\"Product status: \", product.state)  # check that product is 'saved'\n",
    "print(\"Product ID: \", product.id)  # Get product ID that we will pass to function later"
   ]
  },
  {
   "cell_type": "markdown",
   "id": "d2e60f61-4065-430b-acf6-e7103c2d2693",
   "metadata": {},
   "source": [
    "## Local Function Definition\n",
    "Next we'll define our self-contained Python function to send to a Compute below. The general methodology is as follows:\n",
    "* Inputs:\n",
    "    * DLTile Key\n",
    "    * Start Date\n",
    "    * End Date\n",
    "    * Output Product ID\n",
    "\n",
    "* Steps:\n",
    "    1. Create a DLTile object from our DLTile Key\n",
    "    2. Search our Sentinel-2 Product for imagery intersecting our DLTile and date range\n",
    "    3. Mosaic our resulting ImageCollection to retrieve the **red** and **nir** bands\n",
    "    4. Calculate NDVI on our ndarray\n",
    "    5. Create a new Image object\n",
    "    6. Write our ndarray to our new Image via upload_ndarray"
   ]
  },
  {
   "cell_type": "code",
   "execution_count": null,
   "id": "5429efb9",
   "metadata": {
    "tags": []
   },
   "outputs": [],
   "source": [
    "# NDVI method\n",
    "def create_ndvi_image(tile_key, start_date, end_date, product_id):\n",
    "    import descarteslabs as dl\n",
    "\n",
    "    # Import Catalog module methods\n",
    "    from descarteslabs.catalog import Image, Product, properties as p\n",
    "\n",
    "    # Get DLTile GeoContext for AOI\n",
    "    dltile = dl.geo.DLTile.from_key(tile_key)\n",
    "\n",
    "    # Find Sentinel-2 imagery over AOI\n",
    "    print(\"Searching for imagery\")\n",
    "    images = (\n",
    "        Product.get(\"esa:sentinel-2:l2a:v1\")\n",
    "        .images()\n",
    "        .intersects(dltile)\n",
    "        .filter(start_date < p.acquired <= end_date)\n",
    "        .filter(p.cloud_fraction < 0.1)\n",
    "    ).collect()\n",
    "    print(f\"Found {len(images)} images\")\n",
    "\n",
    "    # Create stack of red and nir bands for NDVI calc\n",
    "    mosaic, raster_info = images.mosaic([\"nir\", \"red\"], raster_info=True)\n",
    "\n",
    "    nir = mosaic[0]\n",
    "    red = mosaic[1]\n",
    "\n",
    "    # Calculate NDVI\n",
    "    print(\"Calculating NDVI\")\n",
    "    ndvi = (nir - red) / (nir + red)\n",
    "\n",
    "    # Create image for upload\n",
    "    ndvi_image = Image(\n",
    "        name=tile_key.replace(\":\", \"_\"),\n",
    "        geometry=dltile.geometry,\n",
    "        product_id=product_id,\n",
    "        acquired=end_date,\n",
    "    )\n",
    "\n",
    "    # Upload image to catalog product\n",
    "    upload = ndvi_image.upload_ndarray(ndvi, raster_meta=raster_info, overwrite=True)\n",
    "\n",
    "    print(\"NDVI image upload ID:\", upload.id)\n",
    "\n",
    "    upload.wait_for_completion()\n",
    "\n",
    "    print(\"NDVI image ID:\", ndvi_image.id)\n",
    "\n",
    "    return ndvi_image.id"
   ]
  },
  {
   "cell_type": "markdown",
   "id": "1427b2d2",
   "metadata": {},
   "source": [
    "### Local Iteration\n",
    "Now that we have our function, let's define our AOI to calculate NDVI over. Here we'll read in a local geojson file as a geodataframe:"
   ]
  },
  {
   "cell_type": "code",
   "execution_count": null,
   "id": "48ae1be1-cc3d-46c7-a9d7-12b7c291158c",
   "metadata": {
    "tags": []
   },
   "outputs": [],
   "source": [
    "import geopandas as gpd\n",
    "\n",
    "yak = gpd.read_file(\"../catalog/data/yakima.geojson\")\n",
    "yak.plot(figsize=(5, 5))"
   ]
  },
  {
   "cell_type": "markdown",
   "id": "be3a463c-1ef5-415d-a387-6c149085ccc3",
   "metadata": {},
   "source": [
    "Next we will create a list of tiles from our input geometry by [`DLTile.from_shape()`](https://docs.descarteslabs.com/descarteslabs/geo/readme.html#descarteslabs.geo.DLTile):"
   ]
  },
  {
   "cell_type": "code",
   "execution_count": null,
   "id": "7dbaf1ae-26b2-49a7-8d03-3b229ce0053c",
   "metadata": {
    "tags": []
   },
   "outputs": [],
   "source": [
    "# Create bounding box to get DLTiles over\n",
    "# Create DLTile GeoContext objects to iterate over for NDVI function\n",
    "dltiles = dl.geo.DLTile.from_shape(\n",
    "    yak.iloc[0][\"geometry\"], resolution=10.0, tilesize=4096, pad=0  # 30 meters\n",
    ")\n",
    "# Get list of DLTile keys\n",
    "dltile_keys = [tile.key for tile in dltiles]\n",
    "\n",
    "print(\"Number of DLTiles: \", len(dltiles))\n",
    "print(\"Single DLTile example: \")\n",
    "print(dltiles[0])"
   ]
  },
  {
   "cell_type": "markdown",
   "id": "fc6c4ebd-cd28-439f-b2d3-47942612e853",
   "metadata": {},
   "source": [
    "### Testing the Function\n",
    "Let's test the NDVI method locally and see the images uploaded to the Catalog product we created:"
   ]
  },
  {
   "cell_type": "code",
   "execution_count": null,
   "id": "e4d51058-7b31-46fb-902d-930080d80983",
   "metadata": {
    "tags": []
   },
   "outputs": [],
   "source": [
    "# Submit request for NDVI image upload\n",
    "image_id = create_ndvi_image(\n",
    "    dltile_keys[0], product_id=product.id, start_date=start_date, end_date=end_date\n",
    ")"
   ]
  },
  {
   "cell_type": "markdown",
   "id": "135cfa88-de01-4b46-854f-2f7d191d90b3",
   "metadata": {},
   "source": [
    "Now that we've completed the first tile's upload locally, we should see a single image returned in our new product:"
   ]
  },
  {
   "cell_type": "code",
   "execution_count": null,
   "id": "47cba90d-4f83-40ed-ad19-cb885a7b030f",
   "metadata": {
    "tags": []
   },
   "outputs": [],
   "source": [
    "image = Image.get(image_id)\n",
    "ndarr = image.ndarray(\"ndvi\")\n",
    "dl.utils.display(ndarr, size=5)"
   ]
  },
  {
   "cell_type": "markdown",
   "id": "61b4726a-a914-42af-a8cd-8868f31dba13",
   "metadata": {},
   "source": [
    "Note that our resulting ndarray is of the same shape as our DLTile!"
   ]
  },
  {
   "cell_type": "code",
   "execution_count": null,
   "id": "be8b111f",
   "metadata": {
    "tags": []
   },
   "outputs": [],
   "source": [
    "ndarr.shape"
   ]
  },
  {
   "cell_type": "markdown",
   "id": "56861e49",
   "metadata": {},
   "source": [
    "### Create Compute Function\n",
    "Now that we're happy with the results of our locally-run function, we can now create our Batch Compute Function. Here we will create a new Function object by passing in our Python function as the first input argument, with the following keyword arguments:\n",
    "* __name__\n",
    "* __image__, which should always be __python3.X:latest__ corresponding to your environment\n",
    "* __cpus__, number of CPUs\n",
    "* __memory__\n",
    "* __timeout__, in seconds\n",
    "* __maximum_concurrency__, or number of parallel Jobs running at a time\n",
    "* __retry_count__, number of times to retry failed Jobs\n",
    "\n",
    "For more information on __memory__ and __cpu__ combinations visit our [Documentation page](https://docs.descarteslabs.com/guides/quota.html)"
   ]
  },
  {
   "cell_type": "code",
   "execution_count": null,
   "id": "fe09ee40",
   "metadata": {
    "tags": []
   },
   "outputs": [],
   "source": [
    "async_func = Function(\n",
    "    create_ndvi_image,\n",
    "    name=\"NDVI Yakima County\",\n",
    "    image=\"python3.9:latest\",\n",
    "    cpus=0.25,\n",
    "    memory=512,\n",
    "    timeout=600,\n",
    "    maximum_concurrency=25,\n",
    "    retry_count=2,\n",
    ")\n",
    "async_func.save()"
   ]
  },
  {
   "cell_type": "code",
   "execution_count": null,
   "id": "ba575ea2-cdd2-4c93-940b-4d18666527e2",
   "metadata": {
    "tags": []
   },
   "outputs": [],
   "source": [
    "async_func.id"
   ]
  },
  {
   "cell_type": "markdown",
   "id": "aa76b143",
   "metadata": {},
   "source": [
    "### Submit Individual Jobs to Compute\n",
    "\n",
    "Now that we have a Function built, we can test submitting a Job. \n",
    "\n",
    "First, we'll generate our argument to pass into our Function:"
   ]
  },
  {
   "cell_type": "code",
   "execution_count": null,
   "id": "cd92bfa6",
   "metadata": {
    "tags": []
   },
   "outputs": [],
   "source": [
    "# Get the DLTile key for the first tile\n",
    "key = dltiles[0].key"
   ]
  },
  {
   "cell_type": "markdown",
   "id": "1e093a1a-ad9c-4ea7-a787-b0502887c06d",
   "metadata": {},
   "source": [
    "Next we will create a single Job object by passing in our Function ID and args:"
   ]
  },
  {
   "cell_type": "code",
   "execution_count": null,
   "id": "a5cb8ab9",
   "metadata": {
    "tags": []
   },
   "outputs": [],
   "source": [
    "# Create the job function\n",
    "job = async_func(key, start_date, end_date, product.id)"
   ]
  },
  {
   "cell_type": "markdown",
   "id": "7430245d-9cc8-4680-91ae-4c0637d502e1",
   "metadata": {},
   "source": [
    "We can [`wait_for_completion()`](https://docs.descarteslabs.com/descarteslabs/compute/readme.html#descarteslabs.compute.Job.wait_for_completion) programmatically if we choose. Note that it will take some time between creating the Function above, and completion of the first job."
   ]
  },
  {
   "cell_type": "markdown",
   "id": "2b94f693-9228-4914-9362-e7c1b0b50131",
   "metadata": {
    "tags": []
   },
   "source": [
    "    job.wait_for_completion()"
   ]
  },
  {
   "cell_type": "markdown",
   "id": "6919c25f-3f62-4c79-ad6a-4a34ad84e507",
   "metadata": {},
   "source": [
    "Or visit our [Compute Monitor](https://app.descarteslabs.com/compute) to track our Function's progress."
   ]
  },
  {
   "cell_type": "markdown",
   "id": "9d9bb1aa",
   "metadata": {},
   "source": [
    "### Submit Multiple Jobs\n",
    "We can also submit multiple jobs to the same function. This is the most typical pattern for creating and running large numbers of jobs, and is more efficient than creating jobs one by one, unless there is non-trivial computation required to generate the arguments to your Function."
   ]
  },
  {
   "cell_type": "code",
   "execution_count": null,
   "id": "0f0cce51",
   "metadata": {
    "tags": []
   },
   "outputs": [],
   "source": [
    "## Collect args to submit to Function\n",
    "# Get a list of the DLTile keys\n",
    "dltile_keys = [\n",
    "    [tile.key] for tile in dltiles\n",
    "]  # First iterable argument needs to be list of lists - List[List]"
   ]
  },
  {
   "cell_type": "code",
   "execution_count": null,
   "id": "3bc8f9e0",
   "metadata": {
    "tags": []
   },
   "outputs": [],
   "source": [
    "from itertools import repeat\n",
    "\n",
    "# Submit multiple Jobs using map\n",
    "jobs = async_func.map(\n",
    "    dltile_keys,\n",
    "    repeat(\n",
    "        {\"product_id\": product.id, \"start_date\": start_date, \"end_date\": end_date},\n",
    "        len(dltile_keys),\n",
    "    ),\n",
    ")\n",
    "print(len(jobs))"
   ]
  },
  {
   "cell_type": "markdown",
   "id": "0f704498-6274-4980-bf29-4ebec417092d",
   "metadata": {},
   "source": [
    "### Waiting for Completion\n",
    "Now that we've mapped our arguments to Jobs, we can wait for our Function to complete by either navigating to [app.descarteslabs.com/compute](https://app.descarteslabs.com/compute) or programmatically via:"
   ]
  },
  {
   "cell_type": "markdown",
   "id": "9a329d2f-9ec5-44da-9289-f9e002612bc4",
   "metadata": {},
   "source": [
    "    for job in async_func.as_completed(jobs):\n",
    "        print(job.result())"
   ]
  },
  {
   "cell_type": "markdown",
   "id": "ee61dc93",
   "metadata": {},
   "source": [
    "or:"
   ]
  },
  {
   "cell_type": "markdown",
   "id": "3e3b3215-e662-416d-a67e-ea9c7621d88a",
   "metadata": {},
   "source": [
    "    async_func.wait_for_completion()"
   ]
  },
  {
   "cell_type": "markdown",
   "id": "08a5f8ca",
   "metadata": {},
   "source": [
    "### Verification\n",
    "\n",
    "We can check for successful completion of all jobs, and verify our images exist."
   ]
  },
  {
   "cell_type": "code",
   "execution_count": null,
   "id": "223d8cd4",
   "metadata": {},
   "outputs": [],
   "source": [
    "async_func.refresh(include=\"job.statistics\")\n",
    "print(async_func.job_statistics)\n",
    "print(product.images().count())"
   ]
  },
  {
   "cell_type": "markdown",
   "id": "34fdc508",
   "metadata": {},
   "source": [
    "### Cleaning up\n",
    "\n",
    "When we are done, it is always good hygiene to clean up!"
   ]
  },
  {
   "cell_type": "code",
   "execution_count": null,
   "id": "5a69788b",
   "metadata": {},
   "outputs": [],
   "source": [
    "# remove function and jobs\n",
    "async_func.delete_jobs(delete_results=True)\n",
    "async_func.delete()\n",
    "\n",
    "# remove product and images\n",
    "task = product.delete_related_objects()\n",
    "if task:\n",
    "    task.wait_for_completion()\n",
    "product.delete()"
   ]
  },
  {
   "cell_type": "code",
   "execution_count": null,
   "id": "b91a2492-9a12-486e-a9cd-c629baad7bee",
   "metadata": {},
   "outputs": [],
   "source": []
  }
 ],
 "metadata": {
  "kernelspec": {
   "display_name": "Python 3 (ipykernel)",
   "language": "python",
   "name": "python3"
  },
  "language_info": {
   "codemirror_mode": {
    "name": "ipython",
    "version": 3
   },
   "file_extension": ".py",
   "mimetype": "text/x-python",
   "name": "python",
   "nbconvert_exporter": "python",
   "pygments_lexer": "ipython3",
   "version": "3.9.18"
  }
 },
 "nbformat": 4,
 "nbformat_minor": 5
}

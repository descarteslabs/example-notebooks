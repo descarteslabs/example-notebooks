{
 "cells": [
  {
   "cell_type": "markdown",
   "id": "2fe7ee39",
   "metadata": {},
   "source": [
    "# Creating new Product Images with Compute\n",
    "__________________\n",
    "\n",
    "The Compute module provides scalable compute capabilities to parallelize your computations. Compute enables users to package and execute your Python code within nodes hosted on Descartes Lab's cloud infrastructure. These nodes offer the ability to access imagery at extremely high rates of throughput to execute computations over nearly any spatio-temporal scale. \n",
    "\n",
    "In this example notebook, we will create a [**Function**](https://docs.descarteslabs.com/descarteslabs/compute/readme.html#descarteslabs.compute.Function) to calculate and create an NDVI product from Sentinel-2 L2A imagery then test it over Yakima County in Washington. The Yakima Valley contains ~75% of the total US hop acreage. \n",
    "\n",
    "First, we'll start by importing the descarteslabs Python client and the compute module."
   ]
  },
  {
   "cell_type": "code",
   "execution_count": null,
   "id": "fc6ae10a",
   "metadata": {
    "tags": []
   },
   "outputs": [],
   "source": [
    "import descarteslabs as dl\n",
    "from descarteslabs.catalog import Product, SpectralBand, properties as p"
   ]
  },
  {
   "cell_type": "code",
   "execution_count": null,
   "id": "7abc9b02",
   "metadata": {
    "tags": []
   },
   "outputs": [],
   "source": [
    "from descarteslabs.compute import Function, Job"
   ]
  },
  {
   "cell_type": "markdown",
   "id": "720f8823",
   "metadata": {},
   "source": [
    "Now that we have the compute module, let's look at the primary objects we'll be working with: Function and Jobs.\n",
    " * **Function:** dynamically created, serverless functions containing user submitted, compiled code that you can submit many jobs to.\n",
    " * **Job:** submitted request for a single invocation of a created Function. \n",
    " \n",
    "As a hands-on example, we'll create a local method to search for Sentinel-2 imagery over a given AOI, calculate NDVI from the red and near-infrared bands, and upload the NDVI image to our catalog product using our Catalog module. Then, we'll create a **Function** containing the NDVI method. "
   ]
  },
  {
   "cell_type": "markdown",
   "id": "22f5a781-8b6a-45bf-a597-4a8cd1162ecb",
   "metadata": {},
   "source": [
    "First, we'll create an empty `Product` to write our results in to, including a `Class Band`:"
   ]
  },
  {
   "cell_type": "code",
   "execution_count": null,
   "id": "95dce2b5-a37a-4fa5-a728-36255f169ce2",
   "metadata": {
    "tags": []
   },
   "outputs": [],
   "source": [
    "# Add Unique ID to prevent conflicting products across your organization\n",
    "from uuid import uuid4\n",
    "\n",
    "# Get your org for namespace\n",
    "org = dl.auth.Auth().payload[\"org\"]\n",
    "# Create NDVI Catalog product\n",
    "product = Product.get_or_create(\n",
    "    id=f\"{org}:sentinel-2_ndvi-{uuid4()}\",\n",
    "    name=\"Sentinel-2 L2A NDVI\",\n",
    ")\n",
    "product.save()"
   ]
  },
  {
   "cell_type": "code",
   "execution_count": null,
   "id": "377ebf58",
   "metadata": {
    "tags": []
   },
   "outputs": [],
   "source": [
    "# Create NDVI band for product\n",
    "band = SpectralBand(\n",
    "    product=product,\n",
    "    name=\"ndvi\",\n",
    "    band_index=0,\n",
    "    data_type=\"Float64\",\n",
    "    nodata=0,\n",
    "    data_range=(0.0, 1.0),\n",
    "    display_range=(0.0, 0.4),\n",
    ")\n",
    "band.save()\n",
    "print(f\"Saved {band}\")"
   ]
  },
  {
   "cell_type": "code",
   "execution_count": null,
   "id": "8849bb0e",
   "metadata": {
    "tags": []
   },
   "outputs": [],
   "source": [
    "print(\"Product status: \", product.state)  # check that product is 'saved'\n",
    "print(\"Product ID: \", product.id)  # Get product ID that we will pass to function later"
   ]
  },
  {
   "cell_type": "markdown",
   "id": "d2e60f61-4065-430b-acf6-e7103c2d2693",
   "metadata": {},
   "source": [
    "Next we'll define our Python function to wrap into a `Compute Function` below:"
   ]
  },
  {
   "cell_type": "code",
   "execution_count": null,
   "id": "5429efb9",
   "metadata": {
    "tags": []
   },
   "outputs": [],
   "source": [
    "# NDVI method\n",
    "def create_ndvi_image(tile_key, start_date, end_date, product_id):\n",
    "    import descarteslabs as dl\n",
    "\n",
    "    # Import Catalog module methods\n",
    "    from descarteslabs.catalog import Image, Product, properties as p\n",
    "\n",
    "    # Get DLTile GeoContext for AOI\n",
    "    dltile = dl.geo.DLTile.from_key(tile_key)\n",
    "\n",
    "    # Find Sentinel-2 imagery over AOI\n",
    "    print(\"Searching for imagery\")\n",
    "    images = (\n",
    "        Product.get(\"esa:sentinel-2:l2a:v1\")\n",
    "        .images()\n",
    "        .intersects(dltile)\n",
    "        .filter(start_date < p.acquired <= end_date)\n",
    "        .filter(p.cloud_fraction < 0.1)\n",
    "    ).collect()\n",
    "    print(f\"Found {len(images)} images\")\n",
    "\n",
    "    # Create stack of red and nir bands for NDVI calc\n",
    "    mosaic, raster_info = images.mosaic([\"nir\", \"red\"], raster_info=True)\n",
    "\n",
    "    nir = mosaic[0]\n",
    "    red = mosaic[1]\n",
    "\n",
    "    # Calculate NDVI\n",
    "    print(\"Calculating NDVI\")\n",
    "    ndvi = (nir - red) / (nir + red)\n",
    "\n",
    "    # Create image for upload\n",
    "    ndvi_image = Image(\n",
    "        name=tile_key.replace(\":\", \"_\"),\n",
    "        geometry=dltile.geometry,\n",
    "        product_id=product_id,\n",
    "        acquired=end_date,\n",
    "    )\n",
    "\n",
    "    # Upload image to catalog product\n",
    "    upload = ndvi_image.upload_ndarray(ndvi, raster_meta=raster_info, overwrite=True)\n",
    "    print(\"NDVI image upload ID:\", upload.id)\n",
    "\n",
    "    return upload.id"
   ]
  },
  {
   "cell_type": "markdown",
   "id": "1427b2d2",
   "metadata": {},
   "source": [
    "### Define AOI: Yakima County, Washington state\n",
    "Now that we have our function, let's define our AOI to calculate NDVI over."
   ]
  },
  {
   "cell_type": "code",
   "execution_count": null,
   "id": "48ae1be1-cc3d-46c7-a9d7-12b7c291158c",
   "metadata": {
    "tags": []
   },
   "outputs": [],
   "source": [
    "import geopandas as gpd\n",
    "\n",
    "# Get Yakima County Zip File\n",
    "yak = gpd.read_file(\"../catalog/data/yakima.geojson\")\n",
    "# Collect bounds for Yakima county\n",
    "minx, miny, maxx, maxy = yak.total_bounds"
   ]
  },
  {
   "cell_type": "code",
   "execution_count": null,
   "id": "c596e679",
   "metadata": {
    "tags": []
   },
   "outputs": [],
   "source": [
    "from shapely.geometry import box\n",
    "\n",
    "# Create bounding box to get DLTiles over\n",
    "bbox = box(minx, miny, maxx, maxy)\n",
    "# Create DLTile GeoContext objects to iterate over for NDVI function\n",
    "dltiles = dl.geo.DLTile.from_shape(\n",
    "    bbox, resolution=30, tilesize=256, pad=0  # 30 meters\n",
    ")\n",
    "# Get list of DLTile keys\n",
    "dltile_keys = [tile.key for tile in dltiles]\n",
    "\n",
    "print(\"Number of DLTiles: \", len(dltiles))\n",
    "print(\"Single DLTile example: \")\n",
    "print(dltiles[0])"
   ]
  },
  {
   "cell_type": "markdown",
   "id": "85e2a72a",
   "metadata": {},
   "source": [
    "### Testing function\n",
    "Let's test the NDVI method locally and see the images uploaded to the Catalog product we created."
   ]
  },
  {
   "cell_type": "code",
   "execution_count": null,
   "id": "6e100a98",
   "metadata": {
    "tags": []
   },
   "outputs": [],
   "source": [
    "# Test start and end dates\n",
    "start_date = \"2021-06-01\"\n",
    "end_date = \"2021-06-15\"\n",
    "# Submit request for NDVI image upload\n",
    "ndvi_test = create_ndvi_image(\n",
    "    dltile_keys[0], product_id=product.id, start_date=start_date, end_date=end_date\n",
    ")"
   ]
  },
  {
   "cell_type": "code",
   "execution_count": null,
   "id": "4e5d9222",
   "metadata": {
    "tags": []
   },
   "outputs": [],
   "source": [
    "# Compare upload ID\n",
    "product.image_uploads().collect()\n",
    "# Check if new images are in Catalog product\n",
    "img = product.images().filter(start_date < p.acquired <= end_date).collect()\n",
    "img"
   ]
  },
  {
   "cell_type": "code",
   "execution_count": null,
   "id": "be8b111f",
   "metadata": {
    "tags": []
   },
   "outputs": [],
   "source": [
    "test_arr = img[0].ndarray(\"ndvi\")\n",
    "test_arr.shape"
   ]
  },
  {
   "cell_type": "code",
   "execution_count": null,
   "id": "1c2322e0",
   "metadata": {
    "tags": []
   },
   "outputs": [],
   "source": [
    "# Plot example of image\n",
    "dl.utils.display(test_arr, title=\"NDVI test\", size=5, colormap=\"viridis\")"
   ]
  },
  {
   "cell_type": "markdown",
   "id": "56861e49",
   "metadata": {},
   "source": [
    "### Create Compute function\n"
   ]
  },
  {
   "cell_type": "code",
   "execution_count": null,
   "id": "fe09ee40",
   "metadata": {
    "tags": []
   },
   "outputs": [],
   "source": [
    "async_func = Function(\n",
    "    create_ndvi_image,\n",
    "    name=\"NDVI-from-sentinel\",\n",
    "    image=\"python3.9:latest\",\n",
    "    cpus=1,\n",
    "    memory=2,\n",
    "    timeout=60 * 10,  # in seconds ~ currently 10 min # Must be less than 900\n",
    "    maximum_concurrency=25,\n",
    "    retry_count=2,\n",
    ")\n",
    "async_func.save()"
   ]
  },
  {
   "cell_type": "code",
   "execution_count": null,
   "id": "ba575ea2-cdd2-4c93-940b-4d18666527e2",
   "metadata": {
    "tags": []
   },
   "outputs": [],
   "source": [
    "async_func.id"
   ]
  },
  {
   "cell_type": "markdown",
   "id": "aa76b143",
   "metadata": {},
   "source": [
    "### Submit jobs to Compute function\n",
    "\n",
    "Now that we have a function built, we can test submitting Jobs. First, we'll submit a single job by creating a `compute.Job` object and wait for it to complete."
   ]
  },
  {
   "cell_type": "code",
   "execution_count": null,
   "id": "ae3e6a0a",
   "metadata": {
    "tags": []
   },
   "outputs": [],
   "source": [
    "async_func = Function.get(id=async_func.id)\n",
    "async_func"
   ]
  },
  {
   "cell_type": "code",
   "execution_count": null,
   "id": "cd92bfa6",
   "metadata": {
    "tags": []
   },
   "outputs": [],
   "source": [
    "# Get the DLTile key for the first tile\n",
    "key = dltiles[0].key\n",
    "# Set a start_date and end_date\n",
    "start_date = \"2021-06-01\"\n",
    "end_date = \"2021-06-15\""
   ]
  },
  {
   "cell_type": "code",
   "execution_count": null,
   "id": "a5cb8ab9",
   "metadata": {
    "tags": []
   },
   "outputs": [],
   "source": [
    "# Create the job function\n",
    "job = Job(async_func.id, args=[key, start_date, end_date, product.id])\n",
    "job.save()"
   ]
  },
  {
   "cell_type": "code",
   "execution_count": null,
   "id": "3cd215ad",
   "metadata": {
    "tags": []
   },
   "outputs": [],
   "source": [
    "%timeit job.wait_for_completion()"
   ]
  },
  {
   "cell_type": "code",
   "execution_count": null,
   "id": "73cf1cf3",
   "metadata": {
    "tags": []
   },
   "outputs": [],
   "source": [
    "# Look at the results of this product\n",
    "job.log()"
   ]
  },
  {
   "cell_type": "markdown",
   "id": "5d130148",
   "metadata": {},
   "source": [
    "#### Plot example image"
   ]
  },
  {
   "cell_type": "code",
   "execution_count": null,
   "id": "f2c6ba80",
   "metadata": {
    "tags": []
   },
   "outputs": [],
   "source": [
    "# Check if new images are in Catalog product\n",
    "job_image = product.images().filter(start_date < p.acquired <= end_date).collect()\n",
    "job_image\n",
    "\n",
    "job_arr = job_image[0].ndarray(\"ndvi\")\n",
    "job_arr.shape\n",
    "\n",
    "# Plot example of image\n",
    "dl.utils.display(job_arr, title=\"Job array\", size=5, colormap=\"viridis\")"
   ]
  },
  {
   "cell_type": "markdown",
   "id": "9d9bb1aa",
   "metadata": {},
   "source": [
    "### Submit multiple jobs\n",
    "We can also submit multiple jobs to the same function."
   ]
  },
  {
   "cell_type": "markdown",
   "id": "10a9a876",
   "metadata": {},
   "source": [
    "### Submit many jobs using `Function.map()`"
   ]
  },
  {
   "cell_type": "code",
   "execution_count": null,
   "id": "4c60a060",
   "metadata": {
    "tags": []
   },
   "outputs": [],
   "source": [
    "func = Function.get(id=async_func.id)\n",
    "func"
   ]
  },
  {
   "cell_type": "markdown",
   "id": "14963f09",
   "metadata": {},
   "source": [
    "##### Create dictionary of arguments to pass as Jobs\n"
   ]
  },
  {
   "cell_type": "code",
   "execution_count": null,
   "id": "ca45c583",
   "metadata": {
    "tags": []
   },
   "outputs": [],
   "source": [
    "# Convenience function for building kwarg dict\n",
    "def get_bulk_kwargs(jobs, **kwargs):\n",
    "    bulk_kwargs = []\n",
    "    for _ in range(jobs):\n",
    "        bulk_kwargs.append(dict(kwargs))\n",
    "\n",
    "    return bulk_kwargs"
   ]
  },
  {
   "cell_type": "code",
   "execution_count": null,
   "id": "0f0cce51",
   "metadata": {
    "tags": []
   },
   "outputs": [],
   "source": [
    "## Collect args to submit to Function\n",
    "# Get a list of the DLTile keys\n",
    "dltile_keys = [\n",
    "    [tile.key] for tile in dltiles\n",
    "]  # First iterable argument needs to be list of lists - List[List]\n",
    "# Test start and end dates\n",
    "start_date = \"2021-06-01\"\n",
    "end_date = \"2021-06-15\"\n",
    "\n",
    "# Build kwarg dict\n",
    "kwargs = get_bulk_kwargs(\n",
    "    len(dltiles), start_date=start_date, end_date=end_date, product_id=product.id\n",
    ")\n",
    "print(\"Example of Key word args\")\n",
    "kwargs[0:5]"
   ]
  },
  {
   "cell_type": "code",
   "execution_count": null,
   "id": "3bc8f9e0",
   "metadata": {
    "tags": []
   },
   "outputs": [],
   "source": [
    "# Submit multiple Jobs using map\n",
    "jobs = func.map(dltile_keys, kwargs)"
   ]
  },
  {
   "cell_type": "markdown",
   "id": "1c193f2b",
   "metadata": {},
   "source": [
    "Once these jobs have completed, results can be received by iterating through the jobs associated with our Function object. "
   ]
  },
  {
   "cell_type": "code",
   "execution_count": null,
   "id": "28350365",
   "metadata": {
    "tags": []
   },
   "outputs": [],
   "source": [
    "# Get results\n",
    "statuses = {}\n",
    "\n",
    "for j in async_func.jobs:\n",
    "    stat = j.status\n",
    "    if stat in statuses:\n",
    "        job_info = {\"id\": j.id, \"result\": j.result}\n",
    "        statuses[stat].append(j.id)\n",
    "    else:\n",
    "        statuses[stat] = [{\"id\": j.id, \"result\": j.result}]"
   ]
  },
  {
   "cell_type": "markdown",
   "id": "d060d6eb",
   "metadata": {},
   "source": [
    "### Submit Multiple jobs by creating multiple Job objects\n",
    "\n",
    "Jobs can also be create directly and will be executed once the object is saved. I.e., `job.save()`"
   ]
  },
  {
   "cell_type": "code",
   "execution_count": null,
   "id": "1783c1f7",
   "metadata": {
    "tags": []
   },
   "outputs": [],
   "source": [
    "jobs = []\n",
    "for key in dltile_keys:\n",
    "    j = Job(async_func.id, args=[key, \"2022-06-01\", \"2022-06-30\", product.id])\n",
    "    j.save()\n",
    "    jobs.append(j)"
   ]
  },
  {
   "cell_type": "code",
   "execution_count": null,
   "id": "d64ec40d",
   "metadata": {},
   "outputs": [],
   "source": [
    "async_func.wait_for_completion()"
   ]
  },
  {
   "cell_type": "markdown",
   "id": "76f7b14b",
   "metadata": {},
   "source": [
    "## Finding previous `Functions`\n",
    "\n",
    "Until the Compute Monitor is finalized, we will need to search for previous functions programmatically."
   ]
  },
  {
   "cell_type": "code",
   "execution_count": null,
   "id": "9ef05ec7",
   "metadata": {
    "tags": []
   },
   "outputs": [],
   "source": [
    "# Get active functions by specifying the \"running\" status\n",
    "active_funcs = [{\"name\": f.name, \"id\": f.id} for f in Function.list(status=\"running\")]\n",
    "active_funcs"
   ]
  },
  {
   "cell_type": "code",
   "execution_count": null,
   "id": "0f948165",
   "metadata": {
    "tags": []
   },
   "outputs": [],
   "source": [
    "# Filter Functions by name prefixes\n",
    "funcs = Function.list()\n",
    "ndvi_funcs = [f.name for f in funcs if f.name.startswith(\"NDVI\")]\n",
    "ndvi_funcs"
   ]
  },
  {
   "cell_type": "code",
   "execution_count": null,
   "id": "141a1d96-5d2a-4cc5-b0c2-6bbc7e4b5eec",
   "metadata": {},
   "outputs": [],
   "source": []
  }
 ],
 "metadata": {
  "kernelspec": {
   "display_name": "Python 3 (ipykernel)",
   "language": "python",
   "name": "python3"
  },
  "language_info": {
   "codemirror_mode": {
    "name": "ipython",
    "version": 3
   },
   "file_extension": ".py",
   "mimetype": "text/x-python",
   "name": "python",
   "nbconvert_exporter": "python",
   "pygments_lexer": "ipython3",
   "version": "3.8.16"
  }
 },
 "nbformat": 4,
 "nbformat_minor": 5
}

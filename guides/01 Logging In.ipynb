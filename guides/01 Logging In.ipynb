{
 "cells": [
  {
   "cell_type": "markdown",
   "id": "06b47845-b448-4f3b-a197-ccd9f0de68ee",
   "metadata": {
    "tags": []
   },
   "source": [
    "# Initial Setup\n",
    "__________________\n",
    "\n",
    "Welcome to Descartes Labs!\n",
    "\n",
    "This notebook will walk you through a _one-time_ initialization step so that you can access the Descartes Labs APIs and services. __*Note:*__ You only need to run these steps once! You will not need to repeat them upon subsequent logins.\n",
    "\n",
    "Most of the time, once your client is installed onto your Python environment, you can [authenticate through the CLI helper](https://docs.descarteslabs.com/authentication.html) by running:\n",
    "\n",
    "    descarteslabs auth login\n",
    "\n",
    "Below we will provide an example of how to generate these credentials through the Python client:"
   ]
  },
  {
   "cell_type": "markdown",
   "id": "1be4e68f-6aed-470a-a973-da7ade17bf20",
   "metadata": {
    "tags": []
   },
   "source": [
    "1) Log in to [IAM](https://iam.descarteslabs.com/) with your connected account or username/password."
   ]
  },
  {
   "cell_type": "markdown",
   "id": "c5d9617a-cff9-4155-b679-6cbc442a8726",
   "metadata": {},
   "source": [
    "2) Run the next cell by clicking within it and typing **Shift+Enter**. Open the presented [hyperlink](https://iam.production.aws.descarteslabs.com/auth/refresh_token) and copy the token* from the newly opened window. Paste the token into the prompted text box and press **Enter**.\n",
    "\n",
    "_(Make sure to copy all characters, including \"=\"s)_*"
   ]
  },
  {
   "cell_type": "code",
   "execution_count": null,
   "id": "2f72b40d-f07f-4338-8509-72bd23b06d1f",
   "metadata": {
    "tags": []
   },
   "outputs": [],
   "source": [
    "import descarteslabs\n",
    "import descarteslabs.core.client.auth.cli as cli\n",
    "\n",
    "o = descarteslabs.core.common.dotdict.DotDict()\n",
    "o.command = \"login\"\n",
    "cli.LOGIN_URL = \"https://iam.production.aws.descarteslabs.com/auth/refresh_token\"\n",
    "cli.auth_handler(o)"
   ]
  },
  {
   "cell_type": "markdown",
   "id": "8e2935d5-05fa-47b0-b646-8cb8c35b9e22",
   "metadata": {},
   "source": [
    "4) If this was successful, you should be prompted **\"Welcome, [Your Name or Email]\"** after running the commands above."
   ]
  },
  {
   "cell_type": "markdown",
   "id": "2f3fe695-ebd8-40f7-87d2-72c18f1143bb",
   "metadata": {},
   "source": [
    "You can access your account details at any time through the [`Authentication`](https://docs.descarteslabs.com/descarteslabs/auth/readme.html) module, as in the below example:"
   ]
  },
  {
   "cell_type": "code",
   "execution_count": null,
   "id": "d42fb80a-f9c3-4018-9242-0e771985f45d",
   "metadata": {
    "tags": []
   },
   "outputs": [],
   "source": [
    "from descarteslabs.auth import Auth\n",
    "\n",
    "auth = Auth()\n",
    "\n",
    "org = auth.payload[\"org\"]\n",
    "user_name = auth.payload[\"name\"]\n",
    "user_id = auth.namespace\n",
    "\n",
    "print(f\"Current user name: {user_name}\")\n",
    "print(f\"Current user ID: {user_id}\")\n",
    "print(f\"Current org: {org}\")"
   ]
  },
  {
   "cell_type": "markdown",
   "id": "8f2750f0-d952-4cc9-bcd9-63c63bb67e83",
   "metadata": {},
   "source": [
    "#### If you are having any issues logging in please contact [support@descarteslabs.com](support@descarteslabs.com)"
   ]
  },
  {
   "cell_type": "code",
   "execution_count": null,
   "id": "6ef803f3-b8b4-40ec-8662-a47c787f84be",
   "metadata": {},
   "outputs": [],
   "source": []
  }
 ],
 "metadata": {
  "kernelspec": {
   "display_name": "Python 3 (ipykernel)",
   "language": "python",
   "name": "python3"
  },
  "language_info": {
   "codemirror_mode": {
    "name": "ipython",
    "version": 3
   },
   "file_extension": ".py",
   "mimetype": "text/x-python",
   "name": "python",
   "nbconvert_exporter": "python",
   "pygments_lexer": "ipython3",
   "version": "3.9.18"
  }
 },
 "nbformat": 4,
 "nbformat_minor": 5
}

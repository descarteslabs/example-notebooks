{
 "cells": [
  {
   "cell_type": "markdown",
   "id": "06b47845-b448-4f3b-a197-ccd9f0de68ee",
   "metadata": {
    "tags": []
   },
   "source": [
    "# Initial Setup - Welcome to Descartes Labs!\n",
    "__________________\n",
    "\n",
    "This notebook will walk you through a _one-time_ initialization step so that you can access the Descartes Labs APIs and services. \n",
    "\n",
    "__*Note:*__ You only need to run these steps once! You will not need to repeat them upon subsequent logins."
   ]
  },
  {
   "cell_type": "markdown",
   "id": "1be4e68f-6aed-470a-a973-da7ade17bf20",
   "metadata": {
    "tags": []
   },
   "source": [
    "## Option 1: Command Line Interface\n",
    "In most cases once your client is installed into your Python environment you can [authenticate through the CLI helper](https://docs.descarteslabs.com/authentication.html) by running the following command in an opened terminal:\n",
    "\n",
    "    descarteslabs auth login\n"
   ]
  },
  {
   "cell_type": "markdown",
   "id": "0d287c45-b332-42e5-b014-f3c6687218e5",
   "metadata": {
    "tags": []
   },
   "source": [
    "## Option 2: Python Interface\n",
    "If you are unable to run the CLI, below is an example code snippet of how to authenticate via the Python client:\n",
    "1. Log in to [IAM](https://iam.descarteslabs.com/) with your connected account or username/password\n",
    "2. Run the next cell by clicking within it and typing **Shift+Enter**\n",
    "3. Open the presented [hyperlink](https://iam.production.aws.descarteslabs.com/auth/refresh_token) and copy the token* from the newly opened window\n",
    "4. Paste the token* into the prompted text box and press **Enter**\n",
    "\n",
    "_(Make sure to copy all characters, including \"`=`\"s)_*"
   ]
  },
  {
   "cell_type": "code",
   "execution_count": null,
   "id": "2f72b40d-f07f-4338-8509-72bd23b06d1f",
   "metadata": {
    "tags": []
   },
   "outputs": [],
   "source": [
    "import descarteslabs\n",
    "from descarteslabs.core.client.auth.cli import cli\n",
    "\n",
    "try:\n",
    "    cli([\"login\"])\n",
    "except:\n",
    "    pass"
   ]
  },
  {
   "cell_type": "markdown",
   "id": "602a5eb7-a7f5-4eb0-8d50-aa9a4092f9a1",
   "metadata": {},
   "source": [
    "## You're In!\n",
    "If your account login was successful you should be prompted **\"Welcome, [Your Name or Email]\"** after running the commands above. Once authenticated, you are now free to use all of Descartes Labs' Platform APIs!\n",
    "\n",
    "As a quick example, let's take a look at New York City this month:"
   ]
  },
  {
   "cell_type": "code",
   "execution_count": null,
   "id": "6ef803f3-b8b4-40ec-8662-a47c787f84be",
   "metadata": {
    "tags": []
   },
   "outputs": [],
   "source": [
    "import descarteslabs as dl\n",
    "import datetime\n",
    "\n",
    "p = dl.utils.Properties()\n",
    "\n",
    "end = datetime.datetime.today()\n",
    "start = end - datetime.timedelta(weeks=4)\n",
    "\n",
    "nyc = dl.geo.DLTile.from_latlon(40.73, -73.99, tilesize=1024, resolution=10, pad=0)\n",
    "\n",
    "sentinel2 = dl.catalog.Product.get(\"esa:sentinel-2:l2a:v1\")\n",
    "\n",
    "ic = (\n",
    "    sentinel2.images()\n",
    "    .intersects(nyc)\n",
    "    .filter(start < p.acquired < end)\n",
    "    .filter(p.cloud_fraction < 0.3)\n",
    ").collect()\n",
    "\n",
    "rgb = ic.mosaic([\"red\", \"green\", \"blue\"])\n",
    "\n",
    "dl.utils.display(rgb)"
   ]
  },
  {
   "cell_type": "markdown",
   "id": "c76dc0ff-62d9-41ae-8f65-3d57f88cdc6a",
   "metadata": {},
   "source": [
    "## Authentication API\n",
    "You can also access your account details through the [`Authentication`](https://docs.descarteslabs.com/descarteslabs/auth/readme.html) API, as in the below example:"
   ]
  },
  {
   "cell_type": "code",
   "execution_count": null,
   "id": "d42fb80a-f9c3-4018-9242-0e771985f45d",
   "metadata": {
    "tags": []
   },
   "outputs": [],
   "source": [
    "from descarteslabs.auth import Auth\n",
    "\n",
    "auth = Auth()\n",
    "\n",
    "user_id = auth.namespace\n",
    "user_name = auth.payload[\"name\"]\n",
    "org = auth.payload[\"org\"]\n",
    "\n",
    "print(f\"Current user name: {user_name}\")\n",
    "print(f\"Current user ID: {user_id}\")\n",
    "print(f\"Current org: {org}\")"
   ]
  },
  {
   "cell_type": "markdown",
   "id": "43e9aecd-4b49-45e0-bac6-0f9bf3171da9",
   "metadata": {
    "tags": []
   },
   "source": [
    "#### _If you are having any issues logging in please contact [support@descarteslabs.com](support@descarteslabs.com)_"
   ]
  },
  {
   "cell_type": "code",
   "execution_count": null,
   "id": "040d523d-ed34-4d41-b88b-2cbb1f83d433",
   "metadata": {},
   "outputs": [],
   "source": []
  }
 ],
 "metadata": {
  "kernelspec": {
   "display_name": "Python 3 (ipykernel)",
   "language": "python",
   "name": "python3"
  },
  "language_info": {
   "codemirror_mode": {
    "name": "ipython",
    "version": 3
   },
   "file_extension": ".py",
   "mimetype": "text/x-python",
   "name": "python",
   "nbconvert_exporter": "python",
   "pygments_lexer": "ipython3",
   "version": "3.9.18"
  }
 },
 "nbformat": 4,
 "nbformat_minor": 5
}

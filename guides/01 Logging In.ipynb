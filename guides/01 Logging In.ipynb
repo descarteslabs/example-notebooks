{
 "cells": [
  {
   "cell_type": "markdown",
   "id": "06b47845-b448-4f3b-a197-ccd9f0de68ee",
   "metadata": {},
   "source": [
    "# Initial Setup\n",
    "__________________\n",
    "\n",
    "Welcome to Descartes Labs!\n",
    "\n",
    "This notebook will walk you through a one-time initialization step: we need to add your credentials to this environment so that you can access the Descartes Labs APIs. \n",
    "\n",
    "__*Note: You will not need to repeat these steps the next time you log in!*__"
   ]
  },
  {
   "cell_type": "markdown",
   "id": "1be4e68f-6aed-470a-a973-da7ade17bf20",
   "metadata": {
    "tags": []
   },
   "source": [
    "1) __Log in__ to [IAM](https://iam.descarteslabs.com/auth/login?refresh_token=true&destination=/auth/refresh_token) with your connected corporate account or username/password"
   ]
  },
  {
   "cell_type": "markdown",
   "id": "c5d9617a-cff9-4155-b679-6cbc442a8726",
   "metadata": {},
   "source": [
    "2) __Run the next cell__ with `Shift-Enter`, __copy the token__ from the below prompted link, and press `Enter`\n",
    "\n",
    "_(Make sure to include all characters, including \"=\"s)_"
   ]
  },
  {
   "cell_type": "code",
   "execution_count": null,
   "id": "2f72b40d-f07f-4338-8509-72bd23b06d1f",
   "metadata": {
    "tags": []
   },
   "outputs": [],
   "source": [
    "import descarteslabs\n",
    "import descarteslabs.core.client.auth.cli as cli\n",
    "\n",
    "o = descarteslabs.core.common.dotdict.DotDict()\n",
    "o.command = \"login\"\n",
    "cli.LOGIN_URL = \"https://iam.descarteslabs.com/auth/refresh_token\"\n",
    "cli.auth_handler(o)"
   ]
  },
  {
   "cell_type": "markdown",
   "id": "8e2935d5-05fa-47b0-b646-8cb8c35b9e22",
   "metadata": {},
   "source": [
    "4) __Confirmation__ if this was successful, you should see `\"Welcome, [Your Name or Email]\"` after running the commands above\n",
    "\n",
    "You can access your account details at any time through the [`Authentication`](https://docs.descarteslabs.com/descarteslabs/auth/readme.html) module, as in the below example:"
   ]
  },
  {
   "cell_type": "code",
   "execution_count": null,
   "id": "d42fb80a-f9c3-4018-9242-0e771985f45d",
   "metadata": {
    "tags": []
   },
   "outputs": [],
   "source": [
    "from descarteslabs.auth import Auth\n",
    "\n",
    "Auth().payload"
   ]
  },
  {
   "cell_type": "markdown",
   "id": "8f2750f0-d952-4cc9-bcd9-63c63bb67e83",
   "metadata": {},
   "source": [
    "**_If you are having any issues logging in please contact support@descarteslabs.com_**"
   ]
  },
  {
   "cell_type": "code",
   "execution_count": null,
   "id": "41d533ee-fc01-4844-8b3c-4dc41f68ce5d",
   "metadata": {},
   "outputs": [],
   "source": []
  }
 ],
 "metadata": {
  "kernelspec": {
   "display_name": "Python 3 (ipykernel)",
   "language": "python",
   "name": "python3"
  },
  "language_info": {
   "codemirror_mode": {
    "name": "ipython",
    "version": 3
   },
   "file_extension": ".py",
   "mimetype": "text/x-python",
   "name": "python",
   "nbconvert_exporter": "python",
   "pygments_lexer": "ipython3",
   "version": "3.9.18"
  }
 },
 "nbformat": 4,
 "nbformat_minor": 5
}

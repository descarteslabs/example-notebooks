{
 "cells": [
  {
   "cell_type": "markdown",
   "id": "f698197a-c300-4ff9-915c-8738ae7c0662",
   "metadata": {},
   "source": [
    "# Vessel Detection using Sentinel-1 Backscatter and Dynamic Compute\n",
    "\n",
    "Here, we explore an exmaple of using Sentinel-1 backscatter imagery to identity vessel activity near Shanghai, China. \n",
    "\n",
    "### Methodology\n",
    "In this notebook, we use the vertical polarized band, or [`vv`](https://www.earthdata.nasa.gov/data/platforms/space-based-platforms/sentinel-1) from Sentinel-1. The generally steps are as follows:\n",
    "1. Input a start date and end date\n",
    "2. Create a leaflet map over the area of interest\n",
    "3. Create an [`ImageStack`](https://docs.descarteslabs.com/api/dynamic-compute.html#descarteslabs.dynamic_compute.ImageStack) corresponding to all Sentinel-1 imagery over our input date range\n",
    "4. Create a water mask using the mininum `vv` value across the temporal stack of imagery\n",
    "5. Group the stack of imagery by date via [`ImageStack.groupby`](https://docs.descarteslabs.com/api/dynamic-compute.html#descarteslabs.dynamic_compute.ImageStack.groupby), for each date:\n",
    "    * Mask to water\n",
    "    * Mask `vv` band below 0 to identity vessel returns\n",
    "    * Visualize the masked `vv` band"
   ]
  },
  {
   "cell_type": "markdown",
   "id": "be352e27-ee32-4718-b3b7-e47a585a580b",
   "metadata": {},
   "source": [
    "_Imports_"
   ]
  },
  {
   "cell_type": "code",
   "execution_count": null,
   "id": "0a6cd9e8-91c0-41da-86e9-d66ae6c71957",
   "metadata": {
    "tags": []
   },
   "outputs": [],
   "source": [
    "import descarteslabs.dynamic_compute as dc"
   ]
  },
  {
   "cell_type": "markdown",
   "id": "244b656d-4752-4151-aeea-3d88eb549f67",
   "metadata": {},
   "source": [
    "_Start and end dates_"
   ]
  },
  {
   "cell_type": "code",
   "execution_count": null,
   "id": "748deb2b-3c8f-47ae-ba30-fdef590bbe3f",
   "metadata": {
    "tags": []
   },
   "outputs": [],
   "source": [
    "start_date = \"2021-06-01\"\n",
    "end_date = \"2021-07-01\""
   ]
  },
  {
   "cell_type": "markdown",
   "id": "539903d6-d317-4110-b754-260ba1fa9d16",
   "metadata": {},
   "source": [
    "_Set up interactive map frame_"
   ]
  },
  {
   "cell_type": "code",
   "execution_count": null,
   "id": "ab12990a-75ff-47be-9009-5b6842a9cf70",
   "metadata": {
    "tags": []
   },
   "outputs": [],
   "source": [
    "m = dc.map\n",
    "m.zoom = 13\n",
    "m.center = 31.3739, 121.6455"
   ]
  },
  {
   "cell_type": "markdown",
   "id": "6e489b61-6996-4f6a-be56-dcbe36221744",
   "metadata": {},
   "source": [
    "Create an [`ImageStack`](https://docs.descarteslabs.com/api/dynamic-compute.html#descarteslabs.dynamic_compute.ImageStack) using the sigma0 backscatter Product:"
   ]
  },
  {
   "cell_type": "code",
   "execution_count": null,
   "id": "1e971f3e-e8a5-4a0e-8069-450519ecc1cb",
   "metadata": {
    "tags": []
   },
   "outputs": [],
   "source": [
    "sigma0 = dc.ImageStack.from_product_bands(\n",
    "    \"esa:sentinel-1:sigma0v:v1\",\n",
    "    \"vv\", \n",
    "    start_date, \n",
    "    end_date\n",
    ")\n",
    "vv = sigma0.pick_bands(\"vv\")"
   ]
  },
  {
   "cell_type": "markdown",
   "id": "3e17f54b-81ea-4d0f-a284-0458fb7bf786",
   "metadata": {},
   "source": [
    "Define the water mask and `visualize`:"
   ]
  },
  {
   "cell_type": "code",
   "execution_count": null,
   "id": "45f16ff9-f4fb-44e4-9f94-072f5a4d775d",
   "metadata": {
    "tags": []
   },
   "outputs": [],
   "source": [
    "water_mask = vv.min(axis=\"images\") > -12\n",
    "water_mask.visualize(\"Water Mask\", m)"
   ]
  },
  {
   "cell_type": "code",
   "execution_count": null,
   "id": "b9edbd69-e77c-4b31-b5af-a0c2b7ac7e97",
   "metadata": {
    "tags": []
   },
   "outputs": [],
   "source": [
    "m"
   ]
  },
  {
   "cell_type": "markdown",
   "id": "12ea522b-58cc-4295-bbf0-1c9ba17f9ef1",
   "metadata": {},
   "source": [
    "Group our stack by [`ImageStack.groupby`](https://docs.descarteslabs.com/api/dynamic-compute.html#descarteslabs.dynamic_compute.ImageStack.groupby):"
   ]
  },
  {
   "cell_type": "code",
   "execution_count": null,
   "id": "d938f728-e2dc-4991-bfff-8f68fe6d582c",
   "metadata": {
    "tags": []
   },
   "outputs": [],
   "source": [
    "vv_grouped = vv.groupby(lambda image: (image.acquired.year, image.acquired.month, image.acquired.day)).max(axis=\"images\")"
   ]
  },
  {
   "cell_type": "markdown",
   "id": "f9aee16e-e150-4076-9db8-c78628eeb554",
   "metadata": {},
   "source": [
    "For each date, mask to water and below 0, then finally `visualize`:"
   ]
  },
  {
   "cell_type": "code",
   "execution_count": null,
   "id": "cd0294bc-2a52-4acc-9f4c-fb41c8e23fdf",
   "metadata": {
    "tags": []
   },
   "outputs": [],
   "source": [
    "for (year, month, day), vv_per_time in vv_grouped.groups.compute(m.geocontext()):\n",
    "    (vv_per_time\n",
    "     .mask(water_mask)\n",
    "     .mask(vv_per_time < 0)\n",
    "     .visualize(\n",
    "         f\"{year}-{month}-{day}\",\n",
    "         m,\n",
    "         scales=[[-10, 10]],\n",
    "         colormap=\"turbo\",\n",
    "         checkerboard=False,\n",
    "     ))\n",
    "    ## Uncomment below if you want to visualize the input VV band:\n",
    "    # vv_per_time.mask(water_mask).visualize(f\"VV {year}-{month}-{day}\", m)"
   ]
  },
  {
   "cell_type": "code",
   "execution_count": null,
   "id": "cdb5a333-1284-486e-9b77-a895c84af7ea",
   "metadata": {},
   "outputs": [],
   "source": []
  }
 ],
 "metadata": {
  "kernelspec": {
   "display_name": "Python 3 (ipykernel)",
   "language": "python",
   "name": "python3"
  },
  "language_info": {
   "codemirror_mode": {
    "name": "ipython",
    "version": 3
   },
   "file_extension": ".py",
   "mimetype": "text/x-python",
   "name": "python",
   "nbconvert_exporter": "python",
   "pygments_lexer": "ipython3",
   "version": "3.9.18"
  }
 },
 "nbformat": 4,
 "nbformat_minor": 5
}

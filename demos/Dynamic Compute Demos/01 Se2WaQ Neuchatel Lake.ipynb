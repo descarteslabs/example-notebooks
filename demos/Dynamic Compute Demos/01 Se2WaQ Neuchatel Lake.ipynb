{
 "cells": [
  {
   "cell_type": "markdown",
   "id": "ff02c6a0-2399-4338-9f35-5ac1d85af24a",
   "metadata": {
    "tags": []
   },
   "source": [
    "# Water Quality Monitoring with Sentinel-2 with Dynamic Compute\n",
    "\n",
    "Here, we explore an example of using Sentinel-2 [Se2WaQ equations](https://custom-scripts.sentinel-hub.com/custom-scripts/sentinel-2/se2waq/) to assess water quality over Neuchatel Lake near Bern, Switzerland. \n",
    "\n",
    "### Methodology\n",
    "Originally taken from [Miguel Potes et al, 2018](https://piahs.copernicus.org/articles/380/73/2018/), these equations were derived from empirically tuned models fit on _in situ_ data. These results are meant to demonstrate applying a scientific methodology to earth observation data, and not to act as definitive truth to water quality conditions. \n",
    "\n",
    "* **Chlorophyll A** content as mg/m^3:\n",
    "\n",
    "\\begin{equation*}\n",
    "4.26*(GREEN / COASTAL)^{3.94}\n",
    "\\end{equation*} \n",
    "\n",
    "* **Turbidity** as NTU:\n",
    "\n",
    "\\begin{equation*}\n",
    "8.93*(GREEN / COASTAL)-6.39\n",
    "\\end{equation*} \n",
    "\n",
    "### Dynamic Compute\n",
    "\n",
    "Using [`Dynamic Compute`](https://docs.descarteslabs.com/api/dynamic-compute.html), one can quickly iterate on raster analysis methodologies and extend to new geographies on-the-fly. \n",
    "\n",
    "The general steps are as follows:\n",
    "1. Create a [`Mosaic`](https://docs.descarteslabs.com/api/dynamic-compute.html#descarteslabs.dynamic_compute.Mosaic) object referencing Sentinel-2 imagery over the date range in question, alongside the required `band`s\n",
    "2. [`Unpack`](https://docs.descarteslabs.com/api/dynamic-compute.html#descarteslabs.dynamic_compute.Mosaic.unpack_bands) the necessary bands to input to water quality equations (`coastal`, `green`, and `nir`)\n",
    "3. Calculate **NDWI** to define an input water/land mask\n",
    "4. Calculate the relevant Chlorophyll A and Turbidity values with `Dynamic Compute`'s native numpy integration\n",
    "5. [`Visualize`](https://docs.descarteslabs.com/api/dynamic-compute.html#descarteslabs.dynamic_compute.Mosaic.visualize) results on an interactive [leaflet map](https://ipyleaflet.readthedocs.io/en/latest/map_and_basemaps/map.html) to extend the analysis to new geographies"
   ]
  },
  {
   "cell_type": "markdown",
   "id": "a7b55467-9d79-46a7-8d0f-d16f234f2330",
   "metadata": {},
   "source": [
    "_Imports_\n"
   ]
  },
  {
   "cell_type": "code",
   "execution_count": null,
   "id": "a3f09183-2714-4d97-b04d-066abde68342",
   "metadata": {
    "tags": []
   },
   "outputs": [],
   "source": [
    "import descarteslabs.dynamic_compute as dc"
   ]
  },
  {
   "cell_type": "markdown",
   "id": "cbb68547-9d6d-4a84-8b64-2a2dd8f8c9b5",
   "metadata": {},
   "source": [
    "Define a Sentinel-2 [`Mosaic`](https://docs.descarteslabs.com/api/dynamic-compute.html#descarteslabs.dynamic_compute.Mosaic) over our date range:"
   ]
  },
  {
   "cell_type": "code",
   "execution_count": null,
   "id": "8fa60d07-6635-4dcf-a65d-eac46bb60506",
   "metadata": {
    "tags": []
   },
   "outputs": [],
   "source": [
    "mosaic = dc.Mosaic.from_product_bands(\n",
    "    \"esa:sentinel-2:l2a:v1\",\n",
    "    \"coastal-aerosol green nir red blue\",\n",
    "    start_datetime=\"2019-06-28\", \n",
    "    end_datetime=\"2019-06-30\"\n",
    ")"
   ]
  },
  {
   "cell_type": "markdown",
   "id": "ef1962f1-4c09-4d95-8295-437f93b5f51b",
   "metadata": {},
   "source": [
    "[`Unpack`](https://docs.descarteslabs.com/api/dynamic-compute.html#descarteslabs.dynamic_compute.Mosaic.unpack_bands) the coastal, green, and near-infrared bands:"
   ]
  },
  {
   "cell_type": "code",
   "execution_count": null,
   "id": "b5f15c42-603b-44a7-9c01-5c7236203e79",
   "metadata": {
    "tags": []
   },
   "outputs": [],
   "source": [
    "coastal, green, nir = mosaic.unpack_bands(\"coastal-aerosol green nir\")"
   ]
  },
  {
   "cell_type": "markdown",
   "id": "b34ef8ce-35d8-4d5e-acc3-1bd39f3d14bd",
   "metadata": {},
   "source": [
    "Calculate a [Normalized Difference Water Index](https://custom-scripts.sentinel-hub.com/custom-scripts/sentinel-3/ndwi/#:~:text=The%20NDWI%20is%20used%20to,over%2Destimation%20of%20water%20bodies.) to mask out land:"
   ]
  },
  {
   "cell_type": "code",
   "execution_count": null,
   "id": "c92b0747-1824-4c1a-9b7d-a20e1db0d2a7",
   "metadata": {
    "tags": []
   },
   "outputs": [],
   "source": [
    "ndwi = (nir - green)/(nir+green)"
   ]
  },
  {
   "cell_type": "markdown",
   "id": "fc5ccfcf-2591-45cc-a946-b11a2c78fcbe",
   "metadata": {},
   "source": [
    "Caluclate Chlorophyll A content:"
   ]
  },
  {
   "cell_type": "code",
   "execution_count": null,
   "id": "a534b85c-d4c3-4147-804a-ed76d967ae07",
   "metadata": {
    "tags": []
   },
   "outputs": [],
   "source": [
    "chl_a = 4.26*dc.operations.np.power(green/coastal, 3.94)"
   ]
  },
  {
   "cell_type": "markdown",
   "id": "028f1c58-24d9-4592-850e-df508657740a",
   "metadata": {},
   "source": [
    "Calculate Turbidity:"
   ]
  },
  {
   "cell_type": "code",
   "execution_count": null,
   "id": "59a0abb0-4f06-4341-9f4a-7ba6a7bf0a81",
   "metadata": {
    "tags": []
   },
   "outputs": [],
   "source": [
    "turb = 8.93*(green/coastal)-6.39"
   ]
  },
  {
   "cell_type": "markdown",
   "id": "649d9ae0-ec88-49a5-bc48-fc1f6bb151fe",
   "metadata": {},
   "source": [
    "Mask both layers to water:"
   ]
  },
  {
   "cell_type": "code",
   "execution_count": null,
   "id": "ec56d846-1aad-4444-83c0-db7dbd5c28c2",
   "metadata": {
    "tags": []
   },
   "outputs": [],
   "source": [
    "chl_a_msk = chl_a.mask(ndwi>0)\n",
    "turb_msk = turb.mask(ndwi>0)"
   ]
  },
  {
   "cell_type": "markdown",
   "id": "691227fe-9c09-432e-bce2-716c88227bad",
   "metadata": {},
   "source": [
    "Create a leaflet map:"
   ]
  },
  {
   "cell_type": "code",
   "execution_count": null,
   "id": "cc6d50b7-578c-46dd-b3cc-c5f1a7915a91",
   "metadata": {
    "tags": []
   },
   "outputs": [],
   "source": [
    "m = dc.map\n",
    "m.center = 46.9596, 6.9968\n",
    "m.zoom = 12"
   ]
  },
  {
   "cell_type": "markdown",
   "id": "9c7704fa-1bee-4340-b901-f17eed694469",
   "metadata": {},
   "source": [
    "Add an RGB basemap from the input Sentinel-2 imagery:"
   ]
  },
  {
   "cell_type": "code",
   "execution_count": null,
   "id": "259c1321-d1db-4409-bac0-e3202698c08c",
   "metadata": {},
   "outputs": [],
   "source": [
    "mosaic.pick_bands(\"red green blue\").visualize(\"RGB\", m)"
   ]
  },
  {
   "cell_type": "code",
   "execution_count": null,
   "id": "bee963e5-d227-4715-9ee5-b2e8f5da05c4",
   "metadata": {
    "tags": []
   },
   "outputs": [],
   "source": [
    "chl_a_msk.visualize(\"Chlorophyll A\", m, colormap='jet')\n",
    "turb_msk.visualize(\"Turbidity\", m, colormap='coolwarm')"
   ]
  },
  {
   "cell_type": "code",
   "execution_count": null,
   "id": "ba6161d8-8464-4dcc-b3f6-01476285b79c",
   "metadata": {
    "tags": []
   },
   "outputs": [],
   "source": [
    "m"
   ]
  },
  {
   "cell_type": "code",
   "execution_count": null,
   "id": "0f2d5bfc-84dc-4839-babd-257a18d88539",
   "metadata": {},
   "outputs": [],
   "source": []
  }
 ],
 "metadata": {
  "kernelspec": {
   "display_name": "Python 3 (ipykernel)",
   "language": "python",
   "name": "python3"
  },
  "language_info": {
   "codemirror_mode": {
    "name": "ipython",
    "version": 3
   },
   "file_extension": ".py",
   "mimetype": "text/x-python",
   "name": "python",
   "nbconvert_exporter": "python",
   "pygments_lexer": "ipython3",
   "version": "3.9.18"
  }
 },
 "nbformat": 4,
 "nbformat_minor": 5
}

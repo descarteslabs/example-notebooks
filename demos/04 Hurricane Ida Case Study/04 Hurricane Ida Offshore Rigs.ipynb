{
 "cells": [
  {
   "cell_type": "markdown",
   "id": "0936f2b4-50aa-464c-9e6d-bb26ed31fe6a",
   "metadata": {},
   "source": [
    "## Weather Risk on Descartes Labs - Hurricane Ida Case Study\n",
    "\n",
    "In August, 2021, Hurricane Ida made landfall centered on the US Gulf Coast State of Louisiana. This event was the worst to impact the region since 2005, [disrupting nearly 80% of the region's oil and gas production](https://www.reuters.com/business/energy/oil-losses-hurricane-ida-rank-among-worst-16-years-2021-09-07/). \n",
    "\n",
    "#### _Objective:_ \n",
    "Demonstrate how the Descartes Labs Platform can enable large scale feature-to-raster annotation by exploring the spatiotemporal impacts of this event in more detail. Here we will annotate ~7,000 offshore rig facilities provided by the [Bureau of Ocean Energy Management](https://www.data.boem.gov/Main/Platform.aspx) with 2 months of daily [Climate Forecast System weather conditions](https://www.ncei.noaa.gov/products/weather-climate-models/climate-forecast-system).\n",
    "\n",
    "#### _What will we cover?_\n",
    "* Exploratory analysis with the interactive computation engine [`Dynamic Compute`](https://docs.descarteslabs.com/api/dynamic-compute.html)\n",
    "* Working with both the raster [`Catalog`](https://docs.descarteslabs.com/descarteslabs/catalog/readme.html) and [`Vector`](https://docs.descarteslabs.com/descarteslabs/vector/readme.html) tables\n",
    "* Creating, iterating on, and managing highly scalable asynchronous [`Batch Compute`](https://docs.descarteslabs.com/descarteslabs/compute/readme.html) functions"
   ]
  },
  {
   "cell_type": "code",
   "execution_count": null,
   "id": "bcec5f0b-d22c-425e-9b1f-38f0f01322c3",
   "metadata": {
    "tags": []
   },
   "outputs": [],
   "source": [
    "import descarteslabs as dl\n",
    "import descarteslabs.dynamic_compute as dc\n",
    "\n",
    "from descarteslabs.catalog import Blob, Product, properties as p\n",
    "from descarteslabs.compute import Function\n",
    "from descarteslabs.vector import Table"
   ]
  },
  {
   "cell_type": "code",
   "execution_count": null,
   "id": "a5234301-de15-435b-86df-ce4f074db8ec",
   "metadata": {
    "tags": []
   },
   "outputs": [],
   "source": [
    "import json\n",
    "import rasterio\n",
    "import sys\n",
    "import pandas as pd\n",
    "import geopandas as gpd\n",
    "from shapely.geometry import box\n",
    "import matplotlib.pyplot as plt"
   ]
  },
  {
   "cell_type": "code",
   "execution_count": null,
   "id": "94cf0075-a084-423b-832f-4b2a989d89be",
   "metadata": {
    "tags": []
   },
   "outputs": [],
   "source": [
    "org = dl.auth.Auth().payload[\"org\"]\n",
    "user_id = dl.auth.Auth().namespace"
   ]
  },
  {
   "cell_type": "code",
   "execution_count": null,
   "id": "d419ce36-c9bb-4465-ab6b-46a3e3722bad",
   "metadata": {},
   "outputs": [],
   "source": [
    "major = sys.version_info.major\n",
    "minor = sys.version_info.minor\n",
    "compute_image = f\"python{major}.{minor}:latest\"\n",
    "compute_image"
   ]
  },
  {
   "cell_type": "markdown",
   "id": "0f0194b2-0a35-489b-80bd-5348f90547bf",
   "metadata": {},
   "source": [
    "Setting global variables:"
   ]
  },
  {
   "cell_type": "code",
   "execution_count": null,
   "id": "d909e29a-b791-46fa-9a85-dd3f02c2c9c0",
   "metadata": {
    "tags": []
   },
   "outputs": [],
   "source": [
    "# Take these directly from Explorer:\n",
    "pid = \"ncep:cfsr-v2:daily:v1\"\n",
    "tid = \"descarteslabs:offshore-rigs-boem\"\n",
    "\n",
    "bands = [\"prec\", \"u_wind_10m\", \"v_wind_10m\"]\n",
    "\n",
    "start = \"2021-08-01\"\n",
    "end = \"2021-09-30\""
   ]
  },
  {
   "cell_type": "markdown",
   "id": "427a7c9d-7942-464f-bf25-2940a384deaa",
   "metadata": {},
   "source": [
    "## Interactive Visualization with Dynamic Compute\n",
    "\n",
    "DC enables lightweight, interactive computation paired with an [ipyleaflet](https://ipyleaflet.readthedocs.io/en/latest/index.html) web map for  data exploration and hypothesis testing without the need to set up your own tile server:"
   ]
  },
  {
   "cell_type": "code",
   "execution_count": null,
   "id": "4047ef78-2365-4f10-a8d4-a031e3504b65",
   "metadata": {
    "tags": []
   },
   "outputs": [],
   "source": [
    "m = dc.map\n",
    "m.center = 28.4204, -91.5167\n",
    "m.zoom = 6"
   ]
  },
  {
   "cell_type": "markdown",
   "id": "6f801309-9c7e-455d-97a5-d7f6e0d0ad59",
   "metadata": {},
   "source": [
    "First we'll set an [`ImageStack`](https://github.com/descarteslabs/example-notebooks.git) referencing the 12-day period surrounding landfall:"
   ]
  },
  {
   "cell_type": "code",
   "execution_count": null,
   "id": "2c98df03-c3a1-4c08-ae2b-6ee2c81b240e",
   "metadata": {
    "tags": []
   },
   "outputs": [],
   "source": [
    "## Looking just at this event\n",
    "stack = dc.ImageStack.from_product_bands(\n",
    "    pid, bands, start_datetime=\"2021-08-20\", end_datetime=\"2021-09-02\"\n",
    ")"
   ]
  },
  {
   "cell_type": "markdown",
   "id": "e0923d45-bb77-4027-8ac8-fafa95c03eb2",
   "metadata": {},
   "source": [
    "Here we visualize a _sum_ of precip through the 12-day period:"
   ]
  },
  {
   "cell_type": "code",
   "execution_count": null,
   "id": "59e774b6-72f5-47c4-87b7-4b3da4998c1f",
   "metadata": {
    "tags": []
   },
   "outputs": [],
   "source": [
    "stack.pick_bands(\"prec\").sum(axis=\"images\").visualize(\"Sum Precipitation (0.1mm)\", m)"
   ]
  },
  {
   "cell_type": "markdown",
   "id": "ceed7a9d-42d5-49cf-8418-72d0c29ede4b",
   "metadata": {},
   "source": [
    "And _max_ wind speed through the same period:"
   ]
  },
  {
   "cell_type": "code",
   "execution_count": null,
   "id": "7ab69f30-403d-4bd7-9b33-b6e71a7034ec",
   "metadata": {
    "tags": []
   },
   "outputs": [],
   "source": [
    "u, v = stack.unpack_bands(\"u_wind_10m v_wind_10m\")\n",
    "ws = dc.sqrt(u**2 + v**2)\n",
    "ws.max(axis=\"images\").visualize(\"Max Wind Speed (0.01m/s)\", m)"
   ]
  },
  {
   "cell_type": "markdown",
   "id": "adb70425-f10f-4c93-857d-42434a4b9044",
   "metadata": {},
   "source": [
    "Next retrieve our offshore oil rigs as a [`Table`](https://docs.descarteslabs.com/descarteslabs/vector/readme.html#descarteslabs.vector.Table):"
   ]
  },
  {
   "cell_type": "code",
   "execution_count": null,
   "id": "f6d87eae-3d0d-4665-9af9-825d69e90507",
   "metadata": {
    "tags": []
   },
   "outputs": [],
   "source": [
    "table = Table.get(tid)\n",
    "table.count()"
   ]
  },
  {
   "cell_type": "code",
   "execution_count": null,
   "id": "2f74eda3-2a15-433c-9ceb-534000bb2227",
   "metadata": {
    "tags": []
   },
   "outputs": [],
   "source": [
    "table.visualize(\n",
    "    \"BOEM Offshore Rigs\",\n",
    "    m,\n",
    "    vector_tile_layer_styles={\"radius\": 0.25, \"color\": \"#FFA500\"},\n",
    ")"
   ]
  },
  {
   "cell_type": "code",
   "execution_count": null,
   "id": "98d88814-380a-458b-a6ad-8f36f079160f",
   "metadata": {
    "tags": []
   },
   "outputs": [],
   "source": [
    "m"
   ]
  },
  {
   "cell_type": "markdown",
   "id": "8e070d73-6250-4079-ad32-8a08cfe4bbda",
   "metadata": {},
   "source": [
    "### Scaling on Batch Compute\n",
    "\n",
    "Below we outline a simple methodology of timeseries data extraction on the Descartes Labs Platform. The general steps are as follows:\n",
    "1. Search and retrieve an [`ImageCollection`](https://docs.descarteslabs.com/descarteslabs/catalog/docs/image.html#descarteslabs.catalog.ImageCollection) over our offshore rigs filtering to the input date range, August to September, 2021\n",
    "2. Define an asynchronous [`Function`](https://docs.descarteslabs.com/descarteslabs/compute/readme.html#descarteslabs.compute.Function) which accepts an [`Image`](https://docs.descarteslabs.com/descarteslabs/catalog/docs/image.html#descarteslabs.catalog.Image) ID as an input argument and:\n",
    "    * Retrieves the intersecting point features\n",
    "    * Rasters **precipitation** and **wind u + v components** from the weather data\n",
    "    * Returns the intersected pixel values for each feature location alongside feature UUIDs"
   ]
  },
  {
   "cell_type": "markdown",
   "id": "c7f5d2e8-6dc2-45a9-ae3c-31818eeb7ca0",
   "metadata": {},
   "source": [
    "Retrieving dataframe from the table:"
   ]
  },
  {
   "cell_type": "code",
   "execution_count": null,
   "id": "c20c0df1-26c3-406f-af2b-2b62897e1023",
   "metadata": {
    "tags": []
   },
   "outputs": [],
   "source": [
    "gdf = table.collect()\n",
    "gdf.head(1)"
   ]
  },
  {
   "cell_type": "markdown",
   "id": "106b680d-033f-4c57-a42a-35400c7c8d2d",
   "metadata": {
    "tags": []
   },
   "source": [
    "Searching and retrieving our imagery:"
   ]
  },
  {
   "cell_type": "code",
   "execution_count": null,
   "id": "dcb39c11-9c94-408e-90fc-7e25bbe392ad",
   "metadata": {
    "tags": []
   },
   "outputs": [],
   "source": [
    "prod = Product.get(pid)\n",
    "ic = (\n",
    "    prod.images().intersects(box(*gdf.total_bounds)).filter(start <= p.acquired <= end)\n",
    ").collect()\n",
    "ic"
   ]
  },
  {
   "cell_type": "markdown",
   "id": "e37d0994-82af-4740-bc10-c4d299ad0699",
   "metadata": {},
   "source": [
    "Inspecting the first image:"
   ]
  },
  {
   "cell_type": "code",
   "execution_count": null,
   "id": "d747ed3f-8809-4d10-9029-ce9f9733fdfa",
   "metadata": {
    "tags": []
   },
   "outputs": [],
   "source": [
    "dl.utils.display(ic[0].ndarray(\"prec\"), colormap=\"viridis\")"
   ]
  },
  {
   "cell_type": "markdown",
   "id": "e2c1834d-d6ea-45de-9adf-fa36459130fb",
   "metadata": {},
   "source": [
    "Here we define our local Python function to iterate through each individual image, extract pixel values for each intersected feature, and returns as a dictionary alongside each unique ID:"
   ]
  },
  {
   "cell_type": "code",
   "execution_count": null,
   "id": "df298be8-b995-4a20-b7f3-fd0aba2a7b51",
   "metadata": {
    "tags": []
   },
   "outputs": [],
   "source": [
    "def get_point_values(img_id, bands):\n",
    "    import os\n",
    "    import rasterio\n",
    "    import numpy as np\n",
    "    import descarteslabs as dl\n",
    "    from descarteslabs.catalog import Image\n",
    "    from descarteslabs.vector import Table\n",
    "\n",
    "    def wind_speed(u, v):\n",
    "        return np.sqrt(np.square(u) + np.square(v))\n",
    "\n",
    "    # Retrieve our Table's vector data as a GDF\n",
    "    table = Table.get(\"descarteslabs:offshore-rigs-boem\")\n",
    "    gdf = table.collect()\n",
    "    # Create our Image\n",
    "    img = Image.get(img_id)\n",
    "    print(f\"Retrieved {img_id}\")\n",
    "\n",
    "    date = img.acquired.strftime(\"%Y-%m-%d\")\n",
    "    gdf = gdf.to_crs(img.geocontext.crs)\n",
    "\n",
    "    # Download our Image data\n",
    "    img.download(bands, dest=\"temp.tif\", format=\"tif\")\n",
    "\n",
    "    print(\"Downloaded\")\n",
    "    # Open the dataset\n",
    "    with rasterio.open(\"temp.tif\") as dataset:\n",
    "        x = gdf[\"geometry\"].x\n",
    "        y = gdf[\"geometry\"].y\n",
    "        xy = np.dstack((x, y))[0]\n",
    "        print(\"Sampling...\")\n",
    "        # Running sample, returning stacked array\n",
    "        xy_vals = np.vstack(list(dataset.sample(xy)))\n",
    "\n",
    "    # Returning UUIDs of our input dataset\n",
    "    uuids = gdf[\"uuid\"].values.tolist()\n",
    "\n",
    "    # Setting up output dictionary\n",
    "    out_dict = {\"date\": date, \"data\": {\"uuid\": uuids}}\n",
    "\n",
    "    # For each band we create a field in the output dict:\n",
    "    for i, band in enumerate(bands):\n",
    "        out_dict[\"data\"][band] = xy_vals[:, i].tolist()\n",
    "\n",
    "    # Calculating wind speed from our wind components\n",
    "    if \"u_wind_10m\" in bands and \"v_wind_10m\" in bands:\n",
    "        print(\"Calculating Wind Speed\")\n",
    "        out_dict[\"data\"][\"wind_speed\"] = wind_speed(\n",
    "            out_dict[\"data\"][\"u_wind_10m\"], out_dict[\"data\"][\"v_wind_10m\"]\n",
    "        ).tolist()\n",
    "    print(\"Complete\")\n",
    "    # Cleaning up\n",
    "    os.remove(\"temp.tif\")\n",
    "    return out_dict"
   ]
  },
  {
   "cell_type": "markdown",
   "id": "3abea4f7-0dab-440c-8a31-8e4734cf4412",
   "metadata": {},
   "source": [
    "At this point we test the function locally to iterate on and prove our methodology.\n",
    "\n",
    "Let's look at our conditions on the first of August:"
   ]
  },
  {
   "cell_type": "code",
   "execution_count": null,
   "id": "1cbdb1b1-d4a2-4d88-a248-da5632a0e52f",
   "metadata": {
    "tags": []
   },
   "outputs": [],
   "source": [
    "res_dict = get_point_values(ic[0].id, [\"prec\", \"u_wind_10m\", \"v_wind_10m\"])\n",
    "res_df = pd.DataFrame(res_dict[\"data\"])\n",
    "gdf.merge(res_df, on=\"uuid\").plot(\"wind_speed\", legend=True, markersize=1)\n",
    "plt.title(f\"Wind Speed on {res_dict['date']} (0.01m/s)\");"
   ]
  },
  {
   "cell_type": "markdown",
   "id": "b1438594-6d15-4376-8d1e-cb4fdcbc6406",
   "metadata": {},
   "source": [
    "Now we can define an asynchronous Batch Compute [`Function`](https://docs.descarteslabs.com/descarteslabs/compute/readme.html#descarteslabs.compute.Function) which accepts several scaling parameters, notably:\n",
    "* Number of **CPU**s per job\n",
    "* Total **memory** per job\n",
    "* Up to 1000 job **maximum_concurrency**"
   ]
  },
  {
   "cell_type": "code",
   "execution_count": null,
   "id": "42f36844-d3bb-4fc8-87a4-08b4d8f1f1b9",
   "metadata": {
    "tags": []
   },
   "outputs": [],
   "source": [
    "async_func = Function(\n",
    "    get_point_values,\n",
    "    name=\"CFSR Daily Weather\",\n",
    "    image=compute_image,\n",
    "    cpus=1,\n",
    "    memory=4,\n",
    "    timeout=900,\n",
    "    maximum_concurrency=100,\n",
    "    retry_count=0,\n",
    ")\n",
    "\n",
    "async_func.save()\n",
    "print(f\"Saved {async_func.id}\")"
   ]
  },
  {
   "cell_type": "markdown",
   "id": "b35da294-68bc-42d7-bc44-ce7387983bfc",
   "metadata": {},
   "source": [
    "Here we format an iterable of input **(image_id, bands)** for our asynchronous function:"
   ]
  },
  {
   "cell_type": "code",
   "execution_count": null,
   "id": "f720c3d0-848c-4105-b513-f2d6729442b1",
   "metadata": {
    "tags": []
   },
   "outputs": [],
   "source": [
    "args = [(img_id, bands) for img_id in ic.each.id]\n",
    "args[0]"
   ]
  },
  {
   "cell_type": "markdown",
   "id": "021d7a18-ea1e-4f81-a3ee-a6be5192813e",
   "metadata": {},
   "source": [
    "And submit for processing:"
   ]
  },
  {
   "cell_type": "code",
   "execution_count": null,
   "id": "bef2e6b8-608e-4ff1-ae95-134b619d9996",
   "metadata": {
    "tags": []
   },
   "outputs": [],
   "source": [
    "jobs = async_func.map(args)\n",
    "len(jobs)"
   ]
  },
  {
   "cell_type": "markdown",
   "id": "58ae0fb5-4bb6-4fa0-a2fb-a7a33f3199c3",
   "metadata": {
    "tags": []
   },
   "source": [
    "Now we must wait for our function to complete. We suggest navigating to [app.descarteslabs.com/compute](https://app.descarteslabs.com/compute) to monitor progress in real time or you can wait programmatically via:\n",
    "\n",
    "    async_func.wait_for_completion()"
   ]
  },
  {
   "cell_type": "markdown",
   "id": "b930d5db-5b5d-4504-8ecc-d7d231a35be0",
   "metadata": {
    "tags": []
   },
   "source": [
    "Once all of the [`Job`](https://docs.descarteslabs.com/descarteslabs/compute/readme.html#descarteslabs.compute.Job)s have completed successfully, we can retrieve each individual result as a [`Blob`](https://docs.descarteslabs.com/descarteslabs/catalog/docs/blob.html#descarteslabs.catalog.Blob):"
   ]
  },
  {
   "cell_type": "code",
   "execution_count": null,
   "id": "c916d730-e8c6-4fc2-8433-d7afce066946",
   "metadata": {
    "tags": []
   },
   "outputs": [],
   "source": [
    "print(f\"Results for {async_func.id}\")\n",
    "res_list = []\n",
    "for b in (\n",
    "    Blob.search()\n",
    "    .filter(p.namespace == f\"{org}:{user_id}\")\n",
    "    .filter(p.name.startswith(async_func.id))\n",
    "    .filter(p.storage_type == \"compute\")\n",
    "):\n",
    "    res = json.loads(b.data())\n",
    "    res_date = res[\"date\"]\n",
    "    res_df = pd.DataFrame(res[\"data\"])\n",
    "    res_df[\"date\"] = pd.to_datetime(res_date)\n",
    "    res_list.append(res_df)\n",
    "\n",
    "print(f\"Retrieved {len(res_list)} results\")"
   ]
  },
  {
   "cell_type": "markdown",
   "id": "7abf6aef-1abb-44e2-b253-3ab97d4b19ed",
   "metadata": {},
   "source": [
    "And now we have our time series results!"
   ]
  },
  {
   "cell_type": "code",
   "execution_count": null,
   "id": "3d531b3e-f6a4-4dc1-9ab7-19fd401ac2e2",
   "metadata": {
    "tags": []
   },
   "outputs": [],
   "source": [
    "res_df = pd.concat(res_list)\n",
    "res_df.shape"
   ]
  },
  {
   "cell_type": "markdown",
   "id": "dc82cd6a-b77d-4ccc-8b77-ed600c4fd6bb",
   "metadata": {},
   "source": [
    "At this point we have completed our time-series data extraction. Here are a few simple summary plots to visualize our results:"
   ]
  },
  {
   "cell_type": "markdown",
   "id": "3f859c24-7901-4ae1-9673-31a819234876",
   "metadata": {},
   "source": [
    "Joining results to our input GDF:"
   ]
  },
  {
   "cell_type": "code",
   "execution_count": null,
   "id": "57f2b8a9-a4eb-4635-8468-cdb0b3e16815",
   "metadata": {
    "tags": []
   },
   "outputs": [],
   "source": [
    "res_gdf = gdf.merge(res_df, on=\"uuid\", how=\"outer\").set_index(\"date\")\n",
    "res_gdf[\"prec\"] = res_gdf[\"prec\"] * 0.1  # 0.1mm > mm\n",
    "res_gdf[\"wind_speed\"] = res_gdf[\"wind_speed\"] * 0.01  # 0.01m/s > m/s"
   ]
  },
  {
   "cell_type": "markdown",
   "id": "c1ad03d9-37c1-4dff-a7d5-35278c5bbd4e",
   "metadata": {},
   "source": [
    "Retrieving a counties dataframe over our study AOI:"
   ]
  },
  {
   "cell_type": "code",
   "execution_count": null,
   "id": "5146eb9b-cdb1-4012-849e-ecc82c14f64f",
   "metadata": {
    "tags": []
   },
   "outputs": [],
   "source": [
    "counties_table = Table.get(\n",
    "    \"descarteslabs:hifld:us-counties\", aoi=box(*(-98, 25, -87, 30.5))\n",
    ")\n",
    "counties_gdf = counties_table.collect()"
   ]
  },
  {
   "cell_type": "markdown",
   "id": "5133d7ab-8921-42f2-b8e0-0d4424058a9c",
   "metadata": {},
   "source": [
    "Summarizing max windspeed and sum of precipitation:"
   ]
  },
  {
   "cell_type": "code",
   "execution_count": null,
   "id": "d5e3cec5-09dd-41f9-a64d-a3bc2f356fd3",
   "metadata": {
    "tags": []
   },
   "outputs": [],
   "source": [
    "max_ws = res_gdf.groupby(\"uuid\")[\"wind_speed\"].max().reset_index()\n",
    "sum_precip = res_gdf.groupby(\"uuid\")[\"prec\"].sum().reset_index()"
   ]
  },
  {
   "cell_type": "markdown",
   "id": "b001b946-0200-4b6d-b960-8a062976a7b1",
   "metadata": {},
   "source": [
    "And a few plots:"
   ]
  },
  {
   "cell_type": "code",
   "execution_count": null,
   "id": "6123893b-e541-409f-9feb-61c2876063a6",
   "metadata": {
    "tags": []
   },
   "outputs": [],
   "source": [
    "fig, ax = plt.subplots(figsize=(20, 10), nrows=2, ncols=1)\n",
    "counties_gdf.plot(ax=ax[0], facecolor=\"none\", edgecolor=\"grey\", linewidth=0.5)\n",
    "counties_gdf.plot(ax=ax[1], facecolor=\"none\", edgecolor=\"grey\", linewidth=0.5)\n",
    "gdf.merge(max_ws, on=\"uuid\").plot(\"wind_speed\", legend=True, ax=ax[0], markersize=1)\n",
    "ax[0].set_title(\"Max Wind Speed (m/s)\")\n",
    "gdf.merge(sum_precip, on=\"uuid\").plot(\"prec\", legend=True, ax=ax[1], markersize=1)\n",
    "ax[1].set_title(\"Total Precip (mm)\")\n",
    "res_gdf[res_gdf[\"uuid\"] == \"83c39701-56e8-40c0-8e0d-2f475f5bab5d\"].plot(\n",
    "    ax=ax[0], markersize=2, color=\"r\"\n",
    ")\n",
    "res_gdf[res_gdf[\"uuid\"] == \"83c39701-56e8-40c0-8e0d-2f475f5bab5d\"].plot(\n",
    "    ax=ax[1], markersize=2, color=\"r\"\n",
    ");"
   ]
  },
  {
   "cell_type": "code",
   "execution_count": null,
   "id": "2486b239-2baf-4fef-8d1c-b1bcacf2c301",
   "metadata": {
    "tags": []
   },
   "outputs": [],
   "source": [
    "fig, ax = plt.subplots(figsize=(20, 10), nrows=2, ncols=1)\n",
    "res_gdf[\n",
    "    res_gdf[\"uuid\"] == \"83c39701-56e8-40c0-8e0d-2f475f5bab5d\"\n",
    "].reset_index().plot.scatter(\"date\", \"prec\", ax=ax[0], marker='o-')\n",
    "res_gdf[\n",
    "    res_gdf[\"uuid\"] == \"83c39701-56e8-40c0-8e0d-2f475f5bab5d\"\n",
    "].reset_index().plot.scatter(\"date\", \"wind_speed\", ax=ax[1])\n",
    "ax[0].axvline(pd.to_datetime(\"2021-08-29\"), color=\"r\")\n",
    "ax[1].axvline(pd.to_datetime(\"2021-08-29\"), color=\"r\")"
   ]
  },
  {
   "cell_type": "code",
   "execution_count": null,
   "id": "54683460-58ee-4195-88ab-8fd077904fab",
   "metadata": {},
   "outputs": [],
   "source": []
  },
  {
   "cell_type": "code",
   "execution_count": null,
   "id": "b9f86eb2-51b9-4506-97e0-ed1cdace70fe",
   "metadata": {},
   "outputs": [],
   "source": []
  }
 ],
 "metadata": {
  "kernelspec": {
   "display_name": "Python 3 (ipykernel)",
   "language": "python",
   "name": "python3"
  },
  "language_info": {
   "codemirror_mode": {
    "name": "ipython",
    "version": 3
   },
   "file_extension": ".py",
   "mimetype": "text/x-python",
   "name": "python",
   "nbconvert_exporter": "python",
   "pygments_lexer": "ipython3",
   "version": "3.9.18"
  }
 },
 "nbformat": 4,
 "nbformat_minor": 5
}

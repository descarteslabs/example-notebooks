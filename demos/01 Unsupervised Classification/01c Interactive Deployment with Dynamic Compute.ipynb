{
 "cells": [
  {
   "cell_type": "markdown",
   "id": "87239a1d-32f5-4020-8169-11eae83c385e",
   "metadata": {},
   "source": [
    "## Unsupervised ML on the Descartes Labs Platform: Interactive Deployment with Dynamic Compute\n",
    "This notebook will demonstrate a typical example of how to deploy a ML model using Descartes Labs Platform APIs. General steps we will cover in this notebook are:\n",
    "* Retrieving a running Batch Compute Function\n",
    "* Displaying results overlain on input imagery in a web map with Dynamic Compute\n",
    "* Specifying new AOIs to expand our model interactively using widgets"
   ]
  },
  {
   "cell_type": "code",
   "execution_count": null,
   "id": "0e7e0d5e-d372-47b9-8b62-f9d7c6b2ba83",
   "metadata": {
    "tags": []
   },
   "outputs": [],
   "source": [
    "import descarteslabs as dl\n",
    "from descarteslabs.catalog import properties as p\n",
    "import descarteslabs.dynamic_compute as dc\n",
    "\n",
    "from descarteslabs.compute import Function, FunctionStatus, Job\n",
    "from descarteslabs.dynamic_compute import ImageStack, Mosaic"
   ]
  },
  {
   "cell_type": "code",
   "execution_count": null,
   "id": "361954c6-85c8-4956-a4b8-87b6ee0a48d0",
   "metadata": {
    "tags": []
   },
   "outputs": [],
   "source": [
    "import geopandas as gpd\n",
    "from datetime import datetime\n",
    "from ipyleaflet import DrawControl"
   ]
  },
  {
   "cell_type": "code",
   "execution_count": null,
   "id": "25c3d23b-d405-47a4-8d46-ada45a6d727c",
   "metadata": {
    "tags": []
   },
   "outputs": [],
   "source": [
    "org = dl.auth.Auth().payload[\"org\"]\n",
    "user_id = dl.auth.Auth().namespace"
   ]
  },
  {
   "cell_type": "markdown",
   "id": "04c8ae1c-5440-4083-8bd0-bad21c6dd403",
   "metadata": {},
   "source": [
    "If you lost your ID, check it in [app.descarteslabs.com/compute](https://app.descarteslabs.com/compute) or search the latest created Function with the name as below:"
   ]
  },
  {
   "cell_type": "code",
   "execution_count": null,
   "id": "fe1fe183-0c19-43ea-8dda-3c4d342c69d8",
   "metadata": {
    "tags": []
   },
   "outputs": [],
   "source": [
    "func_search = (\n",
    "    Function.search()\n",
    "    .filter(p.owner == user_id)\n",
    "    .filter(p.name.startswith(\"Run KMeans Model Inference\"))\n",
    "    .sort(-Function.creation_date)\n",
    "    .limit(1)\n",
    ").collect()\n",
    "\n",
    "for func in func_search:\n",
    "    print(func.id)\n",
    "    print(func.creation_date)"
   ]
  },
  {
   "cell_type": "code",
   "execution_count": null,
   "id": "3cad82b6-8ec2-4fda-b529-67ac6794f69f",
   "metadata": {
    "tags": []
   },
   "outputs": [],
   "source": [
    "async_func = func_search[0]\n",
    "async_func"
   ]
  },
  {
   "cell_type": "markdown",
   "id": "0fcc62c5-836e-42da-86d7-72c89c6880d7",
   "metadata": {},
   "source": [
    "Here we'll create a Sentinel-2 stack of our time period:"
   ]
  },
  {
   "cell_type": "code",
   "execution_count": null,
   "id": "95e2d7ce-f3c5-41a3-92fd-b005b9f9146e",
   "metadata": {
    "tags": []
   },
   "outputs": [],
   "source": [
    "s2_stack = ImageStack.from_product_bands(\n",
    "    \"esa:sentinel-2:l2a:v1\",\n",
    "    \"nir red green\",\n",
    "    start_datetime=\"2023-06-01\",\n",
    "    end_datetime=\"2023-09-01\",\n",
    ").filter(lambda x: x.cloud_fraction < 0.1)"
   ]
  },
  {
   "cell_type": "markdown",
   "id": "938535cc-4984-4ccf-b2fa-771945ff4cf9",
   "metadata": {},
   "source": [
    "Declaring a Dynamic Compute ipyleaflet map:"
   ]
  },
  {
   "cell_type": "code",
   "execution_count": null,
   "id": "040c6b10-2f14-405f-bd86-a24c657c1b46",
   "metadata": {
    "tags": []
   },
   "outputs": [],
   "source": [
    "m = dc.map\n",
    "m.center = 44.4729, -73.1657\n",
    "m.zoom = 13"
   ]
  },
  {
   "cell_type": "markdown",
   "id": "294732c1-3ec1-4af2-8b7b-b9b8f90ffcf4",
   "metadata": {},
   "source": [
    "And a simple DrawControl widget:"
   ]
  },
  {
   "cell_type": "code",
   "execution_count": null,
   "id": "63211dc5-9418-4405-9351-bbc402ecf051",
   "metadata": {
    "tags": []
   },
   "outputs": [],
   "source": [
    "# This is some interactivity with the map we'll embed below:\n",
    "draw_control = DrawControl()\n",
    "\n",
    "draw_control.polygon = {\n",
    "    \"shapeOptions\": {\"fillColor\": \"green\", \"color\": \"blue\", \"fillOpacity\": 0.5},\n",
    "    \"drawError\": {\"color\": \"red\", \"message\": \"Oops!\"},\n",
    "    \"allowIntersection\": False,\n",
    "}\n",
    "\n",
    "# Add this to the same cell as the Draw Control handler function\n",
    "feature_collection = {\"type\": \"FeatureCollection\", \"features\": []}\n",
    "\n",
    "# Define this handle_draw function for the Draw Control widget\n",
    "def handle_draw(target, action, geo_json):\n",
    "    # Clears feature collection on each new polygon with new geojson\n",
    "    feature_collection[\"features\"] = [geo_json]\n",
    "\n",
    "\n",
    "# Adding the handle_draw function to the Draw Control widget\n",
    "draw_control.on_draw(handle_draw)\n",
    "m.add_control(draw_control)"
   ]
  },
  {
   "cell_type": "markdown",
   "id": "e044cca7-1be4-46ec-a16f-787f7c8203d2",
   "metadata": {},
   "source": [
    "Finally visualize our Dynamic Compute layers on the map:"
   ]
  },
  {
   "cell_type": "code",
   "execution_count": null,
   "id": "b715c4d4-b52b-4c81-b465-37d83e8dcd7f",
   "metadata": {
    "tags": []
   },
   "outputs": [],
   "source": [
    "s2_stack.mean(axis=\"images\").visualize(\"Sentinel-2\", m)"
   ]
  },
  {
   "cell_type": "markdown",
   "id": "172a7cc3-b7db-4715-9839-7e30a3168b67",
   "metadata": {},
   "source": [
    "*Note*\n",
    "\n",
    "Our result's Mosaic object will \"refresh\" it's tile layers upon re-instantiation of it's class, as in the cell below. If you are waiting for your Batch Compute Function to process in real time you would need to re-run the following cell to update your imagery:"
   ]
  },
  {
   "cell_type": "code",
   "execution_count": null,
   "id": "db36e66b-7dea-4f21-b6ed-e4c72a1d2d5d",
   "metadata": {
    "tags": []
   },
   "outputs": [],
   "source": [
    "kmeans_pid = f\"{org}:kmeans-results-{user_id}\"\n",
    "kmeans_mosaic = Mosaic.from_product_bands(kmeans_pid, \"class\")\n",
    "kmeans_mosaic.visualize(\"KMeans Results\", m)"
   ]
  },
  {
   "cell_type": "code",
   "execution_count": null,
   "id": "027fbbb7-e6bc-4bc3-8e0e-c69d9aa5d92a",
   "metadata": {
    "tags": []
   },
   "outputs": [],
   "source": [
    "m"
   ]
  },
  {
   "cell_type": "code",
   "execution_count": null,
   "id": "b21fa944-d4ca-4f9d-984c-56ccace56463",
   "metadata": {
    "tags": []
   },
   "outputs": [],
   "source": [
    "# dir(m)"
   ]
  },
  {
   "cell_type": "markdown",
   "id": "8141d1e7-74d3-4e7f-8103-e8d2531f6723",
   "metadata": {
    "tags": []
   },
   "source": [
    "Example of extracting a drawn polygon into a new list of arguments for our running Function:"
   ]
  },
  {
   "cell_type": "code",
   "execution_count": null,
   "id": "73e78dc8-f82d-401e-bbd9-d12b13fc510d",
   "metadata": {},
   "outputs": [],
   "source": [
    "drawn_gdf = gpd.GeoDataFrame.from_features(feature_collection, crs=4326)\n",
    "# Create a new set of DLTiles for this new AOI\n",
    "geocontext_geom = drawn_gdf[\"geometry\"][0]\n",
    "# You could also pass the map's geocontext as a WKT\n",
    "# geocontext_geom = box(*wf.map.geocontext().bounds)\n",
    "dltiles = dl.geo.DLTile.from_shape(\n",
    "    geocontext_geom, resolution=10.0, tilesize=1024, pad=0\n",
    ")\n",
    "args = [(dltile.key, kmeans_pid) for dltile in dltiles]\n",
    "len(args)"
   ]
  },
  {
   "cell_type": "code",
   "execution_count": null,
   "id": "7e648937-5b4a-461d-ad66-0ceb84ddc5a0",
   "metadata": {
    "tags": []
   },
   "outputs": [],
   "source": [
    "jobs = async_func.map(args)\n",
    "len(jobs)"
   ]
  },
  {
   "cell_type": "code",
   "execution_count": null,
   "id": "88af8042-6add-4a1e-b140-e92aefbb9e98",
   "metadata": {},
   "outputs": [],
   "source": []
  }
 ],
 "metadata": {
  "kernelspec": {
   "display_name": "Python 3 (ipykernel)",
   "language": "python",
   "name": "python3"
  },
  "language_info": {
   "codemirror_mode": {
    "name": "ipython",
    "version": 3
   },
   "file_extension": ".py",
   "mimetype": "text/x-python",
   "name": "python",
   "nbconvert_exporter": "python",
   "pygments_lexer": "ipython3",
   "version": "3.9.18"
  }
 },
 "nbformat": 4,
 "nbformat_minor": 5
}

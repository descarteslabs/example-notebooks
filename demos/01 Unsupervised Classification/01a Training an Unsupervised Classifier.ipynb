{
 "cells": [
  {
   "cell_type": "markdown",
   "id": "767c8d61-4576-4ae2-b62d-6b3884b08bdc",
   "metadata": {},
   "source": [
    "# Unsupervised ML on the Descartes Labs Platform: Training a KMeans Classifier\n",
    "This notebook will demonstrate a typical example of how to train a simple machine learning clustering model using Descartes Labs Platform APIs. \n",
    "\n",
    "The general steps covered in this notebook are:\n",
    "* Use [`Catalog`](https://docs.descarteslabs.com/descarteslabs/catalog/readme.html) to search and raster pixel data over the __nir__, __red__, and __green__ bands of Sentinel-2 over the Burlington, VT area\n",
    "* Train a simple [`KMeans`](https://scikit-learn.org/stable/modules/generated/sklearn.cluster.KMeans.html) model using a specified number of clusters on spectral data retrieved from Catalog\n",
    "* Save the pre-trained model as a [`Blob`](https://docs.descarteslabs.com/descarteslabs/catalog/docs/blob.html) to scale inference across the entire US State of Vermont in a Batch Compute [`Function`](https://docs.descarteslabs.com/descarteslabs/compute/readme.html#descarteslabs.compute.Function) defined in [01b Deploying an Unsupervised Classifier.ipynb](01b%20Deploying%20an%20Unsupervised%20Classifier.ipynb)"
   ]
  },
  {
   "cell_type": "code",
   "execution_count": null,
   "id": "5b2f3e74-6d33-497d-87ff-638790a9ae4a",
   "metadata": {
    "tags": []
   },
   "outputs": [],
   "source": [
    "import descarteslabs as dl\n",
    "from descarteslabs.catalog import Blob, Product, properties as p"
   ]
  },
  {
   "cell_type": "code",
   "execution_count": null,
   "id": "ff1520fa-0c9f-41b5-9e2a-9415e644641b",
   "metadata": {
    "tags": []
   },
   "outputs": [],
   "source": [
    "import os, pickle\n",
    "import numpy as np\n",
    "\n",
    "from sklearn.cluster import KMeans\n",
    "\n",
    "import matplotlib.pyplot as plt"
   ]
  },
  {
   "cell_type": "markdown",
   "id": "0834f22d-0673-4075-87ed-2cccbe20b9fb",
   "metadata": {},
   "source": [
    "Defining global variables for reference throughout this example, including the Product ID for [Sentinel-2 L2A](https://app.descarteslabs.com/explorer/datasets/esa:sentinel-2:l2a:v1) and a list of bands:"
   ]
  },
  {
   "cell_type": "code",
   "execution_count": null,
   "id": "ed608e40-fd1e-4da7-a360-441a65230750",
   "metadata": {
    "tags": []
   },
   "outputs": [],
   "source": [
    "##Input Product ID and list of Bands\n",
    "s2_pid = \"esa:sentinel-2:l2a:v1\"\n",
    "bands = [\"nir\", \"red\", \"green\"]"
   ]
  },
  {
   "cell_type": "markdown",
   "id": "314912f3-fb1b-451c-9295-096c8c4ac323",
   "metadata": {},
   "source": [
    "Next setting resolution, in meters, and number of classes for our clustering model:"
   ]
  },
  {
   "cell_type": "code",
   "execution_count": null,
   "id": "31e952ba-eb9e-4930-b9a3-4f8b97b962de",
   "metadata": {
    "tags": []
   },
   "outputs": [],
   "source": [
    "resolution = 10.0  # meters\n",
    "n_classes = 5  # Num classes/clusters"
   ]
  },
  {
   "cell_type": "markdown",
   "id": "eaae624a-0c50-4c1a-8ab8-69327e0618d6",
   "metadata": {},
   "source": [
    "## Generating Training Data with Catalog\n",
    "\n",
    "In this example, we will train our model using imagery collected around Burlington, VT during the summer months of 2023. The first step is to define an [`AOI`](https://docs.descarteslabs.com/descarteslabs/geo/readme.html#descarteslabs.geo.AOI) over which we want to train our model:"
   ]
  },
  {
   "cell_type": "code",
   "execution_count": null,
   "id": "569e14db-0567-46de-afa4-4e998d99ae6d",
   "metadata": {
    "tags": []
   },
   "outputs": [],
   "source": [
    "geometry = {\n",
    "    \"type\": \"Polygon\",\n",
    "    \"coordinates\": [\n",
    "        [\n",
    "            [-73.27705090082665, 44.508008292897614],\n",
    "            [-73.12833936666375, 44.507346829692835],\n",
    "            [-73.12833936666375, 44.39147517499973],\n",
    "            [-73.27921510194753, 44.390370530395586],\n",
    "            [-73.27705090082665, 44.508008292897614],\n",
    "        ]\n",
    "    ],\n",
    "}\n",
    "aoi = dl.geo.AOI(geometry, resolution=resolution, crs=\"EPSG:26918\")  ## UTM Zone\n",
    "aoi"
   ]
  },
  {
   "cell_type": "markdown",
   "id": "6f0c9bee-b0b2-4ab2-b143-736807654582",
   "metadata": {},
   "source": [
    "Next we'll search Sentinel-2 for cloud-free imagery for the summer of 2023:"
   ]
  },
  {
   "cell_type": "code",
   "execution_count": null,
   "id": "992ad3f1-404e-4920-a1c9-62a3ded970b3",
   "metadata": {
    "tags": []
   },
   "outputs": [],
   "source": [
    "s2_prod = Product.get(s2_pid)\n",
    "search = s2_prod.images()\n",
    "ic = (\n",
    "    search.intersects(aoi)\n",
    "    .filter(\"2023-06-01\" < p.acquired < \"2023-09-01\")\n",
    "    .filter(p.cloud_fraction < 0.1)\n",
    "    .limit(None)\n",
    ").collect()\n",
    "ic"
   ]
  },
  {
   "cell_type": "markdown",
   "id": "cfd91658-fbe3-453f-a6c8-186d34936802",
   "metadata": {},
   "source": [
    "Now we can mosaic our bands into a 3d ndarray:"
   ]
  },
  {
   "cell_type": "code",
   "execution_count": null,
   "id": "b139d7f3-53a6-44c4-86e8-4a38b10963e9",
   "metadata": {
    "tags": []
   },
   "outputs": [],
   "source": [
    "mosaic = ic.mosaic(bands)\n",
    "dl.utils.display(mosaic, size=5)"
   ]
  },
  {
   "cell_type": "markdown",
   "id": "c4d2731c-c187-4058-8315-d6f807010779",
   "metadata": {},
   "source": [
    "Next we must reshape from our image's **(nsamples, ny, nx)** to **(samples, nfeatures)**, which is accepted via [`.fit()`](https://scikit-learn.org/stable/modules/generated/sklearn.cluster.KMeans.html#sklearn.cluster.KMeans.fit):"
   ]
  },
  {
   "cell_type": "code",
   "execution_count": null,
   "id": "19ec2a22-77df-437c-b06e-f7a0a4577951",
   "metadata": {
    "tags": []
   },
   "outputs": [],
   "source": [
    "nsamples, ny, nx = mosaic.shape\n",
    "in_data = mosaic.transpose((1, 2, 0)).reshape((ny * nx, nsamples))\n",
    "in_data.shape"
   ]
  },
  {
   "cell_type": "markdown",
   "id": "72801159-76dc-4374-833b-4dae506b13a5",
   "metadata": {},
   "source": [
    "Now we fit a simple model, using the specified number of clusters as our input arguments. \n",
    "\n",
    "_Note: This example is designed for demonstration purposes and is not designed to be optimally performant or accurate!_"
   ]
  },
  {
   "cell_type": "code",
   "execution_count": null,
   "id": "808459df-4d0b-4c43-9d30-2a489e433cfa",
   "metadata": {
    "tags": []
   },
   "outputs": [],
   "source": [
    "kmeans = KMeans(n_clusters=n_classes, n_init=\"auto\").fit(in_data)\n",
    "kmeans"
   ]
  },
  {
   "cell_type": "markdown",
   "id": "7f2b25ad-ca38-4f97-bfe2-cd0debf271b2",
   "metadata": {},
   "source": [
    "And finally we call [`.predict()`](https://scikit-learn.org/stable/modules/generated/sklearn.cluster.KMeans.html#sklearn.cluster.KMeans.predict) and reshape our results to display:"
   ]
  },
  {
   "cell_type": "code",
   "execution_count": null,
   "id": "7891607a-c955-4d7d-a05d-ae1e57b9bd6a",
   "metadata": {
    "tags": []
   },
   "outputs": [],
   "source": [
    "preds = kmeans.predict(in_data).reshape(ny, nx)\n",
    "dl.utils.display(preds, size=5)"
   ]
  },
  {
   "cell_type": "markdown",
   "id": "bf23df85-8473-45c9-b607-0dd90b1a6bce",
   "metadata": {},
   "source": [
    "## Saving for Later\n",
    "\n",
    "Lastly, we will save our model as a .pickle file and store it as a blob:"
   ]
  },
  {
   "cell_type": "code",
   "execution_count": null,
   "id": "c9b0f4e9-2682-4947-99c2-4cdf315ba23c",
   "metadata": {
    "tags": []
   },
   "outputs": [],
   "source": [
    "with open(\"training_kmeans.pickle\", \"wb\") as kmeans_pkl_file:\n",
    "    pickle.dump(kmeans, kmeans_pkl_file)"
   ]
  },
  {
   "cell_type": "code",
   "execution_count": null,
   "id": "fcd0bd5f-f043-48ff-8aca-fe546fa860c5",
   "metadata": {
    "tags": []
   },
   "outputs": [],
   "source": [
    "##Current user's org and ID:\n",
    "org = dl.auth.Auth().payload[\"org\"]\n",
    "user_id = dl.auth.Auth().namespace"
   ]
  },
  {
   "cell_type": "markdown",
   "id": "6ce3a34a-fdd4-4ba2-8b7b-839ed1b1f85b",
   "metadata": {},
   "source": [
    "#### **_Note on Saving Blobs:_** \n",
    "\n",
    "We do not always need to delete and overwrite our objects on every iteration as in the following cell. This notebook is designed for demonstration purposes where we do not care about preserving each prior model. \n",
    "\n",
    "In practice, as long as your Blob has a **unique** ID you ignore the following cell and simply run:\n",
    "\n",
    "    blob = Blob(name=\"unique-model-name\")\n",
    "    blob.upload(\"kmeans_file.pickle\")\n",
    "    blob.save()"
   ]
  },
  {
   "cell_type": "code",
   "execution_count": null,
   "id": "ccd15190-997e-4664-beb1-c916c61a0d9b",
   "metadata": {
    "tags": []
   },
   "outputs": [],
   "source": [
    "try:\n",
    "    # Create a new Blob object\n",
    "    blob = Blob(\n",
    "        name=\"training_kmeans_model\",\n",
    "        tags=[\"examples\"],\n",
    "    )\n",
    "    # Upload our model to this Blob:\n",
    "    blob.upload(\"training_kmeans.pickle\")\n",
    "    blob.save()\n",
    "except:\n",
    "    print(\"Blob already exists, deleting old iteration:\")\n",
    "    # Already exists, overwriting\n",
    "    blob = Blob.get(name=\"training_kmeans_model\", namespace=f\"{org}:{user_id}\")\n",
    "    blob.delete()\n",
    "    print(\"Deleted blob\")\n",
    "    # Create a new Blob object\n",
    "    blob = Blob(\n",
    "        name=\"training_kmeans_model\",\n",
    "        tags=[\"examples\"],\n",
    "    )\n",
    "    # Upload our model to this Blob:\n",
    "    blob.upload(\"training_kmeans.pickle\")\n",
    "    blob.save()\n",
    "print(\"Uploaded model to Blob\")\n",
    "blob.save()\n",
    "blob"
   ]
  },
  {
   "cell_type": "code",
   "execution_count": null,
   "id": "27457390-0be9-4d7c-abbc-b6911927d54d",
   "metadata": {},
   "outputs": [],
   "source": [
    "# Cleaning up our file:\n",
    "os.remove(\"training_kmeans.pickle\")"
   ]
  },
  {
   "cell_type": "markdown",
   "id": "6989a975-8882-414c-bf9b-19bec34fdaaf",
   "metadata": {},
   "source": [
    "Next move on to [01b Deploying an Unsupervised Classifier.ipynb](01b%20Deploying%20an%20Unsupervised%20Classifier.ipynb) to scale the inference of the model we just trained!"
   ]
  },
  {
   "cell_type": "code",
   "execution_count": null,
   "id": "0d246310-2514-4a1f-823d-b14579e5ec1d",
   "metadata": {},
   "outputs": [],
   "source": []
  }
 ],
 "metadata": {
  "kernelspec": {
   "display_name": "Python 3 (ipykernel)",
   "language": "python",
   "name": "python3"
  },
  "language_info": {
   "codemirror_mode": {
    "name": "ipython",
    "version": 3
   },
   "file_extension": ".py",
   "mimetype": "text/x-python",
   "name": "python",
   "nbconvert_exporter": "python",
   "pygments_lexer": "ipython3",
   "version": "3.9.18"
  }
 },
 "nbformat": 4,
 "nbformat_minor": 5
}

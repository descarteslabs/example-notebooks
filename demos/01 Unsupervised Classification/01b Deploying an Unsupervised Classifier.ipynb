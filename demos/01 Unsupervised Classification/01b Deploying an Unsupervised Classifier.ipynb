{
 "cells": [
  {
   "cell_type": "markdown",
   "id": "24cebbdd-aa54-4d04-9ff9-b726489101c3",
   "metadata": {},
   "source": [
    "# Unsupervised ML on the Descartes Labs Platform: Deploying a KMeans Classifier with Batch Compute\n",
    "__________________\n",
    "\n",
    "This notebook will demonstrate a typical example of how to deploy a machine learning model using Descartes Labs Platform APIs. \n",
    "\n",
    "The general steps covered in this notebook are:\n",
    "* Create a new [`Product`](https://docs.descarteslabs.com/descarteslabs/catalog/docs/product.html#descarteslabs.catalog.Product) to store results, including a single classified [`Band`](https://docs.descarteslabs.com/descarteslabs/catalog/docs/band.html#descarteslabs.catalog.Band)\n",
    "* Split up the state of Vermont into [`DLTile`](https://docs.descarteslabs.com/descarteslabs/geo/readme.html#descarteslabs.geo.DLTile)s, using the [`Vector API`](https://docs.descarteslabs.com/api/vector.html) to retrieve the input geometry\n",
    "* Define and submit an asynchronous Batch Compute [`Function`](https://docs.descarteslabs.com/descarteslabs/compute/readme.html#descarteslabs.compute.Function), accepting a tile ID and Product ID as input arguments which:\n",
    "    * Searches intersecting Sentinel-2 data for the input tile\n",
    "    * Retrieves the saved machine learning model [`Blob`](https://docs.descarteslabs.com/descarteslabs/catalog/docs/blob.html#descarteslabs.catalog.Blob)\n",
    "    * Runs inference on the **nir**, **red**, and **green** bands\n",
    "    * Saves the predictions as a new [`Image`](https://docs.descarteslabs.com/descarteslabs/catalog/docs/image.html)\n",
    "\n",
    "Optionally move on to  [01c Interactive Deployment with Dynamic Compute.ipynb](01c%20Interactive%20Deployment%20with%20Dynamic%20Compute.ipynb) to interactively deploy this model to new AOIs.\n",
    "\n",
    "_Note:_ In order to run this example you must first complete the steps outlined in [01a Training an Unsupervised Classifier.ipynb](01a%20Training%20an%20Unsupervised%20Classifier.ipynb)."
   ]
  },
  {
   "cell_type": "code",
   "execution_count": null,
   "id": "7973361d-2086-4424-aede-8ae080142254",
   "metadata": {
    "tags": []
   },
   "outputs": [],
   "source": [
    "import descarteslabs as dl\n",
    "from descarteslabs.catalog import Blob, ClassBand, Image, Product, properties as p\n",
    "from descarteslabs.compute import Function\n",
    "from descarteslabs.vector import Table"
   ]
  },
  {
   "cell_type": "code",
   "execution_count": null,
   "id": "0f31864b-39fc-4638-b798-a39d96c0ac1d",
   "metadata": {
    "tags": []
   },
   "outputs": [],
   "source": [
    "import os, pickle, sys\n",
    "import numpy as np\n",
    "\n",
    "from datetime import datetime\n",
    "\n",
    "import matplotlib.pyplot as plt"
   ]
  },
  {
   "cell_type": "markdown",
   "id": "41b1a46a-1450-4899-9681-93e1c53c51b2",
   "metadata": {},
   "source": [
    "Defining global variables for reference throughout this example, including the current user's org and user ID:"
   ]
  },
  {
   "cell_type": "code",
   "execution_count": null,
   "id": "3b347c62-f270-4f89-b141-c0cec3db2d61",
   "metadata": {
    "tags": []
   },
   "outputs": [],
   "source": [
    "org = dl.auth.Auth().payload[\"org\"]\n",
    "user_id = dl.auth.Auth().namespace"
   ]
  },
  {
   "cell_type": "markdown",
   "id": "4f5ea65b-a299-4dfb-ba2e-0d1328d3f7c9",
   "metadata": {},
   "source": [
    "As well as a unique name for our function, and product search metadata:"
   ]
  },
  {
   "cell_type": "code",
   "execution_count": null,
   "id": "e8c3e879-f306-4a8a-b727-19333020a1e8",
   "metadata": {
    "tags": []
   },
   "outputs": [],
   "source": [
    "func_name = f\"Run KMeans Model Inference {datetime.today().strftime('%Y-%m-%d')}\"\n",
    "s2_pid = \"esa:sentinel-2:l2a:v1\"\n",
    "bands = [\"nir\", \"red\", \"green\"]\n",
    "resolution = 10.0\n",
    "n_classes = 5"
   ]
  },
  {
   "cell_type": "code",
   "execution_count": null,
   "id": "9e5b31b7-b61a-41d4-8dc7-97db5c7ff531",
   "metadata": {},
   "outputs": [],
   "source": [
    "major = sys.version_info.major\n",
    "minor = sys.version_info.minor\n",
    "compute_image = f\"python{major}.{minor}:latest\"\n",
    "compute_image"
   ]
  },
  {
   "cell_type": "markdown",
   "id": "9d2e1c9f-a0b5-485f-a651-90500fa0f90d",
   "metadata": {},
   "source": [
    "## Creating an Output Product"
   ]
  },
  {
   "cell_type": "markdown",
   "id": "c5e4f18f-a77d-4f99-939d-3d2a04d3a41e",
   "metadata": {},
   "source": [
    "Next we will create a new product, by first creating a unique ID:"
   ]
  },
  {
   "cell_type": "code",
   "execution_count": null,
   "id": "cf639766-2206-4fdf-8d3b-5dd6a8b62b8b",
   "metadata": {
    "tags": []
   },
   "outputs": [],
   "source": [
    "kmeans_pid = f\"{org}:kmeans-results-{user_id}\""
   ]
  },
  {
   "cell_type": "markdown",
   "id": "4d4420ef-4da2-45b8-a641-61036068034b",
   "metadata": {},
   "source": [
    "#### **_Note on Product Creation:_** \n",
    "We do not always need to delete and overwrite our product on every iteration as in the following cell. This notebook is designed for demonstration purposes, where we do not care about preserving each prior product. \n",
    "\n",
    "In practice, as long as your product has a **unique** ID you may ignore the next cell and skip to the following."
   ]
  },
  {
   "cell_type": "code",
   "execution_count": null,
   "id": "b5feb6af-d8f3-4014-9f5c-a4ff9058cfcb",
   "metadata": {
    "tags": []
   },
   "outputs": [],
   "source": [
    "try:\n",
    "    kmeans_product = Product.get(kmeans_pid)\n",
    "    print(\"Product already exists, deleting old iteration\")\n",
    "    status = kmeans_product.delete_related_objects()\n",
    "    if status:\n",
    "        status.wait_for_completion()\n",
    "    print(\"Deleted related objects\")\n",
    "    kmeans_product.delete()\n",
    "    print(\"Deleted Product\")\n",
    "except:\n",
    "    print(\"No Product exists\")"
   ]
  },
  {
   "cell_type": "markdown",
   "id": "71ad99b5-b070-4761-974b-cdaf0c907178",
   "metadata": {},
   "source": [
    "Here we'll create our output product:"
   ]
  },
  {
   "cell_type": "code",
   "execution_count": null,
   "id": "ba9aa061-c146-403a-be8a-df912e0f62cb",
   "metadata": {
    "tags": []
   },
   "outputs": [],
   "source": [
    "kmeans_product = Product.get_or_create(kmeans_pid)\n",
    "kmeans_product.name = \"Testing KMeans Outputs\"\n",
    "kmeans_product.tags = [\"examples\"]\n",
    "kmeans_product.readers = []\n",
    "kmeans_product.save()\n",
    "kmeans_product"
   ]
  },
  {
   "cell_type": "markdown",
   "id": "4fd9d2d7-9b48-4bf3-9535-398332ef2e83",
   "metadata": {
    "tags": []
   },
   "source": [
    "Next we create a single [`ClassBand`](https://docs.descarteslabs.com/descarteslabs/catalog/docs/band.html#descarteslabs.catalog.ClassBand), which includes:\n",
    "* Unique ID\n",
    "* Data type\n",
    "* Valid data range\n",
    "* Display range\n",
    "* No data value\n",
    "* Resolution"
   ]
  },
  {
   "cell_type": "code",
   "execution_count": null,
   "id": "09c77787-5e51-4567-8acf-41b56e39dd58",
   "metadata": {
    "tags": []
   },
   "outputs": [],
   "source": [
    "band = ClassBand.get_or_create(\n",
    "    id=f\"{kmeans_product.id}:class\",\n",
    "    band_index=0,\n",
    "    data_type=dl.catalog.DataType.BYTE,\n",
    "    data_range=[0, n_classes],\n",
    "    display_range=[0, n_classes],\n",
    "    nodata=n_classes + 1,\n",
    "    resolution=dl.catalog.Resolution(\n",
    "        value=resolution, unit=dl.catalog.ResolutionUnit.METERS\n",
    "    ),\n",
    ")\n",
    "band.save()\n",
    "band"
   ]
  },
  {
   "cell_type": "markdown",
   "id": "66070ed1-99a6-4492-82f6-8e88d7cf65ff",
   "metadata": {},
   "source": [
    "## Setting the Global Study Area\n",
    "\n",
    "In the previous notebook [01a Training an Unsupervised Classifier.ipynb](01a%20Training%20an%20Unsupervised%20Classifier.ipynb) we trained our model over the Burlington area. Here we will retrieve all the counties in the state of Vermont as our global AOI over which we scale the model's inference."
   ]
  },
  {
   "cell_type": "markdown",
   "id": "4f973234-c0ab-41fa-8b6d-a4ab3c046f20",
   "metadata": {},
   "source": [
    "Here we will search for all counties with **STATEFP==50**:"
   ]
  },
  {
   "cell_type": "code",
   "execution_count": null,
   "id": "47f32a18-b7c1-42ec-b79f-35cd1a44d7cf",
   "metadata": {
    "tags": []
   },
   "outputs": [],
   "source": [
    "counties_table = Table.get(\n",
    "    \"descarteslabs:hifld:us-counties\",\n",
    "    columns=[\"STATEFP\", \"NAME\", \"geometry\"],\n",
    "    property_filter=(p.STATEFP == \"50\"),\n",
    ")\n",
    "counties_gdf = counties_table.collect()\n",
    "counties_gdf.plot()"
   ]
  },
  {
   "cell_type": "markdown",
   "id": "49ee0c1a-97d5-4853-b10c-a35c43966e16",
   "metadata": {},
   "source": [
    "And call [`.dissolve()`](https://geopandas.org/en/stable/docs/reference/api/geopandas.GeoDataFrame.dissolve.html#geopandas.GeoDataFrame.dissolve) and pass the dissolved geometry in to [`DLTile.from_shape()`](https://docs.descarteslabs.com/descarteslabs/geo/readme.html#descarteslabs.geo.DLTile):"
   ]
  },
  {
   "cell_type": "code",
   "execution_count": null,
   "id": "763971ec-8377-470d-9971-e7ac0b5902a2",
   "metadata": {
    "tags": []
   },
   "outputs": [],
   "source": [
    "geom = counties_gdf.dissolve()[\"geometry\"][0]\n",
    "dltiles = dl.geo.DLTile.from_shape(geom, resolution=10.0, tilesize=1024, pad=0)\n",
    "len(dltiles)"
   ]
  },
  {
   "cell_type": "markdown",
   "id": "559b5407-decb-406b-ba04-7a4d224e2776",
   "metadata": {},
   "source": [
    "_Note on spatial tiling grids:_\n",
    "\n",
    "This example was designed for demonstration purposes. You should modify the **resolution**, **tilesize**, and **pad** according to your input dataset."
   ]
  },
  {
   "cell_type": "markdown",
   "id": "7e2609c9-cdca-489a-8931-65b50ee971dc",
   "metadata": {},
   "source": [
    "## Defining the Batch Compute Function\n",
    "\n",
    "Now we can define a Python function to submit to the [`Batch Compute`](https://docs.descarteslabs.com/descarteslabs/compute/readme.html) service. The inputs here are:\n",
    "* A DLTile key\n",
    "* Output Product ID\n",
    "\n",
    "\n",
    "The overall steps are as follows:\n",
    "1. Retrieve our trained classifier as a blob\n",
    "2. Re-create a tile from the passed key\n",
    "3. Search Sentinel-2 using Catalog and our tile as the spatial intersection\n",
    "4. Mosaic the returned imagery as a numpy array\n",
    "5. Run predict from our retrieved model\n",
    "6. Create and upload our predictions to the output product"
   ]
  },
  {
   "cell_type": "code",
   "execution_count": null,
   "id": "710d073e-11cb-451b-9b15-648f970c3e02",
   "metadata": {
    "tags": []
   },
   "outputs": [],
   "source": [
    "def write_kmeans_to_catalog(dltile_key, out_pid):\n",
    "    import descarteslabs as dl\n",
    "    import pickle, os\n",
    "    import numpy as np\n",
    "    from datetime import datetime\n",
    "    from descarteslabs.catalog import (\n",
    "        Blob,\n",
    "        Product,\n",
    "        Image,\n",
    "        OverviewResampler,\n",
    "        properties as p,\n",
    "    )\n",
    "\n",
    "    # Variables\n",
    "    org = dl.auth.Auth().payload[\"org\"]\n",
    "    user_id = dl.auth.Auth().namespace\n",
    "\n",
    "    s2_pid = \"esa:sentinel-2:l2a:v1\"\n",
    "    bands = [\"nir\", \"red\", \"green\"]\n",
    "    # Download blob\n",
    "    blob = Blob.get(name=\"training_kmeans_model\", namespace=f\"{org}:{user_id}\")\n",
    "    blob.download(\"kmeans.pickle\")\n",
    "\n",
    "    print(\"Downloaded classifier\")\n",
    "    # Load classifier\n",
    "    clf = pickle.load(open(f\"kmeans.pickle\", \"rb\"))\n",
    "\n",
    "    # Getting DLTile, finding imagery\n",
    "    dltile = dl.geo.DLTile.from_key(dltile_key)\n",
    "\n",
    "    s2_prod = Product.get(s2_pid)\n",
    "    search = s2_prod.images()\n",
    "    ic = (\n",
    "        search.intersects(dltile)\n",
    "        .filter(\"2023-06-01\" < p.acquired < \"2023-09-01\")\n",
    "        .filter(p.cloud_fraction < 0.1)\n",
    "        .limit(None)\n",
    "    ).collect()\n",
    "\n",
    "    print(ic)\n",
    "\n",
    "    # Asserting we have imagery, else returning None\n",
    "    try:\n",
    "        assert len(ic) > 0\n",
    "    except:\n",
    "        print(\"No imagery here\")\n",
    "        return \"No imagery\"\n",
    "\n",
    "    # Downloading as ndarray\n",
    "    mosaic = ic.mosaic(\n",
    "        bands=bands,\n",
    "        geocontext=dltile,\n",
    "        bands_axis=-1,\n",
    "    )\n",
    "\n",
    "    print(\"Retrieved imagery\")\n",
    "\n",
    "    # Reshaping for sklearn:\n",
    "    ny, nx, nbands = mosaic.shape\n",
    "    in_data = mosaic.reshape(-1, nbands)\n",
    "\n",
    "    # predicting\n",
    "    preds = clf.predict(in_data).reshape(ny, nx)\n",
    "    print(\"Ran predictions\")\n",
    "    # Getting Product\n",
    "    out_product = Product.get_or_create(out_pid)\n",
    "    print(f\"Writing to {out_product.id}\")\n",
    "\n",
    "    # Creating an image\n",
    "    # note the required *unique* id corresponding to the DLTile\n",
    "    image = Image(\n",
    "        product=out_product,\n",
    "        id=f\"{out_product.id}:{dltile_key.replace(':', '_')}\",\n",
    "    )\n",
    "\n",
    "    print(f\"Created {image.id}\")\n",
    "\n",
    "    # Setting image geotransform + projection from dltile info\n",
    "    image.geotrans = dltile.geotrans\n",
    "    image.projection = dltile.proj4\n",
    "\n",
    "    # Make sure date is accurate\n",
    "    image.acquired = datetime.today().strftime(\"%Y-%m-%d\")\n",
    "\n",
    "    print(\"Uploading image\")\n",
    "    # Uploading as array\n",
    "    upload = image.upload_ndarray(\n",
    "        ndarray=preds.astype(\"uint8\"),\n",
    "        overviews=[2, 4, 8, 16, 32, 64],\n",
    "        overview_resampler=OverviewResampler.NEAREST,\n",
    "        overwrite=True,\n",
    "    )\n",
    "    # Waiting for completion\n",
    "    upload.wait_for_completion()\n",
    "    print(\"Complete\")\n",
    "\n",
    "    # cleaning up\n",
    "    os.remove(\"kmeans.pickle\")\n",
    "    return image.id"
   ]
  },
  {
   "cell_type": "markdown",
   "id": "9b362829-ad15-4de5-b109-b5d0764db6d1",
   "metadata": {},
   "source": [
    "Now we format a list of arguments to iterate over:"
   ]
  },
  {
   "cell_type": "code",
   "execution_count": null,
   "id": "753ab00d-36db-4682-8f92-c6eb6c03f9a1",
   "metadata": {
    "tags": []
   },
   "outputs": [],
   "source": [
    "args = [(dltile.key, kmeans_pid) for dltile in dltiles]\n",
    "len(args)"
   ]
  },
  {
   "cell_type": "markdown",
   "id": "4ee42633-f184-447d-9423-98ddc9b12dd5",
   "metadata": {},
   "source": [
    "And test things out locally:"
   ]
  },
  {
   "cell_type": "code",
   "execution_count": null,
   "id": "4588e928-395c-4ae7-b83e-1b4816a7db8a",
   "metadata": {
    "tags": []
   },
   "outputs": [],
   "source": [
    "img_id = write_kmeans_to_catalog(*args[0])\n",
    "\n",
    "img = Image.get(img_id)\n",
    "ndarray = img.ndarray(\"class\")\n",
    "dl.utils.display(ndarray[0], size=5)"
   ]
  },
  {
   "cell_type": "markdown",
   "id": "0cc87b56-4c42-46c5-b00e-51965fc46db1",
   "metadata": {},
   "source": [
    "Once we are happy with the performance of our function we can save it to our Compute service. \n",
    "\n",
    "Note here that we must pass scikit-learn as a requirement:"
   ]
  },
  {
   "cell_type": "code",
   "execution_count": null,
   "id": "09bf0e7a-45f0-43df-a26b-bf0cdaf544ac",
   "metadata": {
    "tags": []
   },
   "outputs": [],
   "source": [
    "async_func = Function(\n",
    "    write_kmeans_to_catalog,\n",
    "    name=func_name,\n",
    "    image=compute_image,\n",
    "    cpus=1,\n",
    "    memory=2,\n",
    "    timeout=900,\n",
    "    maximum_concurrency=50,\n",
    "    retry_count=2,\n",
    "    requirements=[\"scikit-learn\"],\n",
    ")\n",
    "async_func.save()\n",
    "print(f\"Saved {async_func.id}\")"
   ]
  },
  {
   "cell_type": "markdown",
   "id": "8a6ab57b-4e94-4ec2-80d3-ba2e34231330",
   "metadata": {},
   "source": [
    "**_Take note of your Function ID!_**"
   ]
  },
  {
   "cell_type": "markdown",
   "id": "50e41937-1b02-4015-a8d9-f577141a7863",
   "metadata": {},
   "source": [
    "And finally map args to our [`Function`](https://docs.descarteslabs.com/descarteslabs/compute/readme.html#descarteslabs.compute.Function) to return a set of [`Job`](https://docs.descarteslabs.com/descarteslabs/compute/readme.html#descarteslabs.compute.Job)s:"
   ]
  },
  {
   "cell_type": "code",
   "execution_count": null,
   "id": "08325ac5-2b9e-40cf-a32d-ad5c4142d768",
   "metadata": {
    "tags": []
   },
   "outputs": [],
   "source": [
    "jobs = async_func.map(args)\n",
    "len(jobs)"
   ]
  },
  {
   "cell_type": "markdown",
   "id": "841866c3-2852-43ea-8569-a8dd21e09563",
   "metadata": {},
   "source": [
    "Navigate to [app.descarteslabs.com/compute](https://app.descarteslabs.com/compute) to track your progress! Or wait programmatically via:"
   ]
  },
  {
   "cell_type": "code",
   "execution_count": null,
   "id": "273e0478-6567-446b-baa4-1861290ecd57",
   "metadata": {},
   "outputs": [],
   "source": [
    "# async_func.wait_for_completion()"
   ]
  },
  {
   "cell_type": "markdown",
   "id": "ec2bf78d-a088-4748-a551-4b9b0cc15d02",
   "metadata": {},
   "source": [
    "Once this function completes, you can navigate to [Explorer](https://app.descarteslabs.com/explorer) to view your results or move on to [01c Interactive Deployment with Dynamic Compute.ipynb](01c%20Interactive%20Deployment%20with%20Dynamic%20Compute.ipynb) for more interactivity with [`Dynamic Compute`](https://docs.descarteslabs.com/api/dynamic-compute.html)"
   ]
  },
  {
   "cell_type": "code",
   "execution_count": null,
   "id": "1a81b153-0419-414b-8fa3-d4ec5dcc2e7e",
   "metadata": {},
   "outputs": [],
   "source": []
  }
 ],
 "metadata": {
  "kernelspec": {
   "display_name": "Python 3 (ipykernel)",
   "language": "python",
   "name": "python3"
  },
  "language_info": {
   "codemirror_mode": {
    "name": "ipython",
    "version": 3
   },
   "file_extension": ".py",
   "mimetype": "text/x-python",
   "name": "python",
   "nbconvert_exporter": "python",
   "pygments_lexer": "ipython3",
   "version": "3.9.18"
  }
 },
 "nbformat": 4,
 "nbformat_minor": 5
}

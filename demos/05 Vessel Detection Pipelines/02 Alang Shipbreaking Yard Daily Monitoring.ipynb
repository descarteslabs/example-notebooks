{
 "cells": [
  {
   "cell_type": "code",
   "execution_count": null,
   "id": "6b1e4792-f1d7-4a55-89df-23617d3fc743",
   "metadata": {},
   "outputs": [],
   "source": [
    "# %pip install geoai"
   ]
  },
  {
   "cell_type": "code",
   "execution_count": null,
   "id": "6b4c01c5-7fbb-4f52-91ab-55212486759c",
   "metadata": {},
   "outputs": [],
   "source": [
    "from descarteslabs.catalog import (\n",
    "    EventSchedule,\n",
    "    ScheduledEventSubscription,\n",
    "    EventSubscriptionComputeTarget,\n",
    "    Placeholder,\n",
    ")"
   ]
  },
  {
   "cell_type": "code",
   "execution_count": null,
   "id": "3f89d850-e732-470d-8510-bde06764e0d0",
   "metadata": {},
   "outputs": [],
   "source": [
    "import geoai"
   ]
  },
  {
   "cell_type": "code",
   "execution_count": null,
   "id": "e6f53f97-e91d-4fd0-a38d-abb8f0e89be5",
   "metadata": {},
   "outputs": [],
   "source": [
    "\n",
    "from datetime import datetime, timedelta\n",
    "import json\n",
    "import sys\n",
    "import numpy as np\n",
    "import geopandas as gpd\n",
    "import matplotlib.pyplot as plt"
   ]
  },
  {
   "cell_type": "code",
   "execution_count": null,
   "id": "9adbc177-07c8-484b-9168-65f653a73288",
   "metadata": {},
   "outputs": [],
   "source": [
    "from rasterio.plot import reshape_as_image\n",
    "from rasterio.transform import Affine\n",
    "from shapely import wkt"
   ]
  },
  {
   "cell_type": "code",
   "execution_count": null,
   "id": "8888da92-7c3a-4626-9d2d-f5b150585b64",
   "metadata": {},
   "outputs": [],
   "source": [
    "from utils import create_table"
   ]
  }
 ],
 "metadata": {
  "kernelspec": {
   "display_name": "Python 3 (ipykernel)",
   "language": "python",
   "name": "python3"
  },
  "language_info": {
   "codemirror_mode": {
    "name": "ipython",
    "version": 3
   },
   "file_extension": ".py",
   "mimetype": "text/x-python",
   "name": "python",
   "nbconvert_exporter": "python",
   "pygments_lexer": "ipython3",
   "version": "3.12.9"
  }
 },
 "nbformat": 4,
 "nbformat_minor": 5
}

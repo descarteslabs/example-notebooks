{
 "cells": [
  {
   "cell_type": "markdown",
   "id": "21883a5d-6faa-404c-85c9-f60f29ccf749",
   "metadata": {},
   "source": [
    "# Computer Vision on the Descartes Labs Platform - Deploying a Segmentation Model\n",
    "__________________\n",
    "\n",
    "This notebook will demonstrate how one can utilize Descartes Labs Python APIs to efficiently prototype and iterate on deploying, or running inference, an image segmentation model over large areas of interest (AOIs). This is meant to serve _solely as a jumping off point_ and is not intended to be used as a panacea for all machine learning needs. \n",
    "\n",
    "The general outline of this sample is as follows:\n",
    "* Create a new [`Product`](https://docs.descarteslabs.com/descarteslabs/catalog/docs/product.html) with a single [`Band`](https://docs.descarteslabs.com/descarteslabs/catalog/readme.html) to store the results of the model trained in [03b Training a Segmentation Model.ipynb](03b%20Training%20a%20Segmentation%20Model.ipynb)\n",
    "* Define an asynchronous [`Function`](https://docs.descarteslabs.com/descarteslabs/compute/readme.html#descarteslabs.compute.Function) which will:\n",
    "    * Accept a single [`DLTile`](https://docs.descarteslabs.com/descarteslabs/geo/readme.html#descarteslabs.geo.DLTile) key and output product ID as an input argument\n",
    "    * Retrieve the segmentation model weights file stored as a [`Blob`'](https://docs.descarteslabs.com/descarteslabs/catalog/docs/blob.html#descarteslabs.catalog.Blob)\n",
    "    * Search and retrieve the corresponding [National Agricultural Imagery Program (NAIP)](https://app.descarteslabs.com/explorer/datasets/usda:naip:v1) imagery and _infer_ the model\n",
    "    * Save the results of the model's deployment back to a new [`Image`](https://docs.descarteslabs.com/descarteslabs/catalog/docs/image.html)\n",
    "* Explore options for defining large AOIs to deploy this model:\n",
    "    * Arbitrary geometries\n",
    "    * Optionally through an interactive [`Dynamic Compute`](https://docs.descarteslabs.com/api/dynamic-compute.html) map in [03d Interactive Deployment with Dynamic Compute.ipynb](03d%20Interactive%20Deployment%20with%20Dynamic%20Compute.ipynb)\n",
    "    \n",
    "    \n",
    "#### Note: After completing [03b Training a Segmentation Model.ipynb](03b%20Training%20a%20Segmentation%20Model.ipynb) it is advised to shut down the kernel to avoid memory limits"
   ]
  },
  {
   "cell_type": "code",
   "execution_count": null,
   "id": "e1323388-feb7-4ab7-9989-9b4bc95f0b17",
   "metadata": {
    "tags": []
   },
   "outputs": [],
   "source": [
    "import descarteslabs as dl\n",
    "from descarteslabs.catalog import (\n",
    "    GenericBand,\n",
    "    Blob,\n",
    "    Image,\n",
    "    OverviewResampler,\n",
    "    Product,\n",
    "    properties as p,\n",
    ")\n",
    "from descarteslabs.compute import Function\n",
    "from descarteslabs.vector import Table"
   ]
  },
  {
   "cell_type": "code",
   "execution_count": null,
   "id": "ad67c5d4-b65e-4ffe-ab21-ebc4c9254174",
   "metadata": {
    "tags": []
   },
   "outputs": [],
   "source": [
    "import sys\n",
    "import geopandas as gpd\n",
    "import matplotlib.pyplot as plt"
   ]
  },
  {
   "cell_type": "code",
   "execution_count": null,
   "id": "dcae132d-769d-4062-917e-2081b244e09b",
   "metadata": {},
   "outputs": [],
   "source": [
    "import tensorflow as tf"
   ]
  },
  {
   "cell_type": "markdown",
   "id": "c5abe0f1-f25c-4a32-9037-956ea55154b1",
   "metadata": {},
   "source": [
    "Setting global variables:"
   ]
  },
  {
   "cell_type": "code",
   "execution_count": null,
   "id": "d15485d9-7a3b-47c2-93f1-03fc2e9f9006",
   "metadata": {
    "tags": []
   },
   "outputs": [],
   "source": [
    "func_name = \"Deploy Wellpad Model\""
   ]
  },
  {
   "cell_type": "code",
   "execution_count": null,
   "id": "a9880a27-fa8e-43ff-afe5-9f387307a30c",
   "metadata": {},
   "outputs": [],
   "source": [
    "user_hash = dl.auth.Auth().namespace\n",
    "org = dl.auth.Auth().payload['org']"
   ]
  },
  {
   "cell_type": "code",
   "execution_count": null,
   "id": "56047017-7521-4524-b74f-b472d1aa8503",
   "metadata": {},
   "outputs": [],
   "source": [
    "major = sys.version_info.major\n",
    "minor = sys.version_info.minor\n",
    "compute_image = f\"python{major}.{minor}:latest\"\n",
    "compute_image"
   ]
  },
  {
   "cell_type": "markdown",
   "id": "9b29067c-e197-459b-95b8-f13c07c0f4f4",
   "metadata": {},
   "source": [
    "## Creating an Output Product\n",
    "Below we create a new product to save our model results to. Note we are appending our user ID to the end, but in practice this is not required _as long as your ID is unique to your organization_."
   ]
  },
  {
   "cell_type": "code",
   "execution_count": null,
   "id": "a96d00e7-2860-4990-8a0b-2ff619849e60",
   "metadata": {
    "tags": []
   },
   "outputs": [],
   "source": [
    "res_pid = f\"segmentation-outputs-{user_hash}\""
   ]
  },
  {
   "cell_type": "markdown",
   "id": "4306c528-9530-4bfd-bc0c-d4644aae1e56",
   "metadata": {},
   "source": [
    "#### Note on Product ID Creation\n",
    "Since this is an example, where multiple users at the same organization may re-run this notebook, we intend to delete and overwrite the output product upon every iteration. Because of this we must reconstruct the product's _namespace_. In the following cell we will append either the current user's _organization_ or _user hash_ to the passed product ID:"
   ]
  },
  {
   "cell_type": "code",
   "execution_count": null,
   "id": "654ae3c6-eb8e-4a4b-a071-b97a8522a47d",
   "metadata": {},
   "outputs": [],
   "source": [
    "try:\n",
    "    assert org\n",
    "    res_pid = f\"{org}:{res_pid}\"\n",
    "except:\n",
    "    res_pid = f\"{user_hash}:{res_pid}\"\n",
    "res_pid"
   ]
  },
  {
   "cell_type": "markdown",
   "id": "191fba10-9b9c-468e-b627-931149cd9a1a",
   "metadata": {},
   "source": [
    "We do not always need to delete and overwrite our product on every iteration as in the following cell. This notebook is designed for demonstration purposes, where we do not care about preserving each prior product.\n",
    "\n",
    "In practice, as long as your product has a **unique** ID you may ignore the next cell and skip to the following."
   ]
  },
  {
   "cell_type": "code",
   "execution_count": null,
   "id": "7b067792-af5f-45d8-8999-7633eb1f4ac0",
   "metadata": {
    "tags": []
   },
   "outputs": [],
   "source": [
    "result_product = Product.get_or_create(res_pid)\n",
    "\n",
    "if result_product.state == dl.catalog.DocumentState.SAVED:\n",
    "    status = result_product.delete_related_objects()\n",
    "    if status:\n",
    "        status.wait_for_completion()\n",
    "    result_product.delete()"
   ]
  },
  {
   "cell_type": "code",
   "execution_count": null,
   "id": "47423ce1-fe24-4750-b3d1-094ad006b335",
   "metadata": {
    "tags": []
   },
   "outputs": [],
   "source": [
    "res_product = Product.get_or_create(res_pid)\n",
    "res_product.name = \"Testing Segmentation Outputs\"\n",
    "res_product.tags = [\"examples\"]\n",
    "res_product.readers = []\n",
    "res_product.save()\n",
    "res_product"
   ]
  },
  {
   "cell_type": "markdown",
   "id": "4ebe3f0c-ec33-482c-8c17-a0b404afd349",
   "metadata": {},
   "source": [
    "Creating our output band:"
   ]
  },
  {
   "cell_type": "code",
   "execution_count": null,
   "id": "d1cf990d-f77e-4307-8e76-af54256a511a",
   "metadata": {
    "tags": []
   },
   "outputs": [],
   "source": [
    "band = GenericBand.get_or_create(\n",
    "    id=f\"{res_product.id}:class\",\n",
    "    band_index=0,\n",
    "    data_type=dl.catalog.DataType.FLOAT32,\n",
    "    data_range=[0, 1],\n",
    "    display_range=[0, 1],\n",
    "    nodata=0,\n",
    "    colormap_name=\"viridis\",\n",
    "    resolution=dl.catalog.Resolution(value=1.0, unit=dl.catalog.ResolutionUnit.METERS),\n",
    ")\n",
    "band.save()"
   ]
  },
  {
   "cell_type": "markdown",
   "id": "0f0b42fc-5008-4847-9fcd-65773ef140b4",
   "metadata": {
    "tags": []
   },
   "source": [
    "## Scaling with Batch Compute\n",
    "Here we define a local function to send to our compute service which:\n",
    "* Accepts a tile key and product ID to write to\n",
    "* Retrieves the model \n",
    "* Searches imagery over our tile\n",
    "* Infers, or runs, our model over the rastered imagery\n",
    "* Write the results back to our product as a new image"
   ]
  },
  {
   "cell_type": "code",
   "execution_count": null,
   "id": "d0091703-980b-4271-9e41-3fdd6e423d12",
   "metadata": {
    "tags": []
   },
   "outputs": [],
   "source": [
    "def write_segmentation_to_catalog(dltile_key, out_pid):\n",
    "    import descarteslabs as dl\n",
    "    import numpy as np\n",
    "    import os\n",
    "    from descarteslabs.catalog import (\n",
    "        Blob,\n",
    "        Product,\n",
    "        Image,\n",
    "        OverviewResampler,\n",
    "        properties as p,\n",
    "    )\n",
    "\n",
    "    from keras.models import load_model\n",
    "\n",
    "    org = dl.auth.Auth().payload[\"org\"]\n",
    "    user_id = dl.auth.Auth().namespace\n",
    "\n",
    "    print(\"Starting process...\")\n",
    "    blob = Blob.get(name=\"training_segmentation\")\n",
    "    blob.download(\"segmentation_model.keras\")\n",
    "    print(\"Downloaded model...\")\n",
    "\n",
    "    model = load_model(f\"segmentation_model.keras\")\n",
    "    print(\"Loaded model...\")\n",
    "    # Getting DLTile, finding input Images\n",
    "    dltile = dl.geo.DLTile.from_key(dltile_key)\n",
    "\n",
    "    naip_pid = \"usda:naip:v1\"\n",
    "    bands = [\"nir\", \"red\", \"green\"]\n",
    "\n",
    "    naip_prod = Product.get(naip_pid)\n",
    "\n",
    "    naip_ic = (\n",
    "        naip_prod.images()\n",
    "        .intersects(dltile)\n",
    "        .filter(\"2016-01-01\" < p.acquired < \"2017-01-01\")\n",
    "    ).collect()\n",
    "    print(\"Searched imagery...\")\n",
    "    arr = naip_ic.mosaic(bands, bands_axis=-1)\n",
    "    print(\"Retrieved imagery...\")\n",
    "    preds = model.predict(np.array([arr]))[0, :, :, 0]\n",
    "    # Masking out very low values\n",
    "    preds[preds < 0.1] = 0\n",
    "    print(\"Complete predictions...\")\n",
    "\n",
    "    out_product = dl.catalog.Product.get(out_pid)\n",
    "    print(f\"Writing to {out_product.id}\")\n",
    "    # Creating an image - note the required unique id corresponding to the DLTile\n",
    "    image = Image(\n",
    "        product=out_product,\n",
    "        id=f\"{out_product.id}:{dltile_key.replace(':', '_')}\",\n",
    "    )\n",
    "    print(\"Writing image...\")\n",
    "    # Setting image geotransform + projection from dltile info\n",
    "    image.geotrans = dltile.geotrans\n",
    "    image.projection = dltile.proj4\n",
    "    image.acquired = \"2023-11-28\"  # Make sure this is accurate\n",
    "    image.extra_properties = {\"foo\": \"bar\"}  # You can add up to 50 extra props\n",
    "    upload = image.upload_ndarray(\n",
    "        ndarray=preds,\n",
    "        overviews=[2, 4, 8, 16, 32, 64],\n",
    "        overview_resampler=OverviewResampler.NEAREST,\n",
    "        overwrite=True,\n",
    "    )\n",
    "    upload.wait_for_completion()\n",
    "    print(\"Cleaning up...\")\n",
    "    os.remove(\"segmentation_model.keras\")\n",
    "    return image.id"
   ]
  },
  {
   "cell_type": "markdown",
   "id": "35054f57-1daf-4bf7-b225-46dad05a424a",
   "metadata": {},
   "source": [
    "Sample tile:"
   ]
  },
  {
   "cell_type": "code",
   "execution_count": null,
   "id": "fd80fe6d-4ef9-4fa1-b8e2-b791457ec112",
   "metadata": {
    "tags": []
   },
   "outputs": [],
   "source": [
    "dltile = dl.geo.DLTile.from_latlon(\n",
    "    33.4730, -101.4974, resolution=1.0, tilesize=512, pad=0\n",
    ")"
   ]
  },
  {
   "cell_type": "markdown",
   "id": "3ecfaaae-8b2e-4d6b-86a4-bdf995f727aa",
   "metadata": {},
   "source": [
    "Sample iteration of our function, locally:"
   ]
  },
  {
   "cell_type": "code",
   "execution_count": null,
   "id": "9a8390eb-34d3-4eef-80e3-bf17f829bd5e",
   "metadata": {
    "tags": []
   },
   "outputs": [],
   "source": [
    "img_id = write_segmentation_to_catalog(dltile.key, res_product.id)\n",
    "out_img = Image.get(img_id)\n",
    "ndarr = out_img.ndarray(\"class\")\n",
    "plt.imshow(ndarr[0])"
   ]
  },
  {
   "cell_type": "markdown",
   "id": "2f7e7b03-1cb0-4865-b025-9df39c6d545e",
   "metadata": {},
   "source": [
    "Defining the compute function:"
   ]
  },
  {
   "cell_type": "code",
   "execution_count": null,
   "id": "ff8212f8-f646-4a8b-ad48-f11e607f71e9",
   "metadata": {
    "tags": []
   },
   "outputs": [],
   "source": [
    "async_func = Function(\n",
    "    write_segmentation_to_catalog,\n",
    "    name=func_name,\n",
    "    image=compute_image,\n",
    "    cpus=1,\n",
    "    memory=2,\n",
    "    timeout=100,\n",
    "    maximum_concurrency=50,\n",
    "    retry_count=0,\n",
    "    requirements=[\n",
    "        f\"tensorflow=={tf.__version__}\",\n",
    "    ],\n",
    ")\n",
    "async_func.save()\n",
    "print(f\"Saved {async_func.id}\")"
   ]
  },
  {
   "cell_type": "markdown",
   "id": "24fbff44-0765-416e-b11a-cd8fe5fee860",
   "metadata": {
    "tags": []
   },
   "source": [
    "Defining an AOI and splitting into tiles:"
   ]
  },
  {
   "cell_type": "code",
   "execution_count": null,
   "id": "0519de3b-fb0c-4ea3-b139-9a02c9ca7192",
   "metadata": {
    "tags": []
   },
   "outputs": [],
   "source": [
    "geom = [\n",
    "    {\n",
    "        \"geometry\": {\n",
    "            \"coordinates\": [\n",
    "                [\n",
    "                    [-101.5687330486888, 33.46344873260057],\n",
    "                    [-101.57138184506375, 33.54154310531996],\n",
    "                    [-101.4349688317516, 33.54233158762628],\n",
    "                    [-101.43477963201026, 33.46123897849522],\n",
    "                    [-101.5687330486888, 33.46344873260057],\n",
    "                ]\n",
    "            ],\n",
    "            \"type\": \"Polygon\",\n",
    "        },\n",
    "    }\n",
    "]\n",
    "dltiles = dl.geo.DLTile.from_shape(geom, resolution=1.0, tilesize=512, pad=0)\n",
    "len(dltiles)"
   ]
  },
  {
   "cell_type": "markdown",
   "id": "066e0980-a8c9-4346-9369-8e93e7c5d8bd",
   "metadata": {},
   "source": [
    "And a set of input arguments:"
   ]
  },
  {
   "cell_type": "code",
   "execution_count": null,
   "id": "879feebf-cd49-4293-9920-018f70ea0de4",
   "metadata": {},
   "outputs": [],
   "source": [
    "args = [(dltile.key, res_product.id) for dltile in dltiles]"
   ]
  },
  {
   "cell_type": "markdown",
   "id": "15d8b79f-63ca-43eb-842d-c5c98ea00417",
   "metadata": {},
   "source": [
    "And finally mapping our arguments:"
   ]
  },
  {
   "cell_type": "code",
   "execution_count": null,
   "id": "aacf0214-fb04-4768-a822-f446ddbe9d9c",
   "metadata": {
    "tags": []
   },
   "outputs": [],
   "source": [
    "jobs = async_func.map(args)\n",
    "len(jobs)"
   ]
  },
  {
   "cell_type": "markdown",
   "id": "d65a094a-6ff7-46c7-be43-76c8a0927b64",
   "metadata": {},
   "source": [
    "At this point we can wait asynchronously via:\n",
    "\n",
    "    async_func.wait_for_completion()\n",
    "\n",
    "Or navigate to [app.descarteslabs.com/compute](https://app.descarteslabs.com/compute) to track and manage your function's progress."
   ]
  },
  {
   "cell_type": "markdown",
   "id": "c06f6b12-7a1c-4e71-a43c-109bd348b9eb",
   "metadata": {
    "tags": []
   },
   "source": [
    "#### *Optional Vectorization Example:*\n",
    "Example of vectorizing outputs, with a given threshold:"
   ]
  },
  {
   "cell_type": "code",
   "execution_count": null,
   "id": "4aef0bcb-a7d7-4053-861b-de0ad7324772",
   "metadata": {
    "tags": []
   },
   "outputs": [],
   "source": [
    "from rasterio.features import shapes\n",
    "from rasterio.transform import Affine\n",
    "from rasterio.plot import reshape_as_raster\n",
    "from shapely.geometry import shape"
   ]
  },
  {
   "cell_type": "code",
   "execution_count": null,
   "id": "36063f42-0c04-4622-a52a-d0d1e2359426",
   "metadata": {
    "tags": []
   },
   "outputs": [],
   "source": [
    "trans = Affine.from_gdal(*dltile.geotrans)"
   ]
  },
  {
   "cell_type": "code",
   "execution_count": null,
   "id": "82a3abdc-2140-48d3-9221-4767f0f0601f",
   "metadata": {
    "tags": []
   },
   "outputs": [],
   "source": [
    "thresh = 0.8\n",
    "ndarr[ndarr > thresh] = 1"
   ]
  },
  {
   "cell_type": "code",
   "execution_count": null,
   "id": "9d72cbb5-0ce1-4b13-bf85-8c41feccac23",
   "metadata": {
    "tags": []
   },
   "outputs": [],
   "source": [
    "polys = list(shapes(ndarr, mask=(ndarr >= 1), transform=trans))\n",
    "poly_list = [shape(poly[0]) for poly in polys]"
   ]
  },
  {
   "cell_type": "code",
   "execution_count": null,
   "id": "3a7820e8-0fe1-4194-af8e-027fdd649a39",
   "metadata": {
    "tags": []
   },
   "outputs": [],
   "source": [
    "vector_gdf = gpd.GeoDataFrame({\"geometry\": poly_list}, crs=dltile.crs).to_crs(\n",
    "    dltile.crs\n",
    ")\n",
    "vector_gdf.plot()"
   ]
  }
 ],
 "metadata": {
  "kernelspec": {
   "display_name": "Python 3 (ipykernel)",
   "language": "python",
   "name": "python3"
  },
  "language_info": {
   "codemirror_mode": {
    "name": "ipython",
    "version": 3
   },
   "file_extension": ".py",
   "mimetype": "text/x-python",
   "name": "python",
   "nbconvert_exporter": "python",
   "pygments_lexer": "ipython3",
   "version": "3.9.18"
  }
 },
 "nbformat": 4,
 "nbformat_minor": 5
}

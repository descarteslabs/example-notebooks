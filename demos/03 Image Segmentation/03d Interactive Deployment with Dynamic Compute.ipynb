{
 "cells": [
  {
   "cell_type": "markdown",
   "id": "248c40eb-020b-456d-b25b-1f71861d31ef",
   "metadata": {},
   "source": [
    "## Computer Vision on Descartes Labs Platform:  Interactive Deployment with Dynamic Compute\n",
    "__________________\n",
    "This notebook will demonstrate a typical example of how to interact with the results of a deep learning model using Descartes Labs Platform APIs and define new AOIs to analyze on-the-fly.\n",
    "\n",
    "The general steps covered in this notebook are:\n",
    "* Retrieve a running [`Function`](https://docs.descarteslabs.com/descarteslabs/compute/readme.html#descarteslabs.compute.Function)\n",
    "* Display results overlain on input imagery in a web map with [`Dynamic Compute`](https://docs.descarteslabs.com/api/dynamic-compute.html)\n",
    "* Specify new areas to apply our model over with interactive [widgets](https://ipywidgets.readthedocs.io/en/stable/)\n",
    "\n",
    "_**Note:**_ In order to run this example you must first complete the steps outlined in [03a Generate Training Data.ipynb](03a%20Generate%20Training%20Data.ipynb), [03b Training a Segmentation Model.ipynb](03b%20Training%20a%20Segmentation%20Model.ipynb), and [03c Deploying a Segmentation Model.ipynb](03c%20Deploying%20a%20Segmentation%20Model.ipynb)."
   ]
  },
  {
   "cell_type": "code",
   "execution_count": null,
   "id": "74087b4c-60f9-4c55-b3b5-d0483f0b5754",
   "metadata": {
    "tags": []
   },
   "outputs": [],
   "source": [
    "import descarteslabs as dl\n",
    "from descarteslabs.catalog import properties as p\n",
    "import descarteslabs.dynamic_compute as dc\n",
    "\n",
    "from descarteslabs.compute import Function, FunctionStatus, Job\n",
    "from descarteslabs.dynamic_compute import Mosaic\n",
    "from descarteslabs.vector import Table"
   ]
  },
  {
   "cell_type": "code",
   "execution_count": null,
   "id": "b3281816-148a-4d27-9b9b-c22b9240b0cc",
   "metadata": {
    "tags": []
   },
   "outputs": [],
   "source": [
    "import geopandas as gpd\n",
    "from datetime import datetime\n",
    "from ipyleaflet import DrawControl"
   ]
  },
  {
   "cell_type": "markdown",
   "id": "15f0c3f3-546a-4c02-b319-10b7494c9bc0",
   "metadata": {},
   "source": [
    "### Retrieving an Active Compute Function \n",
    "\n",
    "If you lost your ID, you can retrieve it at [app.descarteslabs.com/compute](https://app.descarteslabs.com/compute) or search the latest created Function with that name as below:"
   ]
  },
  {
   "cell_type": "code",
   "execution_count": null,
   "id": "2609aa4f-8718-4706-a420-bceed0b05915",
   "metadata": {
    "tags": []
   },
   "outputs": [],
   "source": [
    "func_search = (\n",
    "    Function.search()\n",
    "    .filter(p.owner == user_id)\n",
    "    .filter(p.name.startswith(\"Deploy Wellpad Model\"))\n",
    "    .sort(-Function.creation_date)\n",
    "    .limit(1)\n",
    ").collect()\n",
    "\n",
    "for func in func_search:\n",
    "    print(func.id)\n",
    "    print(func.creation_date)"
   ]
  },
  {
   "cell_type": "code",
   "execution_count": null,
   "id": "809fa8dd-9eaf-46d3-b27e-b57cf213d39d",
   "metadata": {
    "tags": []
   },
   "outputs": [],
   "source": [
    "async_func = func_search[0]\n",
    "async_func"
   ]
  },
  {
   "cell_type": "markdown",
   "id": "863c958b-4a20-400d-ad99-978733dd20b2",
   "metadata": {},
   "source": [
    "### Setting Up Dynamic Compute\n",
    "\n",
    "Here we will set  up the interactive map components to visualize our study area. \n",
    "\n",
    "First we set up a map frame alongside center coordinates and zoom level:"
   ]
  },
  {
   "cell_type": "code",
   "execution_count": null,
   "id": "f8529522-1658-4e37-a5df-ab60c5d05d73",
   "metadata": {},
   "outputs": [],
   "source": [
    "m = dc.map\n",
    "\n",
    "m.center = 33.5085, -101.5381\n",
    "m.zoom = 14"
   ]
  },
  {
   "cell_type": "markdown",
   "id": "5b8a720b-1411-4cf7-b3bc-d1cd9e69edf4",
   "metadata": {},
   "source": [
    "Next create a and visualize a NAIP [`Mosaic`](https://docs.descarteslabs.com/api/dynamic-compute.html#descarteslabs.dynamic_compute.Mosaic) for our time period:"
   ]
  },
  {
   "cell_type": "code",
   "execution_count": null,
   "id": "1d6a2e80-3fa7-46b9-97fa-0f4261445acf",
   "metadata": {
    "tags": []
   },
   "outputs": [],
   "source": [
    "naip_mosaic = Mosaic.from_product_bands(\n",
    "    \"usda:naip:v1\",\n",
    "    \"nir red green\",\n",
    "    start_datetime=\"2016-01-01\",\n",
    "    end_datetime=\"2017-01-01\",\n",
    ")\n",
    "naip_mosaic.visualize(\"NAIP FCC\", m)"
   ]
  },
  {
   "cell_type": "markdown",
   "id": "c263ba44-951a-4818-a847-9b0622195ab0",
   "metadata": {},
   "source": [
    "And overlay our input training features as well:"
   ]
  },
  {
   "cell_type": "code",
   "execution_count": null,
   "id": "feaa0d43-fdb0-488f-927f-3a2e666bdfe7",
   "metadata": {},
   "outputs": [],
   "source": [
    "wellpad_table = Table.get(\"descarteslabs:wellpad-example-training-data\")\n",
    "wellpad_table.visualize(\"Wellpads\", m)"
   ]
  },
  {
   "cell_type": "markdown",
   "id": "9a820956-646a-48e1-ae80-e2273da3fc9c",
   "metadata": {
    "tags": []
   },
   "source": [
    "## Interactive ipyleaflet Integration\n",
    "Setting an empty list to keep track of all of our new [`Job`](https://docs.descarteslabs.com/descarteslabs/compute/readme.html#descarteslabs.compute.Job)s, and a simple handler function to add to our map. This function:\n",
    "* Accepts a \"draw\" event, including the new geometry\n",
    "* Splits the geometry into tiles and submits the tiles to our running function\n",
    "* Extends the new jobs list with these newly submitted jobs"
   ]
  },
  {
   "cell_type": "code",
   "execution_count": null,
   "id": "3584d720-988e-407a-827a-8d64df39b0a0",
   "metadata": {
    "tags": []
   },
   "outputs": [],
   "source": [
    "new_jobs = []"
   ]
  },
  {
   "cell_type": "code",
   "execution_count": null,
   "id": "b15d7411-e184-407d-87cb-07948dde12b2",
   "metadata": {
    "tags": []
   },
   "outputs": [],
   "source": [
    "draw_control = DrawControl()\n",
    "\n",
    "\n",
    "def handle_draw(target, action, geo_json):\n",
    "    if action == \"created\":\n",
    "        dltiles = dl.geo.DLTile.from_shape(\n",
    "            geo_json, resolution=1.0, tilesize=512, pad=0\n",
    "        )\n",
    "        args = [(dltile.key, res_pid) for dltile in dltiles]\n",
    "        jobs = async_func.map(args)\n",
    "        new_jobs.extend(jobs)\n",
    "        print(f\"Submitted {len(jobs)} jobs\")\n",
    "\n",
    "\n",
    "draw_control.on_draw(handle_draw)\n",
    "m.add_control(draw_control)"
   ]
  },
  {
   "cell_type": "markdown",
   "id": "7a6200eb-f083-439a-8c2e-40623e13966e",
   "metadata": {},
   "source": [
    "Lastly visualize our results:"
   ]
  },
  {
   "cell_type": "code",
   "execution_count": null,
   "id": "5473956d-a41c-41c8-b6a2-7f4bd399d5ab",
   "metadata": {
    "tags": []
   },
   "outputs": [],
   "source": [
    "user_hash = dl.auth.Auth().namespace\n",
    "org = dl.auth.Auth().payload['org']\n",
    "\n",
    "res_pid = f\"{org or  user_hash}:segmentation-outputs-{user_hash}\"\n",
    "res_pid"
   ]
  },
  {
   "cell_type": "code",
   "execution_count": null,
   "id": "70d4f31c-205c-42ca-bbf1-a86848385934",
   "metadata": {
    "tags": []
   },
   "outputs": [],
   "source": [
    "res_mosaic = Mosaic.from_product_bands(res_pid, \"class\")\n",
    "res_mosaic.visualize(\"Results\", m)"
   ]
  },
  {
   "cell_type": "markdown",
   "id": "841886ec-e4c8-421b-8bb3-c9e83f18787e",
   "metadata": {},
   "source": [
    "And instantiate our map!"
   ]
  },
  {
   "cell_type": "code",
   "execution_count": null,
   "id": "7e69e265-1255-4d5b-ae79-cee72c3f3427",
   "metadata": {
    "tags": []
   },
   "outputs": [],
   "source": [
    "m"
   ]
  },
  {
   "cell_type": "markdown",
   "id": "c4f896d2-a1a2-46cf-8ea8-5bb70470b13f",
   "metadata": {},
   "source": [
    "Here we now have a draw control widget, which will submit newly drawn polygons to our compute function"
   ]
  },
  {
   "cell_type": "code",
   "execution_count": null,
   "id": "6f3ef530-d5fc-4557-9e61-21edbf303b57",
   "metadata": {},
   "outputs": [],
   "source": [
    "len(new_jobs)"
   ]
  },
  {
   "cell_type": "code",
   "execution_count": null,
   "id": "966a1602-fe4c-4ffe-b815-cdaa4d89d72a",
   "metadata": {},
   "outputs": [],
   "source": []
  }
 ],
 "metadata": {
  "kernelspec": {
   "display_name": "Python 3 (ipykernel)",
   "language": "python",
   "name": "python3"
  },
  "language_info": {
   "codemirror_mode": {
    "name": "ipython",
    "version": 3
   },
   "file_extension": ".py",
   "mimetype": "text/x-python",
   "name": "python",
   "nbconvert_exporter": "python",
   "pygments_lexer": "ipython3",
   "version": "3.9.18"
  }
 },
 "nbformat": 4,
 "nbformat_minor": 5
}

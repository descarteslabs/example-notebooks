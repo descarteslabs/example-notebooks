{
 "cells": [
  {
   "cell_type": "markdown",
   "id": "02b747f7-921e-43b5-91f8-ac4f33b05562",
   "metadata": {},
   "source": [
    "# Deploying a Vessel Detection Pipeline with Batch Compute and atalog Events\n",
    "__________________\n",
    "#### _Objective:_\n",
    "Demonstrate how the Platform can enable low-latency, event-driven image analysis to be deployed easily at scale. Here we deploy a sample near-real-time pipeline which analyzes open-access [Sentinel-1 backscatter data](https://www.mdpi.com/2072-4292/14/15/3524) to identify vessel locations. This pipeline will be deployed over [Kaohsiung Port](https://kh.twport.com.tw/en/), the largest in [Taiwan and 15th largest in the world](https://www.worldshipping.org/top-50-ports), is located in a subtropical region often obscured by optical data.\n",
    "\n",
    "#### _What will we cover?_\n",
    "* Searching [`Catalog`](https://docs.descarteslabs.com/descarteslabs/catalog/readme.html) to retrieve imagery, masking, thresholding, and vectorizing the vertical polarized band (**vv**) from [Sentinel-1](https://sentiwiki.copernicus.eu/web/s1-mission) to highlight vessels on open water\n",
    "* Creating a  [`Function`](https://docs.descarteslabs.com/descarteslabs/compute/readme.html#descarteslabs.compute.Function) which will respond to each new image upload, vectorize detected vessels, and write the results to a [`Table`](https://docs.descarteslabs.com/descarteslabs/vector/readme.html)\n",
    "* Defining an [`EventSubscription`](https://docs.descarteslabs.com/descarteslabs/catalog/docs/event_subscription.html#descarteslabs.catalog.EventSubscription) which will invoke the function on each new image upload over our corresponding input geometry"
   ]
  },
  {
   "cell_type": "code",
   "execution_count": null,
   "id": "18fe4f91-a946-425a-a110-0ce4a185c205",
   "metadata": {},
   "outputs": [],
   "source": [
    "import descarteslabs as dl\n",
    "from descarteslabs.catalog import (\n",
    "    EventSubscription,\n",
    "    EventSubscriptionComputeTarget,\n",
    "    EventType,\n",
    "    Image,\n",
    "    Placeholder,\n",
    "    Product, \n",
    "    properties as p\n",
    ")\n",
    "from descarteslabs.compute import Function\n",
    "from descarteslabs.vector import Table"
   ]
  },
  {
   "cell_type": "code",
   "execution_count": null,
   "id": "91405145-48c2-4a9f-8641-065053ef8380",
   "metadata": {},
   "outputs": [],
   "source": [
    "from rasterio.features import shapes\n",
    "from rasterio.transform import Affine\n",
    "from shapely.geometry import shape"
   ]
  },
  {
   "cell_type": "code",
   "execution_count": null,
   "id": "077476de-2220-4ae8-9ac6-824890e35165",
   "metadata": {},
   "outputs": [],
   "source": [
    "import json\n",
    "import sys\n",
    "import numpy as np\n",
    "import geopandas as gpd\n",
    "import matplotlib.pyplot as plt"
   ]
  },
  {
   "cell_type": "markdown",
   "id": "7bf8f6d4-e249-4c3c-b719-b1e4461f174d",
   "metadata": {},
   "source": [
    "_**Note:** For brevity, these two helper functions are imported. For reference, please see [utils.py](utils.py)_"
   ]
  },
  {
   "cell_type": "code",
   "execution_count": null,
   "id": "ffbe4eda-cf56-4bc2-9640-f9faa0671d3c",
   "metadata": {},
   "outputs": [],
   "source": [
    "from utils import create_table, create_product"
   ]
  },
  {
   "cell_type": "markdown",
   "id": "2fba2ad4-3287-4d52-be29-d6fc935e75cc",
   "metadata": {},
   "source": [
    "Setting global variables:"
   ]
  },
  {
   "cell_type": "code",
   "execution_count": null,
   "id": "ba71126c-6481-456f-90a5-75003fd2bc9e",
   "metadata": {},
   "outputs": [],
   "source": [
    "# For Batch Compute Function\n",
    "major = sys.version_info.major\n",
    "minor = sys.version_info.minor"
   ]
  },
  {
   "cell_type": "code",
   "execution_count": null,
   "id": "7c94dfbd-7575-4861-a2c0-20c170c770f2",
   "metadata": {},
   "outputs": [],
   "source": [
    "auth = dl.auth.Auth.get_default_auth()\n",
    "org = auth.payload['org']\n",
    "user_hash = auth.namespace"
   ]
  },
  {
   "cell_type": "markdown",
   "id": "cf1f4d15-260c-4441-9942-647a8a997dee",
   "metadata": {},
   "source": [
    "Two input IDs are set:\n",
    "* A surrogate Sentinel-1 [`Product`](https://docs.descarteslabs.com/descarteslabs/catalog/docs/product.html#descarteslabs.catalog.Product) ID, as we will write a new Image to this product later on in the notebook\n",
    "* An empty Vector [`Table`](https://docs.descarteslabs.com/descarteslabs/vector/readme.html#descarteslabs.vector.Table) ID to write results to"
   ]
  },
  {
   "cell_type": "code",
   "execution_count": null,
   "id": "2610056c-072b-4be6-98cb-d6a71d9a5cb5",
   "metadata": {},
   "outputs": [],
   "source": [
    "pid = f\"{org or user_hash}:sample-sigma0v-product:{user_hash}\"\n",
    "tid = f\"vessel-detections-demo-table:{user_hash}\""
   ]
  },
  {
   "cell_type": "markdown",
   "id": "0aff4dc2-1042-46d2-8cad-ba38035c5bf3",
   "metadata": {},
   "source": [
    "_**Note:** The two helper functions we imported earlier simply check for pre-existing products, delete if necessary, and create new products to act as real-time inputs._"
   ]
  },
  {
   "cell_type": "code",
   "execution_count": null,
   "id": "4f1d77b1-52b7-40a0-b1ae-e0c57ca1a9de",
   "metadata": {},
   "outputs": [],
   "source": [
    "tid = create_table(tid)\n",
    "pid = create_product(pid, 'Demo SAR Data')"
   ]
  },
  {
   "cell_type": "markdown",
   "id": "7c996565-9f76-4c6a-8f40-22e61cffe868",
   "metadata": {},
   "source": [
    "Reading in our input AOI as a [geopandas `GeoDataFrame`](https://geopandas.org/en/stable/docs/reference/api/geopandas.GeoDataFrame.html) and creating an [`AOI`](https://docs.descarteslabs.com/descarteslabs/geo/readme.html#descarteslabs.geo.AOI) object:"
   ]
  },
  {
   "cell_type": "code",
   "execution_count": null,
   "id": "bfed192f-4517-4b07-9bec-89f855b9548f",
   "metadata": {},
   "outputs": [],
   "source": [
    "gdf = gpd.read_file(\"Kaohsiung.geojson\")\n",
    "aoi = dl.geo.AOI(gdf.iloc[0]['geometry'], resolution=10., crs='EPSG:3857')"
   ]
  },
  {
   "cell_type": "markdown",
   "id": "fc10ced3-41f6-4e44-ad1a-b18b173f8463",
   "metadata": {},
   "source": [
    "## Methodology\n",
    "Below, we can iterate on the methodology we want to deploy:\n",
    "* Search Sentinel-1 Imagery\n",
    "* Mask to a global water mask\n",
    "* Threshold the **vv** band to identify vessels in open water\n",
    "* Vectorize the thresholded results"
   ]
  },
  {
   "cell_type": "markdown",
   "id": "f61f59d7-79f3-47e9-8602-99eb72bd5c45",
   "metadata": {},
   "source": [
    "Searching our surrogate Sentinel-1 product for imagery over the first date:"
   ]
  },
  {
   "cell_type": "code",
   "execution_count": null,
   "id": "82a7032f-9b13-4f9e-8593-a06f9ecef5db",
   "metadata": {},
   "outputs": [],
   "source": [
    "prod = Product.get(pid)\n",
    "ic = (prod\n",
    "      .images()\n",
    "      .intersects(aoi)\n",
    "      .filter(\"2025-02-03\"<p.acquired<\"2025-02-05\")\n",
    "      .collect()\n",
    "     )\n",
    "ic"
   ]
  },
  {
   "cell_type": "markdown",
   "id": "5f69c8df-dec1-477a-a3bd-36621675e105",
   "metadata": {},
   "source": [
    "Retrieving a [global water mask product:](https://www.nature.com/articles/nature20584)"
   ]
  },
  {
   "cell_type": "code",
   "execution_count": null,
   "id": "f81ac9b2-b1a7-4aa6-9666-6969c2b0a9dd",
   "metadata": {},
   "outputs": [],
   "source": [
    "water_prod = Product.get(\"jrc:global-surface-water:v0\")\n",
    "water_ic = (water_prod\n",
    "            .images()\n",
    "            .intersects(aoi)\n",
    "            .filter(\"2020-01-10\"<p.acquired<\"2025-01-12\")\n",
    "            .collect()\n",
    "           )"
   ]
  },
  {
   "cell_type": "markdown",
   "id": "ec5caf0d-459c-47ec-9ab5-c98f4db538a6",
   "metadata": {},
   "source": [
    "Rasterizing the **vv** band as a [numpy `ndarray`](https://numpy.org/doc/2.1/reference/generated/numpy.ndarray.html):"
   ]
  },
  {
   "cell_type": "code",
   "execution_count": null,
   "id": "0b007be0-e1af-43e9-955e-6af1f21a9c1d",
   "metadata": {},
   "outputs": [],
   "source": [
    "vv, info = ic[0].ndarray([\"vv\"], geocontext=aoi, raster_info=True)\n",
    "vv.shape"
   ]
  },
  {
   "cell_type": "markdown",
   "id": "3355d884-9e2a-4c84-9d2e-37d692c6b29e",
   "metadata": {},
   "source": [
    "Retrieving the water mask and masking the **vv** band:"
   ]
  },
  {
   "cell_type": "code",
   "execution_count": null,
   "id": "db889724-88f1-48b1-b874-0b4fe491717d",
   "metadata": {},
   "outputs": [],
   "source": [
    "water_ndarr = water_ic.mosaic(['extent'], data_type='UInt16')\n",
    "vv[water_ndarr==0]=0\n",
    "vv[vv.mask]=0"
   ]
  },
  {
   "cell_type": "markdown",
   "id": "7b275921-38ae-49af-95fb-c5a4716ad301",
   "metadata": {},
   "source": [
    "Plotting the results:"
   ]
  },
  {
   "cell_type": "code",
   "execution_count": null,
   "id": "6bb43d10-2891-40d6-931b-3aad435d4e4a",
   "metadata": {},
   "outputs": [],
   "source": [
    "fig, ax = plt.subplots(nrows=1, ncols=2, figsize=(20,10))\n",
    "ax[0].imshow(vv[0])\n",
    "ax[0].set_title(\"VV Band masked to Water Extent\")\n",
    "ax[1].imshow(vv[0]>2000) # This number may vary by AOI\n",
    "ax[1].set_title(\"VV Thresholded\")"
   ]
  },
  {
   "cell_type": "markdown",
   "id": "7628c876-3722-47f6-b319-6a35565f6256",
   "metadata": {},
   "source": [
    "Here, we vectorize these thresholded arrays as a list of [shapely `Polygon`s](https://shapely.readthedocs.io/en/2.0.6/reference/shapely.Polygon.html):"
   ]
  },
  {
   "cell_type": "code",
   "execution_count": null,
   "id": "996e56af-812e-47d7-97fd-99849c749d31",
   "metadata": {},
   "outputs": [],
   "source": [
    "trans = Affine.from_gdal(*info['geoTransform'])\n",
    "polys = list(\n",
    "    shapes(vv, mask=(vv > 2000), transform=trans))\n",
    "poly_list = [shape(poly[0]) for poly in polys]"
   ]
  },
  {
   "cell_type": "markdown",
   "id": "f57cff84-e6b1-4449-882b-4be246c8d240",
   "metadata": {},
   "source": [
    "And can visualize these as a geodataframe:"
   ]
  },
  {
   "cell_type": "code",
   "execution_count": null,
   "id": "f3b0f961-1f64-4fab-a00c-e4668d0f9221",
   "metadata": {},
   "outputs": [],
   "source": [
    "vector_gdf = gpd.GeoDataFrame(\n",
    "    {\"geometry\": poly_list},\n",
    "    crs=aoi.crs, )\n",
    "vector_gdf = gpd.GeoDataFrame(\n",
    "    {'geometry':[vector_gdf.union_all()]\n",
    "    },\n",
    "    crs=aoi.crs\n",
    ").explode()"
   ]
  },
  {
   "cell_type": "code",
   "execution_count": null,
   "id": "b9b9cfdf-cb79-4451-8bfd-4ed362c5da41",
   "metadata": {},
   "outputs": [],
   "source": [
    "fig, ax = plt.subplots(figsize=(10,10))\n",
    "vector_gdf.plot(ax=ax, color='red')\n",
    "vector_gdf[vector_gdf.area<100000].plot(ax=ax, color='blue')"
   ]
  },
  {
   "cell_type": "markdown",
   "id": "b23fa2f9-7295-4eb3-94e6-27d9acf04996",
   "metadata": {},
   "source": [
    "## Scaling with Batch Compute\n",
    "Here we define a local function to send to our compute service which:\n",
    "* Accepts an [`Image`](https://docs.descarteslabs.com/descarteslabs/catalog/docs/image.html#descarteslabs.catalog.Image) ID as the input argument\n",
    "* Pulls down the image data and applies the vessel detection methodology\n",
    "* Writes the output geodataframe as input [`Feature`](https://docs.descarteslabs.com/descarteslabs/vector/readme.html#descarteslabs.vector.Feature)`s to a table"
   ]
  },
  {
   "cell_type": "code",
   "execution_count": null,
   "id": "af9d67bb-cd5c-4030-8b0e-e586f2802aa5",
   "metadata": {},
   "outputs": [],
   "source": [
    "def vessel_detector(img_id, write_to_vector=True):\n",
    "    import descarteslabs as dl\n",
    "    from descarteslabs.catalog import Image, Product, properties as p\n",
    "    from descarteslabs.vector import Table\n",
    "    import numpy as np\n",
    "    import geopandas as gpd\n",
    "    from rasterio.features import shapes\n",
    "    from rasterio.transform import Affine\n",
    "    from shapely.geometry import shape\n",
    "    from shapely import wkt\n",
    "    print(f\"Processing {img_id}\")\n",
    "    \n",
    "    auth = dl.auth.Auth.get_default_auth()\n",
    "    org = auth.payload['org']\n",
    "    user_hash = auth.namespace\n",
    "    # Note this is hard coded in! \n",
    "    vessel_table = Table.get(f\"{org or user_hash}:vessel-detections-demo-table:{user_hash}\")\n",
    "\n",
    "    img = Image.get(img_id)\n",
    "    \n",
    "    img_aoi = img.geocontext\n",
    "\n",
    "    water_prod = Product.get(\"jrc:global-surface-water:v0\")\n",
    "    water_ic = (water_prod\n",
    "                .images()\n",
    "                .intersects(img_aoi)\n",
    "                .filter(\"2020-01-01\"<p.acquired<\"2025-01-01\")\n",
    "                .collect()\n",
    "               )\n",
    "    \n",
    "    vv, info = img.ndarray([\"vv\"], raster_info=True)\n",
    "    water_ndarr = water_ic.mosaic('extent', data_type='UInt16')\n",
    "    print(f\"Pulled data of shape {vv.shape}\")\n",
    "    \n",
    "    vv[water_ndarr==0]=0\n",
    "    vv[vv.mask]=0\n",
    "    print(\"Masked to water\")\n",
    "    ### Insert more advanced methodology here! \n",
    "    trans = Affine.from_gdal(*info['geoTransform'])\n",
    "    polys = list(\n",
    "        shapes(vv, mask=(vv > 2000), transform=trans)\n",
    "    )\n",
    "    poly_list = [shape(poly[0]) for poly in polys]\n",
    "    print(f\"Vectorized\")\n",
    "    \n",
    "    vector_gdf = gpd.GeoDataFrame(\n",
    "        {\"geometry\": poly_list},\n",
    "        crs=img_aoi.crs\n",
    "    )\n",
    "    vector_gdf = gpd.GeoDataFrame(\n",
    "        {'geometry':[vector_gdf.union_all()]},\n",
    "        crs=img_aoi.crs\n",
    "    ).explode().to_crs(4326)\n",
    "    \n",
    "    vector_gdf['DATE']=img.acquired.strftime(\"%Y-%m-%d\")\n",
    "    vector_gdf['SOURCE_IMG_ID']=img.id\n",
    "    \n",
    "    # Quick way to remove large bogus geoms\n",
    "    out_gdf=vector_gdf[vector_gdf.to_crs(3857).area<100000] \n",
    "    print(f\"Simplified to {len(out_gdf)} rows\")\n",
    "    if write_to_vector:\n",
    "        out_gdf = vessel_table.add(out_gdf)\n",
    "    print(\"Added Table\")\n",
    "    return out_gdf.to_json()"
   ]
  },
  {
   "cell_type": "markdown",
   "id": "289a4a76-b109-42dc-8ae7-50517774610d",
   "metadata": {},
   "source": [
    "Next, we'll test the methodology out locally (without writing the output rows to the table):"
   ]
  },
  {
   "cell_type": "code",
   "execution_count": null,
   "id": "c06ec7ee-844e-4028-b806-c962f5fd21b6",
   "metadata": {},
   "outputs": [],
   "source": [
    "gpd.GeoDataFrame.from_features(json.loads(vessel_detector(ic[0].id, write_to_vector=False)).plot()"
   ]
  },
  {
   "cell_type": "markdown",
   "id": "ba15a4e2-ccbb-45b0-88e3-eff77caa7913",
   "metadata": {},
   "source": [
    "And lastly submit our compute function alongside several scaling parameters, such as:\n",
    "* Number of **CPUs**\n",
    "* **Memory** allocated to each job\n",
    "* **Max Concurrency** of running jobs\n",
    "* **Timeout** if errors occur\n",
    "\n",
    "_Note, we could also pass any pip requirements or local utilities alongside this function_"
   ]
  },
  {
   "cell_type": "code",
   "execution_count": null,
   "id": "0c428e60-f99e-4c67-8628-78cf186b482b",
   "metadata": {},
   "outputs": [],
   "source": [
    "async_func = Function(\n",
    "    vessel_detector,\n",
    "    name=\"Vessel Detector Automated Pipeline\",\n",
    "    image=f\"python{major}.{minor}:latest\",\n",
    "    cpus=0.25,\n",
    "    memory=512,\n",
    "    maximum_concurrency=20,\n",
    "    timeout=300,\n",
    "    retry_count=0,\n",
    ")\n",
    "async_func.save()\n",
    "print(f\"Created: {async_func.id}\")"
   ]
  },
  {
   "cell_type": "markdown",
   "id": "be1a6de3-1a72-4644-bb07-15b23a6aa712",
   "metadata": {},
   "source": [
    "Here, we'll submit our first [`Job`](https://docs.descarteslabs.com/descarteslabs/compute/readme.html#descarteslabs.compute.Job) to get things started:"
   ]
  },
  {
   "cell_type": "code",
   "execution_count": null,
   "id": "86012da6-2421-4172-9377-118e3d196c43",
   "metadata": {},
   "outputs": [],
   "source": [
    "job1 = async_func(ic[0].id)\n",
    "job1"
   ]
  },
  {
   "cell_type": "markdown",
   "id": "5eb865d5-91ca-4e39-8109-459676870f5c",
   "metadata": {},
   "source": [
    "### Tracking Running Functions\n",
    "Now, it is advised to navigate to [app.descarteslabs.com/compute](https://app.descarteslabs.com/compute) to track your function's build progress and any active running jobs. We will refer to this page for the remainder of the notebook. "
   ]
  },
  {
   "cell_type": "markdown",
   "id": "d68d854c-1b93-4256-beba-21d85f1cd730",
   "metadata": {},
   "source": [
    "## Event Listening \n",
    "Now that a function is defined with predefined inputs, we can set up an [`EventSubscription`](https://docs.descarteslabs.com/descarteslabs/catalog/docs/event_subscription.html#descarteslabs.catalog.EventSubscription) which will listen to our product for any new imagery which satisfies various user-configurable filter conditions. For more details on Events, please visit [Catalog Guides 07 Working with Events](../)."
   ]
  },
  {
   "cell_type": "markdown",
   "id": "ab102118-b5f3-4724-9fe9-5bdf1ac3c2c1",
   "metadata": {},
   "source": [
    "First, we'll clear any old subscriptions that may have the same name (if you've run this notebook in the past!):"
   ]
  },
  {
   "cell_type": "code",
   "execution_count": null,
   "id": "a20eaf60-3994-444b-aa29-28a7dfe6fadb",
   "metadata": {},
   "outputs": [],
   "source": [
    "for subscription in EventSubscription.search().filter(p.name==\"vessel_detection_susbcription\").collect():\n",
    "    print(f\"Deleting {subscription}\")\n",
    "    subscription.delete()"
   ]
  },
  {
   "cell_type": "markdown",
   "id": "d43c8132-5225-456c-ab63-be50779f5ba2",
   "metadata": {},
   "source": [
    "Next, we'll create our subscription alongisde several important input parameters:\n",
    "* [`EventType`](https://docs.descarteslabs.com/descarteslabs/catalog/docs/types.html#descarteslabs.catalog.EventType), which here is Image Upload, but can be others such as Scheduled or modification.\n",
    "* [Event `Namespace`](https://docs.descarteslabs.com/descarteslabs/catalog/docs/event_subscription.html#descarteslabs.catalog.EventSubscription.namespace), which corresponds to the namespace over which to \"listen\" for new events\n",
    "* Geometry over which to filter events\n",
    "* [`EventSubscriptionTarget`](https://docs.descarteslabs.com/descarteslabs/catalog/docs/types.html#descarteslabs.catalog.EventSubscriptionTarget), which here is a [`EventSusbcriptionComputeTarget`](https://docs.descarteslabs.com/descarteslabs/catalog/docs/types.html#descarteslabs.catalog.EventSubscriptionComputeTarget), but can be other destinations such as [`EventSubscriptionSqsTarget`](https://docs.descarteslabs.com/descarteslabs/catalog/docs/types.html#descarteslabs.catalog.EventSubscriptionSqsTarget) for AWS SQS\n",
    "    * This target also takes a [`Placeholder`](https://docs.descarteslabs.com/descarteslabs/catalog/docs/types.html#descarteslabs.catalog.Placeholder), which will serve as the variable for the input image ID"
   ]
  },
  {
   "cell_type": "code",
   "execution_count": null,
   "id": "e8b17e15-25dc-4eb5-890d-37f5ec0516e6",
   "metadata": {},
   "outputs": [],
   "source": [
    "subscription = EventSubscription(\n",
    "    name=\"vessel_detection_susbcription\",\n",
    "    event_type=[EventType.NEW_IMAGE],\n",
    "    event_namespace=[pid],\n",
    "    geometry = gdf.iloc[0]['geometry'].buffer(0.5),\n",
    "    targets=[\n",
    "        EventSubscriptionComputeTarget(\n",
    "            async_func.id, \n",
    "            Placeholder(\"event.detail.id\")\n",
    "        )\n",
    "    ]\n",
    ")\n",
    "subscription.save()\n",
    "subscription"
   ]
  },
  {
   "cell_type": "markdown",
   "id": "5dab3035-309a-4800-8301-7e952329df41",
   "metadata": {},
   "source": [
    "## Deploying the Event Listener\n",
    "Now that the event subscription is saved, we can test it by adding new imagery to the surrogate Sentinel-1 product.\n",
    "\n",
    "Let's test it out by adding a few new images:"
   ]
  },
  {
   "cell_type": "code",
   "execution_count": null,
   "id": "18a484c3-0d00-4a19-93ba-202f25274910",
   "metadata": {},
   "outputs": [],
   "source": [
    "img2 = Image(product=prod, id=f\"{prod.id}:image2\")\n",
    "img2.acquired = \"2025-02-15\"\n",
    "upload = img2.upload(\"data/s1_sample_2.tif\", overwrite=True)\n",
    "upload.wait_for_completion()\n",
    "upload.status"
   ]
  },
  {
   "cell_type": "code",
   "execution_count": null,
   "id": "5e50b900-1206-4186-9d8e-2ee60a753133",
   "metadata": {},
   "outputs": [],
   "source": [
    "img3 = Image(product=prod, id=f\"{prod.id}:image3\")\n",
    "img3.acquired = \"2025-02-27\"\n",
    "upload = img3.upload(\"data/s1_sample_3.tif\", overwrite=True)\n",
    "upload.wait_for_completion()\n",
    "upload.status"
   ]
  },
  {
   "cell_type": "markdown",
   "id": "992aa789-3ea0-4e44-a48d-e56065fb633c",
   "metadata": {},
   "source": [
    "Note that these will now show up as new jobs in the [Compute Monitor](https://app.descarteslabs.com/compute), or we could check them programmatically:"
   ]
  },
  {
   "cell_type": "code",
   "execution_count": null,
   "id": "95814a3d-a112-4311-a7ab-4c148742dd76",
   "metadata": {},
   "outputs": [],
   "source": [
    "print(len(async_func.jobs.collect()))"
   ]
  },
  {
   "cell_type": "markdown",
   "id": "bc1e95ae-c0e2-4b3c-bb42-7f8faffcc4bf",
   "metadata": {},
   "source": [
    "_Note this cell will wait for all jobs in the function to complete running)_"
   ]
  },
  {
   "cell_type": "code",
   "execution_count": null,
   "id": "13e58826-2546-44ed-8c0f-ff075b1066f5",
   "metadata": {},
   "outputs": [],
   "source": [
    "async_func.wait_for_completion()"
   ]
  },
  {
   "cell_type": "markdown",
   "id": "9b2ede7c-ede4-40e1-949b-3619418f24da",
   "metadata": {},
   "source": [
    "Once complete, we can collect the resulting table's data as a geodataframe for export:"
   ]
  },
  {
   "cell_type": "code",
   "execution_count": null,
   "id": "9563fd11-adb6-4a68-9bc3-e93252ffde4b",
   "metadata": {},
   "outputs": [],
   "source": [
    "res_gdf = Table.get(tid).collect()\n",
    "res_gdf.plot(column='DATE', figsize=(10,10))"
   ]
  },
  {
   "cell_type": "code",
   "execution_count": null,
   "id": "cc69891c-7fab-485f-b0ec-f1e67e16b4f5",
   "metadata": {},
   "outputs": [],
   "source": [
    "res_gdf.to_file('results.geojson')"
   ]
  },
  {
   "cell_type": "markdown",
   "id": "e6f674c2-30c4-44dd-8d20-734b9e266836",
   "metadata": {},
   "source": [
    "### Cleaning Up\n",
    "_Is always best practice!_"
   ]
  },
  {
   "cell_type": "code",
   "execution_count": null,
   "id": "18ebc5c7-d903-46b3-9d3e-b607e9188332",
   "metadata": {},
   "outputs": [],
   "source": [
    "async_func.delete_jobs(delete_results=True)\n",
    "async_func.delete()"
   ]
  },
  {
   "cell_type": "code",
   "execution_count": null,
   "id": "7dfc4c1b-e7a1-423a-8e9b-3b3b876fbd5c",
   "metadata": {},
   "outputs": [],
   "source": [
    "subscription.delete()"
   ]
  },
  {
   "cell_type": "code",
   "execution_count": null,
   "id": "6d46eafd-b4ff-4ae9-9421-dd03a2f6c907",
   "metadata": {},
   "outputs": [],
   "source": []
  }
 ],
 "metadata": {
  "kernelspec": {
   "display_name": "Python 3 (ipykernel)",
   "language": "python",
   "name": "python3"
  },
  "language_info": {
   "codemirror_mode": {
    "name": "ipython",
    "version": 3
   },
   "file_extension": ".py",
   "mimetype": "text/x-python",
   "name": "python",
   "nbconvert_exporter": "python",
   "pygments_lexer": "ipython3",
   "version": "3.10.15"
  }
 },
 "nbformat": 4,
 "nbformat_minor": 5
}

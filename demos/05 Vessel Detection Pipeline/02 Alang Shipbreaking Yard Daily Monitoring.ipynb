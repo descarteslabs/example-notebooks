{
 "cells": [
  {
   "cell_type": "markdown",
   "id": "d1d1d9d4-d50b-4d16-a877-20f65096331f",
   "metadata": {},
   "source": [
    "# Deploying a Vessel Detection Pipeline with Batch Compute and Scheduled Events\n",
    "__________________\n",
    "#### _Objective:_\n",
    "Demonstrate how the Platform can enable low-latency, event-driven image analysis to be deployed easily at scale. Here we deploy a sample scheduled pipeline which analyzes open-access [Sentinel-2 data](https://www.esa.int/Applications/Observing_the_Earth/Copernicus/Sentinel-2) with [an open source ship detection model hosted by geoai](https://github.com/opengeos/geoai). \n",
    "\n",
    "This pipeline will be deployed over [Alang, Gujarat, the largest shipbreaking yard in the world](https://www.chemistryworld.com/features/the-toxic-tide-of-ship-breaking/4015158.article).\n",
    "\n",
    "#### _What will we cover?_\n",
    "* Searching [`Catalog`](https://docs.descarteslabs.com/descarteslabs/catalog/readme.html) to retrieve imagery and input into a [pre-trained AI model](https://github.com/opengeos/geoai/blob/main/docs/examples/ship_detection.ipynb)\n",
    "* Creating a  [`Function`](https://docs.descarteslabs.com/descarteslabs/compute/readme.html#descarteslabs.compute.Function) which will trigger nightly at nidnight US Eastern Time and write detected vessels alongside other metadata into a [`Table`](https://docs.descarteslabs.com/descarteslabs/vector/readme.html)\n",
    "* Defining an [`EventSubscription`](https://docs.descarteslabs.com/descarteslabs/catalog/docs/event_subscription.html#descarteslabs.catalog.EventSubscription) which will invoke the function nightly"
   ]
  },
  {
   "cell_type": "markdown",
   "id": "b05fa4f2-3358-41c6-bbfd-06fedd892651",
   "metadata": {},
   "source": [
    "#### Requirements\n",
    "Note that to use the ship detection model in this example, we must first install the [`geoai` library](https://github.com/opengeos/geoai/tree/main), which contains a series of open-source pre-trained AI models:"
   ]
  },
  {
   "cell_type": "code",
   "execution_count": null,
   "id": "6b1e4792-f1d7-4a55-89df-23617d3fc743",
   "metadata": {},
   "outputs": [],
   "source": [
    "# %pip install geoai"
   ]
  },
  {
   "cell_type": "code",
   "execution_count": null,
   "id": "66d78723-9d4a-4621-acb9-4dd1a4f5814a",
   "metadata": {},
   "outputs": [],
   "source": [
    "import geoai"
   ]
  },
  {
   "cell_type": "code",
   "execution_count": null,
   "id": "6b4c01c5-7fbb-4f52-91ab-55212486759c",
   "metadata": {},
   "outputs": [],
   "source": [
    "import descarteslabs as dl\n",
    "from descarteslabs.catalog import (\n",
    "    EventSchedule,\n",
    "    ScheduledEventSubscription,\n",
    "    EventSubscriptionComputeTarget,\n",
    "    Placeholder,\n",
    "    Product, \n",
    "    properties as p\n",
    ")\n",
    "from descarteslabs.compute import Function\n",
    "from descarteslabs.vector import Table"
   ]
  },
  {
   "cell_type": "code",
   "execution_count": null,
   "id": "3f89d850-e732-470d-8510-bde06764e0d0",
   "metadata": {},
   "outputs": [],
   "source": [
    "import json\n",
    "import os\n",
    "import rasterio\n",
    "import sys\n",
    "\n",
    "import numpy as np\n",
    "import geopandas as gpd\n",
    "import pandas as pd\n",
    "\n",
    "from datetime import timedelta\n",
    "from dateutil import parser\n",
    "import matplotlib.pyplot as plt\n",
    "\n",
    "from rasterio.plot import reshape_as_image\n",
    "from rasterio.transform import Affine\n",
    "from shapely import wkt"
   ]
  },
  {
   "cell_type": "markdown",
   "id": "6124f2be-af73-4f27-b3d3-2a6054e4b11c",
   "metadata": {},
   "source": [
    "_**Note:** For brevity, this helper function is imported. For reference, please see [utils.py](utils.py)_"
   ]
  },
  {
   "cell_type": "code",
   "execution_count": null,
   "id": "8888da92-7c3a-4626-9d2d-f5b150585b64",
   "metadata": {},
   "outputs": [],
   "source": [
    "from utils import create_s2_table"
   ]
  },
  {
   "cell_type": "markdown",
   "id": "43493aa2-f2f5-47a5-8b66-09cfb7286d44",
   "metadata": {},
   "source": [
    "Setting global variables:"
   ]
  },
  {
   "cell_type": "code",
   "execution_count": null,
   "id": "8305cb19-2b70-4390-8397-6f572ac7796e",
   "metadata": {},
   "outputs": [],
   "source": [
    "# For Batch Compute\n",
    "major = sys.version_info.major\n",
    "minor = sys.version_info.minor"
   ]
  },
  {
   "cell_type": "code",
   "execution_count": null,
   "id": "a9ea30f2-5075-4e66-9865-f3119ae08f06",
   "metadata": {},
   "outputs": [],
   "source": [
    "auth = dl.auth.Auth.get_default_auth()\n",
    "org = auth.payload['org']\n",
    "user_hash = auth.namespace"
   ]
  },
  {
   "cell_type": "markdown",
   "id": "8be71efc-874b-405b-a9a3-a099a08314f9",
   "metadata": {},
   "source": [
    "The input Vector [`Table`](https://docs.descarteslabs.com/descarteslabs/vector/readme.html#descarteslabs.vector.Table) ID to write results to:"
   ]
  },
  {
   "cell_type": "code",
   "execution_count": null,
   "id": "e0f74a3c-aaff-4280-a8a7-b0fcb6a8c3de",
   "metadata": {},
   "outputs": [],
   "source": [
    "tid = f\"geoai-vessel-detections-demo-table:{user_hash}\"\n",
    "tid = create_s2_table(tid)"
   ]
  },
  {
   "cell_type": "markdown",
   "id": "32aa1db0-0e6b-46ec-90eb-a3fe8eb70c4a",
   "metadata": {},
   "source": [
    "An input AOI,such as a [well-known text polygon](https://shapely.readthedocs.io/en/2.0.4/manual.html#well-known-formats):"
   ]
  },
  {
   "cell_type": "code",
   "execution_count": null,
   "id": "f045c81f-d51b-44af-848d-e3dbe7055907",
   "metadata": {},
   "outputs": [],
   "source": [
    "alang_wkt = '''POLYGON ((72.1633092891017 21.376538520693956, 72.17463606558397 21.395910851691355,72.18566940225975 21.402167375179133,\n",
    "72.1952942278717 21.399271375754935, 72.18916133594212 21.37940764547419, 72.18602153002692 21.372849563342783, 72.16612631123255 21.374133877561107, \n",
    "72.1633092891017 21.376538520693956))'''\n",
    "alang = wkt.loads(alang_wkt)\n",
    "alang"
   ]
  },
  {
   "cell_type": "markdown",
   "id": "465990e7-93f8-4646-886b-c1f82e942cfc",
   "metadata": {},
   "source": [
    "And lastly, a sample date to monitor:"
   ]
  },
  {
   "cell_type": "code",
   "execution_count": null,
   "id": "9f264a7c-ef6b-4152-aff7-81140bdb0806",
   "metadata": {},
   "outputs": [],
   "source": [
    "end = \"2025-01-02\"\n",
    "start = parser.parse(end) - timedelta(days=1)\n",
    "print(f\"Searching imagery from {start.strftime('%Y-%m-%d')} to {end}\")"
   ]
  },
  {
   "cell_type": "markdown",
   "id": "946847c9-e11c-4e65-b343-4b0ea37e9678",
   "metadata": {},
   "source": [
    "## Methodology\n",
    "Below, we can iterate on the methodology we want to deploy:\n",
    "* Search and download Sentinel-2 Imagery as a geotiff image\n",
    "* Instantiate our AI model\n",
    "* Vectorize the thresholded results"
   ]
  },
  {
   "cell_type": "code",
   "execution_count": null,
   "id": "679f41c0-5e96-459d-96dc-3991a45a7c81",
   "metadata": {},
   "outputs": [],
   "source": [
    "sentinel2 = dl.catalog.Product.get(\"esa:sentinel-2:l2a:v1\")\n",
    "\n",
    "ic = (\n",
    "    sentinel2.images()\n",
    "    .intersects(alang)\n",
    "    .filter(start < p.acquired < end)\n",
    "    .filter(p.cloud_fraction < 0.3)\n",
    ").collect()\n",
    "\n",
    "ic.download_mosaic(['red', 'green', 'blue'], dest=\"data/rgb.tif\")"
   ]
  },
  {
   "cell_type": "markdown",
   "id": "32c8712c-e964-4d6e-968c-fb10be8950cf",
   "metadata": {},
   "source": [
    "And inspect our scene:"
   ]
  },
  {
   "cell_type": "code",
   "execution_count": null,
   "id": "c0a6162b-34d4-4a22-8305-0b87dbd09310",
   "metadata": {},
   "outputs": [],
   "source": [
    "with rasterio.open(\"data/rgb.tif\", \"r\") as in_ds:\n",
    "    plt.imshow(reshape_as_image(in_ds.read()))"
   ]
  },
  {
   "cell_type": "markdown",
   "id": "c3e354b5-634a-4583-a951-8a557915fd99",
   "metadata": {},
   "source": [
    "Here, we import the [geoai Ship Detection model](https://github.com/opengeos/geoai/blob/main/docs/examples/ship_detection.ipynb): "
   ]
  },
  {
   "cell_type": "code",
   "execution_count": null,
   "id": "b08e5eb4-0b4f-4993-bb31-5bacb67a9ddf",
   "metadata": {},
   "outputs": [],
   "source": [
    "detector = geoai.ShipDetector()"
   ]
  },
  {
   "cell_type": "markdown",
   "id": "ad364ef3-92c5-42cc-8ed1-019105dae4c1",
   "metadata": {},
   "source": [
    "And infer on our input image:"
   ]
  },
  {
   "cell_type": "code",
   "execution_count": null,
   "id": "9256a572-7cfe-4aab-9a0c-e8e898ed7f3c",
   "metadata": {},
   "outputs": [],
   "source": [
    "masks_path = detector.generate_masks(\n",
    "    \"data/rgb.tif\",\n",
    "    output_path=\"data/msk_outputs.tif\",\n",
    "    confidence_threshold=0.8,\n",
    "    mask_threshold=0.7,\n",
    "    overlap=0.25,\n",
    "    chip_size=(256, 256),\n",
    "    batch_size=4\n",
    ")"
   ]
  },
  {
   "cell_type": "markdown",
   "id": "321af01e-49df-42e5-812c-f74868da872f",
   "metadata": {},
   "source": [
    "Finally, vectorize our predicted feature masks:"
   ]
  },
  {
   "cell_type": "code",
   "execution_count": null,
   "id": "fffac029-ec7a-431b-a706-0bedc809c3b1",
   "metadata": {},
   "outputs": [],
   "source": [
    "gdf = detector.vectorize_masks(\n",
    "    \"data/msk_outputs.tif\",\n",
    "    output_path=\"data/ships_masks.geojson\",\n",
    "    confidence_threshold=0.8,\n",
    "    min_object_area=10,\n",
    "    max_object_size=10000,\n",
    ")\n",
    "gdf.plot()"
   ]
  },
  {
   "cell_type": "markdown",
   "id": "08933dee-b9b4-43bf-9f69-b4cddc12a249",
   "metadata": {},
   "source": [
    "## Scaling with Batch Compute\n",
    "Here we define a local function to send to our compute service which:\n",
    "* Accepts a date as the input argument\n",
    "* Pulls down any newly acquired image data and applies the vessel detection methodology\n",
    "* Writes the output geodataframe as input [`Feature`](https://docs.descarteslabs.com/descarteslabs/vector/readme.html#descarteslabs.vector.Feature)`s to a table"
   ]
  },
  {
   "cell_type": "code",
   "execution_count": null,
   "id": "81a105c0-ec27-49e6-ae89-dbf4bd87f89a",
   "metadata": {},
   "outputs": [],
   "source": [
    "def s2_vessel_deployment(end, write_to_table=True):\n",
    "    import descarteslabs as dl\n",
    "    from descarteslabs.vector import Table\n",
    "    from descarteslabs.catalog import Product, properties as p\n",
    "    import os\n",
    "    import geoai\n",
    "    import datetime\n",
    "    import json\n",
    "    import numpy as np\n",
    "    import geopandas as gpd\n",
    "    from dateutil import parser\n",
    "    from shapely import wkt\n",
    "\n",
    "    auth = dl.auth.Auth.get_default_auth()\n",
    "    org = auth.payload['org']\n",
    "    user_hash = auth.namespace\n",
    "    \n",
    "    end = parser.parse(end)\n",
    "    start = end - datetime.timedelta(days=1)\n",
    "    print(f\"Searching imagery from {start.strftime('%Y-%m-%d')} to {end.strftime('%Y-%m-%d')}\")\n",
    "    alang_wkt = '''POLYGON ((72.1633092891017 21.376538520693956, 72.17463606558397 21.395910851691355, 72.18566940225975\n",
    "    21.402167375179133, 72.1952942278717 21.399271375754935, 72.18916133594212 21.37940764547419, 72.18602153002692 21.372849563342783,\n",
    "    72.16612631123255 21.374133877561107, 72.1633092891017 21.376538520693956))'''\n",
    "    alang = wkt.loads(alang_wkt)\n",
    "    \n",
    "    sentinel2 = dl.catalog.Product.get(\"esa:sentinel-2:l2a:v1\")\n",
    "    tid = f\"{org or user_hash}:geoai-vessel-detections-demo-table:{user_hash}\"\n",
    "    \n",
    "    ic = (\n",
    "        sentinel2.images()\n",
    "        .intersects(alang)\n",
    "        .filter(start < p.acquired < end)\n",
    "        .filter(p.cloud_fraction < 0.3)\n",
    "    ).collect()\n",
    "    print(f\"Found {len(ic)} images today\")\n",
    "    try:\n",
    "        assert len(ic)>0\n",
    "    except:\n",
    "        print(\"No images today\")\n",
    "        return None\n",
    "        return\n",
    "    \n",
    "    ic.download_mosaic(\n",
    "        [\"red\", \"green\", \"blue\"],\n",
    "        dest=\"rgb.tif\"\n",
    "    )\n",
    "    print(\"Downloaded image\")\n",
    "    detector = geoai.ShipDetector()\n",
    "    print(\"Downloaded model\")\n",
    "    masks_path = detector.generate_masks(\n",
    "        \"rgb.tif\",\n",
    "        output_path=\"msk_outputs.tif\",\n",
    "        confidence_threshold=0.8,\n",
    "        mask_threshold=0.7, overlap=0.25,\n",
    "        chip_size=(256, 256),\n",
    "        batch_size=4\n",
    "    )\n",
    "    print(\"Completed feature masks\")\n",
    "    gdf = detector.vectorize_masks(\n",
    "        \"msk_outputs.tif\",\n",
    "        output_path=\"ships_masks.geojson\",\n",
    "        confidence_threshold=0.8,\n",
    "        min_object_area=10,\n",
    "        max_object_size=10000,\n",
    "    ).to_crs(4326)\n",
    "    print(f\"Vectorized {len(gdf)} ships today\")\n",
    "    gdf['date']=end.strftime(\"%Y-%m-%d\")\n",
    "    if write_to_table:\n",
    "        gdf = Table.get(tid).add(gdf[['date', 'confidence', 'geometry']])\n",
    "    # Cleaning up\n",
    "    os.remove(\"rgb.tif\")\n",
    "    os.remove(\"msk_outputs.tif\")\n",
    "    os.remove(\"ships_masks.geojson\")\n",
    "    print(\"Complete:)\")\n",
    "    return gdf.to_json()"
   ]
  },
  {
   "cell_type": "markdown",
   "id": "e43d887d-cc20-4bfa-a9f7-fc0b1ae3dfe9",
   "metadata": {},
   "source": [
    "Next, we'll test the methodology out locally (without writing the output rows to the table):"
   ]
  },
  {
   "cell_type": "code",
   "execution_count": null,
   "id": "ac9a4c56-bb17-4b6b-ada9-ef63de5b34c9",
   "metadata": {},
   "outputs": [],
   "source": [
    "s2_vessel_deployment(end, write_to_table=False)"
   ]
  },
  {
   "cell_type": "markdown",
   "id": "4518d979-17f4-4161-8a9c-b0eeb0c29881",
   "metadata": {},
   "source": [
    "And lastly submit our compute function alongside several scaling parameters, such as:\n",
    "* Number of **CPUs**\n",
    "* **Memory** allocated to each job\n",
    "* **Max Concurrency** of running jobs\n",
    "* **Timeout** if errors occur\n",
    "* **Requirements** for extra packages to import, such as `geoai`\n",
    "\n",
    "_**Note** Some dependency packages may result in longer-to-build or difficult-to-solve environments. Try hard-coding in package versions such as in the below example if you run into trouble building your Compute Function._"
   ]
  },
  {
   "cell_type": "code",
   "execution_count": null,
   "id": "d1e5800c-924c-4ba3-b47d-c6764bd71780",
   "metadata": {},
   "outputs": [],
   "source": [
    "async_func = Function(\n",
    "    s2_vessel_deployment,\n",
    "    name=\"Test Vessel Detector S2 Pipeline\",\n",
    "    image=f\"python{major}.{minor}:latest\",\n",
    "    cpus=4,\n",
    "    memory=8,\n",
    "    maximum_concurrency=20,\n",
    "    timeout=300,\n",
    "    retry_count=0,\n",
    "    requirements=[\n",
    "        'geoai-py',\n",
    "        'torch==2.6.0'\n",
    "    ]\n",
    ")\n",
    "async_func.save()\n",
    "print(f\"Created: {async_func.id}\")"
   ]
  },
  {
   "cell_type": "markdown",
   "id": "91a019a8-93b2-4a6e-87f6-1f7e5844d6db",
   "metadata": {},
   "source": [
    "Here, we'll submit our first [`Job`](https://docs.descarteslabs.com/descarteslabs/compute/readme.html#descarteslabs.compute.Job) to get things started:"
   ]
  },
  {
   "cell_type": "code",
   "execution_count": null,
   "id": "000b8633-b32a-4661-9274-e51679689d60",
   "metadata": {},
   "outputs": [],
   "source": [
    "job = async_func(end)\n",
    "job"
   ]
  },
  {
   "cell_type": "markdown",
   "id": "65560ca9-c529-4697-ad37-c6ab21437d86",
   "metadata": {},
   "source": [
    "And pass a few more dates to generate a \"backlog\":"
   ]
  },
  {
   "cell_type": "code",
   "execution_count": null,
   "id": "b3bfea7d-41b7-40e0-bf7d-793093bd9b86",
   "metadata": {},
   "outputs": [],
   "source": [
    "ic = (sentinel2.images()\n",
    "      .intersects(alang)\n",
    "      .filter(\"2025-01-02\"<p.acquired<\"2025-03-01\")\n",
    "      .filter(p.cloud_fraction<0.3)\n",
    "     ).collect()\n",
    "date_list = list(set(ic.each.acquired.strftime(\"%Y-%m-%d\")))\n",
    "len(date_list)"
   ]
  },
  {
   "cell_type": "code",
   "execution_count": null,
   "id": "3a966394-6746-40e1-a091-f24b915a1619",
   "metadata": {},
   "outputs": [],
   "source": [
    "jobs = async_func.map([(d,) for d in date_list])\n",
    "len(jobs)"
   ]
  },
  {
   "cell_type": "markdown",
   "id": "c0e13620-c170-409e-bb4b-2be787a43762",
   "metadata": {},
   "source": [
    "### Tracking Running Functions\n",
    "Now, it is advised to navigate to [app.descarteslabs.com/compute](https://app.descarteslabs.com/compute) to track your function's build progress and any active running jobs. We will refer to this page for the remainder of the notebook. "
   ]
  },
  {
   "cell_type": "markdown",
   "id": "c8148c3e-3d26-4795-bbd6-458c13d8b577",
   "metadata": {},
   "source": [
    "## Scheduling Events\n",
    "Now that a function is defined with predefined inputs, we can set up an [`EventSubscription`](https://docs.descarteslabs.com/descarteslabs/catalog/docs/event_subscription.html#descarteslabs.catalog.EventSubscription) which can be configured to fire at user-specified intervals of time. Here, we will:\n",
    "* Create an [`EventSchedule`](https://docs.descarteslabs.com/descarteslabs/catalog/docs/event_schedule.html#descarteslabs.catalog.EventSchedule) which defines a nightly schedule at midnight US Eastern Time\n",
    "* Create a [`ScheduledEventSubscription`](https://docs.descarteslabs.com/descarteslabs/catalog/docs/event_subscription.html#descarteslabs.catalog.ScheduledEventSubscription) which passes these nightly triggers to our running function"
   ]
  },
  {
   "cell_type": "markdown",
   "id": "5535a2c5-2b22-4816-bd23-14af73bc7dfc",
   "metadata": {},
   "source": [
    "First, we'll clear any old subscriptions that may have the same name (if you've run this notebook in the past!):"
   ]
  },
  {
   "cell_type": "code",
   "execution_count": null,
   "id": "4dc7bfec-4a61-4200-b4dc-f292abbd0070",
   "metadata": {},
   "outputs": [],
   "source": [
    "for schedule in EventSchedule.search().filter(p.owners==f\"user:{user_hash}\").collect():\n",
    "    print(f\"Deleting old {schedule.id}\")\n",
    "    schedule.delete()\n",
    "for subscription in (ScheduledEventSubscription.search()\n",
    "                     .filter(p.owners==f\"user:{user_hash}\")\n",
    "                     .filter(p.event_type==\"scheduled\")\n",
    "                    ).collect():\n",
    "    print(f\"Deleting old {subscription.id}\")\n",
    "    subscription.delete()"
   ]
  },
  {
   "cell_type": "markdown",
   "id": "6991152d-9de0-49ed-8756-b6a710881600",
   "metadata": {},
   "source": [
    "Next, we'll create an [`EventSchedule`'](https://docs.descarteslabs.com/descarteslabs/catalog/docs/event_schedule.html#descarteslabs.catalog.EventSchedule), which accepts:\n",
    "* **Schedule**, a [cron or rate expression](https://docs.aws.amazon.com/eventbridge/latest/userguide/eb-scheduled-rule-pattern.html)\n",
    "* **Schedule Timezone** when you want your events to fire, if cron"
   ]
  },
  {
   "cell_type": "code",
   "execution_count": null,
   "id": "66aef85e-ad7c-4c4d-81c1-a2aaaab992f7",
   "metadata": {
    "scrolled": true
   },
   "outputs": [],
   "source": [
    "# create a schedule to fire the daily at midnight NYC\n",
    "schedule = EventSchedule(\n",
    "    name=\"schedule_daily_s2_geoai\",\n",
    "    namespace=f\"{org or user_has}:demo-scheduler\",\n",
    "    schedule=\"cron(0 0 * * ? *)\",\n",
    "    schedule_timezone=\"America/New_York\",\n",
    ")\n",
    "schedule.save()\n",
    "print(f\"Saved Schedule: {schedule.id}\")"
   ]
  },
  {
   "cell_type": "code",
   "execution_count": null,
   "id": "3734ef5b-c300-4b23-9ba5-3dfba47adf28",
   "metadata": {},
   "outputs": [],
   "source": [
    "subscription = ScheduledEventSubscription(\n",
    "    schedule.id,\n",
    "    name=\"s2_nightly_event_schedule\",\n",
    "    targets=[\n",
    "        EventSubscriptionComputeTarget(\n",
    "            async_func.id,\n",
    "            Placeholder(\"event.detail.scheduled_time\"),\n",
    "            title=\"Nightly S2 Image Search\",\n",
    "        )\n",
    "    ]\n",
    ")\n",
    "subscription.save()\n",
    "print(f\"Saved Subscription: {subscription.id}\")"
   ]
  },
  {
   "cell_type": "markdown",
   "id": "5f3473ef-0f6a-43ab-83ec-4e5f9d371862",
   "metadata": {},
   "source": [
    "## Deploying the Scheduled Event\n",
    "Now, we have effectively deployed our nightly scheduled pipeline. To check on your running jobs, you can view them in the [Compute Monitor](https://app.descarteslabs.com/compute):"
   ]
  },
  {
   "cell_type": "code",
   "execution_count": null,
   "id": "762def60-f836-407e-9e64-d165812bffd4",
   "metadata": {},
   "outputs": [],
   "source": [
    "print(len(async_func.jobs.collect()))"
   ]
  },
  {
   "cell_type": "markdown",
   "id": "41eb118a-fd1e-4591-b9d3-c6c74208851f",
   "metadata": {},
   "source": [
    "Or we could wait on them programmatically"
   ]
  },
  {
   "cell_type": "markdown",
   "id": "b55ff736-ca2d-4b8d-9697-044a4008ffa3",
   "metadata": {},
   "source": [
    "    async_func.wait_for_completion()"
   ]
  },
  {
   "cell_type": "markdown",
   "id": "49730b65-c462-4426-a9b5-b50cd945132f",
   "metadata": {},
   "source": [
    "Once complete, we can collect the resulting table's data as a geodataframe for export:"
   ]
  },
  {
   "cell_type": "code",
   "execution_count": null,
   "id": "b81c172c-b0e2-459a-a250-4cf4f5d5c546",
   "metadata": {},
   "outputs": [],
   "source": [
    "res_gdf = Table.get(tid).collect()\n",
    "res_gdf.plot(column='date', legend=True, legend_kwds={'loc': 'upper left'}, figsize=(10,10))"
   ]
  },
  {
   "cell_type": "markdown",
   "id": "5e03d4f4-ad2f-4219-892a-0e97c5abbd71",
   "metadata": {},
   "source": [
    "Or save for export:"
   ]
  },
  {
   "cell_type": "code",
   "execution_count": null,
   "id": "80278a11-f3c6-472e-9619-e15dede61dd9",
   "metadata": {},
   "outputs": [],
   "source": [
    "gdf.to_parquet(\"data/ship_detections.geoparquet\")"
   ]
  },
  {
   "cell_type": "markdown",
   "id": "30e5016f-3df6-41e0-9180-d3c41d664a6c",
   "metadata": {},
   "source": [
    "### Cleaning Up\n",
    "_Is always best practice!_"
   ]
  },
  {
   "cell_type": "code",
   "execution_count": null,
   "id": "1f9bdd81-e683-463c-abc2-7fc6c34eab56",
   "metadata": {},
   "outputs": [],
   "source": [
    "schedule.delete()\n",
    "subscription.delete()"
   ]
  },
  {
   "cell_type": "code",
   "execution_count": null,
   "id": "5a8e6323-8c76-4f52-a00d-2b30cbdd00d6",
   "metadata": {},
   "outputs": [],
   "source": [
    "async_func.delete_jobs(delete_results=True)\n",
    "async_func.delete()"
   ]
  },
  {
   "cell_type": "code",
   "execution_count": null,
   "id": "1a2b5a69-8aa1-427d-a2df-6fd674f2a15f",
   "metadata": {},
   "outputs": [],
   "source": [
    "os.remove(\"data/rgb.tif\")\n",
    "os.remove(\"data/msk_outputs.tif\")\n",
    "os.remove(\"data/ships_masks.geojson\")\n",
    "os.remove(\"data/ship_detections.geoparquet\")"
   ]
  },
  {
   "cell_type": "code",
   "execution_count": null,
   "id": "497b6548-6be5-4626-812f-4d6db12f68ab",
   "metadata": {},
   "outputs": [],
   "source": []
  }
 ],
 "metadata": {
  "kernelspec": {
   "display_name": "Python 3 (ipykernel)",
   "language": "python",
   "name": "python3"
  },
  "language_info": {
   "codemirror_mode": {
    "name": "ipython",
    "version": 3
   },
   "file_extension": ".py",
   "mimetype": "text/x-python",
   "name": "python",
   "nbconvert_exporter": "python",
   "pygments_lexer": "ipython3",
   "version": "3.12.9"
  }
 },
 "nbformat": 4,
 "nbformat_minor": 5
}

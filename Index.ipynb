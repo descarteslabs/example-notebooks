{
 "cells": [
  {
   "attachments": {},
   "cell_type": "markdown",
   "id": "27fe74b2-6e92-4fce-85c3-8e57af0234a3",
   "metadata": {},
   "source": [
    "# Getting Started with Descartes Labs Python API"
   ]
  },
  {
   "attachments": {},
   "cell_type": "markdown",
   "id": "81018351-44b8-47a7-a9f8-a6dfb221560b",
   "metadata": {},
   "source": [
    "This is meant to serve as an introduction to the Descartes Labs Python API and it's core modules. Please follow the steps located in our [Documentation page](https://docs.descarteslabs.com/installation.html) to install the client or simply run:"
   ]
  },
  {
   "cell_type": "raw",
   "id": "61d60e1d-c9a6-49e5-9471-8be6a745a766",
   "metadata": {},
   "source": [
    "!pip install descarteslabs"
   ]
  },
  {
   "attachments": {},
   "cell_type": "markdown",
   "id": "5ef5022e-9774-4bba-900b-4680db285758",
   "metadata": {},
   "source": [
    "To install the latest development version on Github you can also run:"
   ]
  },
  {
   "cell_type": "raw",
   "id": "58410b45-3d15-4bed-bb6d-4889b1862f3f",
   "metadata": {},
   "source": [
    "!pip install -U git+https://github.com/descarteslabs/descarteslabs-python.git"
   ]
  },
  {
   "attachments": {},
   "cell_type": "markdown",
   "id": "cb09e68d-06e1-4cec-9a67-51aa392d8f80",
   "metadata": {},
   "source": [
    "## Overview"
   ]
  },
  {
   "attachments": {},
   "cell_type": "markdown",
   "id": "f16165d5-7047-43fa-8c94-0e6dcb74ad2d",
   "metadata": {},
   "source": [
    "A general outline of the tutorials located in this repo is as follows:"
   ]
  },
  {
   "attachments": {},
   "cell_type": "markdown",
   "id": "73d244f0-53ea-4b66-97f1-e4bb2a0845cc",
   "metadata": {},
   "source": [
    "1. [Logging in](01%20Logging%20In.ipynb) to your local client installation for the first time\n",
    "2. [Catalog](/guides/catalog/): Create, manage, search, share, and visualize data. These guides include a [General Catalog Object Overview](guides/catalog/Catalog%20Overview.ipynb) as well as:\n",
    "   - [01 Searching and Rastering Catalog Products.ipynb](guides/catalog/01%20Searching%20and%20Rastering%20Catalog%20Products.ipynb)\n",
    "   - [02 Creating and Managing Products.ipynb](guides/catalog/02%20Creating%20and%20Managing%20Products.ipynb)\n",
    "   - [03 Introduction to Blob Storage](guides/catalog/03%20Introduction%20to%20Blob%20Storage.ipynb)\n",
    "   - [04 Introduction to Vector](guides/catalog/04%20Introduction%20to%20Vector%20Data.ipynb)\n",
    "3. [Dynamic Compute](guides/dynamic-compute/): An interactive geospatial computation engine\n",
    "   - [01 Interactive Computing with Mosaics.ipynb](guides/dynamic-compute/01%20Interactive%20Computing%20with%20Mosaics.ipynb)\n",
    "   - [02 Interactive Computing with ImageStacks.ipynb](guides/dynamic-compute/02%20Interactive%20Computing%20with%20ImageStacks.ipynb)\n",
    "   - [03 GeoContexts and Array Computation.ipynb](guides/dynamic-compute/03%20GeoContexts%20and%20Array%20Computation.ipynb)\n",
    "   - [04 Advanced Computing Concepts.ipynb](guides/dynamic-compute/04%20Advanced%20Computing%20Concepts.ipynb)\n",
    "4. [Batch Compute](guides/batch-compute/): A scalable asynchronous compute service\n",
    "   - [01 Hello World.ipynb](guides/batch-compute/01%20Hello%20World.ipynb)\n",
    "   - [02 Create Imagery.ipynb](guides/batch-compute/02%20Create%20Imagery.ipynb)"
   ]
  },
  {
   "attachments": {},
   "cell_type": "markdown",
   "id": "86d65a5d-ac2b-4ee8-a8de-b00fefa930db",
   "metadata": {},
   "source": [
    "### _Note_ For working with the `Dynamic Compute` and `Vector` APIs outside of a `Workbench` environment:\n",
    "\n",
    "For the time being these two packages must be installed separate from the `Descartes Labs` client:"
   ]
  },
  {
   "cell_type": "raw",
   "id": "64df9032-6f71-4445-8881-dde0fd2ed26d",
   "metadata": {},
   "source": [
    "!pip install 'git+https://github.com/descarteslabs/descarteslabs-dynamic-compute'"
   ]
  },
  {
   "cell_type": "raw",
   "id": "d25aabd8-2c03-40fb-b238-b35da33351af",
   "metadata": {},
   "source": [
    "!pip install descarteslabs-vector"
   ]
  },
  {
   "cell_type": "code",
   "execution_count": null,
   "id": "1836b942-22cf-4f8a-a307-67d899383acd",
   "metadata": {},
   "outputs": [],
   "source": []
  }
 ],
 "metadata": {
  "kernelspec": {
   "display_name": "Python 3 (ipykernel)",
   "language": "python",
   "name": "python3"
  },
  "language_info": {
   "codemirror_mode": {
    "name": "ipython",
    "version": 3
   },
   "file_extension": ".py",
   "mimetype": "text/x-python",
   "name": "python",
   "nbconvert_exporter": "python",
   "pygments_lexer": "ipython3",
   "version": "3.8.16"
  }
 },
 "nbformat": 4,
 "nbformat_minor": 5
}

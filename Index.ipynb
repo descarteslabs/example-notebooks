{
 "cells": [
  {
   "cell_type": "markdown",
   "id": "27fe74b2-6e92-4fce-85c3-8e57af0234a3",
   "metadata": {},
   "source": [
    "# Getting Started with Descartes Labs Python API"
   ]
  },
  {
   "cell_type": "markdown",
   "id": "81018351-44b8-47a7-a9f8-a6dfb221560b",
   "metadata": {},
   "source": [
    "This is meant to serve as an introduction to the Descartes Labs Python API and it's core modules. Please follow the steps located in our [Documentation page](https://docs.descarteslabs.com/installation.html) to install the client or simply run:"
   ]
  },
  {
   "cell_type": "markdown",
   "id": "314a8d6c-745d-46e5-91bb-bab1204bdc5d",
   "metadata": {},
   "source": [
    "    !pip install descarteslabs"
   ]
  },
  {
   "cell_type": "markdown",
   "id": "cb09e68d-06e1-4cec-9a67-51aa392d8f80",
   "metadata": {},
   "source": [
    "## Overview"
   ]
  },
  {
   "cell_type": "markdown",
   "id": "f16165d5-7047-43fa-8c94-0e6dcb74ad2d",
   "metadata": {},
   "source": [
    "A general outline of the tutorials located in this repo is as follows:"
   ]
  },
  {
   "cell_type": "markdown",
   "id": "73d244f0-53ea-4b66-97f1-e4bb2a0845cc",
   "metadata": {},
   "source": [
    "1. [Logging in](01%20Logging%20In.ipynb) to your local client installation for the first time\n",
    "2. [Catalog](/guides/catalog/): Create, manage, search, share, and visualize data:\n",
    "   - [01 Searching and Rastering Catalog Products.ipynb](guides/catalog/01%20Searching%20and%20Rastering%20Catalog%20Products.ipynb)\n",
    "   - [02 Creating and Managing Products.ipynb](guides/catalog/02%20Creating%20and%20Managing%20Products.ipynb)\n",
    "   - [03 Advanced Catalog Product Operations.ipynb](guides/catalog/03%20Advanced%20Catalog%20Product%20Operations.ipynb)\n",
    "   - [04 Introduction to Blob Storage](guides/catalog/04%20Introduction%20to%20Blob%20Storage.ipynb)\n",
    "   - [05 Introduction to Vector](guides/catalog/05%20Introduction%20to%20Vector%20Data.ipynb)\n",
    "   \n",
    "3. [Dynamic Compute](guides/dynamic-compute/): An interactive geospatial computation engine\n",
    "   - [01 Interactive Computing with Mosaics.ipynb](guides/dynamic-compute/01%20Interactive%20Computing%20with%20Mosaics.ipynb)\n",
    "   - [02 Interactive Computing with ImageStacks.ipynb](guides/dynamic-compute/02%20Interactive%20Computing%20with%20ImageStacks.ipynb)\n",
    "   - [03 GeoContexts and Array Computation.ipynb](guides/dynamic-compute/03%20GeoContexts%20and%20Array%20Computation.ipynb)\n",
    "   - [04 Advanced Computing Concepts.ipynb](guides/dynamic-compute/04%20Advanced%20Computing%20Concepts.ipynb)\n",
    "   - [05 Managing and Sharing in Dynamic Compute.ipynb](guides/dynamic-compute/05%20Managing%20and%20Sharing%20in%20Dynamic%20Compute.ipynb)\n",
    "4. [Batch Compute](guides/batch-compute/): A scalable asynchronous compute service\n",
    "   - [01 Hello World.ipynb](guides/batch-compute/01%20Hello%20World.ipynb)\n",
    "   - [02 Create Imagery.ipynb](guides/batch-compute/02%20Create%20Imagery.ipynb)\n",
    "   - [03 Extracting Timeseries Data.ipynb](guides/batch-compute/03%20Extracting%20Timeseries%20Data.ipynb)"
   ]
  },
  {
   "cell_type": "markdown",
   "id": "86d65a5d-ac2b-4ee8-a8de-b00fefa930db",
   "metadata": {},
   "source": [
    "### _Note_ For working with the Dynamic Compute and Vector APIs outside of a Workbench environment:\n",
    "\n",
    "For the time being these two packages must be installed separate from the Descartes Labs client:"
   ]
  },
  {
   "cell_type": "markdown",
   "id": "f60b3269-2ab5-4727-a133-f183d7841068",
   "metadata": {},
   "source": [
    "    !pip install descarteslabs-dynamic-compute"
   ]
  },
  {
   "cell_type": "markdown",
   "id": "e0b65943-e974-41bb-9288-9723c20e0e7e",
   "metadata": {},
   "source": [
    "    !pip install descarteslabs-vector"
   ]
  },
  {
   "cell_type": "markdown",
   "id": "0d238d9e-d91a-4148-8367-2cd86506e682",
   "metadata": {},
   "source": [
    "If you have any questions please reach out to support@descarteslabs.com"
   ]
  },
  {
   "cell_type": "code",
   "execution_count": null,
   "id": "b5622c5b-3a57-4029-a4ae-edb52b9e266e",
   "metadata": {},
   "outputs": [],
   "source": []
  }
 ],
 "metadata": {
  "kernelspec": {
   "display_name": "Python 3 (ipykernel)",
   "language": "python",
   "name": "python3"
  },
  "language_info": {
   "codemirror_mode": {
    "name": "ipython",
    "version": 3
   },
   "file_extension": ".py",
   "mimetype": "text/x-python",
   "name": "python",
   "nbconvert_exporter": "python",
   "pygments_lexer": "ipython3",
   "version": "3.9.18"
  }
 },
 "nbformat": 4,
 "nbformat_minor": 5
}

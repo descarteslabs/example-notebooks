{
 "cells": [
  {
   "cell_type": "markdown",
   "id": "27fe74b2-6e92-4fce-85c3-8e57af0234a3",
   "metadata": {},
   "source": [
    "# Getting Started with Descartes Labs Python API"
   ]
  },
  {
   "cell_type": "markdown",
   "id": "ac23db78-67d6-4637-9415-0bfa77483fc9",
   "metadata": {},
   "source": [
    "This repository is meant to serve as an introduction to the Descartes Labs Python API and its modules. "
   ]
  },
  {
   "cell_type": "markdown",
   "id": "81018351-44b8-47a7-a9f8-a6dfb221560b",
   "metadata": {
    "tags": []
   },
   "source": [
    "## Installation\n",
    "Please follow the steps located in our [Documentation page](https://docs.descarteslabs.com/installation.html) to install the client or simply run:"
   ]
  },
  {
   "cell_type": "markdown",
   "id": "314a8d6c-745d-46e5-91bb-bab1204bdc5d",
   "metadata": {},
   "source": [
    "    !pip install descarteslabs"
   ]
  },
  {
   "cell_type": "markdown",
   "id": "f93ddbd1-bce1-4419-865b-bd86f2d69022",
   "metadata": {
    "tags": []
   },
   "source": [
    "**_Note for working with the Dynamic Compute and Vector APIs outside of a Workbench environment_**\n",
    "\n",
    "For the time being these two packages must be installed separate from the core Descartes Labs client:\n",
    "\n",
    "    !pip install descarteslabs-dynamic-compute\n",
    "    \n",
    "    !pip install descarteslabs-vector"
   ]
  },
  {
   "cell_type": "markdown",
   "id": "cb09e68d-06e1-4cec-9a67-51aa392d8f80",
   "metadata": {
    "tags": []
   },
   "source": [
    "## Overview\n",
    "\n",
    "A general outline of the sample notebooks located in this repo is as follows:"
   ]
  },
  {
   "cell_type": "markdown",
   "id": "f16165d5-7047-43fa-8c94-0e6dcb74ad2d",
   "metadata": {},
   "source": [
    "### Guides\n",
    "Quickstart examples designed as a general overview for each of the core services within the Descartes Labs Platform.\n",
    "\n",
    "1. [Logging in](guides/01%20Logging%20In.ipynb) to your local client installation for the first time\n",
    "\n",
    "2. [Catalog](https://docs.descarteslabs.com/descarteslabs/catalog/readme.html): Create, manage, search, share, and visualize data\n",
    "   - [01 Searching and Rastering Catalog Products.ipynb](guides/catalog/01%20Searching%20and%20Rastering%20Catalog%20Products.ipynb)\n",
    "   - [02 Creating and Managing Products.ipynb](guides/catalog/02%20Creating%20and%20Managing%20Products.ipynb)\n",
    "   - [03 Advanced Catalog Product Operations.ipynb](guides/catalog/03%20Advanced%20Catalog%20Product%20Operations.ipynb)\n",
    "   - [04 Introduction to Blob Storage.ipynb](guides/catalog/04%20Introduction%20to%20Blob%20Storage.ipynb)\n",
    "   - [05 Searching and Retrieving Vector Tables.ipynb](guides/catalog/05%20Searching%20and%20Retrieving%20Vector%20Tables.ipynb)\n",
    "   - [06 Creating and Managing Vector Tables.ipynb](guides/catalog/06%20Creating%20and%20Managing%20Vector%20Tables.ipynb)\n",
    "\n",
    "3. [Dynamic Compute](https://docs.descarteslabs.com/api/dynamic-compute.html): An interactive geospatial computation engine\n",
    "   - [01 Interactive Computing with Mosaics.ipynb](guides/dynamic-compute/01%20Interactive%20Computing%20with%20Mosaics.ipynb)\n",
    "   - [02 Interactive Computing with ImageStacks.ipynb](guides/dynamic-compute/02%20Interactive%20Computing%20with%20ImageStacks.ipynb)\n",
    "   - [03 GeoContexts and Array Computation.ipynb](guides/dynamic-compute/03%20GeoContexts%20and%20Array%20Computation.ipynb)\n",
    "   - [04 Advanced Computing Concepts.ipynb](guides/dynamic-compute/04%20Advanced%20Computing%20Concepts.ipynb)\n",
    "   - [05 Managing and Sharing in Dynamic Compute.ipynb](guides/dynamic-compute/05%20Managing%20and%20Sharing%20in%20Dynamic%20Compute.ipynb)\n",
    "   \n",
    "4. [Batch Compute](https://docs.descarteslabs.com/descarteslabs/compute/readme.html): A scalable asynchronous compute service\n",
    "   - [01 Hello World.ipynb](guides/batch-compute/01%20Hello%20World.ipynb)\n",
    "   - [02 Create Imagery.ipynb](guides/batch-compute/02%20Create%20Imagery.ipynb)\n",
    "   - [03 Extracting Timeseries Data.ipynb](guides/batch-compute/03%20Extracting%20Timeseries%20Data.ipynb)"
   ]
  },
  {
   "cell_type": "markdown",
   "id": "0a35407d-997d-466c-9253-9359c1cab4b5",
   "metadata": {},
   "source": [
    "### Demos\n",
    "End-to-end example analytics designed around specific applications, often utilizing multiple Descartes Labs Platform APIs together.\n",
    "1. Unsupervised Machine Learning - KMeans Clustering:\n",
    "    * [01a Training an Unsupervised Classifier.ipynb](demos/01%20Unsupervised%20Classification/01a%20Training%20an%20Unsupervised%20Classifier.ipynb)\n",
    "    * [01b Deploying an Unsupervised Classifier.ipynb](demos/01%20Unsupervised%20Classification/01b%20Deploying%20an%20Unsupervised%20Classifier.ipynb)\n",
    "    * [01c Interactive Deployment with Dynamic Compute.ipynb](demos/01%20Unsupervised%20Classification/01c%20Interactive%20Deployment%20with%20Dynamic%20Compute.ipynb)\n",
    "2. Supervised Machine Learning - Random Forest Classifier:\n",
    "    * [02a Generate Training Data.ipynb](demos/02%20Supervised%20Classification/02a%20Generate%20Training%20Data.ipynb)\n",
    "    * [02b Train a Supervised Classifier.ipynb](demos/02%20Supervised%20Classification/02b%20Train%20a%20Supervised%20Classifier.ipynb)\n",
    "    * [02c Deploy a Supervised Classifier.ipynb](demos/02%20Supervised%20Classification/02c%20Deploy%20a%20Supervised%20Classifier.ipynb)\n",
    "    * [02d Interactive Deployment with Dynamic Compute.ipynb](demos/02%20Supervised%20Classification/02d%20Interactive%20Deployment%20with%20Dynamic%20Compute.ipynb)"
   ]
  },
  {
   "cell_type": "markdown",
   "id": "0d238d9e-d91a-4148-8367-2cd86506e682",
   "metadata": {},
   "source": [
    "If you have any questions please reach out to [support@descarteslabs.com](support@descarteslabs.com) or visit [support.descarteslabs.com](https://support.descarteslabs.com)."
   ]
  },
  {
   "cell_type": "code",
   "execution_count": null,
   "id": "b5622c5b-3a57-4029-a4ae-edb52b9e266e",
   "metadata": {},
   "outputs": [],
   "source": []
  }
 ],
 "metadata": {
  "kernelspec": {
   "display_name": "Python 3 (ipykernel)",
   "language": "python",
   "name": "python3"
  },
  "language_info": {
   "codemirror_mode": {
    "name": "ipython",
    "version": 3
   },
   "file_extension": ".py",
   "mimetype": "text/x-python",
   "name": "python",
   "nbconvert_exporter": "python",
   "pygments_lexer": "ipython3",
   "version": "3.9.18"
  }
 },
 "nbformat": 4,
 "nbformat_minor": 5
}

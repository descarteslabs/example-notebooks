{
 "cells": [
  {
   "cell_type": "markdown",
   "id": "27fe74b2-6e92-4fce-85c3-8e57af0234a3",
   "metadata": {},
   "source": [
    "# Getting Started with Descartes Labs Python API"
   ]
  },
  {
   "cell_type": "markdown",
   "id": "81018351-44b8-47a7-a9f8-a6dfb221560b",
   "metadata": {},
   "source": [
    "This is meant to serve as an introduction to the Descartes Labs Python API and it's core modules. Please follow the steps located in our [Documentation page](https://docs.descarteslabs.com/installation.html) to install the client or simply run:"
   ]
  },
  {
   "cell_type": "raw",
   "id": "61d60e1d-c9a6-49e5-9471-8be6a745a766",
   "metadata": {},
   "source": [
    "!pip install descarteslabs"
   ]
  },
  {
   "cell_type": "markdown",
   "id": "5ef5022e-9774-4bba-900b-4680db285758",
   "metadata": {},
   "source": [
    "To install the latest development version on Github you can also run:"
   ]
  },
  {
   "cell_type": "raw",
   "id": "58410b45-3d15-4bed-bb6d-4889b1862f3f",
   "metadata": {},
   "source": [
    "!pip install -U git+https://github.com/descarteslabs/descarteslabs-python.git"
   ]
  },
  {
   "cell_type": "markdown",
   "id": "cb09e68d-06e1-4cec-9a67-51aa392d8f80",
   "metadata": {},
   "source": [
    "## Overview"
   ]
  },
  {
   "cell_type": "markdown",
   "id": "f16165d5-7047-43fa-8c94-0e6dcb74ad2d",
   "metadata": {},
   "source": [
    "A general outline of the tutorials located in this repo is as follows:"
   ]
  },
  {
   "cell_type": "markdown",
   "id": "73d244f0-53ea-4b66-97f1-e4bb2a0845cc",
   "metadata": {},
   "source": [
    "1. [Logging in](01%20Logging%20In.ipynb) to your local client installation for the first time\n",
    "2. [Catalog](/guides/catalog/): Create, manage, search, share, and visualize data. These guides include a [General Catalog Object Overview](guides/catalog/Catalog%20Overview.ipynb) as well as:\n",
    "   - [01 Searching Catalog Products.ipynb](guides/catalog/01%20Searching%20Catalog%20Products.ipynb)\n",
    "   - [02 Searching Imagery.ipynb](guides/catalog/02%20Searching%20Imagery.ipynb)\n",
    "   - [03 Rastering Imagery.ipynb](guides/catalog/03%20Rastering%20Imagery.ipynb)\n",
    "   - [04 Creating and Managing Raster Data.ipynb](guides/catalog/04%20Creating%20and%20Managing%20Raster%20Data.ipynb)\n",
    "   - [05 Managing and Uploading Image Data.ipynb](guides/catalog/05%20Managing%20and%20Uploading%20Image%20Data.ipynb)\n",
    "   - [06 Introduction to Blob Storage](guides/catalog/06%20Introduction%20to%20Blob%20Storage.ipynb)\n",
    "   - [07 Introduction to Vector](guides/catalog/07%20Introduction%20to%20Vector%20Data.ipynb)\n",
    "3. [Dynamic Compute](guides/dynamic-compute/): An interactive geospatial computation engine\n",
    "   - [01 Interactive Computing with Mosaics.ipynb](guides/dynamic-compute/01%20Interactive%20Computing%20with%20Mosaics.ipynb)\n",
    "   - [02 Interactive Computing with ImageStacks.ipynb](guides/dynamic-compute/02%20Interactive%20Computing%20with%20ImageStacks.ipynb)\n",
    "   - [03 GeoContexts and Array Computation.ipynb](guides/dynamic-compute/03%20GeoContexts%20and%20Array%20Computation.ipynb)\n",
    "   - [04 Advanced Computing Concepts.ipynb](guides/dynamic-compute/04%20Advanced%20Computing%20Concepts.ipynb)\n",
    "4. [Batch Compute](guides/batch-compute/): A scalable asynchronous compute service\n",
    "   - [01 Hello World.ipynb](guides/batch-compute/01%20Hello%20World.ipynb)\n",
    "   - [02 Create Imagery.ipynb](guides/batch-compute/02%20Create%20Imagery.ipynb)"
   ]
  },
  {
   "cell_type": "markdown",
   "id": "86d65a5d-ac2b-4ee8-a8de-b00fefa930db",
   "metadata": {},
   "source": [
    "### _Note_ For the [`Dynamic Compute`](guides/dynamic-compute/TESTING.md) and [`Vector`](guides/catalog/TESTING.md) APIs please refer to the respective `TESTING.md` files"
   ]
  },
  {
   "cell_type": "code",
   "execution_count": null,
   "id": "7bae48c8-e3d0-4e0d-ade8-83b350d86411",
   "metadata": {},
   "outputs": [],
   "source": []
  }
 ],
 "metadata": {
  "kernelspec": {
   "display_name": "Python 3 (ipykernel)",
   "language": "python",
   "name": "python3"
  },
  "language_info": {
   "codemirror_mode": {
    "name": "ipython",
    "version": 3
   },
   "file_extension": ".py",
   "mimetype": "text/x-python",
   "name": "python",
   "nbconvert_exporter": "python",
   "pygments_lexer": "ipython3",
   "version": "3.8.16"
  }
 },
 "nbformat": 4,
 "nbformat_minor": 5
}
